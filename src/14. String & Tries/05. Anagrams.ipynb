{
 "cells": [
  {
   "cell_type": "code",
   "execution_count": 43,
   "id": "1e11619a",
   "metadata": {},
   "outputs": [],
   "source": [
    "class Solution:\n",
    "\tdef areAnagrams(self, A: str, B: str) -> bool:\n",
    "\t\treturn sorted(A) == sorted(B)"
   ]
  },
  {
   "cell_type": "markdown",
   "id": "27bd7099",
   "metadata": {},
   "source": [
    "cpp based solution get's accepted\n",
    "\n",
    "```cpp\n",
    "bool areAnagrams(string A, string B) {\n",
    "    // add your logic here\n",
    "\tif (A.size() != B.size()) return false;\n",
    "\tsort(A.begin(), A.end());\n",
    "\tsort(B.begin(), B.end());\n",
    "\treturn A == B;\n",
    "}\n",
    "```"
   ]
  },
  {
   "cell_type": "code",
   "execution_count": 44,
   "id": "758e0071",
   "metadata": {},
   "outputs": [
    {
     "data": {
      "text/plain": [
       "True"
      ]
     },
     "execution_count": 44,
     "metadata": {},
     "output_type": "execute_result"
    }
   ],
   "source": [
    "A = \"abcd\"\n",
    "B = \"dabc\"\n",
    "sol = Solution()\n",
    "sol.areAnagrams(A, B)"
   ]
  },
  {
   "cell_type": "code",
   "execution_count": 45,
   "id": "48edfebb",
   "metadata": {},
   "outputs": [
    {
     "data": {
      "text/plain": [
       "False"
      ]
     },
     "execution_count": 45,
     "metadata": {},
     "output_type": "execute_result"
    }
   ],
   "source": [
    "A = \"workattech\"\n",
    "B = \"worktattch\"\n",
    "sol = Solution()\n",
    "sol.areAnagrams(A, B)"
   ]
  },
  {
   "cell_type": "code",
   "execution_count": 46,
   "id": "da9a0637",
   "metadata": {},
   "outputs": [],
   "source": [
    "from collections import defaultdict\n",
    "\n",
    "\n",
    "class Solution:\n",
    "\tdef areAnagrams(self, A: str, B: str) -> bool:\n",
    "\t\tmp = defaultdict(int)\n",
    "\t\tfor c in A:\n",
    "\t\t\tmp[c] += 1\n",
    "\t\tfor c in B:\n",
    "\t\t\tmp[c] -= 1\n",
    "\t\tfor k in mp:\n",
    "\t\t\tif mp[k] != 0:\n",
    "\t\t\t\treturn False\n",
    "\t\treturn True"
   ]
  },
  {
   "cell_type": "markdown",
   "id": "fdeb8d7b",
   "metadata": {},
   "source": [
    "```cpp\n",
    "bool areAnagrams(string A, string B) {\n",
    "    if(A.length() != B.length()) {\n",
    "\t\t\treturn false;\n",
    "\t\t}\n",
    "\t    int hashA[26] = {0}, hashB[26] = {0};\n",
    "\t\tfor (int i = 0; i < A.length(); i++) {\n",
    "\t\t\thashA[A[i] - 'a']++;\n",
    "\t\t\thashB[B[i] - 'a']++;\n",
    "\t\t}\n",
    "\t\tfor (int i = 0; i < 26; i++) {\n",
    "\t\t\tif(hashA[i] != hashB[i]) {\n",
    "\t\t\t\treturn false;\n",
    "\t\t\t}\n",
    "\t\t}\n",
    "\t\treturn true;\n",
    "}\n",
    "```"
   ]
  },
  {
   "cell_type": "code",
   "execution_count": 47,
   "id": "9685a55b",
   "metadata": {},
   "outputs": [
    {
     "data": {
      "text/plain": [
       "True"
      ]
     },
     "execution_count": 47,
     "metadata": {},
     "output_type": "execute_result"
    }
   ],
   "source": [
    "A = \"abcd\"\n",
    "B = \"dabc\"\n",
    "sol = Solution()\n",
    "sol.areAnagrams(A, B)"
   ]
  },
  {
   "cell_type": "code",
   "execution_count": 48,
   "id": "e1f1bbe9",
   "metadata": {},
   "outputs": [
    {
     "data": {
      "text/plain": [
       "False"
      ]
     },
     "execution_count": 48,
     "metadata": {},
     "output_type": "execute_result"
    }
   ],
   "source": [
    "A = \"workattech\"\n",
    "B = \"worktattch\"\n",
    "sol = Solution()\n",
    "sol.areAnagrams(A, B)"
   ]
  },
  {
   "cell_type": "code",
   "execution_count": 49,
   "id": "23f42c00",
   "metadata": {},
   "outputs": [],
   "source": [
    "from collections import Counter\n",
    "\n",
    "class Solution:\n",
    "    def areAnagrams(self, A: str, B: str) -> bool:\n",
    "        return Counter(A) == Counter(B)"
   ]
  },
  {
   "cell_type": "code",
   "execution_count": 50,
   "id": "331b8497",
   "metadata": {},
   "outputs": [
    {
     "data": {
      "text/plain": [
       "True"
      ]
     },
     "execution_count": 50,
     "metadata": {},
     "output_type": "execute_result"
    }
   ],
   "source": [
    "A = \"abcd\"\n",
    "B = \"dabc\"\n",
    "sol = Solution()\n",
    "sol.areAnagrams(A, B)"
   ]
  },
  {
   "cell_type": "code",
   "execution_count": 51,
   "id": "5802e0d4",
   "metadata": {},
   "outputs": [
    {
     "data": {
      "text/plain": [
       "False"
      ]
     },
     "execution_count": 51,
     "metadata": {},
     "output_type": "execute_result"
    }
   ],
   "source": [
    "A = \"workattech\"\n",
    "B = \"worktattch\"\n",
    "sol = Solution()\n",
    "sol.areAnagrams(A, B)"
   ]
  }
 ],
 "metadata": {
  "kernelspec": {
   "display_name": "venv (3.11.3)",
   "language": "python",
   "name": "python3"
  },
  "language_info": {
   "codemirror_mode": {
    "name": "ipython",
    "version": 3
   },
   "file_extension": ".py",
   "mimetype": "text/x-python",
   "name": "python",
   "nbconvert_exporter": "python",
   "pygments_lexer": "ipython3",
   "version": "3.11.3"
  }
 },
 "nbformat": 4,
 "nbformat_minor": 5
}
