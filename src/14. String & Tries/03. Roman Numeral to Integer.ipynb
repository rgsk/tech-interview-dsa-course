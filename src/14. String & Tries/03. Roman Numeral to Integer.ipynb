{
 "cells": [
  {
   "cell_type": "code",
   "execution_count": 1,
   "id": "c506dcef",
   "metadata": {},
   "outputs": [],
   "source": [
    "class Solution:\n",
    "    def romanToInt(self, s: str) -> int:\n",
    "        # add your logic here\n",
    "        mp = {\n",
    "            'I': 1,\n",
    "            'V': 5,\n",
    "            'X': 10,\n",
    "            'L': 50,\n",
    "            'C': 100,\n",
    "            'D': 500,\n",
    "            'M': 1000\n",
    "        }\n",
    "        replacements = {\n",
    "            'IV': 4,\n",
    "            'IX': 9,\n",
    "            'XL': 40,\n",
    "            'XC': 90,\n",
    "            'CD': 400,\n",
    "            'CM': 900\n",
    "        }\n",
    "        final = 0\n",
    "        i = 0\n",
    "        while i < len(s):\n",
    "            if i + 1 < len(s) and s[i:i+2] in replacements:\n",
    "                final += replacements[s[i:i+2]]\n",
    "                i += 2\n",
    "            else:\n",
    "                final += mp[s[i]]\n",
    "                i += 1\n",
    "        return final"
   ]
  },
  {
   "cell_type": "code",
   "execution_count": 2,
   "id": "b9ce9a16",
   "metadata": {},
   "outputs": [
    {
     "data": {
      "text/plain": [
       "10"
      ]
     },
     "execution_count": 2,
     "metadata": {},
     "output_type": "execute_result"
    }
   ],
   "source": [
    "s = \"X\"\n",
    "sol = Solution()\n",
    "sol.romanToInt(s)"
   ]
  },
  {
   "cell_type": "code",
   "execution_count": 3,
   "id": "0f3c8a85",
   "metadata": {},
   "outputs": [
    {
     "data": {
      "text/plain": [
       "6"
      ]
     },
     "execution_count": 3,
     "metadata": {},
     "output_type": "execute_result"
    }
   ],
   "source": [
    "s = \"VI\"\n",
    "sol = Solution()\n",
    "sol.romanToInt(s)"
   ]
  },
  {
   "cell_type": "code",
   "execution_count": 4,
   "id": "a93c53c8",
   "metadata": {},
   "outputs": [
    {
     "data": {
      "text/plain": [
       "12"
      ]
     },
     "execution_count": 4,
     "metadata": {},
     "output_type": "execute_result"
    }
   ],
   "source": [
    "s = \"XII\"\n",
    "sol = Solution()\n",
    "sol.romanToInt(s)"
   ]
  }
 ],
 "metadata": {
  "kernelspec": {
   "display_name": "venv (3.11.3)",
   "language": "python",
   "name": "python3"
  },
  "language_info": {
   "codemirror_mode": {
    "name": "ipython",
    "version": 3
   },
   "file_extension": ".py",
   "mimetype": "text/x-python",
   "name": "python",
   "nbconvert_exporter": "python",
   "pygments_lexer": "ipython3",
   "version": "3.11.3"
  }
 },
 "nbformat": 4,
 "nbformat_minor": 5
}
