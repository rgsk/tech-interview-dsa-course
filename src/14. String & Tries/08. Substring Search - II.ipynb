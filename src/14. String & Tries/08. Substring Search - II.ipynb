{
 "cells": [
  {
   "cell_type": "markdown",
   "id": "478c6285",
   "metadata": {},
   "source": [
    "### Rabin-Karp algorithm"
   ]
  },
  {
   "cell_type": "code",
   "execution_count": 27,
   "id": "da66c0bc",
   "metadata": {},
   "outputs": [],
   "source": [
    "BASE = 26\n",
    "# if BASE = character space, then there will be 0 collisions\n",
    "# a lower BASE could result in some collisions\n",
    "# eg 8*10 + 4*1 = 4*10 + 44*1\n",
    "\n",
    "MOD = 10**9 + 7 \n",
    "# a lower mod will increase collisions (rolling_hash being equal to pattern_hash)\n",
    "# while rolling string not equal to pattern, as a result check_equal will be called more times\n",
    "\n",
    "def hash_char(ch):\n",
    "    return ord(ch) - ord('a')\n",
    "\n",
    "def get_power(n: int):\n",
    "    power = [1] * n\n",
    "\n",
    "    for i in range(1, n):\n",
    "        power[i] = (BASE * power[i - 1]) % MOD\n",
    "    return power\n",
    "\n",
    "def get_hash(string):\n",
    "    n = len(string)\n",
    "    power = get_power(n)\n",
    "    sum_hash = 0\n",
    "    \n",
    "    for i in range(n):\n",
    "        sum_hash = (sum_hash + (hash_char(string[i]) * power[n - 1 - i]) % MOD) % MOD\n",
    "    \n",
    "    return sum_hash\n",
    "\n",
    "def check_equal(string, pattern, start, n):\n",
    "    return all(string[i + start] == pattern[i] for i in range(n))\n",
    "\n",
    "def string_match(string, pattern):\n",
    "    n, m = len(pattern), len(string)\n",
    "    \n",
    "    power = get_power(n)\n",
    "    \n",
    "    pattern_hash = get_hash(pattern)\n",
    "    rolling_hash = get_hash(string[:n])\n",
    "\n",
    "    l, r = 0, n - 1\n",
    "    \n",
    "    while r < m:\n",
    "        if pattern_hash == rolling_hash and check_equal(string, pattern, l, n):\n",
    "            return l\n",
    "        \n",
    "        left = string[l]\n",
    "        \n",
    "        # Remove left character\n",
    "        rolling_hash = (rolling_hash - (hash_char(left) * power[n - 1]) % MOD + MOD) % MOD\n",
    "        \n",
    "        l += 1\n",
    "        r += 1\n",
    "        \n",
    "        if r < m:\n",
    "            right = string[r]\n",
    "            \n",
    "            # Right Shift\n",
    "            rolling_hash = ((rolling_hash * BASE) % MOD \n",
    "                            + (hash_char(right) * power[0]) % MOD) % MOD\n",
    "\n",
    "    return -1\n",
    "\n",
    "\n",
    "class Solution:\n",
    "    def findStartIndexOfSubstring(self, s1: str, s2: str) -> int:\n",
    "        # add your logic here\n",
    "        return string_match(s1, s2)"
   ]
  },
  {
   "cell_type": "code",
   "execution_count": 28,
   "id": "a4f39997",
   "metadata": {},
   "outputs": [
    {
     "data": {
      "text/plain": [
       "3"
      ]
     },
     "execution_count": 28,
     "metadata": {},
     "output_type": "execute_result"
    }
   ],
   "source": [
    "s1 = 'helloworld'\n",
    "s2 = 'low'\n",
    "sol = Solution()\n",
    "sol.findStartIndexOfSubstring(s1, s2)"
   ]
  },
  {
   "cell_type": "code",
   "execution_count": 29,
   "id": "a6e6971d",
   "metadata": {},
   "outputs": [
    {
     "data": {
      "text/plain": [
       "-1"
      ]
     },
     "execution_count": 29,
     "metadata": {},
     "output_type": "execute_result"
    }
   ],
   "source": [
    "s1 = 'workattech'\n",
    "s2 = 'technology'\n",
    "sol = Solution()\n",
    "sol.findStartIndexOfSubstring(s1, s2)"
   ]
  },
  {
   "cell_type": "markdown",
   "id": "8da3eaca",
   "metadata": {},
   "source": [
    "```cpp\n",
    "const int BASE = 26;\n",
    "const int MOD = 1e9 + 7;\n",
    "\n",
    "int hash_char(char ch) {\n",
    "    return ch - 'a';\n",
    "}\n",
    "\n",
    "int exp(int a, int b) {\n",
    "    if (b == 0) {\n",
    "        return 1;\n",
    "    } else {\n",
    "        int res = exp(a, b / 2);\n",
    "        res = (1LL * res * res) % MOD;  // Apply mod after squaring\n",
    "        if (b % 2 != 0) {\n",
    "            res = (1LL * res * a) % MOD;  // Apply mod after multiplication with 'a'\n",
    "        }\n",
    "        return res;\n",
    "    }\n",
    "}\n",
    "\n",
    "int get_hash(const string &str, int mod) {\n",
    "    int n = str.length();\n",
    "    int sum_hash = 0;\n",
    "    int power = 1;\n",
    "    for (int i = n - 1; i >= 0; --i) {\n",
    "        sum_hash = (sum_hash + (1LL * hash_char(str[i]) * power) % mod) % mod;\n",
    "        power = (1LL * power * BASE) % mod;\n",
    "    }\n",
    "    return sum_hash;\n",
    "}\n",
    "\n",
    "bool check_equal(const string& str, const string& pattern, int start){\n",
    "\t// !IMPORTANT check_equal is necessary because of collisions due to mod operations\n",
    "\tfor (int i=0; i<pattern.size(); i++) {\n",
    "\t\tif (str[start + i] != pattern[i]) {\n",
    "\t\t\treturn false;\n",
    "\t\t}\n",
    "\t}\n",
    "\treturn true;\n",
    "}\n",
    "\n",
    "int string_match(const string &str, const string &pattern) {\n",
    "    int n = pattern.length();\n",
    "    int m = str.length();\n",
    "\n",
    "    if (n > m) return -1;\n",
    "\n",
    "    int pattern_hash = get_hash(pattern, MOD);\n",
    "    int rolling_hash = get_hash(str.substr(0, n), MOD);\n",
    "\n",
    "    int l = 0, r = n - 1;\n",
    "    int hp = exp(BASE, n - 1); \n",
    "\n",
    "    while (r < m) {\n",
    "        if (pattern_hash == rolling_hash && check_equal(str, pattern, l)) {\n",
    "            return l;\n",
    "        }\n",
    "\n",
    "        char left = str[l];\n",
    "        rolling_hash = (rolling_hash - (1LL * hash_char(left) * hp) % MOD + MOD) % MOD;\n",
    "\n",
    "        l++;\n",
    "        r++;\n",
    "\n",
    "        if (r < m) {\n",
    "            char right = str[r];\n",
    "            rolling_hash = ((1LL * rolling_hash * BASE) % MOD + hash_char(right)) % MOD;\n",
    "        }\n",
    "    }\n",
    "\n",
    "    return -1;\n",
    "}\n",
    "\n",
    "\n",
    "\n",
    "\n",
    "int findStartIndexOfSubstring(string s1, string s2) {\n",
    "    return string_match(s1, s2);\n",
    "}\n",
    "```"
   ]
  }
 ],
 "metadata": {
  "kernelspec": {
   "display_name": "venv (3.11.3)",
   "language": "python",
   "name": "python3"
  },
  "language_info": {
   "codemirror_mode": {
    "name": "ipython",
    "version": 3
   },
   "file_extension": ".py",
   "mimetype": "text/x-python",
   "name": "python",
   "nbconvert_exporter": "python",
   "pygments_lexer": "ipython3",
   "version": "3.11.3"
  }
 },
 "nbformat": 4,
 "nbformat_minor": 5
}
