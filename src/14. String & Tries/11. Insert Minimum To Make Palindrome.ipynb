{
 "cells": [
  {
   "cell_type": "code",
   "execution_count": 23,
   "id": "6060e13e",
   "metadata": {},
   "outputs": [],
   "source": [
    "class Solution:\n",
    "    def minCharactersToBeInserted(self, A: str) -> int:\n",
    "        # add your logic here\n",
    "        n = len(A)\n",
    "        s = A + '$' + A[::-1]\n",
    "        lps = [0] * len(s)\n",
    "        i = 1\n",
    "        j = 0\n",
    "        while i < len(s):\n",
    "            if s[i] == s[j]:\n",
    "                lps[i] = j + 1\n",
    "                i += 1\n",
    "                j += 1\n",
    "            else:\n",
    "                if j == 0:\n",
    "                    i += 1\n",
    "                else:\n",
    "                    j = lps[j - 1]\n",
    "        return n - lps[-1]"
   ]
  },
  {
   "cell_type": "code",
   "execution_count": 24,
   "id": "0670ff6d",
   "metadata": {},
   "outputs": [
    {
     "data": {
      "text/plain": [
       "1"
      ]
     },
     "execution_count": 24,
     "metadata": {},
     "output_type": "execute_result"
    }
   ],
   "source": [
    "s = \"baaba\"\n",
    "sol = Solution()\n",
    "sol.minCharactersToBeInserted(s)"
   ]
  },
  {
   "cell_type": "code",
   "execution_count": 25,
   "id": "46bf9b0e",
   "metadata": {},
   "outputs": [
    {
     "data": {
      "text/plain": [
       "0"
      ]
     },
     "execution_count": 25,
     "metadata": {},
     "output_type": "execute_result"
    }
   ],
   "source": [
    "s = \"bab\"\n",
    "sol = Solution()\n",
    "sol.minCharactersToBeInserted(s)"
   ]
  }
 ],
 "metadata": {
  "kernelspec": {
   "display_name": "venv (3.11.3)",
   "language": "python",
   "name": "python3"
  },
  "language_info": {
   "codemirror_mode": {
    "name": "ipython",
    "version": 3
   },
   "file_extension": ".py",
   "mimetype": "text/x-python",
   "name": "python",
   "nbconvert_exporter": "python",
   "pygments_lexer": "ipython3",
   "version": "3.11.3"
  }
 },
 "nbformat": 4,
 "nbformat_minor": 5
}
