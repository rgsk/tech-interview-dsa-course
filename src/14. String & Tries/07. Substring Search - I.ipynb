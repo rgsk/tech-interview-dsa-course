{
 "cells": [
  {
   "cell_type": "code",
   "execution_count": 1,
   "id": "6473f133",
   "metadata": {},
   "outputs": [],
   "source": [
    "class Solution:\n",
    "    def findStartIndexOfSubstring(self, s1: str, s2: str) -> int:\n",
    "        # add your logic here\n",
    "        for i in range(len(s1) - len(s2) + 1):\n",
    "            found = True\n",
    "            for k in range(len(s2)):\n",
    "                if s1[i + k] != s2[k]:\n",
    "                    found = False\n",
    "                    break\n",
    "            if found:\n",
    "                return i\n",
    "        return -1"
   ]
  },
  {
   "cell_type": "code",
   "execution_count": 2,
   "id": "48b87549",
   "metadata": {},
   "outputs": [
    {
     "data": {
      "text/plain": [
       "3"
      ]
     },
     "execution_count": 2,
     "metadata": {},
     "output_type": "execute_result"
    }
   ],
   "source": [
    "s1 = 'helloworld'\n",
    "s2 = 'low'\n",
    "sol = Solution()\n",
    "sol.findStartIndexOfSubstring(s1, s2)"
   ]
  },
  {
   "cell_type": "code",
   "execution_count": 3,
   "id": "f7fdb418",
   "metadata": {},
   "outputs": [
    {
     "data": {
      "text/plain": [
       "-1"
      ]
     },
     "execution_count": 3,
     "metadata": {},
     "output_type": "execute_result"
    }
   ],
   "source": [
    "s1 = 'workattech'\n",
    "s2 = 'technology'\n",
    "sol = Solution()\n",
    "sol.findStartIndexOfSubstring(s1, s2)"
   ]
  }
 ],
 "metadata": {
  "kernelspec": {
   "display_name": "venv (3.11.3)",
   "language": "python",
   "name": "python3"
  },
  "language_info": {
   "codemirror_mode": {
    "name": "ipython",
    "version": 3
   },
   "file_extension": ".py",
   "mimetype": "text/x-python",
   "name": "python",
   "nbconvert_exporter": "python",
   "pygments_lexer": "ipython3",
   "version": "3.11.3"
  }
 },
 "nbformat": 4,
 "nbformat_minor": 5
}
