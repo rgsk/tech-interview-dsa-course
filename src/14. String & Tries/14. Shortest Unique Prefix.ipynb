{
 "cells": [
  {
   "cell_type": "code",
   "execution_count": null,
   "id": "fc544d5f",
   "metadata": {},
   "outputs": [],
   "source": []
  },
  {
   "cell_type": "code",
   "execution_count": 2,
   "id": "4af462e3",
   "metadata": {},
   "outputs": [
    {
     "data": {
      "text/plain": [
       "['prog', 'code', 'proc', 'codi', 't', 'pri']"
      ]
     },
     "execution_count": 2,
     "metadata": {},
     "output_type": "execute_result"
    }
   ],
   "source": [
    "A = [\"program\", \"code\", \"process\", \"coding\", \"type\", \"print\"]\n",
    "sol = Solution()\n",
    "sol.getShortestUniquePrefixes(A)"
   ]
  }
 ],
 "metadata": {
  "kernelspec": {
   "display_name": "venv (3.11.3)",
   "language": "python",
   "name": "python3"
  },
  "language_info": {
   "codemirror_mode": {
    "name": "ipython",
    "version": 3
   },
   "file_extension": ".py",
   "mimetype": "text/x-python",
   "name": "python",
   "nbconvert_exporter": "python",
   "pygments_lexer": "ipython3",
   "version": "3.11.3"
  }
 },
 "nbformat": 4,
 "nbformat_minor": 5
}
