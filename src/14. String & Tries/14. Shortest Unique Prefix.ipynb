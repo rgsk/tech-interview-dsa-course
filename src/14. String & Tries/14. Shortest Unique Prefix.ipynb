{
 "cells": [
  {
   "cell_type": "code",
   "execution_count": null,
   "id": "fc544d5f",
   "metadata": {},
   "outputs": [],
   "source": [
    "\n",
    "\n",
    "from typing import List\n",
    "\n",
    "\n",
    "def ctoi(c):\n",
    "    return ord(c) - 97\n",
    "\n",
    "\n",
    "class Trie:\n",
    "\n",
    "    def __init__(self):\n",
    "        self.nodes = [None for _ in range(26)]\n",
    "        self.end = False\n",
    "        self.nums_set = 0\n",
    "\n",
    "    def insert(self, word: str) -> None:\n",
    "        temp = self\n",
    "        for c in word:\n",
    "            i = ctoi(c)\n",
    "            if not temp.nodes[i]:\n",
    "                temp.nodes[i] = Trie()\n",
    "            temp.nums_set += 1\n",
    "            temp = temp.nodes[i]\n",
    "        temp.end = True\n",
    "\n",
    "    def search(self, word: str) -> bool:\n",
    "        temp = self\n",
    "        for c in word:\n",
    "            i = ctoi(c)\n",
    "            if not temp.nodes[i]:\n",
    "                return False\n",
    "            temp = temp.nodes[i]\n",
    "        return temp.end\n",
    "\n",
    "    def startsWith(self, prefix: str) -> bool:\n",
    "        temp = self\n",
    "        for c in prefix:\n",
    "            i = ctoi(c)\n",
    "            if not temp.nodes[i]:\n",
    "                return False\n",
    "            temp = temp.nodes[i]\n",
    "        return True\n",
    "\n",
    "\n",
    "# Your Trie object will be instantiated and called as such:\n",
    "# obj = Trie()\n",
    "# obj.insert(word)\n",
    "# param_2 = obj.search(word)\n",
    "# param_3 = obj.startsWith(prefix)\n",
    "\n",
    "\n",
    "\n",
    "class Solution:\n",
    "    # @param A : list of strings\n",
    "    # @return a list of strings\n",
    "    def getShortestUniquePrefixes(self, A: List[str]) -> List[str]:\n",
    "        trie = Trie()\n",
    "        for word in A:\n",
    "            trie.insert(word)\n",
    "        ans = []\n",
    "        for word in A:\n",
    "            temp = trie\n",
    "            prefix = ''\n",
    "            for c in word:\n",
    "                if temp.nums_set == 1:\n",
    "                    break\n",
    "                prefix += c\n",
    "                i = ctoi(c)\n",
    "                temp = temp.nodes[i]\n",
    "            ans.append(prefix)\n",
    "        return ans"
   ]
  },
  {
   "cell_type": "code",
   "execution_count": 2,
   "id": "4af462e3",
   "metadata": {},
   "outputs": [
    {
     "data": {
      "text/plain": [
       "['prog', 'code', 'proc', 'codi', 't', 'pri']"
      ]
     },
     "execution_count": 2,
     "metadata": {},
     "output_type": "execute_result"
    }
   ],
   "source": [
    "A = [\"program\", \"code\", \"process\", \"coding\", \"type\", \"print\"]\n",
    "sol = Solution()\n",
    "sol.getShortestUniquePrefixes(A)"
   ]
  }
 ],
 "metadata": {
  "kernelspec": {
   "display_name": "venv (3.11.3)",
   "language": "python",
   "name": "python3"
  },
  "language_info": {
   "codemirror_mode": {
    "name": "ipython",
    "version": 3
   },
   "file_extension": ".py",
   "mimetype": "text/x-python",
   "name": "python",
   "nbconvert_exporter": "python",
   "pygments_lexer": "ipython3",
   "version": "3.11.3"
  }
 },
 "nbformat": 4,
 "nbformat_minor": 5
}
