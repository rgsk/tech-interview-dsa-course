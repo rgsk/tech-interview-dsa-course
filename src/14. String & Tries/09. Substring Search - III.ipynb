{
 "cells": [
  {
   "cell_type": "code",
   "execution_count": null,
   "id": "f1809bf2",
   "metadata": {},
   "outputs": [],
   "source": [
    "class Solution:\n",
    "    def findStartIndexOfSubstring(self, s1: str, s2: str) -> int:\n",
    "        lps = [0] * len(s2)\n",
    "        i = 1\n",
    "        j = 0\n",
    "        while i < len(s2):\n",
    "            if s2[i] == s2[j]:\n",
    "                lps[i] = j + 1\n",
    "                i += 1\n",
    "                j += 1\n",
    "            else:\n",
    "                if j == 0:\n",
    "                    i += 1\n",
    "                else:\n",
    "                    j = lps[j - 1]\n",
    "        i = 0\n",
    "        j = 0\n",
    "        while i <= len(s1) - len(s2[j]):\n",
    "            if s1[i] == s2[j]:\n",
    "                i += 1\n",
    "                j += 1\n",
    "                if j == len(s2):\n",
    "                    return i - len(s2)\n",
    "            else:\n",
    "                if j == 0:\n",
    "                    i += 1\n",
    "                else:\n",
    "                    j = lps[j-1]\n",
    "        return -1"
   ]
  },
  {
   "cell_type": "code",
   "execution_count": 2,
   "id": "1eb73934",
   "metadata": {},
   "outputs": [
    {
     "data": {
      "text/plain": [
       "3"
      ]
     },
     "execution_count": 2,
     "metadata": {},
     "output_type": "execute_result"
    }
   ],
   "source": [
    "s1 = 'helloworld'\n",
    "s2 = 'low'\n",
    "sol = Solution()\n",
    "sol.findStartIndexOfSubstring(s1, s2)"
   ]
  },
  {
   "cell_type": "code",
   "execution_count": 3,
   "id": "c53f7008",
   "metadata": {},
   "outputs": [
    {
     "data": {
      "text/plain": [
       "-1"
      ]
     },
     "execution_count": 3,
     "metadata": {},
     "output_type": "execute_result"
    }
   ],
   "source": [
    "s1 = 'workattech'\n",
    "s2 = 'technology'\n",
    "sol = Solution()\n",
    "sol.findStartIndexOfSubstring(s1, s2)"
   ]
  }
 ],
 "metadata": {
  "kernelspec": {
   "display_name": "venv (3.11.3)",
   "language": "python",
   "name": "python3"
  },
  "language_info": {
   "codemirror_mode": {
    "name": "ipython",
    "version": 3
   },
   "file_extension": ".py",
   "mimetype": "text/x-python",
   "name": "python",
   "nbconvert_exporter": "python",
   "pygments_lexer": "ipython3",
   "version": "3.11.3"
  }
 },
 "nbformat": 4,
 "nbformat_minor": 5
}
