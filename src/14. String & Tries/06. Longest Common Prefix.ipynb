{
 "cells": [
  {
   "cell_type": "code",
   "execution_count": 1,
   "id": "00df1e2f",
   "metadata": {},
   "outputs": [],
   "source": [
    "from typing import List\n",
    "\n",
    "\n",
    "class Solution:\n",
    "    def longestCommonPrefix(self, s: List[str]) -> str:\n",
    "        min_s = s[0]\n",
    "        for i in range(1, len(s)):\n",
    "            if len(s[i]) < len(min_s):\n",
    "                min_s = s[i]\n",
    "        while True:\n",
    "            if all([word.startswith(min_s) for word in s]):\n",
    "                return min_s\n",
    "            min_s = min_s[:-1]"
   ]
  },
  {
   "cell_type": "code",
   "execution_count": 2,
   "id": "95d0213a",
   "metadata": {},
   "outputs": [
    {
     "data": {
      "text/plain": [
       "'ab'"
      ]
     },
     "execution_count": 2,
     "metadata": {},
     "output_type": "execute_result"
    }
   ],
   "source": [
    "s = ['abc', 'abef', 'abccc', 'abftg']\n",
    "sol = Solution()\n",
    "sol.longestCommonPrefix(s)"
   ]
  }
 ],
 "metadata": {
  "kernelspec": {
   "display_name": "venv (3.11.3)",
   "language": "python",
   "name": "python3"
  },
  "language_info": {
   "codemirror_mode": {
    "name": "ipython",
    "version": 3
   },
   "file_extension": ".py",
   "mimetype": "text/x-python",
   "name": "python",
   "nbconvert_exporter": "python",
   "pygments_lexer": "ipython3",
   "version": "3.11.3"
  }
 },
 "nbformat": 4,
 "nbformat_minor": 5
}
