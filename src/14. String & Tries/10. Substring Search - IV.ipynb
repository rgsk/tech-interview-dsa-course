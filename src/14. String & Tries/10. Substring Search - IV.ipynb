{
 "cells": [
  {
   "cell_type": "markdown",
   "id": "a9cacaaf",
   "metadata": {},
   "source": [
    "### Z-Algorithm\n",
    "\n",
    "https://www.youtube.com/watch?v=CpZh4eF8QBw"
   ]
  },
  {
   "cell_type": "code",
   "execution_count": 10,
   "id": "79c79cbc",
   "metadata": {},
   "outputs": [],
   "source": [
    "def stringMatch(text: str, pattern: str) -> int:\n",
    "    ans = []\n",
    "    n_pattern = len(pattern)\n",
    "\n",
    "    source = pattern + '$' + text\n",
    "    n_source = len(source)\n",
    "    Z = [0] * n_source\n",
    "    i = 1\n",
    "    skip = 0\n",
    "    while i < n_source:\n",
    "        pi = skip\n",
    "        ti = i + skip\n",
    "        skip = 0\n",
    "        while ti < n_source and source[ti] == source[pi]:\n",
    "            pi += 1\n",
    "            ti += 1\n",
    "        Z[i] = pi\n",
    "        # z_box is till ti\n",
    "        j = 1\n",
    "        while i + j + Z[j] < ti:\n",
    "            Z[i + j] = Z[j]\n",
    "            j += 1\n",
    "        i += j\n",
    "        if ti > i:\n",
    "            skip = ti - i\n",
    "\n",
    "\n",
    "    for i in range(n_pattern + 1, n_source):\n",
    "        if Z[i] == n_pattern:\n",
    "            ans.append(i - n_pattern - 1)\n",
    "    return ans[0] if ans else -1\n",
    "\n",
    "\n",
    "class Solution:\n",
    "    def findStartIndexOfSubstring(self, s1: str, s2: str) -> int:\n",
    "        return stringMatch(s1, s2)\n"
   ]
  },
  {
   "cell_type": "code",
   "execution_count": 11,
   "id": "e85ab141",
   "metadata": {},
   "outputs": [
    {
     "data": {
      "text/plain": [
       "3"
      ]
     },
     "execution_count": 11,
     "metadata": {},
     "output_type": "execute_result"
    }
   ],
   "source": [
    "text = \"helloworld\"\n",
    "pattern = \"low\"\n",
    "sol = Solution()\n",
    "sol.findStartIndexOfSubstring(text, pattern)"
   ]
  },
  {
   "cell_type": "code",
   "execution_count": 12,
   "id": "8779e790",
   "metadata": {},
   "outputs": [
    {
     "data": {
      "text/plain": [
       "-1"
      ]
     },
     "execution_count": 12,
     "metadata": {},
     "output_type": "execute_result"
    }
   ],
   "source": [
    "text = 'workattech'\n",
    "pattern = 'technology'\n",
    "sol = Solution()\n",
    "sol.findStartIndexOfSubstring(text, pattern)"
   ]
  }
 ],
 "metadata": {
  "kernelspec": {
   "display_name": "venv (3.11.3)",
   "language": "python",
   "name": "python3"
  },
  "language_info": {
   "codemirror_mode": {
    "name": "ipython",
    "version": 3
   },
   "file_extension": ".py",
   "mimetype": "text/x-python",
   "name": "python",
   "nbconvert_exporter": "python",
   "pygments_lexer": "ipython3",
   "version": "3.11.3"
  }
 },
 "nbformat": 4,
 "nbformat_minor": 5
}
