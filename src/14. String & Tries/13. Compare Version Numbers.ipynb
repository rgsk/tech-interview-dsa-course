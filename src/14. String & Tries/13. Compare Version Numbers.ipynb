{
 "cells": [
  {
   "cell_type": "code",
   "execution_count": 1,
   "id": "d929e34d",
   "metadata": {},
   "outputs": [],
   "source": [
    "class Solution:\n",
    "    def compareVersion(self, version1: str, version2: str) -> int:\n",
    "\t\t\n",
    "\t\t\t\n",
    "        v1 = [int(v) for v in version1.split('.') if v]\n",
    "        v2 = [int(v) for v in version2.split('.') if v]\n",
    "        \n",
    "        # Make both versions the same length by appending zeros\n",
    "        while len(v1) < len(v2):\n",
    "            v1.append(0)\n",
    "        while len(v2) < len(v1):\n",
    "            v2.append(0)\n",
    "        \n",
    "        # Compare each part\n",
    "        for i in range(len(v1)):\n",
    "            if v1[i] > v2[i]:\n",
    "                return 1\n",
    "            elif v1[i] < v2[i]:\n",
    "                return -1\n",
    "        \n",
    "        return 0"
   ]
  },
  {
   "cell_type": "code",
   "execution_count": 2,
   "id": "9eaefea2",
   "metadata": {},
   "outputs": [
    {
     "data": {
      "text/plain": [
       "-1"
      ]
     },
     "execution_count": 2,
     "metadata": {},
     "output_type": "execute_result"
    }
   ],
   "source": [
    "version1 = '1.1.0'\n",
    "version2 = '1.2.0'\n",
    "sol = Solution()\n",
    "sol.compareVersion(version1, version2)"
   ]
  }
 ],
 "metadata": {
  "kernelspec": {
   "display_name": "venv (3.11.3)",
   "language": "python",
   "name": "python3"
  },
  "language_info": {
   "codemirror_mode": {
    "name": "ipython",
    "version": 3
   },
   "file_extension": ".py",
   "mimetype": "text/x-python",
   "name": "python",
   "nbconvert_exporter": "python",
   "pygments_lexer": "ipython3",
   "version": "3.11.3"
  }
 },
 "nbformat": 4,
 "nbformat_minor": 5
}
