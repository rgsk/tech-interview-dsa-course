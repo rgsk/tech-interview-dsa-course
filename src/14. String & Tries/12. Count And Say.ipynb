{
 "cells": [
  {
   "cell_type": "code",
   "execution_count": 1,
   "id": "3f5508ca",
   "metadata": {},
   "outputs": [],
   "source": [
    "class Solution:\n",
    "    def countAndSay(self, n: int) -> str:\n",
    "\n",
    "        s = \"1\"\n",
    "        while n > 1:\n",
    "            count = 1\n",
    "            cur = s[0]\n",
    "            new_s = \"\"\n",
    "            for i in range(1, len(s)):\n",
    "                v = s[i]\n",
    "                if v == cur:\n",
    "                    count += 1\n",
    "                else:\n",
    "                    new_s += str(count) + cur\n",
    "                    count = 1\n",
    "                    cur = v\n",
    "            new_s += str(count) + cur\n",
    "            s = new_s\n",
    "            n -= 1\n",
    "        return s"
   ]
  },
  {
   "cell_type": "code",
   "execution_count": 2,
   "id": "a3f6e120",
   "metadata": {},
   "outputs": [],
   "source": [
    "sol = Solution()"
   ]
  },
  {
   "cell_type": "code",
   "execution_count": 3,
   "id": "d626f715",
   "metadata": {},
   "outputs": [
    {
     "data": {
      "text/plain": [
       "'11'"
      ]
     },
     "execution_count": 3,
     "metadata": {},
     "output_type": "execute_result"
    }
   ],
   "source": [
    "sol.countAndSay(2)"
   ]
  },
  {
   "cell_type": "code",
   "execution_count": 4,
   "id": "1d397703",
   "metadata": {},
   "outputs": [
    {
     "data": {
      "text/plain": [
       "'1211'"
      ]
     },
     "execution_count": 4,
     "metadata": {},
     "output_type": "execute_result"
    }
   ],
   "source": [
    "sol.countAndSay(4)"
   ]
  },
  {
   "cell_type": "code",
   "execution_count": 5,
   "id": "06d39589",
   "metadata": {},
   "outputs": [
    {
     "data": {
      "text/plain": [
       "'312211'"
      ]
     },
     "execution_count": 5,
     "metadata": {},
     "output_type": "execute_result"
    }
   ],
   "source": [
    "sol.countAndSay(6)"
   ]
  }
 ],
 "metadata": {
  "kernelspec": {
   "display_name": "venv (3.11.3)",
   "language": "python",
   "name": "python3"
  },
  "language_info": {
   "codemirror_mode": {
    "name": "ipython",
    "version": 3
   },
   "file_extension": ".py",
   "mimetype": "text/x-python",
   "name": "python",
   "nbconvert_exporter": "python",
   "pygments_lexer": "ipython3",
   "version": "3.11.3"
  }
 },
 "nbformat": 4,
 "nbformat_minor": 5
}
