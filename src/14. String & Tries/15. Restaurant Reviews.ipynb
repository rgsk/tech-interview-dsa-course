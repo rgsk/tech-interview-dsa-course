{
 "cells": [
  {
   "cell_type": "code",
   "execution_count": 3,
   "id": "0a1768a7",
   "metadata": {},
   "outputs": [],
   "source": [
    "from typing import List\n",
    "\n",
    "# Trie Node class\n",
    "class TrieNode:\n",
    "    def __init__(self):\n",
    "        self.children = {}\n",
    "        self.is_end_of_word = False\n",
    "\n",
    "# Trie class for efficient word lookup\n",
    "class Trie:\n",
    "    def __init__(self):\n",
    "        self.root = TrieNode()\n",
    "\n",
    "    def insert(self, word: str):\n",
    "        node = self.root\n",
    "        for char in word:\n",
    "            if char not in node.children:\n",
    "                node.children[char] = TrieNode()\n",
    "            node = node.children[char]\n",
    "        node.is_end_of_word = True\n",
    "\n",
    "    def search(self, word: str) -> bool:\n",
    "        node = self.root\n",
    "        for char in word:\n",
    "            if char not in node.children:\n",
    "                return False\n",
    "            node = node.children[char]\n",
    "        return node.is_end_of_word\n",
    "\n",
    "\n",
    "class Solution:\n",
    "    def orderReviews(self, reviews: List[str], goodWords: List[str]) -> List[str]:\n",
    "        # Step 1: Build Trie from the list of good words\n",
    "        trie = Trie()\n",
    "        for word in goodWords:\n",
    "            trie.insert(word)\n",
    "\n",
    "        # Step 2: Count good words in each review\n",
    "        review_scores = []\n",
    "        \n",
    "        for i, review in enumerate(reviews):\n",
    "            good_word_count = 0\n",
    "            for word in review.split():  # Split the review into words\n",
    "                if trie.search(word):    # Check if word is in the Trie\n",
    "                    good_word_count += 1\n",
    "            review_scores.append((good_word_count, i))  # Store good word count and index\n",
    "        \n",
    "        # Step 3: Sort reviews by good word count (descending), and by original index in case of a tie\n",
    "        review_scores.sort(key=lambda x: (-x[0], x[1]))\n",
    "        \n",
    "        # Step 4: Return the sorted reviews based on the computed scores\n",
    "        return [reviews[i] for _, i in review_scores]"
   ]
  },
  {
   "cell_type": "code",
   "execution_count": 4,
   "id": "33d632ff",
   "metadata": {},
   "outputs": [
    {
     "data": {
      "text/plain": [
       "['tasty food nice ambience', 'good restaurant', 'nice place']"
      ]
     },
     "execution_count": 4,
     "metadata": {},
     "output_type": "execute_result"
    }
   ],
   "source": [
    "reviews = [\"good restaurant\", \"tasty food nice ambience\", \"nice place\"]\n",
    "goodWords = [\"good\", \"lovely\", \"nice\", \"tasty\"]\n",
    "sol = Solution()\n",
    "sol.orderReviews(reviews, goodWords)"
   ]
  },
  {
   "cell_type": "code",
   "execution_count": 5,
   "id": "5feeb839",
   "metadata": {},
   "outputs": [],
   "source": [
    "from typing import List\n",
    "\n",
    "\n",
    "class Solution:\n",
    "    def orderReviews(self, reviews: List[str], goodWords: List[str]) -> List[str]:\n",
    "        goodWordsSet = set(goodWords)\n",
    "        # Step 2: Count good words in each review\n",
    "        review_scores = []\n",
    "\n",
    "        for i, review in enumerate(reviews):\n",
    "            good_word_count = 0\n",
    "            for word in review.split():  # Split the review into words\n",
    "                if word in goodWordsSet:    # Check if word is in the Trie\n",
    "                    good_word_count += 1\n",
    "            # Store good word count and index\n",
    "            review_scores.append((good_word_count, i))\n",
    "\n",
    "        # Step 3: Sort reviews by good word count (descending), and by original index in case of a tie\n",
    "        review_scores.sort(key=lambda x: (-x[0], x[1]))\n",
    "\n",
    "        # Step 4: Return the sorted reviews based on the computed scores\n",
    "        return [reviews[i] for _, i in review_scores]"
   ]
  },
  {
   "cell_type": "code",
   "execution_count": 6,
   "id": "01a1f8b0",
   "metadata": {},
   "outputs": [
    {
     "data": {
      "text/plain": [
       "['tasty food nice ambience', 'good restaurant', 'nice place']"
      ]
     },
     "execution_count": 6,
     "metadata": {},
     "output_type": "execute_result"
    }
   ],
   "source": [
    "reviews = [\"good restaurant\", \"tasty food nice ambience\", \"nice place\"]\n",
    "goodWords = [\"good\", \"lovely\", \"nice\", \"tasty\"]\n",
    "sol = Solution()\n",
    "sol.orderReviews(reviews, goodWords)"
   ]
  }
 ],
 "metadata": {
  "kernelspec": {
   "display_name": "venv (3.11.3)",
   "language": "python",
   "name": "python3"
  },
  "language_info": {
   "codemirror_mode": {
    "name": "ipython",
    "version": 3
   },
   "file_extension": ".py",
   "mimetype": "text/x-python",
   "name": "python",
   "nbconvert_exporter": "python",
   "pygments_lexer": "ipython3",
   "version": "3.11.3"
  }
 },
 "nbformat": 4,
 "nbformat_minor": 5
}
