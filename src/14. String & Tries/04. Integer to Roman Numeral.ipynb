{
 "cells": [
  {
   "cell_type": "code",
   "execution_count": 1,
   "id": "b363a7b5",
   "metadata": {},
   "outputs": [],
   "source": [
    "class Solution:\n",
    "    def integerToRoman(self, num: int) -> str:\n",
    "        # add your logic here\n",
    "        mp = {\n",
    "            1: 'I',\n",
    "            5: 'V',\n",
    "            10: 'X',\n",
    "            50: 'L',\n",
    "            100: 'C',\n",
    "            500: 'D',\n",
    "            1000: 'M'\n",
    "        }\n",
    "\n",
    "        replacements = {\n",
    "\t\t\t'VIIII': 'IX',\n",
    "            'IIII': 'IV',\n",
    "            'LXXXX': 'XC',\n",
    "            'XXXX': 'XL',\n",
    "            'DCCCC': 'CM',\n",
    "            'CCCC': 'CD'\n",
    "        }\n",
    "        ans = \"\"\n",
    "        for v in reversed(mp.keys()):\n",
    "            while num >= v:\n",
    "                ans += mp[v]\n",
    "                num -= v\n",
    "\n",
    "        for key in replacements:\n",
    "            ans = ans.replace(key, replacements[key])\n",
    "        return ans"
   ]
  },
  {
   "cell_type": "code",
   "execution_count": 2,
   "id": "64d656bc",
   "metadata": {},
   "outputs": [
    {
     "data": {
      "text/plain": [
       "'X'"
      ]
     },
     "execution_count": 2,
     "metadata": {},
     "output_type": "execute_result"
    }
   ],
   "source": [
    "num = 10\n",
    "sol = Solution()\n",
    "sol.integerToRoman(num)"
   ]
  },
  {
   "cell_type": "code",
   "execution_count": 3,
   "id": "197734b4",
   "metadata": {},
   "outputs": [
    {
     "data": {
      "text/plain": [
       "'VI'"
      ]
     },
     "execution_count": 3,
     "metadata": {},
     "output_type": "execute_result"
    }
   ],
   "source": [
    "num = 6\n",
    "sol = Solution()\n",
    "sol.integerToRoman(num)"
   ]
  },
  {
   "cell_type": "code",
   "execution_count": 4,
   "id": "4757ab05",
   "metadata": {},
   "outputs": [
    {
     "data": {
      "text/plain": [
       "'XII'"
      ]
     },
     "execution_count": 4,
     "metadata": {},
     "output_type": "execute_result"
    }
   ],
   "source": [
    "num = 12\n",
    "sol = Solution()\n",
    "sol.integerToRoman(num)"
   ]
  }
 ],
 "metadata": {
  "kernelspec": {
   "display_name": "venv (3.11.3)",
   "language": "python",
   "name": "python3"
  },
  "language_info": {
   "codemirror_mode": {
    "name": "ipython",
    "version": 3
   },
   "file_extension": ".py",
   "mimetype": "text/x-python",
   "name": "python",
   "nbconvert_exporter": "python",
   "pygments_lexer": "ipython3",
   "version": "3.11.3"
  }
 },
 "nbformat": 4,
 "nbformat_minor": 5
}
