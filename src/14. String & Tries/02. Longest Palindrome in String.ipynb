{
 "cells": [
  {
   "cell_type": "code",
   "execution_count": 1,
   "id": "788bb062",
   "metadata": {},
   "outputs": [],
   "source": [
    "class Solution:\n",
    "    def getLongestPalindrome(self, A: str) -> str:\n",
    "        n = len(A)\n",
    "        \n",
    "        def form_pal(s, e):\n",
    "            while s >= 0 and e < n:\n",
    "                if A[s] != A[e]:\n",
    "                    break\n",
    "                s -= 1\n",
    "                e += 1\n",
    "            return [s + 1, e - 1]\n",
    "        \n",
    "        max_length = 0\n",
    "        start = 0\n",
    "        end = 0\n",
    "        \n",
    "        for i in range(n):\n",
    "            # odd-length palindrome\n",
    "            odd_pal = form_pal(i, i)\n",
    "            # even-length palindrome\n",
    "            even_pal = form_pal(i, i + 1)\n",
    "            \n",
    "            odd_pal_length = odd_pal[1] - odd_pal[0] + 1\n",
    "            even_pal_length = even_pal[1] - even_pal[0] + 1\n",
    "            \n",
    "            if odd_pal_length > even_pal_length:\n",
    "                if odd_pal_length > max_length:\n",
    "                    start = odd_pal[0]\n",
    "                    end = odd_pal[1]\n",
    "                    max_length = odd_pal_length\n",
    "            else:\n",
    "                if even_pal_length > max_length:\n",
    "                    start = even_pal[0]\n",
    "                    end = even_pal[1]\n",
    "                    max_length = even_pal_length\n",
    "        \n",
    "        return A[start:end+1]"
   ]
  },
  {
   "cell_type": "code",
   "execution_count": 2,
   "id": "1f8284ae",
   "metadata": {},
   "outputs": [
    {
     "data": {
      "text/plain": [
       "'ississi'"
      ]
     },
     "execution_count": 2,
     "metadata": {},
     "output_type": "execute_result"
    }
   ],
   "source": [
    "s = \"mississippi\"\n",
    "sol = Solution()\n",
    "sol.getLongestPalindrome(s)"
   ]
  }
 ],
 "metadata": {
  "kernelspec": {
   "display_name": "venv (3.11.3)",
   "language": "python",
   "name": "python3"
  },
  "language_info": {
   "codemirror_mode": {
    "name": "ipython",
    "version": 3
   },
   "file_extension": ".py",
   "mimetype": "text/x-python",
   "name": "python",
   "nbconvert_exporter": "python",
   "pygments_lexer": "ipython3",
   "version": "3.11.3"
  }
 },
 "nbformat": 4,
 "nbformat_minor": 5
}
