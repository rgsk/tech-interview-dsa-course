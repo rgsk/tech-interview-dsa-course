{
 "cells": [
  {
   "cell_type": "code",
   "execution_count": 1,
   "id": "8fc97e50",
   "metadata": {},
   "outputs": [],
   "source": [
    "from collections import deque\n",
    "from typing import List\n",
    "\n",
    "class Solution:\n",
    "    def maxSlidingWindow(self, A: List[int], k: int) -> List[int]:\n",
    "        dq = deque()\n",
    "        result = []\n",
    "\n",
    "        for i in range(len(A)):\n",
    "            # Remove indices outside the window\n",
    "            if dq and dq[0] == i - k:\n",
    "                dq.popleft()\n",
    "\n",
    "            # Remove smaller elements in k range as they are not useful\n",
    "            while dq and A[i] >= A[dq[-1]]:\n",
    "                dq.pop()\n",
    "\n",
    "            dq.append(i)\n",
    "\n",
    "            # Append the current max in result (starts from i >= k - 1)\n",
    "            if i >= k - 1:\n",
    "                result.append(A[dq[0]])\n",
    "\n",
    "        return result\n"
   ]
  },
  {
   "cell_type": "code",
   "execution_count": 2,
   "id": "a40d9308",
   "metadata": {},
   "outputs": [
    {
     "data": {
      "text/plain": [
       "[3, 4, 5, 5, 5, 4]"
      ]
     },
     "execution_count": 2,
     "metadata": {},
     "output_type": "execute_result"
    }
   ],
   "source": [
    "A = [1, -2, 3, 4, 5, 3, 4, -1]\n",
    "k = 3\n",
    "sol = Solution()\n",
    "sol.maxSlidingWindow(A, k)"
   ]
  }
 ],
 "metadata": {
  "kernelspec": {
   "display_name": "venv",
   "language": "python",
   "name": "python3"
  },
  "language_info": {
   "codemirror_mode": {
    "name": "ipython",
    "version": 3
   },
   "file_extension": ".py",
   "mimetype": "text/x-python",
   "name": "python",
   "nbconvert_exporter": "python",
   "pygments_lexer": "ipython3",
   "version": "3.11.3"
  }
 },
 "nbformat": 4,
 "nbformat_minor": 5
}
