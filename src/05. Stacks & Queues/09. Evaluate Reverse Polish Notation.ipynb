{
 "cells": [
  {
   "cell_type": "code",
   "execution_count": 1,
   "id": "0c380a66",
   "metadata": {},
   "outputs": [],
   "source": [
    "from typing import List\n",
    "\n",
    "\n",
    "# [\"6\", \"3\", \"+\", \"5\", \"/\"]\n",
    "class Solution:\n",
    "    def evalRPN(self, tokens: List[str]) -> int:\n",
    "        # add your logic here\n",
    "        def is_symbol(t: str):\n",
    "            return t == '+' or t == '-' or t == '*' or t == '/'\n",
    "        stack = []\n",
    "        for t in tokens:\n",
    "            if not is_symbol(t):\n",
    "                stack.append(int(t))\n",
    "            else:\n",
    "                a = stack.pop()\n",
    "                b = stack.pop()\n",
    "                if t == '+':\n",
    "                    stack.append(b + a)\n",
    "                elif t == '*':\n",
    "                    stack.append(b * a)\n",
    "                elif t == '-':\n",
    "                    stack.append(b - a)\n",
    "                else:\n",
    "                    stack.append(b // a)\n",
    "        return stack[0]"
   ]
  },
  {
   "cell_type": "code",
   "execution_count": 2,
   "id": "bc6aa4f2",
   "metadata": {},
   "outputs": [],
   "source": [
    "sol = Solution()"
   ]
  },
  {
   "cell_type": "code",
   "execution_count": 3,
   "id": "ce4984ee",
   "metadata": {},
   "outputs": [
    {
     "data": {
      "text/plain": [
       "1"
      ]
     },
     "execution_count": 3,
     "metadata": {},
     "output_type": "execute_result"
    }
   ],
   "source": [
    "tokens = [\"6\", \"3\", \"+\", \"5\", \"/\"]\n",
    "sol.evalRPN(tokens)"
   ]
  },
  {
   "cell_type": "code",
   "execution_count": 4,
   "id": "2ee0f20c",
   "metadata": {},
   "outputs": [
    {
     "data": {
      "text/plain": [
       "-2"
      ]
     },
     "execution_count": 4,
     "metadata": {},
     "output_type": "execute_result"
    }
   ],
   "source": [
    "tokens = [\"6\", \"-3\", \"+\", \"5\", \"-\"]\n",
    "sol.evalRPN(tokens)"
   ]
  },
  {
   "cell_type": "code",
   "execution_count": 5,
   "id": "6c12c8f4",
   "metadata": {},
   "outputs": [
    {
     "data": {
      "text/plain": [
       "6"
      ]
     },
     "execution_count": 5,
     "metadata": {},
     "output_type": "execute_result"
    }
   ],
   "source": [
    "tokens = [\"6\", \"3\", \"2\", \"+\", \"*\", \"5\", \"/\"]\n",
    "sol.evalRPN(tokens)"
   ]
  }
 ],
 "metadata": {
  "kernelspec": {
   "display_name": "venv",
   "language": "python",
   "name": "python3"
  },
  "language_info": {
   "codemirror_mode": {
    "name": "ipython",
    "version": 3
   },
   "file_extension": ".py",
   "mimetype": "text/x-python",
   "name": "python",
   "nbconvert_exporter": "python",
   "pygments_lexer": "ipython3",
   "version": "3.11.3"
  }
 },
 "nbformat": 4,
 "nbformat_minor": 5
}
