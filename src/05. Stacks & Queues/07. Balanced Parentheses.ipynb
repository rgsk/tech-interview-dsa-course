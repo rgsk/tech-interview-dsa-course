{
 "cells": [
  {
   "cell_type": "code",
   "execution_count": null,
   "id": "4dd95ca2",
   "metadata": {},
   "outputs": [],
   "source": [
    "class Solution:\n",
    "\tdef isBalancedParentheses(self, s: str) -> bool:\n",
    "\t\t# add your logic here\n",
    "\t\tst = []\n",
    "\t\tmp = {\n",
    "\t\t\t')': '(',\n",
    "\t\t\t'}': '{',\n",
    "\t\t\t']': '['\n",
    "\t\t}\n",
    "\t\tfor c in s:\n",
    "\t\t\tif c == '(' or c == '[' or c == '{':\n",
    "\t\t\t\tst.append(c)\n",
    "\t\t\telse:\n",
    "\t\t\t\tif not st or st[-1] != mp[c]:\n",
    "\t\t\t\t\treturn False\n",
    "\t\t\t\tst.pop()\n",
    "\t\t\t\t\n",
    "\t\treturn not st"
   ]
  },
  {
   "cell_type": "code",
   "execution_count": null,
   "id": "59e6cf71",
   "metadata": {},
   "outputs": [],
   "source": [
    "sol = Solution()"
   ]
  },
  {
   "cell_type": "code",
   "execution_count": null,
   "id": "ba0b8aa3",
   "metadata": {},
   "outputs": [],
   "source": [
    "s = '({})[]'\n",
    "sol.isBalancedParentheses(s)"
   ]
  },
  {
   "cell_type": "code",
   "execution_count": null,
   "id": "e80cf474",
   "metadata": {},
   "outputs": [],
   "source": [
    "s = '{()})('\n",
    "sol.isBalancedParentheses(s)"
   ]
  },
  {
   "cell_type": "code",
   "execution_count": null,
   "id": "e55dfb00",
   "metadata": {},
   "outputs": [],
   "source": [
    "s = '{(})[]'\n",
    "sol.isBalancedParentheses(s)"
   ]
  }
 ],
 "metadata": {
  "language_info": {
   "name": "python"
  }
 },
 "nbformat": 4,
 "nbformat_minor": 5
}
