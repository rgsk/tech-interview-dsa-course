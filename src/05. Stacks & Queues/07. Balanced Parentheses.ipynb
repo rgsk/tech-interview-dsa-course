{
 "cells": [
  {
   "cell_type": "code",
   "execution_count": 6,
   "id": "4dd95ca2",
   "metadata": {},
   "outputs": [],
   "source": [
    "class Solution:\n",
    "\tdef isBalancedParentheses(self, s: str) -> bool:\n",
    "\t\t# add your logic here\n",
    "\t\tst = []\n",
    "\t\tmp = {\n",
    "\t\t\t')': '(',\n",
    "\t\t\t'}': '{',\n",
    "\t\t\t']': '['\n",
    "\t\t}\n",
    "\t\tfor c in s:\n",
    "\t\t\tif c == '(' or c == '[' or c == '{':\n",
    "\t\t\t\tst.append(c)\n",
    "\t\t\telse:\n",
    "\t\t\t\tif not st or st[-1] != mp[c]:\n",
    "\t\t\t\t\treturn False\n",
    "\t\t\t\tst.pop()\n",
    "\t\t\t\t\n",
    "\t\treturn not st"
   ]
  },
  {
   "cell_type": "code",
   "execution_count": 7,
   "id": "59e6cf71",
   "metadata": {},
   "outputs": [],
   "source": [
    "sol = Solution()"
   ]
  },
  {
   "cell_type": "code",
   "execution_count": 8,
   "id": "ba0b8aa3",
   "metadata": {},
   "outputs": [
    {
     "data": {
      "text/plain": [
       "True"
      ]
     },
     "execution_count": 8,
     "metadata": {},
     "output_type": "execute_result"
    }
   ],
   "source": [
    "s = '({})[]'\n",
    "sol.isBalancedParentheses(s)"
   ]
  },
  {
   "cell_type": "code",
   "execution_count": 9,
   "id": "e80cf474",
   "metadata": {},
   "outputs": [
    {
     "data": {
      "text/plain": [
       "False"
      ]
     },
     "execution_count": 9,
     "metadata": {},
     "output_type": "execute_result"
    }
   ],
   "source": [
    "s = '{()})('\n",
    "sol.isBalancedParentheses(s)"
   ]
  },
  {
   "cell_type": "code",
   "execution_count": 10,
   "id": "e55dfb00",
   "metadata": {},
   "outputs": [
    {
     "data": {
      "text/plain": [
       "False"
      ]
     },
     "execution_count": 10,
     "metadata": {},
     "output_type": "execute_result"
    }
   ],
   "source": [
    "s = '{(})[]'\n",
    "sol.isBalancedParentheses(s)"
   ]
  }
 ],
 "metadata": {
  "kernelspec": {
   "display_name": "venv",
   "language": "python",
   "name": "python3"
  },
  "language_info": {
   "codemirror_mode": {
    "name": "ipython",
    "version": 3
   },
   "file_extension": ".py",
   "mimetype": "text/x-python",
   "name": "python",
   "nbconvert_exporter": "python",
   "pygments_lexer": "ipython3",
   "version": "3.11.3"
  }
 },
 "nbformat": 4,
 "nbformat_minor": 5
}
