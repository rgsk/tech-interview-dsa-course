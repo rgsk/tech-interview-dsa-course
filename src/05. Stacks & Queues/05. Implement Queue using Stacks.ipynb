{
 "cells": [
  {
   "cell_type": "code",
   "execution_count": 1,
   "id": "d1a0240a",
   "metadata": {},
   "outputs": [],
   "source": [
    "class Stack:\n",
    "\tdef __init__(self, capacity=0):\n",
    "\t\tself.arr = [0 for _ in range(capacity)]\n",
    "\t\tself.i = -1\n",
    "\n",
    "\tdef isEmpty(self) -> bool:\n",
    "\t\treturn self.i == -1\n",
    "\n",
    "\tdef size(self) -> int:\n",
    "\t\treturn self.i + 1\n",
    "\n",
    "\tdef top(self) -> int:\n",
    "\t\tif self.isEmpty():\n",
    "\t\t\treturn -1\n",
    "\t\treturn self.arr[self.i]\n",
    "\n",
    "\tdef push(self, element: int) -> None:\n",
    "\t\tself.i += 1\n",
    "\t\tself.arr[self.i] = element\n",
    "\n",
    "\tdef pop(self) -> None:\n",
    "\t\tself.i -= 1"
   ]
  },
  {
   "cell_type": "code",
   "execution_count": 2,
   "id": "a4edc3dc",
   "metadata": {},
   "outputs": [],
   "source": [
    "class Queue:\n",
    "\tdef __init__(self, capacity=0):\n",
    "\t\tself.stack1 = Stack(capacity)\n",
    "\t\tself.stack2 = Stack(capacity)\n",
    "\n",
    "\tdef isEmpty(self) -> bool:\n",
    "\t\treturn self.size() == 0\n",
    "\n",
    "\tdef size(self) -> int:\n",
    "\t\treturn self.stack1.size() + self.stack2.size()\n",
    "\n",
    "\tdef front(self) -> int:\n",
    "\t\tif self.isEmpty():\n",
    "\t\t\treturn -1\n",
    "\t\tself.balance()\n",
    "\t\treturn self.stack2.top()\n",
    "\n",
    "\tdef back(self) -> int:\n",
    "\t\tif self.isEmpty():\n",
    "\t\t\treturn -1\n",
    "\t\tif not self.stack1.isEmpty():\n",
    "\t\t\treturn self.stack1.top()\n",
    "\t\twhile not self.stack2.isEmpty():\n",
    "\t\t\tself.stack1.push(self.stack2.top())\n",
    "\t\t\tself.stack2.pop()\n",
    "\t\treturn self.stack1.top()\n",
    "\n",
    "\tdef push(self, element: int) -> None:\n",
    "\t\tself.stack1.push(element)\n",
    "\n",
    "\tdef balance(self):\n",
    "\t\tif self.stack2.isEmpty():\n",
    "\t\t\twhile not self.stack1.isEmpty():\n",
    "\t\t\t\tself.stack2.push(self.stack1.top())\n",
    "\t\t\t\tself.stack1.pop()\n",
    "\n",
    "\tdef pop(self) -> None:\n",
    "\t\tself.balance()\n",
    "\t\tself.stack2.pop()"
   ]
  },
  {
   "cell_type": "code",
   "execution_count": 3,
   "id": "efcc1cab",
   "metadata": {},
   "outputs": [
    {
     "name": "stdout",
     "output_type": "stream",
     "text": [
      "-1 -1 true 0\n",
      "5 5 false 1\n",
      "5 6 false 2\n",
      "5 7 false 3\n",
      "6 7 false 2\n",
      "7 7 false 1\n",
      "-1 -1 true 0\n"
     ]
    }
   ],
   "source": [
    "def main():\n",
    "    queue = Queue(10)\n",
    "\n",
    "    def print_state():\n",
    "        print(queue.front(), queue.back(), str(queue.isEmpty()).lower(), queue.size())\n",
    "\n",
    "    print_state()  # Initially empty\n",
    "\n",
    "    queue.push(5)\n",
    "    print_state()\n",
    "\n",
    "    queue.push(6)\n",
    "    print_state()\n",
    "\n",
    "    queue.push(7)\n",
    "    print_state()\n",
    "\n",
    "    queue.pop()\n",
    "    print_state()\n",
    "\n",
    "    queue.pop()\n",
    "    print_state()\n",
    "\n",
    "    queue.pop()\n",
    "    print_state()\n",
    "\n",
    "main()"
   ]
  }
 ],
 "metadata": {
  "kernelspec": {
   "display_name": "venv",
   "language": "python",
   "name": "python3"
  },
  "language_info": {
   "codemirror_mode": {
    "name": "ipython",
    "version": 3
   },
   "file_extension": ".py",
   "mimetype": "text/x-python",
   "name": "python",
   "nbconvert_exporter": "python",
   "pygments_lexer": "ipython3",
   "version": "3.11.3"
  }
 },
 "nbformat": 4,
 "nbformat_minor": 5
}
