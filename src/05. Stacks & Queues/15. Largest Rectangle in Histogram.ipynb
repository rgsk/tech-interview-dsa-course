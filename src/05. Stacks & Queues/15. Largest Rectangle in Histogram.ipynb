{
 "cells": [
  {
   "cell_type": "code",
   "execution_count": 4,
   "id": "6b52b56d",
   "metadata": {},
   "outputs": [],
   "source": [
    "from typing import List\n",
    "\n",
    "class Solution:\n",
    "    def getLargestArea(self, heights: List[int]) -> int:\n",
    "        n = len(heights)\n",
    "        min_prev = [0 for _ in range(n)]\n",
    "        min_next = [0 for _ in range(n)]\n",
    "        min_next[n-1] = n\n",
    "        min_prev[0] = -1\n",
    "        for i in range(1, n):\n",
    "            p = i - 1\n",
    "            while p >= 0 and heights[p] >= heights[i]:\n",
    "                p = min_prev[p]\n",
    "            min_prev[i] = p\n",
    "        for i in range(n-2, -1, -1):\n",
    "            p = i + 1\n",
    "            while p < n and heights[p] >= heights[i]:\n",
    "                p = min_next[p]\n",
    "            min_next[i] = p\n",
    "        max_area = 0\n",
    "        for i in range(n):\n",
    "            max_area = max(max_area, heights[i] * (min_next[i] - min_prev[i] - 1))\n",
    "        return max_area"
   ]
  },
  {
   "cell_type": "code",
   "execution_count": 5,
   "id": "1088995a",
   "metadata": {},
   "outputs": [
    {
     "data": {
      "text/plain": [
       "21"
      ]
     },
     "execution_count": 5,
     "metadata": {},
     "output_type": "execute_result"
    }
   ],
   "source": [
    "heights = [8, 2, 10, 12, 7, 0, 10, 8]\n",
    "sol = Solution()\n",
    "sol.getLargestArea(heights)"
   ]
  },
  {
   "cell_type": "code",
   "execution_count": 6,
   "id": "1493680f",
   "metadata": {},
   "outputs": [
    {
     "data": {
      "text/plain": [
       "4"
      ]
     },
     "execution_count": 6,
     "metadata": {},
     "output_type": "execute_result"
    }
   ],
   "source": [
    "heights = [1, 3, 2]\n",
    "sol = Solution()\n",
    "sol.getLargestArea(heights)"
   ]
  },
  {
   "cell_type": "code",
   "execution_count": 7,
   "id": "9bd5b743",
   "metadata": {},
   "outputs": [],
   "source": [
    "class Solution:\n",
    "\n",
    "    def getLargestArea(self, A):\n",
    "        n = len(A)\n",
    "        min_prev = [-1 for _ in range(n)]\n",
    "        min_next = [n for _ in range(n)]\n",
    "        st = []\n",
    "        for i in range(n):\n",
    "            while st and A[st[-1]] >= A[i]:\n",
    "                st.pop()\n",
    "            if st:\n",
    "                min_prev[i] = st[-1]\n",
    "            st.append(i)\n",
    "        st = []\n",
    "        for i in range(n-1, -1, -1):\n",
    "            while st and A[st[-1]] >= A[i]:\n",
    "                st.pop()\n",
    "            if st:\n",
    "                min_next[i] = st[-1]\n",
    "            st.append(i)\n",
    "        max_area = 0\n",
    "        # print(min_prev)\n",
    "        # print(min_next)\n",
    "        for i in range(n):\n",
    "            max_area = max(max_area, A[i] * (min_next[i] - min_prev[i] - 1))\n",
    "        return max_area"
   ]
  },
  {
   "cell_type": "code",
   "execution_count": 8,
   "id": "b2bfdaaf",
   "metadata": {},
   "outputs": [
    {
     "data": {
      "text/plain": [
       "21"
      ]
     },
     "execution_count": 8,
     "metadata": {},
     "output_type": "execute_result"
    }
   ],
   "source": [
    "heights = [8, 2, 10, 12, 7, 0, 10, 8]\n",
    "sol = Solution()\n",
    "sol.getLargestArea(heights)"
   ]
  },
  {
   "cell_type": "code",
   "execution_count": 9,
   "id": "2cfd45a2",
   "metadata": {},
   "outputs": [
    {
     "data": {
      "text/plain": [
       "4"
      ]
     },
     "execution_count": 9,
     "metadata": {},
     "output_type": "execute_result"
    }
   ],
   "source": [
    "heights = [1, 3, 2]\n",
    "sol = Solution()\n",
    "sol.getLargestArea(heights)"
   ]
  }
 ],
 "metadata": {
  "kernelspec": {
   "display_name": "venv",
   "language": "python",
   "name": "python3"
  },
  "language_info": {
   "codemirror_mode": {
    "name": "ipython",
    "version": 3
   },
   "file_extension": ".py",
   "mimetype": "text/x-python",
   "name": "python",
   "nbconvert_exporter": "python",
   "pygments_lexer": "ipython3",
   "version": "3.11.3"
  }
 },
 "nbformat": 4,
 "nbformat_minor": 5
}
