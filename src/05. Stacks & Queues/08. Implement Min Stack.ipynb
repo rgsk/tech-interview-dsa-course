{
 "cells": [
  {
   "cell_type": "code",
   "execution_count": 46,
   "id": "16ffe7af",
   "metadata": {},
   "outputs": [],
   "source": [
    "class MinStack:\n",
    "    def __init__(self):\n",
    "        self.A = []\n",
    "        self.M = []\n",
    "\n",
    "    def push(self, x):\n",
    "        self.A.append(x)\n",
    "        if len(self.M) == 0:\n",
    "            self.M.append(x)\n",
    "        else:\n",
    "            if x < self.M[-1]:\n",
    "                self.M.append(x)\n",
    "            else:\n",
    "                self.M.append(self.M[-1])\n",
    "\n",
    "    def pop(self):\n",
    "        self.A.pop()\n",
    "        self.M.pop()\n",
    "\n",
    "    def top(self):\n",
    "        return self.A[-1]\n",
    "\n",
    "    def getMin(self):\n",
    "        return self.M[-1]\n"
   ]
  },
  {
   "cell_type": "code",
   "execution_count": 47,
   "id": "abd69c60",
   "metadata": {},
   "outputs": [
    {
     "name": "stdout",
     "output_type": "stream",
     "text": [
      "-1 2 1 "
     ]
    }
   ],
   "source": [
    "minStack = MinStack()\n",
    "minStack.push(1)\n",
    "minStack.push(2)\n",
    "minStack.push(-1)\n",
    "print(minStack.getMin(), end=\" \")\n",
    "minStack.pop()\n",
    "print(minStack.top(), end = \" \")\n",
    "print(minStack.getMin(), end=\" \")"
   ]
  },
  {
   "cell_type": "code",
   "execution_count": null,
   "id": "5208fcf0",
   "metadata": {},
   "outputs": [],
   "source": []
  }
 ],
 "metadata": {
  "kernelspec": {
   "display_name": "venv",
   "language": "python",
   "name": "python3"
  },
  "language_info": {
   "codemirror_mode": {
    "name": "ipython",
    "version": 3
   },
   "file_extension": ".py",
   "mimetype": "text/x-python",
   "name": "python",
   "nbconvert_exporter": "python",
   "pygments_lexer": "ipython3",
   "version": "3.11.3"
  }
 },
 "nbformat": 4,
 "nbformat_minor": 5
}
