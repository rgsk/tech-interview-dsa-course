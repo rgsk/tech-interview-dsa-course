{
 "cells": [
  {
   "cell_type": "code",
   "execution_count": 1,
   "id": "90b6085a",
   "metadata": {},
   "outputs": [],
   "source": [
    "class Queue:\n",
    "\tdef __init__(self, capacity=0):\n",
    "\t\tself.arr = [0 for _ in range(capacity)]\n",
    "\t\tself.l = 0\n",
    "\t\tself.r = 0\n",
    "\n",
    "\tdef isEmpty(self) -> bool:\n",
    "\t\treturn self.size() == 0\n",
    "\n",
    "\tdef size(self) -> int:\n",
    "\t\treturn self.r - self.l\n",
    "\n",
    "\tdef front(self) -> int:\n",
    "\t\tif self.isEmpty(): return -1\n",
    "\t\treturn self.arr[self.l]\n",
    "\n",
    "\tdef back(self) -> int:\n",
    "\t\tif self.isEmpty(): return -1\n",
    "\t\treturn self.arr[self.r - 1]\n",
    "\n",
    "\tdef push(self, element: int) -> None:\n",
    "\t\tself.arr[self.r] = element\n",
    "\t\tself.r += 1\n",
    "\n",
    "\tdef pop(self) -> None:\n",
    "\t\tself.l += 1"
   ]
  },
  {
   "cell_type": "code",
   "execution_count": 2,
   "id": "a034dea0",
   "metadata": {},
   "outputs": [
    {
     "name": "stdout",
     "output_type": "stream",
     "text": [
      "-1 -1 true 0\n",
      "5 5 false 1\n",
      "5 6 false 2\n",
      "5 7 false 3\n",
      "6 7 false 2\n",
      "7 7 false 1\n",
      "-1 -1 true 0\n"
     ]
    }
   ],
   "source": [
    "def main():\n",
    "    queue = Queue(10)\n",
    "\n",
    "    def print_state():\n",
    "        print(queue.front(), queue.back(), str(queue.isEmpty()).lower(), queue.size())\n",
    "\n",
    "    print_state()  # Initially empty\n",
    "\n",
    "    queue.push(5)\n",
    "    print_state()\n",
    "\n",
    "    queue.push(6)\n",
    "    print_state()\n",
    "\n",
    "    queue.push(7)\n",
    "    print_state()\n",
    "\n",
    "    queue.pop()\n",
    "    print_state()\n",
    "\n",
    "    queue.pop()\n",
    "    print_state()\n",
    "\n",
    "    queue.pop()\n",
    "    print_state()\n",
    "\n",
    "main()"
   ]
  }
 ],
 "metadata": {
  "kernelspec": {
   "display_name": "venv",
   "language": "python",
   "name": "python3"
  },
  "language_info": {
   "codemirror_mode": {
    "name": "ipython",
    "version": 3
   },
   "file_extension": ".py",
   "mimetype": "text/x-python",
   "name": "python",
   "nbconvert_exporter": "python",
   "pygments_lexer": "ipython3",
   "version": "3.11.3"
  }
 },
 "nbformat": 4,
 "nbformat_minor": 5
}
