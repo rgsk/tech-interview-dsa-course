{
 "cells": [
  {
   "cell_type": "code",
   "execution_count": 4,
   "id": "e2650a98",
   "metadata": {},
   "outputs": [],
   "source": [
    "from typing import List\n",
    "\n",
    "class Solution:\n",
    "    def volumeOfTrappedRainWater(self, heights: List[int]) -> int:\n",
    "        n = len(heights)\n",
    "        ans = 0\n",
    "        maxOnRights = [v for v in heights]\n",
    "        maxOnLefts = [v for v in heights]\n",
    "\n",
    "        for i in range(1, n):\n",
    "            maxOnLefts[i] = max(maxOnLefts[i-1], maxOnLefts[i])\n",
    "        for i in range(n-2, -1, -1):\n",
    "            maxOnRights[i] = max(maxOnRights[i+1], maxOnRights[i])\n",
    "\n",
    "        for i in range(n):\n",
    "            minOfLeftAndRight = min(maxOnLefts[i], maxOnRights[i])\n",
    "            waterForThisBlock = minOfLeftAndRight - heights[i]\n",
    "            ans += waterForThisBlock\n",
    "\n",
    "        return ans"
   ]
  },
  {
   "cell_type": "code",
   "execution_count": 5,
   "id": "b345a6c7",
   "metadata": {},
   "outputs": [
    {
     "data": {
      "text/plain": [
       "2"
      ]
     },
     "execution_count": 5,
     "metadata": {},
     "output_type": "execute_result"
    }
   ],
   "source": [
    "heights = [1, 0, 0, 1, 0]\n",
    "sol = Solution()\n",
    "sol.volumeOfTrappedRainWater(heights)"
   ]
  },
  {
   "cell_type": "code",
   "execution_count": 6,
   "id": "1a4931c4",
   "metadata": {},
   "outputs": [
    {
     "data": {
      "text/plain": [
       "3"
      ]
     },
     "execution_count": 6,
     "metadata": {},
     "output_type": "execute_result"
    }
   ],
   "source": [
    "heights = [1, 0, 2, 0, 0, 1]\n",
    "sol = Solution()\n",
    "sol.volumeOfTrappedRainWater(heights)"
   ]
  },
  {
   "cell_type": "code",
   "execution_count": 7,
   "id": "914bd1a5",
   "metadata": {},
   "outputs": [],
   "source": [
    "class Solution:\n",
    "    def volumeOfTrappedRainWater(self, heights: List[int]) -> int:\n",
    "        l = 0\n",
    "        r = len(heights) - 1\n",
    "        lmax = 0\n",
    "        rmax = 0\n",
    "        water = 0\n",
    "        while l <= r:\n",
    "            lmax = max(lmax, heights[l])\n",
    "            rmax = max(rmax, heights[r])\n",
    "            if lmax < rmax:\n",
    "                water += lmax - heights[l]\n",
    "                l += 1\n",
    "            else:\n",
    "                water += rmax - heights[r]\n",
    "                r -= 1\n",
    "        return water"
   ]
  },
  {
   "cell_type": "code",
   "execution_count": 8,
   "id": "96a06e37",
   "metadata": {},
   "outputs": [
    {
     "data": {
      "text/plain": [
       "2"
      ]
     },
     "execution_count": 8,
     "metadata": {},
     "output_type": "execute_result"
    }
   ],
   "source": [
    "heights = [1, 0, 0, 1, 0]\n",
    "sol = Solution()\n",
    "sol.volumeOfTrappedRainWater(heights)"
   ]
  },
  {
   "cell_type": "code",
   "execution_count": 9,
   "id": "61dd77c6",
   "metadata": {},
   "outputs": [
    {
     "data": {
      "text/plain": [
       "3"
      ]
     },
     "execution_count": 9,
     "metadata": {},
     "output_type": "execute_result"
    }
   ],
   "source": [
    "heights = [1, 0, 2, 0, 0, 1]\n",
    "sol = Solution()\n",
    "sol.volumeOfTrappedRainWater(heights)"
   ]
  }
 ],
 "metadata": {
  "kernelspec": {
   "display_name": "venv",
   "language": "python",
   "name": "python3"
  },
  "language_info": {
   "codemirror_mode": {
    "name": "ipython",
    "version": 3
   },
   "file_extension": ".py",
   "mimetype": "text/x-python",
   "name": "python",
   "nbconvert_exporter": "python",
   "pygments_lexer": "ipython3",
   "version": "3.11.3"
  }
 },
 "nbformat": 4,
 "nbformat_minor": 5
}
