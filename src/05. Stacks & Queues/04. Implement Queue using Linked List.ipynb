{
 "cells": [
  {
   "cell_type": "code",
   "execution_count": 1,
   "id": "e074cd09",
   "metadata": {},
   "outputs": [],
   "source": [
    "class ListNode:\n",
    "\tdef __init__(self, data=0, next=None):\n",
    "\t\tself.data = data\n",
    "\t\tself.next = next\n",
    "\n",
    "\n",
    "class Queue:\n",
    "\tdef __init__(self, capacity=0):\n",
    "\t\tself.count = 0\n",
    "\t\tself.start = None\n",
    "\t\tself.end = None\n",
    "\n",
    "\tdef isEmpty(self) -> bool:\n",
    "\t\treturn self.count == 0\n",
    "\n",
    "\tdef size(self) -> int:\n",
    "\t\treturn self.count\n",
    "\n",
    "\tdef front(self) -> int:\n",
    "\t\tif self.isEmpty():\n",
    "\t\t\treturn -1\n",
    "\t\treturn self.start.data\n",
    "\n",
    "\tdef back(self) -> int:\n",
    "\t\tif self.isEmpty():\n",
    "\t\t\treturn -1\n",
    "\t\treturn self.end.data\n",
    "\n",
    "\tdef push(self, element: int) -> None:\n",
    "\t\tnode = ListNode(element)\n",
    "\t\tif self.start:\n",
    "\t\t\tself.end.next = node\n",
    "\t\t\tself.end = node\n",
    "\t\telse:\n",
    "\t\t\tself.start = self.end = node\n",
    "\t\tself.count += 1\n",
    "\n",
    "\tdef pop(self) -> None:\n",
    "\t\tself.start = self.start.next\n",
    "\t\tself.count -= 1"
   ]
  },
  {
   "cell_type": "code",
   "execution_count": 2,
   "id": "1b8bf523",
   "metadata": {},
   "outputs": [
    {
     "name": "stdout",
     "output_type": "stream",
     "text": [
      "-1 -1 true 0\n",
      "5 5 false 1\n",
      "5 6 false 2\n",
      "5 7 false 3\n",
      "6 7 false 2\n",
      "7 7 false 1\n",
      "-1 -1 true 0\n"
     ]
    }
   ],
   "source": [
    "def main():\n",
    "    queue = Queue(10)\n",
    "\n",
    "    def print_state():\n",
    "        print(queue.front(), queue.back(), str(queue.isEmpty()).lower(), queue.size())\n",
    "\n",
    "    print_state()  # Initially empty\n",
    "\n",
    "    queue.push(5)\n",
    "    print_state()\n",
    "\n",
    "    queue.push(6)\n",
    "    print_state()\n",
    "\n",
    "    queue.push(7)\n",
    "    print_state()\n",
    "\n",
    "    queue.pop()\n",
    "    print_state()\n",
    "\n",
    "    queue.pop()\n",
    "    print_state()\n",
    "\n",
    "    queue.pop()\n",
    "    print_state()\n",
    "\n",
    "main()"
   ]
  }
 ],
 "metadata": {
  "kernelspec": {
   "display_name": "venv",
   "language": "python",
   "name": "python3"
  },
  "language_info": {
   "codemirror_mode": {
    "name": "ipython",
    "version": 3
   },
   "file_extension": ".py",
   "mimetype": "text/x-python",
   "name": "python",
   "nbconvert_exporter": "python",
   "pygments_lexer": "ipython3",
   "version": "3.11.3"
  }
 },
 "nbformat": 4,
 "nbformat_minor": 5
}
