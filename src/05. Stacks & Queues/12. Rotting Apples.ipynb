{
 "cells": [
  {
   "cell_type": "code",
   "execution_count": 1,
   "id": "35787601",
   "metadata": {},
   "outputs": [],
   "source": [
    "from typing import List\n",
    "from collections import deque\n",
    "\n",
    "class Solution:\n",
    "    def getDaysToRot(self, grid: List[List[int]]) -> int:\n",
    "        rows, cols = len(grid), len(grid[0])\n",
    "        \n",
    "        def isValid(i, j):\n",
    "            return 0 <= i < rows and 0 <= j < cols and grid[i][j] == 1\n",
    "        \n",
    "        q = deque()\n",
    "        \n",
    "        for i in range(rows):\n",
    "            for j in range(cols):\n",
    "                if grid[i][j] == 2:\n",
    "                    q.append((i, j))\n",
    "        \n",
    "        levels = 0\n",
    "        directions = [(1, 0), (-1, 0), (0, 1), (0, -1)]\n",
    "        \n",
    "        while q:\n",
    "            length = len(q)\n",
    "            for _ in range(length):\n",
    "                r, c = q.popleft()\n",
    "                for dr, dc in directions:\n",
    "                    nr, nc = r + dr, c + dc\n",
    "                    if isValid(nr, nc):\n",
    "                        grid[nr][nc] = 2\n",
    "                        q.append((nr, nc))\n",
    "            if q:\n",
    "                levels += 1\n",
    "        \n",
    "        for row in grid:\n",
    "            if 1 in row:\n",
    "                return -1\n",
    "        \n",
    "        return levels"
   ]
  },
  {
   "cell_type": "code",
   "execution_count": 2,
   "id": "387eefeb",
   "metadata": {},
   "outputs": [
    {
     "data": {
      "text/plain": [
       "4"
      ]
     },
     "execution_count": 2,
     "metadata": {},
     "output_type": "execute_result"
    }
   ],
   "source": [
    "grid = [\n",
    "    [2, 1, 0],\n",
    "    [1, 1, 0],\n",
    "    [0, 1, 1]\n",
    "]\n",
    "sol = Solution()\n",
    "sol.getDaysToRot(grid)"
   ]
  },
  {
   "cell_type": "code",
   "execution_count": 3,
   "id": "761e1d86",
   "metadata": {},
   "outputs": [
    {
     "data": {
      "text/plain": [
       "-1"
      ]
     },
     "execution_count": 3,
     "metadata": {},
     "output_type": "execute_result"
    }
   ],
   "source": [
    "grid = [\n",
    "    [2, 1, 1],\n",
    "    [1, 1, 0],\n",
    "    [1, 0, 1]\n",
    "]\n",
    "sol = Solution()\n",
    "sol.getDaysToRot(grid)"
   ]
  }
 ],
 "metadata": {
  "kernelspec": {
   "display_name": "venv",
   "language": "python",
   "name": "python3"
  },
  "language_info": {
   "codemirror_mode": {
    "name": "ipython",
    "version": 3
   },
   "file_extension": ".py",
   "mimetype": "text/x-python",
   "name": "python",
   "nbconvert_exporter": "python",
   "pygments_lexer": "ipython3",
   "version": "3.11.3"
  }
 },
 "nbformat": 4,
 "nbformat_minor": 5
}
