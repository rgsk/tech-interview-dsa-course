{
 "cells": [
  {
   "cell_type": "code",
   "execution_count": 1,
   "id": "717297f5",
   "metadata": {},
   "outputs": [],
   "source": [
    "class Solution:\n",
    "    def simplifyPath(self, path: str) -> str:\n",
    "        # add your logic here\n",
    "        stack = []\n",
    "        paths = path.split('/')\n",
    "        for v in paths:\n",
    "            if v:\n",
    "                if v == '.':\n",
    "                    continue\n",
    "                elif v == '..':\n",
    "                    if stack:\n",
    "                        stack.pop()\n",
    "                else:\n",
    "                    stack.append(v)\n",
    "        return \"/\" + \"/\".join(stack)\n"
   ]
  },
  {
   "cell_type": "code",
   "execution_count": 2,
   "id": "323abd66",
   "metadata": {},
   "outputs": [],
   "source": [
    "sol = Solution()"
   ]
  },
  {
   "cell_type": "code",
   "execution_count": 3,
   "id": "46c195cb",
   "metadata": {},
   "outputs": [
    {
     "data": {
      "text/plain": [
       "'/home'"
      ]
     },
     "execution_count": 3,
     "metadata": {},
     "output_type": "execute_result"
    }
   ],
   "source": [
    "path = \"/home/\"\n",
    "sol.simplifyPath(path)"
   ]
  },
  {
   "cell_type": "code",
   "execution_count": 4,
   "id": "b7386b65",
   "metadata": {},
   "outputs": [
    {
     "data": {
      "text/plain": [
       "'/'"
      ]
     },
     "execution_count": 4,
     "metadata": {},
     "output_type": "execute_result"
    }
   ],
   "source": [
    "path = \"/../\"\n",
    "sol.simplifyPath(path)"
   ]
  },
  {
   "cell_type": "code",
   "execution_count": 5,
   "id": "0ea04170",
   "metadata": {},
   "outputs": [
    {
     "data": {
      "text/plain": [
       "'/d'"
      ]
     },
     "execution_count": 5,
     "metadata": {},
     "output_type": "execute_result"
    }
   ],
   "source": [
    "path = \"/a/./b/../../c/../d/\"\n",
    "sol.simplifyPath(path)"
   ]
  }
 ],
 "metadata": {
  "kernelspec": {
   "display_name": "venv",
   "language": "python",
   "name": "python3"
  },
  "language_info": {
   "codemirror_mode": {
    "name": "ipython",
    "version": 3
   },
   "file_extension": ".py",
   "mimetype": "text/x-python",
   "name": "python",
   "nbconvert_exporter": "python",
   "pygments_lexer": "ipython3",
   "version": "3.11.3"
  }
 },
 "nbformat": 4,
 "nbformat_minor": 5
}
