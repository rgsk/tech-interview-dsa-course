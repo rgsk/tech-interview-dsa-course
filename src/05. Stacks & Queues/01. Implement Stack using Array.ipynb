{
 "cells": [
  {
   "cell_type": "code",
   "execution_count": 3,
   "id": "a7884311",
   "metadata": {},
   "outputs": [],
   "source": [
    "class Stack:\n",
    "\tdef __init__(self, capacity=0):\n",
    "\t\tself.arr = [0 for _ in range(capacity)]\n",
    "\t\tself.i = -1\n",
    "\n",
    "\tdef isEmpty(self) -> bool:\n",
    "\t\treturn self.i == -1\n",
    "\n",
    "\tdef size(self) -> int:\n",
    "\t\treturn self.i + 1\n",
    "\n",
    "\tdef top(self) -> int:\n",
    "\t\tif self.isEmpty():\n",
    "\t\t\treturn -1\n",
    "\t\treturn self.arr[self.i]\n",
    "\n",
    "\tdef push(self, element: int) -> None:\n",
    "\t\tself.i += 1\n",
    "\t\tself.arr[self.i] = element\n",
    "\n",
    "\tdef pop(self) -> None:\n",
    "\t\tself.i -= 1"
   ]
  },
  {
   "cell_type": "code",
   "execution_count": 4,
   "id": "aac64800",
   "metadata": {},
   "outputs": [
    {
     "name": "stdout",
     "output_type": "stream",
     "text": [
      "-1 True 0\n",
      "5 False 1\n",
      "6 False 2\n",
      "7 False 3\n",
      "6 False 2\n",
      "5 False 1\n",
      "-1 True 0\n"
     ]
    }
   ],
   "source": [
    "def main():\n",
    "    stack = Stack(10)\n",
    "\n",
    "    print(stack.top(), stack.isEmpty(), stack.size())\n",
    "\n",
    "    stack.push(5)\n",
    "    print(stack.top(), stack.isEmpty(), stack.size())\n",
    "\n",
    "    stack.push(6)\n",
    "    print(stack.top(), stack.isEmpty(), stack.size())\n",
    "\n",
    "    stack.push(7)\n",
    "    print(stack.top(), stack.isEmpty(), stack.size())\n",
    "\n",
    "    stack.pop()\n",
    "    print(stack.top(), stack.isEmpty(), stack.size())\n",
    "\n",
    "    stack.pop()\n",
    "    print(stack.top(), stack.isEmpty(), stack.size())\n",
    "\n",
    "    stack.pop()\n",
    "    print(stack.top(), stack.isEmpty(), stack.size())\n",
    "\n",
    "main()"
   ]
  }
 ],
 "metadata": {
  "kernelspec": {
   "display_name": "venv",
   "language": "python",
   "name": "python3"
  },
  "language_info": {
   "codemirror_mode": {
    "name": "ipython",
    "version": 3
   },
   "file_extension": ".py",
   "mimetype": "text/x-python",
   "name": "python",
   "nbconvert_exporter": "python",
   "pygments_lexer": "ipython3",
   "version": "3.11.3"
  }
 },
 "nbformat": 4,
 "nbformat_minor": 5
}
