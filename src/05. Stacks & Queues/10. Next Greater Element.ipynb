{
 "cells": [
  {
   "cell_type": "code",
   "execution_count": 1,
   "id": "acc18583",
   "metadata": {},
   "outputs": [],
   "source": [
    "from typing import List\n",
    "\n",
    "class Solution:\n",
    "    def getNextGreaterElement(self, A: List[int]) -> List[int]:\n",
    "        n = len(A)\n",
    "        res = [-1] * n\n",
    "        stack = []\n",
    "\n",
    "        for i in range(n - 1, -1, -1):\n",
    "            while stack and A[i] >= stack[-1]:\n",
    "                stack.pop()\n",
    "            if stack:\n",
    "                res[i] = stack[-1]\n",
    "            stack.append(A[i])\n",
    "\n",
    "        return res"
   ]
  },
  {
   "cell_type": "code",
   "execution_count": 2,
   "id": "c44221a7",
   "metadata": {},
   "outputs": [
    {
     "data": {
      "text/plain": [
       "[5, -1, 3, 5, -1]"
      ]
     },
     "execution_count": 2,
     "metadata": {},
     "output_type": "execute_result"
    }
   ],
   "source": [
    "A = [1, 5, 2, 3, 5]\n",
    "sol = Solution()\n",
    "sol.getNextGreaterElement(A)"
   ]
  }
 ],
 "metadata": {
  "kernelspec": {
   "display_name": "venv",
   "language": "python",
   "name": "python3"
  },
  "language_info": {
   "codemirror_mode": {
    "name": "ipython",
    "version": 3
   },
   "file_extension": ".py",
   "mimetype": "text/x-python",
   "name": "python",
   "nbconvert_exporter": "python",
   "pygments_lexer": "ipython3",
   "version": "3.11.3"
  }
 },
 "nbformat": 4,
 "nbformat_minor": 5
}
