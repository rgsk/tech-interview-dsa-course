{
 "cells": [
  {
   "cell_type": "code",
   "execution_count": 11,
   "id": "752d630c",
   "metadata": {},
   "outputs": [],
   "source": [
    "from typing import List"
   ]
  },
  {
   "cell_type": "code",
   "execution_count": 12,
   "id": "b094e493",
   "metadata": {},
   "outputs": [],
   "source": [
    "class Solution:\n",
    "\tdef rotateMatrix(self, matrix: List[List[int]]) -> List[List[int]]:\n",
    "\t\t# 2 steps\n",
    "\t\t# take transpose\n",
    "\t\t# reverse each row\n",
    "\t\trows = len(matrix)\n",
    "\t\tcols = len(matrix[0])\n",
    "\t\tresult_rows = cols\n",
    "\t\tresult_cols = rows\n",
    "\t\tresult = [[0 for _ in range(result_cols)] for _ in range(result_rows)]\n",
    "\t\tfor i in range(rows):\n",
    "\t\t\tfor j in range(cols):\n",
    "\t\t\t\tresult[j][i] = matrix[i][j]\n",
    "\n",
    "\t\tfor i in range(result_rows):\n",
    "\t\t\tfor j in range(result_cols//2):\n",
    "\t\t\t\tresult[i][j], result[i][result_cols - 1 - j] = \\\n",
    "\t\t\t\t\tresult[i][result_cols - 1 - j], result[i][j]\n",
    "\t\treturn result"
   ]
  },
  {
   "cell_type": "code",
   "execution_count": 13,
   "id": "d8b9ede4",
   "metadata": {},
   "outputs": [],
   "source": [
    "sol = Solution()\n",
    "def print_rows(matrix):\n",
    "    for row in matrix:\n",
    "        print(row)"
   ]
  },
  {
   "cell_type": "code",
   "execution_count": 14,
   "id": "515161c2",
   "metadata": {},
   "outputs": [
    {
     "name": "stdout",
     "output_type": "stream",
     "text": [
      "[7, 4, 1]\n",
      "[8, 5, 2]\n",
      "[9, 6, 3]\n"
     ]
    }
   ],
   "source": [
    "matrix = [\n",
    "    [1, 2, 3],\n",
    "    [4, 5, 6],\n",
    "    [7, 8, 9]\n",
    "]\n",
    "result = sol.rotateMatrix(matrix)\n",
    "print_rows(result)"
   ]
  },
  {
   "cell_type": "code",
   "execution_count": 15,
   "id": "2ac1ed3a",
   "metadata": {},
   "outputs": [
    {
     "name": "stdout",
     "output_type": "stream",
     "text": [
      "[5, 3, 1]\n",
      "[6, 4, 2]\n"
     ]
    }
   ],
   "source": [
    "matrix = [\n",
    "    [1, 2],\n",
    "    [3, 4],\n",
    "    [5, 6]\n",
    "]\n",
    "result = sol.rotateMatrix(matrix)\n",
    "print_rows(result)"
   ]
  }
 ],
 "metadata": {
  "kernelspec": {
   "display_name": "venv",
   "language": "python",
   "name": "python3"
  },
  "language_info": {
   "codemirror_mode": {
    "name": "ipython",
    "version": 3
   },
   "file_extension": ".py",
   "mimetype": "text/x-python",
   "name": "python",
   "nbconvert_exporter": "python",
   "pygments_lexer": "ipython3",
   "version": "3.11.3"
  }
 },
 "nbformat": 4,
 "nbformat_minor": 5
}
