{
 "cells": [
  {
   "cell_type": "code",
   "execution_count": 4,
   "id": "dffb8f03",
   "metadata": {},
   "outputs": [],
   "source": [
    "from typing import List"
   ]
  },
  {
   "cell_type": "code",
   "execution_count": 5,
   "id": "5735fe93",
   "metadata": {},
   "outputs": [],
   "source": [
    "class Solution:\n",
    "\tdef mergeIntervals(self, intervals: List[List[int]]) -> List[List[int]]:\n",
    "\t\tintervals.sort(key=lambda x: x[0])\n",
    "\t\tresult = [intervals[0]]\n",
    "\t\tfor i in range(1, len(intervals)):\n",
    "\t\t\tif intervals[i][0] <= result[-1][1]:\n",
    "\t\t\t\tresult[-1][1] = max(result[-1][1], intervals[i][1])\n",
    "\t\t\telse:\n",
    "\t\t\t\tresult.append(intervals[i])\n",
    "\t\treturn result"
   ]
  },
  {
   "cell_type": "code",
   "execution_count": 6,
   "id": "e5b601ca",
   "metadata": {},
   "outputs": [
    {
     "data": {
      "text/plain": [
       "[[1, 4], [5, 6]]"
      ]
     },
     "execution_count": 6,
     "metadata": {},
     "output_type": "execute_result"
    }
   ],
   "source": [
    "intervals = [[1, 2], [2, 3], [1, 4], [5, 6]]\n",
    "sol = Solution()\n",
    "sol.mergeIntervals(intervals)"
   ]
  }
 ],
 "metadata": {
  "kernelspec": {
   "display_name": "venv",
   "language": "python",
   "name": "python3"
  },
  "language_info": {
   "codemirror_mode": {
    "name": "ipython",
    "version": 3
   },
   "file_extension": ".py",
   "mimetype": "text/x-python",
   "name": "python",
   "nbconvert_exporter": "python",
   "pygments_lexer": "ipython3",
   "version": "3.11.3"
  }
 },
 "nbformat": 4,
 "nbformat_minor": 5
}
