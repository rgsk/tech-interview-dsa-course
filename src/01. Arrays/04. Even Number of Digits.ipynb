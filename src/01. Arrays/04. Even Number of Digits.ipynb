{
 "cells": [
  {
   "cell_type": "code",
   "execution_count": 50,
   "id": "8ffa21de",
   "metadata": {},
   "outputs": [],
   "source": [
    "from typing import List, Optional"
   ]
  },
  {
   "cell_type": "code",
   "execution_count": 51,
   "id": "6178b404",
   "metadata": {},
   "outputs": [],
   "source": [
    "class Solution:\n",
    "    def getEvenDigitNumbers(self, arr: List[int]) -> Optional[List[int]]:\n",
    "        result = []\n",
    "        for v in arr:\n",
    "            digits_count = len(str(v))\n",
    "            if digits_count % 2 == 0:\n",
    "                result.append(v)\n",
    "        return result"
   ]
  },
  {
   "cell_type": "code",
   "execution_count": 52,
   "id": "4a19902b",
   "metadata": {},
   "outputs": [
    {
     "data": {
      "text/plain": [
       "[42, 5775, 34, 45, 3556]"
      ]
     },
     "execution_count": 52,
     "metadata": {},
     "output_type": "execute_result"
    }
   ],
   "source": [
    "arr = [42, 564, 5775, 34, 123, 454, 1, 5, 45, 3556, 23442]\n",
    "sol = Solution()\n",
    "sol.getEvenDigitNumbers(arr)"
   ]
  },
  {
   "cell_type": "code",
   "execution_count": 53,
   "id": "5457e8e6",
   "metadata": {},
   "outputs": [],
   "source": [
    "def get_digits_count(v: int):\n",
    "    if v == 0: # [1]\n",
    "        return 1\n",
    "    count = 0\n",
    "    while v > 0:\n",
    "        v //= 10\n",
    "        count += 1\n",
    "    return count\n",
    "\n",
    "class Solution:\n",
    "    def getEvenDigitNumbers(self, arr: List[int]) -> Optional[List[int]]:\n",
    "        result = []\n",
    "        for v in arr:\n",
    "            digits_count = get_digits_count(v)\n",
    "            if digits_count % 2 == 0:\n",
    "                result.append(v)\n",
    "        return result"
   ]
  },
  {
   "cell_type": "markdown",
   "id": "aa4a6ec2",
   "metadata": {},
   "source": [
    "[1]: 0 has 1 digit, the function would return 0 in the absence of that condition."
   ]
  },
  {
   "cell_type": "code",
   "execution_count": 54,
   "id": "237cfb8b",
   "metadata": {},
   "outputs": [
    {
     "data": {
      "text/plain": [
       "[42, 5775, 34, 45, 3556]"
      ]
     },
     "execution_count": 54,
     "metadata": {},
     "output_type": "execute_result"
    }
   ],
   "source": [
    "arr = [42, 564, 5775, 34, 123, 454, 1, 5, 45, 3556, 23442]\n",
    "sol = Solution()\n",
    "sol.getEvenDigitNumbers(arr)"
   ]
  },
  {
   "cell_type": "code",
   "execution_count": 55,
   "id": "a98dbc96",
   "metadata": {},
   "outputs": [
    {
     "data": {
      "text/plain": [
       "[23, 44]"
      ]
     },
     "execution_count": 55,
     "metadata": {},
     "output_type": "execute_result"
    }
   ],
   "source": [
    "arr = [0, 0, 23, 44] # important test case, 0s shouldn't be part of the output\n",
    "sol = Solution()\n",
    "sol.getEvenDigitNumbers(arr)"
   ]
  }
 ],
 "metadata": {
  "kernelspec": {
   "display_name": "venv",
   "language": "python",
   "name": "python3"
  },
  "language_info": {
   "codemirror_mode": {
    "name": "ipython",
    "version": 3
   },
   "file_extension": ".py",
   "mimetype": "text/x-python",
   "name": "python",
   "nbconvert_exporter": "python",
   "pygments_lexer": "ipython3",
   "version": "3.11.3"
  }
 },
 "nbformat": 4,
 "nbformat_minor": 5
}
