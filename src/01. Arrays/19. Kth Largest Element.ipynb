{
 "cells": [
  {
   "cell_type": "code",
   "execution_count": 4,
   "id": "4df8ffce",
   "metadata": {},
   "outputs": [],
   "source": [
    "from typing import List"
   ]
  },
  {
   "cell_type": "code",
   "execution_count": 5,
   "id": "0c8a314d",
   "metadata": {},
   "outputs": [],
   "source": [
    "def partition(arr: List[int], start: int, end: int):\n",
    "\tpivot = arr[end]\n",
    "\ti = start\n",
    "\tfor j in range(start, end):\n",
    "\t\tif arr[j] < pivot:\n",
    "\t\t\tarr[i], arr[j] = arr[j], arr[i]\n",
    "\t\t\ti += 1\n",
    "\n",
    "\tarr[i], arr[end] = arr[end], arr[i]\n",
    "\treturn i\n",
    "\n",
    "def quick_sort(arr: List[int], start: int, end: int, ind: int):\n",
    "    if start == end:\n",
    "        return arr[start]\n",
    "    pivot_index = partition(arr, start, end)\n",
    "    if pivot_index == ind:\n",
    "        return arr[pivot_index]\n",
    "    elif ind > pivot_index:\n",
    "        return quick_sort(arr, pivot_index + 1, end, ind)\n",
    "    else:\n",
    "        return quick_sort(arr, start, pivot_index - 1, ind)\n",
    "\n",
    "\n",
    "\n",
    "class Solution:\n",
    "    def getKthSmallestElement(self, arr: List[int], k: int) -> int:\n",
    "        return quick_sort(arr, 0, len(arr) - 1, k - 1)\n",
    "    def getKthLargestElement(self, arr: List[int], k: int) -> int:\n",
    "        return self.getKthSmallestElement(arr, len(arr) - k + 1)"
   ]
  },
  {
   "cell_type": "code",
   "execution_count": 6,
   "id": "74a3f793",
   "metadata": {},
   "outputs": [
    {
     "data": {
      "text/plain": [
       "4"
      ]
     },
     "execution_count": 6,
     "metadata": {},
     "output_type": "execute_result"
    }
   ],
   "source": [
    "arr = [4, 3, 6, 4, 1]\n",
    "k = 3\n",
    "sol = Solution()\n",
    "sol.getKthLargestElement(arr, k)"
   ]
  }
 ],
 "metadata": {
  "kernelspec": {
   "display_name": "venv",
   "language": "python",
   "name": "python3"
  },
  "language_info": {
   "codemirror_mode": {
    "name": "ipython",
    "version": 3
   },
   "file_extension": ".py",
   "mimetype": "text/x-python",
   "name": "python",
   "nbconvert_exporter": "python",
   "pygments_lexer": "ipython3",
   "version": "3.11.3"
  }
 },
 "nbformat": 4,
 "nbformat_minor": 5
}
