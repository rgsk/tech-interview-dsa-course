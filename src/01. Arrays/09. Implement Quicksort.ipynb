{
 "cells": [
  {
   "cell_type": "code",
   "execution_count": 22,
   "id": "d595ee3e",
   "metadata": {},
   "outputs": [],
   "source": [
    "from typing import List"
   ]
  },
  {
   "cell_type": "code",
   "execution_count": 23,
   "id": "5b865074",
   "metadata": {},
   "outputs": [],
   "source": [
    "def partition(arr: List[int], start: int, end: int):\n",
    "\tpivot = arr[end]\n",
    "\ti = start\n",
    "\tfor j in range(start, end):\n",
    "\t\tif arr[j] < pivot:\n",
    "\t\t\tarr[i], arr[j] = arr[j], arr[i]\n",
    "\t\t\ti += 1\n",
    "\n",
    "\tarr[i], arr[end] = arr[end], arr[i]\n",
    "\treturn i\n",
    "\n",
    "def quick_sort(arr: List[int], start: int, end: int):\n",
    "\tif start < end:\n",
    "\t\tpivot_index = partition(arr, start, end)\n",
    "\t\tquick_sort(arr, start, pivot_index - 1)\n",
    "\t\tquick_sort(arr, pivot_index + 1, end)\n",
    "\n",
    "class Solution:\n",
    "\tdef quickSort(self, arr: List[int]) -> List[int]:\n",
    "\t\tquick_sort(arr, 0, len(arr) - 1)\n",
    "\t\treturn arr"
   ]
  },
  {
   "cell_type": "code",
   "execution_count": 24,
   "id": "448bf1cd",
   "metadata": {},
   "outputs": [
    {
     "data": {
      "text/plain": [
       "[1, 2, 3, 3, 4, 4, 5, 5, 11, 200]"
      ]
     },
     "execution_count": 24,
     "metadata": {},
     "output_type": "execute_result"
    }
   ],
   "source": [
    "arr = [\n",
    "    5, 4, 2, 5, 3, 1,\n",
    "    3, 11, 4, 200\n",
    "]\n",
    "sol = Solution()\n",
    "sol.quickSort(arr)"
   ]
  }
 ],
 "metadata": {
  "kernelspec": {
   "display_name": "venv",
   "language": "python",
   "name": "python3"
  },
  "language_info": {
   "codemirror_mode": {
    "name": "ipython",
    "version": 3
   },
   "file_extension": ".py",
   "mimetype": "text/x-python",
   "name": "python",
   "nbconvert_exporter": "python",
   "pygments_lexer": "ipython3",
   "version": "3.11.3"
  }
 },
 "nbformat": 4,
 "nbformat_minor": 5
}
