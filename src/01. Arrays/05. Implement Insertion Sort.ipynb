{
 "cells": [
  {
   "cell_type": "code",
   "execution_count": 1,
   "id": "513f9cff",
   "metadata": {},
   "outputs": [],
   "source": [
    "from typing import List"
   ]
  },
  {
   "cell_type": "code",
   "execution_count": 2,
   "id": "8367a8a8",
   "metadata": {},
   "outputs": [],
   "source": [
    "class Solution:\n",
    "\tdef insertionSort(self, arr: List[int]) -> List[int]:\n",
    "\t\tn = len(arr)\n",
    "\t\tfor i in range(1, n):\n",
    "\t\t\tkey = arr[i]\n",
    "\t\t\tj = i - 1\n",
    "\t\t\twhile j >= 0 and arr[j] > key:\n",
    "\t\t\t\tarr[j + 1] = arr[j]\n",
    "\t\t\t\tj -= 1\n",
    "\t\t\tarr[j + 1] = key\n",
    "\t\treturn arr"
   ]
  },
  {
   "cell_type": "code",
   "execution_count": 3,
   "id": "f86e6f6b",
   "metadata": {},
   "outputs": [
    {
     "data": {
      "text/plain": [
       "[1, 2, 3, 3, 4, 4, 5, 5, 11, 200]"
      ]
     },
     "execution_count": 3,
     "metadata": {},
     "output_type": "execute_result"
    }
   ],
   "source": [
    "arr = [\n",
    "    5, 4, 2, 5, 3, 1,\n",
    "    3, 11, 4, 200\n",
    "]\n",
    "sol = Solution()\n",
    "sol.insertionSort(arr)"
   ]
  }
 ],
 "metadata": {
  "kernelspec": {
   "display_name": "venv (3.11.3)",
   "language": "python",
   "name": "python3"
  },
  "language_info": {
   "codemirror_mode": {
    "name": "ipython",
    "version": 3
   },
   "file_extension": ".py",
   "mimetype": "text/x-python",
   "name": "python",
   "nbconvert_exporter": "python",
   "pygments_lexer": "ipython3",
   "version": "3.11.3"
  }
 },
 "nbformat": 4,
 "nbformat_minor": 5
}
