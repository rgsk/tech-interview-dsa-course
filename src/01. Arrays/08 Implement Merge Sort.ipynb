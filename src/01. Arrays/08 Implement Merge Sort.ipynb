{
 "cells": [
  {
   "cell_type": "code",
   "execution_count": 6,
   "id": "769a6b77",
   "metadata": {},
   "outputs": [],
   "source": [
    "from typing import List"
   ]
  },
  {
   "cell_type": "code",
   "execution_count": 7,
   "id": "19b7ca32",
   "metadata": {},
   "outputs": [],
   "source": [
    "def merge(arr: List[int], start: int, mid: int, end: int):\n",
    "    aux = [0 for _ in range(end - start + 1)]\n",
    "    i = start\n",
    "    j = mid + 1\n",
    "    k = 0\n",
    "    while i <= mid and j <= end:\n",
    "        if arr[i] < arr[j]:\n",
    "            aux[k] = arr[i]\n",
    "            k += 1\n",
    "            i += 1\n",
    "        else:\n",
    "            aux[k] = arr[j]\n",
    "            k += 1\n",
    "            j += 1\n",
    "    while i <= mid:\n",
    "        aux[k] = arr[i]\n",
    "        k += 1\n",
    "        i += 1\n",
    "    while j <= end:\n",
    "        aux[k] = arr[j]\n",
    "        k += 1\n",
    "        j += 1\n",
    "    i = start\n",
    "    k = 0\n",
    "    while i <= end:\n",
    "        arr[i] = aux[k]\n",
    "        i += 1\n",
    "        k += 1\n",
    "\t\n",
    "\t\n",
    "\t\t\n",
    "def merge_sort(arr: List[int], start: int, end: int):\n",
    "\tif start < end:\n",
    "\t\tmid = (start + end) // 2\n",
    "\t\tmerge_sort(arr, start, mid)\n",
    "\t\tmerge_sort(arr, mid + 1, end)\n",
    "\t\tmerge(arr, start, mid, end)\n",
    "\t\t\n",
    "class Solution:\n",
    "    def mergeSort(self, arr: List[int]) -> List[int]:\n",
    "        merge_sort(arr, 0, len(arr) - 1)\n",
    "        return arr"
   ]
  },
  {
   "cell_type": "code",
   "execution_count": 8,
   "id": "4d14f17d",
   "metadata": {},
   "outputs": [
    {
     "data": {
      "text/plain": [
       "[1, 2, 3, 3, 4, 4, 5, 5, 11, 200]"
      ]
     },
     "execution_count": 8,
     "metadata": {},
     "output_type": "execute_result"
    }
   ],
   "source": [
    "arr = [\n",
    "    5, 4, 2, 5, 3, 1,\n",
    "    3, 11, 4, 200\n",
    "]\n",
    "sol = Solution()\n",
    "sol.mergeSort(arr)"
   ]
  },
  {
   "cell_type": "code",
   "execution_count": null,
   "id": "adbe35a5",
   "metadata": {},
   "outputs": [],
   "source": []
  }
 ],
 "metadata": {
  "kernelspec": {
   "display_name": "venv",
   "language": "python",
   "name": "python3"
  },
  "language_info": {
   "codemirror_mode": {
    "name": "ipython",
    "version": 3
   },
   "file_extension": ".py",
   "mimetype": "text/x-python",
   "name": "python",
   "nbconvert_exporter": "python",
   "pygments_lexer": "ipython3",
   "version": "3.11.3"
  }
 },
 "nbformat": 4,
 "nbformat_minor": 5
}
