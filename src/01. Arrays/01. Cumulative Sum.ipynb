{
 "cells": [
  {
   "cell_type": "code",
   "execution_count": 33,
   "id": "c02ec4d5",
   "metadata": {},
   "outputs": [],
   "source": [
    "from typing import List"
   ]
  },
  {
   "cell_type": "code",
   "execution_count": 34,
   "id": "1e45c3bc",
   "metadata": {},
   "outputs": [],
   "source": [
    "\n",
    "class Solution:\n",
    "    def getCumulativeSum(self, arr: List[int]) -> List[int]:\n",
    "        n = len(arr)\n",
    "        result = [0 for _ in range(n)]\n",
    "        for i in range(n):\n",
    "            prefix_sum = 0\n",
    "            for j in range(i + 1):\n",
    "                prefix_sum += arr[j]\n",
    "            result[i] = prefix_sum\n",
    "        return result"
   ]
  },
  {
   "cell_type": "code",
   "execution_count": 35,
   "id": "eec662b0",
   "metadata": {},
   "outputs": [],
   "source": [
    "sol = Solution()"
   ]
  },
  {
   "cell_type": "code",
   "execution_count": 36,
   "id": "52a6bb4a",
   "metadata": {},
   "outputs": [
    {
     "data": {
      "text/plain": [
       "[1, 3, 6, 10]"
      ]
     },
     "execution_count": 36,
     "metadata": {},
     "output_type": "execute_result"
    }
   ],
   "source": [
    "arr = [1, 2, 3, 4]\n",
    "sol.getCumulativeSum(arr)\n",
    "# hii"
   ]
  },
  {
   "cell_type": "code",
   "execution_count": 37,
   "id": "0c669ba8",
   "metadata": {},
   "outputs": [],
   "source": [
    "\n",
    "class Solution:\n",
    "    def getCumulativeSum(self, arr: List[int]) -> List[int]:\n",
    "        n = len(arr)\n",
    "        result = [0 for _ in range(n)]\n",
    "        cumulative_sum = 0\n",
    "        for i in range(n):\n",
    "            cumulative_sum += arr[i]\n",
    "            result[i] = cumulative_sum\n",
    "        return result"
   ]
  },
  {
   "cell_type": "code",
   "execution_count": 38,
   "id": "952ca656",
   "metadata": {},
   "outputs": [],
   "source": [
    "sol = Solution()"
   ]
  },
  {
   "cell_type": "code",
   "execution_count": 39,
   "id": "5bff5328",
   "metadata": {},
   "outputs": [
    {
     "data": {
      "text/plain": [
       "[1, 3, 6, 10]"
      ]
     },
     "execution_count": 39,
     "metadata": {},
     "output_type": "execute_result"
    }
   ],
   "source": [
    "arr = [1, 2, 3, 4]\n",
    "sol.getCumulativeSum(arr)"
   ]
  },
  {
   "cell_type": "code",
   "execution_count": 40,
   "id": "91cc09a4",
   "metadata": {},
   "outputs": [
    {
     "data": {
      "text/plain": [
       "[1, 2, 3, 4, 5]"
      ]
     },
     "execution_count": 40,
     "metadata": {},
     "output_type": "execute_result"
    }
   ],
   "source": [
    "arr = [1, 1, 1, 1, 1]\n",
    "sol.getCumulativeSum(arr)"
   ]
  },
  {
   "cell_type": "code",
   "execution_count": 41,
   "id": "8abf22a9",
   "metadata": {},
   "outputs": [
    {
     "data": {
      "text/plain": [
       "[1, 4, 9, 16, 25]"
      ]
     },
     "execution_count": 41,
     "metadata": {},
     "output_type": "execute_result"
    }
   ],
   "source": [
    "arr = [1, 3, 5, 7, 9]\n",
    "sol.getCumulativeSum(arr)"
   ]
  },
  {
   "cell_type": "code",
   "execution_count": 42,
   "id": "40e7cf14",
   "metadata": {},
   "outputs": [],
   "source": [
    "class Solution:\n",
    "    def getCumulativeSum(self, arr: List[int]) -> List[int]:\n",
    "        n = len(arr)\n",
    "        result = [0 for _ in range(n)]\n",
    "        result[0] = arr[0]\n",
    "        for i in range(1, n):\n",
    "            result[i] = result[i-1] + arr[i]\n",
    "        return result"
   ]
  },
  {
   "cell_type": "code",
   "execution_count": 43,
   "id": "9a915575",
   "metadata": {},
   "outputs": [],
   "source": [
    "sol = Solution()"
   ]
  },
  {
   "cell_type": "code",
   "execution_count": 44,
   "id": "091952d2",
   "metadata": {},
   "outputs": [
    {
     "data": {
      "text/plain": [
       "[1, 3, 6, 10]"
      ]
     },
     "execution_count": 44,
     "metadata": {},
     "output_type": "execute_result"
    }
   ],
   "source": [
    "arr = [1, 2, 3, 4]\n",
    "sol.getCumulativeSum(arr)"
   ]
  }
 ],
 "metadata": {
  "kernelspec": {
   "display_name": "venv (3.11.3)",
   "language": "python",
   "name": "python3"
  },
  "language_info": {
   "codemirror_mode": {
    "name": "ipython",
    "version": 3
   },
   "file_extension": ".py",
   "mimetype": "text/x-python",
   "name": "python",
   "nbconvert_exporter": "python",
   "pygments_lexer": "ipython3",
   "version": "3.11.3"
  }
 },
 "nbformat": 4,
 "nbformat_minor": 5
}
