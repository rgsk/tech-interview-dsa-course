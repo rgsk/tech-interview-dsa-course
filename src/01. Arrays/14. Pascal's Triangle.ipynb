{
 "cells": [
  {
   "cell_type": "code",
   "execution_count": 66,
   "id": "26b2b11a",
   "metadata": {},
   "outputs": [],
   "source": [
    "from typing import List"
   ]
  },
  {
   "cell_type": "code",
   "execution_count": 67,
   "id": "cf1124c8",
   "metadata": {},
   "outputs": [],
   "source": [
    "class Solution:\n",
    "\tdef pascalTriangleRow(self, rowNo: int) -> List[int]:\n",
    "\t\tresult = []\n",
    "\t\tresult.append(1)\n",
    "\t\tfor i in range(2, rowNo + 1):\n",
    "\t\t\tprev = result[:]\n",
    "\t\t\tfor j in range(1, len(prev)):\n",
    "\t\t\t\tresult[j] = prev[j - 1] + prev[j]\n",
    "\t\t\tresult.append(1)\n",
    "\t\treturn result"
   ]
  },
  {
   "cell_type": "code",
   "execution_count": 68,
   "id": "60ac9b4f",
   "metadata": {},
   "outputs": [
    {
     "data": {
      "text/plain": [
       "[1, 3, 3, 1]"
      ]
     },
     "execution_count": 68,
     "metadata": {},
     "output_type": "execute_result"
    }
   ],
   "source": [
    "rowNo = 4\n",
    "sol = Solution()\n",
    "sol.pascalTriangleRow(rowNo)"
   ]
  },
  {
   "cell_type": "code",
   "execution_count": 69,
   "id": "f8e2a84e",
   "metadata": {},
   "outputs": [
    {
     "data": {
      "text/plain": [
       "[1, 4, 6, 4, 1]"
      ]
     },
     "execution_count": 69,
     "metadata": {},
     "output_type": "execute_result"
    }
   ],
   "source": [
    "rowNo = 5\n",
    "sol = Solution()\n",
    "sol.pascalTriangleRow(rowNo)"
   ]
  },
  {
   "cell_type": "code",
   "execution_count": 70,
   "id": "a1bfd321",
   "metadata": {},
   "outputs": [
    {
     "data": {
      "text/plain": [
       "[1, 5, 10, 10, 5, 1]"
      ]
     },
     "execution_count": 70,
     "metadata": {},
     "output_type": "execute_result"
    }
   ],
   "source": [
    "rowNo = 6\n",
    "sol = Solution()\n",
    "sol.pascalTriangleRow(rowNo)"
   ]
  },
  {
   "cell_type": "code",
   "execution_count": 71,
   "id": "0cc3c11d",
   "metadata": {},
   "outputs": [],
   "source": [
    "class Solution:\n",
    "\tdef pascalTriangleRow(self, rowNo: int) -> List[int]:\n",
    "\t\tresult = []\n",
    "\t\tresult.append(1)\n",
    "\t\tfor i in range(2, rowNo + 1):\n",
    "\t\t\tprev = result[:]\n",
    "\t\t\tfor j in range(1, i - 1):\n",
    "\t\t\t\tresult[j] = prev[j - 1] + prev[j]\n",
    "\t\t\tresult.append(1)\n",
    "\t\treturn result"
   ]
  },
  {
   "cell_type": "code",
   "execution_count": 72,
   "id": "5093a3d0",
   "metadata": {},
   "outputs": [
    {
     "data": {
      "text/plain": [
       "[1, 3, 3, 1]"
      ]
     },
     "execution_count": 72,
     "metadata": {},
     "output_type": "execute_result"
    }
   ],
   "source": [
    "rowNo = 4\n",
    "sol = Solution()\n",
    "sol.pascalTriangleRow(rowNo)"
   ]
  },
  {
   "cell_type": "code",
   "execution_count": 73,
   "id": "d8d0e9e3",
   "metadata": {},
   "outputs": [],
   "source": [
    "class Solution:\n",
    "\tdef pascalTriangleRow(self, rowNo: int) -> List[int]:\n",
    "\t\tresult = []\n",
    "\t\tresult.append(1)\n",
    "\t\tfor i in range(2, rowNo + 1):\n",
    "\t\t\tfor j in range(i-2, 0, -1):\n",
    "\t\t\t\tresult[j] += result[j - 1]\n",
    "\t\t\tresult.append(1)\n",
    "\t\treturn result"
   ]
  },
  {
   "cell_type": "code",
   "execution_count": 74,
   "id": "c29aa4fa",
   "metadata": {},
   "outputs": [
    {
     "data": {
      "text/plain": [
       "[1, 3, 3, 1]"
      ]
     },
     "execution_count": 74,
     "metadata": {},
     "output_type": "execute_result"
    }
   ],
   "source": [
    "rowNo = 4\n",
    "sol = Solution()\n",
    "sol.pascalTriangleRow(rowNo)"
   ]
  },
  {
   "cell_type": "code",
   "execution_count": 75,
   "id": "b23b7d4b",
   "metadata": {},
   "outputs": [],
   "source": [
    "class Solution:\n",
    "    def pascalTriangleRow(self, rowNo: int) -> List[int]:\n",
    "        current_row = []\n",
    "        prev_row = []\n",
    "        current_row.append(1)\n",
    "        if rowNo == 1:\n",
    "            return current_row\n",
    "        prev_row = self.pascalTriangleRow(rowNo - 1)\n",
    "        for i in range(1, len(prev_row)):\n",
    "            current_row.append(prev_row[i-1] + prev_row[i])\n",
    "        current_row.append(1)\n",
    "        return current_row"
   ]
  },
  {
   "cell_type": "code",
   "execution_count": 76,
   "id": "6224b97a",
   "metadata": {},
   "outputs": [
    {
     "data": {
      "text/plain": [
       "[1, 3, 3, 1]"
      ]
     },
     "execution_count": 76,
     "metadata": {},
     "output_type": "execute_result"
    }
   ],
   "source": [
    "rowNo = 4\n",
    "sol = Solution()\n",
    "sol.pascalTriangleRow(rowNo)"
   ]
  },
  {
   "cell_type": "code",
   "execution_count": 77,
   "id": "bde99f76",
   "metadata": {},
   "outputs": [],
   "source": [
    "import math\n",
    "\n",
    "\n",
    "class Solution:\n",
    "\tdef pascalTriangleRow(self, rowNo: int) -> List[int]:\n",
    "\t\t# add your logic here\n",
    "\t\tn = rowNo - 1\n",
    "\t\treturn [math.comb(n, r) for r in range(n + 1)]"
   ]
  },
  {
   "cell_type": "code",
   "execution_count": 78,
   "id": "d27066bd",
   "metadata": {},
   "outputs": [
    {
     "data": {
      "text/plain": [
       "[1, 3, 3, 1]"
      ]
     },
     "execution_count": 78,
     "metadata": {},
     "output_type": "execute_result"
    }
   ],
   "source": [
    "rowNo = 4\n",
    "sol = Solution()\n",
    "sol.pascalTriangleRow(rowNo)"
   ]
  },
  {
   "cell_type": "markdown",
   "id": "1c03fce1",
   "metadata": {},
   "source": [
    "Approach\n",
    "\n",
    "<img src=\"../../public/proof c.png\" width=\"300\"  >"
   ]
  },
  {
   "cell_type": "code",
   "execution_count": 79,
   "id": "2786ee84",
   "metadata": {},
   "outputs": [],
   "source": [
    "class Solution:\n",
    "\tdef pascalTriangleRow(self, rowNo: int) -> List[int]:\n",
    "\t\tn = rowNo - 1\n",
    "\t\tresult = [1]\n",
    "\t\tfor k in range(1, n + 1):\n",
    "\t\t\tresult.append(result[-1] * (n - k + 1) // k)\n",
    "\t\treturn result"
   ]
  },
  {
   "cell_type": "code",
   "execution_count": 80,
   "id": "cebf4324",
   "metadata": {},
   "outputs": [
    {
     "data": {
      "text/plain": [
       "[1, 3, 3, 1]"
      ]
     },
     "execution_count": 80,
     "metadata": {},
     "output_type": "execute_result"
    }
   ],
   "source": [
    "rowNo = 4\n",
    "sol = Solution()\n",
    "sol.pascalTriangleRow(rowNo)"
   ]
  }
 ],
 "metadata": {
  "kernelspec": {
   "display_name": "venv (3.11.3)",
   "language": "python",
   "name": "python3"
  },
  "language_info": {
   "codemirror_mode": {
    "name": "ipython",
    "version": 3
   },
   "file_extension": ".py",
   "mimetype": "text/x-python",
   "name": "python",
   "nbconvert_exporter": "python",
   "pygments_lexer": "ipython3",
   "version": "3.11.3"
  }
 },
 "nbformat": 4,
 "nbformat_minor": 5
}
