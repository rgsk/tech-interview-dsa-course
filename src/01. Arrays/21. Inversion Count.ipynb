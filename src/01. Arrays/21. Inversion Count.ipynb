{
 "cells": [
  {
   "cell_type": "code",
   "execution_count": 1,
   "id": "4097cc6f",
   "metadata": {},
   "outputs": [],
   "source": [
    "from typing import List"
   ]
  },
  {
   "cell_type": "code",
   "execution_count": 2,
   "id": "530700c8",
   "metadata": {},
   "outputs": [],
   "source": [
    "def merge(arr: List[int], start: int, mid: int, end: int):\n",
    "    inversions = 0\n",
    "    aux = [0 for _ in range(end - start + 1)]\n",
    "    i = start\n",
    "    j = mid + 1\n",
    "    k = 0\n",
    "    while i <= mid and j <= end:\n",
    "        if arr[i] <= arr[j]:\n",
    "            aux[k] = arr[i]\n",
    "            k += 1\n",
    "            i += 1\n",
    "        else:\n",
    "            aux[k] = arr[j]\n",
    "            k += 1\n",
    "            j += 1\n",
    "            inversions += mid - i + 1\n",
    "    while i <= mid:\n",
    "        aux[k] = arr[i]\n",
    "        k += 1\n",
    "        i += 1\n",
    "    while j <= end:\n",
    "        aux[k] = arr[j]\n",
    "        k += 1\n",
    "        j += 1\n",
    "    i = start\n",
    "    k = 0\n",
    "    while i <= end:\n",
    "        arr[i] = aux[k]\n",
    "        i += 1\n",
    "        k += 1\n",
    "    return inversions\n",
    "\t\n",
    "\t\n",
    "\t\t\n",
    "def merge_sort(arr: List[int], start: int, end: int):\n",
    "    if start < end:\n",
    "        mid = (start + end) // 2\n",
    "        return merge_sort(arr, start, mid) + \\\n",
    "                merge_sort(arr, mid + 1, end) + \\\n",
    "                merge(arr, start, mid, end)\n",
    "        \n",
    "    return 0\n",
    "\t\t\n",
    "\n",
    "class Solution:\n",
    "\tdef getInversionCount(self, array: List[int]) -> int:\n",
    "\t\treturn merge_sort(array, 0, len(array) - 1)"
   ]
  },
  {
   "cell_type": "code",
   "execution_count": 3,
   "id": "18f4309f",
   "metadata": {},
   "outputs": [
    {
     "data": {
      "text/plain": [
       "5"
      ]
     },
     "execution_count": 3,
     "metadata": {},
     "output_type": "execute_result"
    }
   ],
   "source": [
    "array = [8, 4, 1, 2]\n",
    "sol = Solution()\n",
    "sol.getInversionCount(array)"
   ]
  }
 ],
 "metadata": {
  "kernelspec": {
   "display_name": "venv",
   "language": "python",
   "name": "python3"
  },
  "language_info": {
   "codemirror_mode": {
    "name": "ipython",
    "version": 3
   },
   "file_extension": ".py",
   "mimetype": "text/x-python",
   "name": "python",
   "nbconvert_exporter": "python",
   "pygments_lexer": "ipython3",
   "version": "3.11.3"
  }
 },
 "nbformat": 4,
 "nbformat_minor": 5
}
