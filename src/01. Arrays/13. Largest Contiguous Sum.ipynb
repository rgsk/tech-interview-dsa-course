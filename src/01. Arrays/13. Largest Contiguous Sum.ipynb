{
 "cells": [
  {
   "cell_type": "code",
   "execution_count": 29,
   "id": "48429ac0",
   "metadata": {},
   "outputs": [],
   "source": [
    "from typing import List"
   ]
  },
  {
   "cell_type": "code",
   "execution_count": 30,
   "id": "f9f3f676",
   "metadata": {},
   "outputs": [],
   "source": [
    "class Solution:\n",
    "\tdef largestContiguousSum(self, arr: List[int]) -> int:\n",
    "\t\tn = len(arr)\n",
    "\t\tmax_sum = arr[0]\n",
    "\t\tfor i in range(n):\n",
    "\t\t\tsubarray_sum = 0\n",
    "\t\t\tfor j in range(i, n):\n",
    "\t\t\t\tsubarray_sum += arr[j]\n",
    "\t\t\t\tmax_sum = max(max_sum, subarray_sum)\n",
    "\t\treturn max_sum"
   ]
  },
  {
   "cell_type": "code",
   "execution_count": 31,
   "id": "54414e85",
   "metadata": {},
   "outputs": [
    {
     "data": {
      "text/plain": [
       "15"
      ]
     },
     "execution_count": 31,
     "metadata": {},
     "output_type": "execute_result"
    }
   ],
   "source": [
    "arr = [1, 2, 3, 4, 5]\n",
    "sol = Solution()\n",
    "sol.largestContiguousSum(arr)"
   ]
  },
  {
   "cell_type": "code",
   "execution_count": 32,
   "id": "3548466f",
   "metadata": {},
   "outputs": [],
   "source": [
    "# Kadane’s algorithm\n",
    "\n",
    "class Solution:\n",
    "    def largestContiguousSum(self, arr: List[int]) -> int:\n",
    "        cur_sum = arr[0]\n",
    "        max_sum = cur_sum\n",
    "        for i in range(1, len(arr)):\n",
    "            if cur_sum < 0:\n",
    "                cur_sum = 0\n",
    "            cur_sum += arr[i]\n",
    "            max_sum = max(max_sum, cur_sum)\n",
    "        return max_sum"
   ]
  },
  {
   "cell_type": "code",
   "execution_count": 33,
   "id": "77f75ca5",
   "metadata": {},
   "outputs": [
    {
     "data": {
      "text/plain": [
       "15"
      ]
     },
     "execution_count": 33,
     "metadata": {},
     "output_type": "execute_result"
    }
   ],
   "source": [
    "arr = [1, 2, 3, 4, 5]\n",
    "sol = Solution()\n",
    "sol.largestContiguousSum(arr)"
   ]
  },
  {
   "cell_type": "code",
   "execution_count": 34,
   "id": "4866d645",
   "metadata": {},
   "outputs": [],
   "source": [
    "# Variation\n",
    "\n",
    "class Solution:\n",
    "    def largestContiguousSum(self, arr: List[int]) -> int:\n",
    "        cur_sum = arr[0]\n",
    "        max_sum = cur_sum\n",
    "        for i in range(1, len(arr)):\n",
    "            cur_sum = max(cur_sum + arr[i], arr[i])\n",
    "            max_sum = max(max_sum, cur_sum)\n",
    "        return max_sum"
   ]
  },
  {
   "cell_type": "code",
   "execution_count": 35,
   "id": "af761442",
   "metadata": {},
   "outputs": [
    {
     "data": {
      "text/plain": [
       "7"
      ]
     },
     "execution_count": 35,
     "metadata": {},
     "output_type": "execute_result"
    }
   ],
   "source": [
    "arr = [4, -6, 2, 5]\n",
    "sol = Solution()\n",
    "sol.largestContiguousSum(arr)"
   ]
  }
 ],
 "metadata": {
  "kernelspec": {
   "display_name": "venv (3.11.3)",
   "language": "python",
   "name": "python3"
  },
  "language_info": {
   "codemirror_mode": {
    "name": "ipython",
    "version": 3
   },
   "file_extension": ".py",
   "mimetype": "text/x-python",
   "name": "python",
   "nbconvert_exporter": "python",
   "pygments_lexer": "ipython3",
   "version": "3.11.3"
  }
 },
 "nbformat": 4,
 "nbformat_minor": 5
}
