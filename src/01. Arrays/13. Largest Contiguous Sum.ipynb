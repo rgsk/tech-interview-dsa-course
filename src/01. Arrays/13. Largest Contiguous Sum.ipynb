{
 "cells": [
  {
   "cell_type": "code",
   "execution_count": null,
   "id": "48429ac0",
   "metadata": {},
   "outputs": [],
   "source": [
    "from typing import List"
   ]
  },
  {
   "cell_type": "code",
   "execution_count": null,
   "id": "3548466f",
   "metadata": {},
   "outputs": [],
   "source": [
    "# Kadane’s algorithm\n",
    "\n",
    "class Solution:\n",
    "    def largestContiguousSum(self, arr: List[int]) -> int:\n",
    "        cur_sum = arr[0]\n",
    "        max_sum = cur_sum\n",
    "        for i in range(1, len(arr)):\n",
    "            if cur_sum < 0:\n",
    "                cur_sum = 0\n",
    "            cur_sum += arr[i]\n",
    "            max_sum = max(max_sum, cur_sum)\n",
    "        return max_sum"
   ]
  },
  {
   "cell_type": "code",
   "execution_count": null,
   "id": "77f75ca5",
   "metadata": {},
   "outputs": [],
   "source": [
    "arr = [1, 2, 3, 4, 5]\n",
    "sol = Solution()\n",
    "sol.largestContiguousSum(arr)"
   ]
  },
  {
   "cell_type": "code",
   "execution_count": null,
   "id": "4866d645",
   "metadata": {},
   "outputs": [],
   "source": [
    "# Variation\n",
    "\n",
    "class Solution:\n",
    "    def largestContiguousSum(self, arr: List[int]) -> int:\n",
    "        cur_sum = arr[0]\n",
    "        max_sum = cur_sum\n",
    "        for i in range(1, len(arr)):\n",
    "            cur_sum = max(cur_sum + arr[i], arr[i])\n",
    "            max_sum = max(max_sum, cur_sum)\n",
    "        return max_sum"
   ]
  },
  {
   "cell_type": "code",
   "execution_count": null,
   "id": "af761442",
   "metadata": {},
   "outputs": [],
   "source": [
    "arr = [1, 2, 3, 4, 5]\n",
    "sol = Solution()\n",
    "sol.largestContiguousSum(arr)"
   ]
  }
 ],
 "metadata": {
  "language_info": {
   "name": "python"
  }
 },
 "nbformat": 4,
 "nbformat_minor": 5
}
