{
 "cells": [
  {
   "cell_type": "code",
   "execution_count": null,
   "id": "b70c8639",
   "metadata": {},
   "outputs": [],
   "source": [
    "from typing import List\n",
    "from collections import deque\n",
    "\n",
    "class Circle:\n",
    "    def __init__(self, x: int, y: int):\n",
    "        self.x = x\n",
    "        self.y = y\n",
    "\n",
    "class Solution:\n",
    "    def isInsideCircle(self, x: int, y: int, r: int, circles: List[Circle]) -> bool:\n",
    "        for circle in circles:\n",
    "            cx, cy = circle.x, circle.y\n",
    "            if (x - cx)**2 + (y - cy)**2 <= r**2:\n",
    "                return True\n",
    "        return False\n",
    "\n",
    "    def hasValidPath(self, n: int, m: int, r: int, circles: List[Circle]) -> bool:\n",
    "        visited = [[False] * (m + 1) for _ in range(n + 1)]\n",
    "\n",
    "        if self.isInsideCircle(0, 0, r, circles) or self.isInsideCircle(n, m, r, circles):\n",
    "            return False\n",
    "\n",
    "        q = deque()\n",
    "        q.append((0, 0))\n",
    "        visited[0][0] = True\n",
    "\n",
    "        directions = [(-1, 0), (1, 0), (0, -1), (0, 1),\n",
    "                      (-1, -1), (-1, 1), (1, -1), (1, 1)]\n",
    "\n",
    "        while q:\n",
    "            x, y = q.popleft()\n",
    "            if x == n and y == m:\n",
    "                return True\n",
    "\n",
    "            for dx, dy in directions:\n",
    "                nx, ny = x + dx, y + dy\n",
    "                if 0 <= nx <= n and 0 <= ny <= m and not visited[nx][ny]:\n",
    "                    if not self.isInsideCircle(nx, ny, r, circles):\n",
    "                        visited[nx][ny] = True\n",
    "                        q.append((nx, ny))\n",
    "\n",
    "        return False\n"
   ]
  }
 ],
 "metadata": {
  "language_info": {
   "name": "python"
  }
 },
 "nbformat": 4,
 "nbformat_minor": 5
}
