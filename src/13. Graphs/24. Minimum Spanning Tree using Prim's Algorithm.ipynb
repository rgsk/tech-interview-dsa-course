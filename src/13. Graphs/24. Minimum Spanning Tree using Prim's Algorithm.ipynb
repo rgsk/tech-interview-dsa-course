{
 "cells": [
  {
   "cell_type": "code",
   "execution_count": null,
   "id": "a7cf7033",
   "metadata": {},
   "outputs": [],
   "source": [
    "# Edge class definition:\n",
    "\n",
    "from typing import List\n",
    "\n",
    "\n",
    "class Edge:\n",
    "\tdef __init__(self, source: int, destination: int, weight=0):\n",
    "\t\tself.source = source\n",
    "\t\tself.destination = destination\n",
    "\t\tself.weight = weight\n",
    "\n",
    "\n",
    "# Graph class definition:\n",
    "\n",
    "class Graph:\n",
    "\tdef __init__(self, numVertices: int, edges: List[Edge]):\n",
    "\t\tself.numVertices = numVertices\n",
    "\t\tself.edges = edges"
   ]
  },
  {
   "cell_type": "code",
   "execution_count": null,
   "id": "1652ab5d",
   "metadata": {},
   "outputs": [],
   "source": [
    "import heapq\n",
    "\n",
    "class Solution:\n",
    "\n",
    "    # Function to find sum of weights of edges of the Minimum Spanning Tree.\n",
    "    def spanningTree(self, V, adj):\n",
    "        # wt, node\n",
    "        # here we did not store parent because we need to return sum of total weight only\n",
    "        # not the edges taken\n",
    "        heap = [(0, 0)]\n",
    "        visited = [False for _ in range(V)]\n",
    "        total_weight = 0\n",
    "        while heap:\n",
    "            node_weight, node = heapq.heappop(heap)\n",
    "\n",
    "            if visited[node]:\n",
    "                continue\n",
    "\n",
    "            total_weight += node_weight\n",
    "            visited[node] = True\n",
    "\n",
    "            for child, child_weight in adj[node]:\n",
    "                if not visited[child]:\n",
    "                    heapq.heappush(heap, (child_weight, child))\n",
    "        return total_weight\n",
    "\n",
    "    def weightOfMST(self, graph: Graph) -> int:\n",
    "        # add your logic here\n",
    "        adj = [[] for _ in range(graph.numVertices)]\n",
    "        for edge in graph.edges:\n",
    "            adj[edge.source].append([edge.destination, edge.weight])\n",
    "            adj[edge.destination].append([edge.source, edge.weight])\n",
    "        return self.spanningTree(graph.numVertices, adj)"
   ]
  }
 ],
 "metadata": {
  "language_info": {
   "name": "python"
  }
 },
 "nbformat": 4,
 "nbformat_minor": 5
}
