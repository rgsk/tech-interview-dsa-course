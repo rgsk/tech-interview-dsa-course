{
 "cells": [
  {
   "cell_type": "code",
   "execution_count": 1,
   "id": "2fbc3201",
   "metadata": {},
   "outputs": [],
   "source": [
    "# Edge class definition:\n",
    "\n",
    "from typing import List\n",
    "\n",
    "\n",
    "class Edge:\n",
    "\tdef __init__(self, source: int, destination: int, weight=0):\n",
    "\t\tself.source = source\n",
    "\t\tself.destination = destination\n",
    "\t\tself.weight = weight\n",
    "\n",
    "\n",
    "# Graph class definition:\n",
    "\n",
    "class Graph:\n",
    "\tdef __init__(self, numVertices: int, edges: List[Edge]):\n",
    "\t\tself.numVertices = numVertices\n",
    "\t\tself.edges = edges"
   ]
  },
  {
   "cell_type": "code",
   "execution_count": 2,
   "id": "9aa03997",
   "metadata": {},
   "outputs": [],
   "source": [
    "from collections import deque\n",
    "import math\n",
    "\n",
    "def dijkstra(source: int, numVertices: int, adj):\n",
    "    distances = [math.inf] * numVertices\n",
    "    distances[source] = 0\n",
    "    q = deque()\n",
    "    q.append((source, 0))\n",
    "    while q:\n",
    "        node, dist = q.popleft()\n",
    "        for child, curDist in adj[node]:\n",
    "            if dist + curDist < distances[child]:\n",
    "                distances[child] = dist + curDist\n",
    "                q.append((child, dist + curDist))\n",
    "    return distances\n",
    "\n",
    "\n",
    "class Solution:\n",
    "    def getMinCosts(self, graph: Graph) -> List[int]:\n",
    "        # add your logic here\n",
    "        adj = [[] for _ in range(graph.numVertices)]\n",
    "        for edge in graph.edges:\n",
    "            adj[edge.source].append([edge.destination, edge.cost])\n",
    "            adj[edge.destination].append([edge.source, edge.cost])\n",
    "        return dijkstra(0, graph.numVertices, adj)"
   ]
  }
 ],
 "metadata": {
  "kernelspec": {
   "display_name": "venv (3.11.3)",
   "language": "python",
   "name": "python3"
  },
  "language_info": {
   "codemirror_mode": {
    "name": "ipython",
    "version": 3
   },
   "file_extension": ".py",
   "mimetype": "text/x-python",
   "name": "python",
   "nbconvert_exporter": "python",
   "pygments_lexer": "ipython3",
   "version": "3.11.3"
  }
 },
 "nbformat": 4,
 "nbformat_minor": 5
}
