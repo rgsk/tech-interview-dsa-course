{
 "cells": [
  {
   "cell_type": "code",
   "execution_count": null,
   "id": "3a36f335",
   "metadata": {},
   "outputs": [],
   "source": [
    "from typing import List\n",
    "\n",
    "\n",
    "class Solution:\n",
    "    def edgesToAdjList(self, n: int, edges: List[List[int]]) -> List[List[int]]:\n",
    "        adjList = [\n",
    "            [] for _ in range(n)\n",
    "        ]\n",
    "        for edge in edges:\n",
    "            adjList[edge[0]].append(edge[1])\n",
    "            if edge[0] != edge[1]:\n",
    "                adjList[edge[1]].append(edge[0])\n",
    "        return adjList"
   ]
  },
  {
   "cell_type": "code",
   "execution_count": 4,
   "id": "39fc6dff",
   "metadata": {},
   "outputs": [
    {
     "name": "stdout",
     "output_type": "stream",
     "text": [
      "0 [1, 2, 3]\n",
      "1 [0]\n",
      "2 [0, 3]\n",
      "3 [0, 2]\n"
     ]
    }
   ],
   "source": [
    "edges = [\n",
    "    [0, 1],\n",
    "    [0, 2],\n",
    "    [0, 3],\n",
    "    [2, 3],\n",
    "]\n",
    "sol = Solution()\n",
    "res = sol.edgesToAdjList(4, edges)\n",
    "for i in range(len(res)):\n",
    "    print(f'{i} {res[i]}')"
   ]
  }
 ],
 "metadata": {
  "kernelspec": {
   "display_name": "venv (3.11.3)",
   "language": "python",
   "name": "python3"
  },
  "language_info": {
   "codemirror_mode": {
    "name": "ipython",
    "version": 3
   },
   "file_extension": ".py",
   "mimetype": "text/x-python",
   "name": "python",
   "nbconvert_exporter": "python",
   "pygments_lexer": "ipython3",
   "version": "3.11.3"
  }
 },
 "nbformat": 4,
 "nbformat_minor": 5
}
