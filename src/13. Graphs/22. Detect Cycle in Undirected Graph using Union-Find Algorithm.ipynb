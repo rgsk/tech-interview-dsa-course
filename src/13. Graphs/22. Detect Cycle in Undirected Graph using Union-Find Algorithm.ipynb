{
 "cells": [
  {
   "cell_type": "code",
   "execution_count": null,
   "id": "115372c7",
   "metadata": {},
   "outputs": [],
   "source": [
    "from typing import List\n",
    "\n",
    "\n",
    "class DisjointSet:\n",
    "    def __init__(self, n):\n",
    "        self.parent = list(range(n))\n",
    "        self.size = [1] * n\n",
    "\n",
    "    def findParent(self, node):\n",
    "        if self.parent[node] != node:\n",
    "            self.parent[node] = self.findParent(self.parent[node])\n",
    "        return self.parent[node]\n",
    "\n",
    "    def unionBySize(self, node1, node2):\n",
    "        root1 = self.findParent(node1)\n",
    "        root2 = self.findParent(node2)\n",
    "\n",
    "        if root1 != root2:\n",
    "            if self.size[root1] >= self.size[root2]:\n",
    "                self.parent[root2] = root1\n",
    "                self.size[root1] += self.size[root2]\n",
    "            else:\n",
    "                self.parent[root1] = root2\n",
    "                self.size[root2] += self.size[root1]\n",
    "\n",
    "\n",
    "class Solution:\n",
    "    def isCyclic(self, n: int, edges: List[List[int]]) -> bool:\n",
    "        adjList = [[] for _ in range(n)]\n",
    "        for s, d in edges:\n",
    "            adjList[s].append(d)\n",
    "            adjList[d].append(s)\n",
    "\t\t\t\n",
    "        ds = DisjointSet(n)\n",
    "\n",
    "        # Loop through all edges in the adjacency list\n",
    "        for node in range(n):\n",
    "            for neighbor in adjList[node]:\n",
    "                # To ensure each edge is processed only once (undirected graph)\n",
    "                if node <= neighbor:\n",
    "                    if ds.findParent(node) == ds.findParent(neighbor):\n",
    "                        return True  # Cycle detected\n",
    "                    else:\n",
    "                        ds.unionBySize(node, neighbor)\n",
    "\n",
    "        return False  # No cycle found"
   ]
  }
 ],
 "metadata": {
  "language_info": {
   "name": "python"
  }
 },
 "nbformat": 4,
 "nbformat_minor": 5
}
