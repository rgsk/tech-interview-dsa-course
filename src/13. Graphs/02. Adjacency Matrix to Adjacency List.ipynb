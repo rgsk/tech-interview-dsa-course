{
 "cells": [
  {
   "cell_type": "code",
   "execution_count": 9,
   "id": "70aeca1f",
   "metadata": {},
   "outputs": [],
   "source": [
    "from typing import List\n",
    "\n",
    "\n",
    "class Solution:\n",
    "    def matrixToAdjList(self, n: int, matrix: List[List[int]]) -> List[List[int]]:\n",
    "        adjList = [[] for _ in range(n)]\n",
    "        for i in range(n):\n",
    "            for j in range(n):\n",
    "                if matrix[i][j]:\n",
    "                    adjList[i].append(j)\n",
    "        return adjList"
   ]
  },
  {
   "cell_type": "code",
   "execution_count": 10,
   "id": "aab839c6",
   "metadata": {},
   "outputs": [
    {
     "name": "stdout",
     "output_type": "stream",
     "text": [
      "0 [1, 2, 3]\n",
      "1 [0]\n",
      "2 [0, 3]\n",
      "3 [0, 2]\n"
     ]
    }
   ],
   "source": [
    "matrix = [\n",
    "    [0, 1, 1, 1],\n",
    "    [1, 0, 0, 0],\n",
    "    [1, 0, 0, 1],\n",
    "    [1, 0, 1, 0]\n",
    "]\n",
    "n = 4\n",
    "sol = Solution()\n",
    "res = sol.matrixToAdjList(n, matrix)\n",
    "for i in range(len(res)):\n",
    "    print(f'{i} {res[i]}')"
   ]
  }
 ],
 "metadata": {
  "kernelspec": {
   "display_name": "venv (3.11.3)",
   "language": "python",
   "name": "python3"
  },
  "language_info": {
   "codemirror_mode": {
    "name": "ipython",
    "version": 3
   },
   "file_extension": ".py",
   "mimetype": "text/x-python",
   "name": "python",
   "nbconvert_exporter": "python",
   "pygments_lexer": "ipython3",
   "version": "3.11.3"
  }
 },
 "nbformat": 4,
 "nbformat_minor": 5
}
