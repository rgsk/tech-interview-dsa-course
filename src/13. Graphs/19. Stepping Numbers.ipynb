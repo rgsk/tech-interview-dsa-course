{
 "cells": [
  {
   "cell_type": "code",
   "execution_count": 1,
   "id": "c73f0b29",
   "metadata": {},
   "outputs": [],
   "source": [
    "from typing import List\n",
    "\n",
    "\n",
    "class Solution:\n",
    "    def getSteppingNumbers(self, begin: int, end: int) -> List[int]:\n",
    "        # add your logic here\n",
    "        ans = []\n",
    "\n",
    "        def helper(cur):\n",
    "            if cur > end:\n",
    "                return\n",
    "            if begin <= cur <= end:\n",
    "                ans.append(cur)\n",
    "            last_digit = cur % 10\n",
    "            if last_digit > 0:\n",
    "                helper(cur * 10 + last_digit - 1)\n",
    "            if last_digit < 9:\n",
    "                helper(cur * 10 + last_digit + 1)\n",
    "        for i in range(1, 10):\n",
    "            helper(i)\n",
    "        return ans"
   ]
  },
  {
   "cell_type": "code",
   "execution_count": 2,
   "id": "243fa145",
   "metadata": {},
   "outputs": [
    {
     "data": {
      "text/plain": [
       "[10, 12, 8, 9]"
      ]
     },
     "execution_count": 2,
     "metadata": {},
     "output_type": "execute_result"
    }
   ],
   "source": [
    "begin = 8\n",
    "end = 15\n",
    "sol = Solution()\n",
    "sol.getSteppingNumbers(begin, end)"
   ]
  }
 ],
 "metadata": {
  "kernelspec": {
   "display_name": "venv (3.11.3)",
   "language": "python",
   "name": "python3"
  },
  "language_info": {
   "codemirror_mode": {
    "name": "ipython",
    "version": 3
   },
   "file_extension": ".py",
   "mimetype": "text/x-python",
   "name": "python",
   "nbconvert_exporter": "python",
   "pygments_lexer": "ipython3",
   "version": "3.11.3"
  }
 },
 "nbformat": 4,
 "nbformat_minor": 5
}
