{
 "cells": [
  {
   "cell_type": "code",
   "execution_count": null,
   "id": "f84448ee",
   "metadata": {},
   "outputs": [],
   "source": [
    "from typing import List\n",
    "\n",
    "\n",
    "class Solution:\n",
    "    def pathExists(self, adjList: List[List[int]]) -> bool:\n",
    "\n",
    "        n = len(adjList)\n",
    "        visited = [False for _ in range(n)]\n",
    "\n",
    "        def dfs(node):\n",
    "            if visited[node]:\n",
    "                return\n",
    "            visited[node] = True\n",
    "            for child in adjList[node]:\n",
    "                dfs(child)\n",
    "        dfs(0)\n",
    "        if visited[n - 1]:\n",
    "            return True\n",
    "        return False"
   ]
  }
 ],
 "metadata": {
  "language_info": {
   "name": "python"
  }
 },
 "nbformat": 4,
 "nbformat_minor": 5
}
