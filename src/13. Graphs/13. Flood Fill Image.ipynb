{
 "cells": [
  {
   "cell_type": "code",
   "execution_count": null,
   "id": "702c274e",
   "metadata": {},
   "outputs": [],
   "source": [
    "from typing import List\n",
    "\n",
    "\n",
    "class Solution:\n",
    "\tdef applyFloodFill(self, image: List[List[int]], x: int, y: int, c: int) -> List[List[int]]:\n",
    "\t\t# add your logic here\n",
    "\t\to = image[x][y]\n",
    "\t\trows = len(image)\n",
    "\t\tcols = len(image[0])\n",
    "\t\tdef helper(i, j):\n",
    "\t\t\tif i < 0 or j < 0 or i >= rows or j >= cols or image[i][j] != o:\n",
    "\t\t\t\treturn\n",
    "\t\t\timage[i][j] = c\n",
    "\t\t\thelper(i + 1, j)\n",
    "\t\t\thelper(i, j + 1)\n",
    "\t\t\thelper(i - 1, j)\n",
    "\t\t\thelper(i, j - 1)\n",
    "\t\thelper(x, y)\n",
    "\t\treturn image"
   ]
  }
 ],
 "metadata": {
  "language_info": {
   "name": "python"
  }
 },
 "nbformat": 4,
 "nbformat_minor": 5
}
