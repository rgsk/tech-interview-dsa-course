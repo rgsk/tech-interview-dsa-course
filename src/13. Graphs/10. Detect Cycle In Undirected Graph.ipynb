{
 "cells": [
  {
   "cell_type": "code",
   "execution_count": null,
   "id": "52d03a3e",
   "metadata": {},
   "outputs": [],
   "source": [
    "from typing import List\n",
    "\n",
    "\n",
    "class Solution:\n",
    "    def isCyclic(self, adjList: List[List[int]]) -> bool:\n",
    "        n = len(adjList)\n",
    "        visited = [False] * n\n",
    "\n",
    "        def dfs(node, parent):\n",
    "            visited[node] = True  \n",
    "\n",
    "            for neighbor in adjList[node]:\n",
    "                if not visited[neighbor]:  # If the neighbor is not visited, recurse\n",
    "                    if dfs(neighbor, node):  # Pass current node as the parent\n",
    "                        return True\n",
    "                elif neighbor != parent:  # If neighbor is visited and it's not the parent, cycle detected\n",
    "                    return True\n",
    "\n",
    "            return False\n",
    "\n",
    "        # Run DFS for all unvisited nodes (handle disconnected components)\n",
    "        for i in range(n):\n",
    "            if not visited[i]:\n",
    "                if dfs(i, -1):  # Start DFS with parent as -1 (no parent for the root)\n",
    "                    return True\n",
    "\n",
    "        return False"
   ]
  }
 ],
 "metadata": {
  "language_info": {
   "name": "python"
  }
 },
 "nbformat": 4,
 "nbformat_minor": 5
}
