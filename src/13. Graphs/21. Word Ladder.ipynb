{
 "cells": [
  {
   "cell_type": "code",
   "execution_count": null,
   "id": "e9b43eb2",
   "metadata": {},
   "outputs": [],
   "source": [
    "from collections import deque\n",
    "from typing import List\n",
    "\n",
    "class Solution:\n",
    "    def shortestLadderLength(self, beginWord: str, endWord: str, wordList: List[str]) -> int:\n",
    "        queue = deque([beginWord])\n",
    "        visited = set([beginWord])\n",
    "        wordList = set(wordList)\n",
    "        \n",
    "        changes = 1\n",
    "        \n",
    "        alph = \"abcdefghijklmnopqrstuvwxyz\"\n",
    "        \n",
    "        \n",
    "        if endWord not in wordList:\n",
    "            return 0\n",
    "        \n",
    "        while queue:\n",
    "            for _ in range(len(queue)):\n",
    "                curr_word = queue.popleft()\n",
    "                if curr_word == endWord:\n",
    "                    return changes\n",
    "\n",
    "                for i in range(len(curr_word)):\n",
    "                    prefix, suffix = curr_word[:i], curr_word[i+1:]\n",
    "                    for al in alph:\n",
    "                        w = prefix + al + suffix\n",
    "                        if w in wordList and w not in visited:\n",
    "                            queue.append(w)\n",
    "                            visited.add(w)\n",
    "            changes += 1\n",
    "            \n",
    "        return 0"
   ]
  }
 ],
 "metadata": {
  "language_info": {
   "name": "python"
  }
 },
 "nbformat": 4,
 "nbformat_minor": 5
}
