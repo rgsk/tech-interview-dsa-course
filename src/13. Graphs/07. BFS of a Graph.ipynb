{
 "cells": [
  {
   "cell_type": "code",
   "execution_count": 1,
   "id": "e49d860f",
   "metadata": {},
   "outputs": [],
   "source": [
    "from typing import List\n",
    "from collections import deque\n",
    "\n",
    "class Solution:\n",
    "    def bfs(self, adjList: List[List[int]]) -> List[int]:\n",
    "        ans = []\n",
    "        n = len(adjList)\n",
    "        visited = [False] * n\n",
    "        q = deque()\n",
    "        q.append(0)\n",
    "        visited[0] = True\n",
    "\n",
    "        while q:\n",
    "            node = q.popleft()\n",
    "            ans.append(node)\n",
    "            for child in adjList[node]:\n",
    "                if not visited[child]:\n",
    "                    q.append(child)\n",
    "                    visited[child] = True\n",
    "\n",
    "        return ans"
   ]
  },
  {
   "cell_type": "code",
   "execution_count": 2,
   "id": "492005dd",
   "metadata": {},
   "outputs": [
    {
     "data": {
      "text/plain": [
       "[0, 1, 2, 3]"
      ]
     },
     "execution_count": 2,
     "metadata": {},
     "output_type": "execute_result"
    }
   ],
   "source": [
    "adjList = [\n",
    "    [1, 2, 3],\n",
    "    [0],\n",
    "    [0, 3],\n",
    "    [0, 2]\n",
    "]\n",
    "sol = Solution()\n",
    "sol.bfs(adjList)"
   ]
  }
 ],
 "metadata": {
  "kernelspec": {
   "display_name": "venv (3.11.3)",
   "language": "python",
   "name": "python3"
  },
  "language_info": {
   "codemirror_mode": {
    "name": "ipython",
    "version": 3
   },
   "file_extension": ".py",
   "mimetype": "text/x-python",
   "name": "python",
   "nbconvert_exporter": "python",
   "pygments_lexer": "ipython3",
   "version": "3.11.3"
  }
 },
 "nbformat": 4,
 "nbformat_minor": 5
}
