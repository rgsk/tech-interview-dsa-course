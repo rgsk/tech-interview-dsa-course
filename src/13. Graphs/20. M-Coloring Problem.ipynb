{
 "cells": [
  {
   "cell_type": "code",
   "execution_count": null,
   "id": "e6083b2b",
   "metadata": {},
   "outputs": [],
   "source": [
    "from typing import List\n",
    "\n",
    "class Solution:\n",
    "    def isColoringPossible(self, adjMatrix: List[List[int]], m: int) -> bool:\n",
    "        n = len(adjMatrix)\n",
    "        colors = [-1] * n\n",
    "\n",
    "        def isSafe(v, c):\n",
    "            for i in range(n):\n",
    "                if adjMatrix[v][i] == 1 and colors[i] == c:\n",
    "                    return False\n",
    "            return True\n",
    "\n",
    "        def graphColoring(v):\n",
    "            if v == n:\n",
    "                return True\n",
    "\n",
    "            for c in range(m):\n",
    "                if isSafe(v, c):\n",
    "                    colors[v] = c\n",
    "                    if graphColoring(v + 1):\n",
    "                        return True\n",
    "                    colors[v] = -1\n",
    "\n",
    "            return False\n",
    "\n",
    "        for i in range(n):\n",
    "            if adjMatrix[i][i] == 1:\n",
    "                return False\n",
    "\n",
    "        return graphColoring(0)"
   ]
  }
 ],
 "metadata": {
  "language_info": {
   "name": "python"
  }
 },
 "nbformat": 4,
 "nbformat_minor": 5
}
