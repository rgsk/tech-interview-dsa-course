{
 "cells": [
  {
   "cell_type": "code",
   "execution_count": 1,
   "id": "01eef2a9",
   "metadata": {},
   "outputs": [],
   "source": [
    "from typing import List\n",
    "\n",
    "class Solution:\n",
    "    def dfs(self, adjList: List[List[int]]) -> List[int]:\n",
    "        ans = []\n",
    "\n",
    "        def helper(node: int, parent: int):\n",
    "            ans.append(node)\n",
    "            for child in adjList[node]:\n",
    "                if child != parent:\n",
    "                    helper(child, node)\n",
    "\n",
    "        helper(0, -1)\n",
    "        return ans"
   ]
  },
  {
   "cell_type": "code",
   "execution_count": 2,
   "id": "e5364049",
   "metadata": {},
   "outputs": [
    {
     "data": {
      "text/plain": [
       "[0, 1, 2, 4, 5, 3, 6]"
      ]
     },
     "execution_count": 2,
     "metadata": {},
     "output_type": "execute_result"
    }
   ],
   "source": [
    "adjList = [\n",
    "    [1, 3, 6],\n",
    "    [0, 2, 4],\n",
    "    [1],\n",
    "    [0],\n",
    "    [1, 5],\n",
    "    [4],\n",
    "    [0]\n",
    "]\n",
    "sol = Solution()\n",
    "sol.dfs(adjList)"
   ]
  }
 ],
 "metadata": {
  "kernelspec": {
   "display_name": "venv (3.11.3)",
   "language": "python",
   "name": "python3"
  },
  "language_info": {
   "codemirror_mode": {
    "name": "ipython",
    "version": 3
   },
   "file_extension": ".py",
   "mimetype": "text/x-python",
   "name": "python",
   "nbconvert_exporter": "python",
   "pygments_lexer": "ipython3",
   "version": "3.11.3"
  }
 },
 "nbformat": 4,
 "nbformat_minor": 5
}
