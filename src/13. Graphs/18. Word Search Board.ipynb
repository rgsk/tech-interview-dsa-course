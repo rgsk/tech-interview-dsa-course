{
 "cells": [
  {
   "cell_type": "code",
   "execution_count": 1,
   "id": "c6801b73",
   "metadata": {},
   "outputs": [],
   "source": [
    "from typing import List\n",
    "\n",
    "# Possible movement directions (up, down, left, right)\n",
    "ops = [(-1, 0), (1, 0), (0, -1), (0, 1)]\n",
    "\n",
    "\n",
    "class Solution:\n",
    "    def wordExists(self, board: List[List[str]], word: str) -> bool:\n",
    "        rows = len(board)\n",
    "        cols = len(board[0])\n",
    "\n",
    "        # Function to check if the current position is within the board and contains the right character\n",
    "        def is_valid(r, c):\n",
    "            return 0 <= r < rows and 0 <= c < cols\n",
    "        visited = [[False for _ in range(cols)] for _ in range(rows)]\n",
    "        # DFS to search for the word\n",
    "\n",
    "        def dfs(r, c, i):\n",
    "            if i == len(word):  # If the word has been found\n",
    "                return True\n",
    "            if not is_valid(r, c) or visited[r][c] or board[r][c] != word[i]:\n",
    "                return False\n",
    "\n",
    "            # Mark the current cell as visited\n",
    "            visited[r][c] = True\n",
    "\n",
    "            # Explore all possible directions\n",
    "            for op in ops:\n",
    "                nr = r + op[0]\n",
    "                nc = c + op[1]\n",
    "                if dfs(nr, nc, i + 1):\n",
    "                    return True\n",
    "\n",
    "            # Backtrack: unmark the current cell\n",
    "            visited[r][c] = False\n",
    "            return False\n",
    "\n",
    "        # Try to find the word starting from each cell in the board\n",
    "        for i in range(rows):\n",
    "            for j in range(cols):\n",
    "                if board[i][j] == word[0]:\n",
    "                    if dfs(i, j, 0):\n",
    "                        return True\n",
    "\n",
    "        return False"
   ]
  },
  {
   "cell_type": "code",
   "execution_count": 2,
   "id": "1e6dd19e",
   "metadata": {},
   "outputs": [
    {
     "name": "stdout",
     "output_type": "stream",
     "text": [
      "True\n"
     ]
    }
   ],
   "source": [
    "board1 = [\n",
    "    ['A', 'W', 'O', 'R'],\n",
    "    ['T', 'E', 'R', 'K'],\n",
    "    ['T', 'A', 'K', 'A']\n",
    "]\n",
    "word1 = \"WORKAT\"\n",
    "sol = Solution()\n",
    "print(sol.wordExists(board1, word1))  # Expected: True"
   ]
  },
  {
   "cell_type": "code",
   "execution_count": 3,
   "id": "7c5c94bc",
   "metadata": {},
   "outputs": [
    {
     "name": "stdout",
     "output_type": "stream",
     "text": [
      "False\n"
     ]
    }
   ],
   "source": [
    "board2 = [\n",
    "    ['A', 'W', 'O', 'R'],\n",
    "    ['T', 'E', 'R', 'K'],\n",
    "    ['T', 'E', 'T', 'A']\n",
    "]\n",
    "word2 = \"ATTECH\"\n",
    "print(sol.wordExists(board2, word2))  # Expected: False\n"
   ]
  }
 ],
 "metadata": {
  "kernelspec": {
   "display_name": "venv (3.11.3)",
   "language": "python",
   "name": "python3"
  },
  "language_info": {
   "codemirror_mode": {
    "name": "ipython",
    "version": 3
   },
   "file_extension": ".py",
   "mimetype": "text/x-python",
   "name": "python",
   "nbconvert_exporter": "python",
   "pygments_lexer": "ipython3",
   "version": "3.11.3"
  }
 },
 "nbformat": 4,
 "nbformat_minor": 5
}
