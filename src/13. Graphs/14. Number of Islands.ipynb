{
 "cells": [
  {
   "cell_type": "code",
   "execution_count": 1,
   "id": "9f5c0f77",
   "metadata": {},
   "outputs": [],
   "source": [
    "import sys\n",
    "sys.setrecursionlimit(10**6)\n",
    "from typing import List\n",
    "\n",
    "class Solution:\n",
    "\tdef getNumberOfIslands(self, surface: List[List[int]]) -> int:\n",
    "\t\t# add your logic here\n",
    "\t\trows = len(surface)\n",
    "\t\tif rows == 0:\n",
    "\t\t\treturn 0\n",
    "\t\tcols = len(surface[0])\n",
    "\t\tdef helper(i, j):\n",
    "\t\t\tif i < 0 or j < 0 or i >= rows or j >= cols or surface[i][j] != 1:\n",
    "\t\t\t\treturn\n",
    "\t\t\tsurface[i][j] = 0\n",
    "\t\t\thelper(i + 1, j)\n",
    "\t\t\thelper(i, j + 1)\n",
    "\t\t\thelper(i - 1, j)\n",
    "\t\t\thelper(i, j - 1)\n",
    "\t\tcount = 0\n",
    "\t\tfor i in range(rows):\n",
    "\t\t\tfor j in range(cols):\n",
    "\t\t\t\tif surface[i][j] == 1:\n",
    "\t\t\t\t\tcount += 1\n",
    "\t\t\t\t\thelper(i, j)\n",
    "\t\treturn count\n",
    "\t"
   ]
  },
  {
   "cell_type": "markdown",
   "id": "aedee546",
   "metadata": {},
   "source": [
    "### C++ solution is accepted\n",
    "\n",
    "```cpp\n",
    "void helper(vector<vector<int>>& surface, int i, int j, int rows, int cols) {\n",
    "    if (i < 0 || j < 0 || i >= rows || j >= cols || surface[i][j] != 1) {\n",
    "        return;\n",
    "    }\n",
    "    surface[i][j] = 0;                      // Mark the land as visited\n",
    "    helper(surface, i + 1, j, rows, cols);  // Move Down\n",
    "    helper(surface, i - 1, j, rows, cols);  // Move Up\n",
    "    helper(surface, i, j + 1, rows, cols);  // Move Right\n",
    "    helper(surface, i, j - 1, rows, cols);  // Move Left\n",
    "}\n",
    "\n",
    "int getNumberOfIslands(vector<vector<int>>& surface) {\n",
    "    int rows = surface.size();\n",
    "    if (rows == 0) return 0;\n",
    "    int cols = surface[0].size();\n",
    "\n",
    "    int count = 0;\n",
    "\n",
    "    // Iterate through the grid\n",
    "    for (int i = 0; i < rows; ++i) {\n",
    "        for (int j = 0; j < cols; ++j) {\n",
    "            if (surface[i][j] == 1) {  // Found a new island\n",
    "                count++;\n",
    "                helper(surface, i, j, rows, cols);  // Visit all parts of this island\n",
    "            }\n",
    "        }\n",
    "    }\n",
    "\n",
    "    return count;\n",
    "}\n",
    "```"
   ]
  }
 ],
 "metadata": {
  "kernelspec": {
   "display_name": "venv (3.11.3)",
   "language": "python",
   "name": "python3"
  },
  "language_info": {
   "codemirror_mode": {
    "name": "ipython",
    "version": 3
   },
   "file_extension": ".py",
   "mimetype": "text/x-python",
   "name": "python",
   "nbconvert_exporter": "python",
   "pygments_lexer": "ipython3",
   "version": "3.11.3"
  }
 },
 "nbformat": 4,
 "nbformat_minor": 5
}
