{
 "cells": [
  {
   "cell_type": "code",
   "execution_count": null,
   "id": "35d192e5",
   "metadata": {},
   "outputs": [],
   "source": [
    "from typing import List\n",
    "\n",
    "class Solution:\n",
    "    def isBipartite(self, adjList: List[List[int]]) -> bool:\n",
    "        n = len(adjList)\n",
    "        colors = [-1] * n  # -1: unvisited, 0 and 1: two colors\n",
    "\n",
    "        def dfs(node: int, color: int) -> bool:\n",
    "            colors[node] = color\n",
    "            for neighbor in adjList[node]:\n",
    "                if colors[neighbor] == -1:\n",
    "                    if dfs(neighbor, color ^ 1):  # Flip color\n",
    "                        return True  # Found conflict\n",
    "                elif colors[neighbor] == color:\n",
    "                    return True  # Conflict: same color\n",
    "            return False  # No conflict\n",
    "\n",
    "        for node in range(n):\n",
    "            if colors[node] == -1:\n",
    "                if dfs(node, 0):  # Try starting with color 0\n",
    "                    return False  # Conflict found\n",
    "\n",
    "        return True  # No conflicts: graph is bipartite"
   ]
  }
 ],
 "metadata": {
  "language_info": {
   "name": "python"
  }
 },
 "nbformat": 4,
 "nbformat_minor": 5
}
