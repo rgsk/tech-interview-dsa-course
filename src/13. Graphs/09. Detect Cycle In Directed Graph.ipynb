{
 "cells": [
  {
   "cell_type": "code",
   "execution_count": null,
   "id": "12a8662b",
   "metadata": {},
   "outputs": [],
   "source": [
    "from typing import List\n",
    "\n",
    "\n",
    "class Solution:\n",
    "    def isCyclic(self, adjList: List[List[int]]) -> bool:\n",
    "        n = len(adjList)\n",
    "        visited = [False for _ in range(n)]\n",
    "        rec_stack = [False for _ in range(n)]\n",
    "\n",
    "        def dfs(node):\n",
    "            if rec_stack[node]:\n",
    "                return True\n",
    "            if visited[node]:\n",
    "                return False\n",
    "            visited[node] = True\n",
    "            rec_stack[node] = True\n",
    "            for child in adjList[node]:\n",
    "                if dfs(child):\n",
    "                    return True\n",
    "            rec_stack[node] = False\n",
    "            return False\n",
    "        for i in range(n):\n",
    "            if not visited[i]:\n",
    "                if dfs(i):\n",
    "                    return True\n",
    "        return False\n"
   ]
  }
 ],
 "metadata": {
  "language_info": {
   "name": "python"
  }
 },
 "nbformat": 4,
 "nbformat_minor": 5
}
