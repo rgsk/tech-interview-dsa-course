{
 "cells": [
  {
   "cell_type": "code",
   "execution_count": null,
   "id": "bbf8bce4",
   "metadata": {},
   "outputs": [],
   "source": [
    "# Edge class definition:\n",
    "\n",
    "from typing import List\n",
    "\n",
    "\n",
    "class Edge:\n",
    "\tdef __init__(self, source: int, destination: int, weight=0):\n",
    "\t\tself.source = source\n",
    "\t\tself.destination = destination\n",
    "\t\tself.weight = weight\n",
    "\n",
    "\n",
    "# Graph class definition:\n",
    "\n",
    "class Graph:\n",
    "\tdef __init__(self, numVertices: int, edges: List[Edge]):\n",
    "\t\tself.numVertices = numVertices\n",
    "\t\tself.edges = edges"
   ]
  },
  {
   "cell_type": "code",
   "execution_count": null,
   "id": "1c50e731",
   "metadata": {},
   "outputs": [],
   "source": [
    "class DisjointSet:\n",
    "    def __init__(self, n):\n",
    "        # Initialize the disjoint set with n elements.\n",
    "        self.parent = list(range(n))\n",
    "        self.size = [1] * n\n",
    "\n",
    "    def findParent(self, node):\n",
    "        # Find the representative (root) of the set to which the node belongs.\n",
    "        if self.parent[node] == node:\n",
    "            return node\n",
    "        # Path compression: Update the parent of the node to the representative.\n",
    "        self.parent[node] = self.findParent(self.parent[node])\n",
    "        return self.parent[node]\n",
    "\n",
    "    # works\n",
    "    def unionBySize(self, node1, node2):\n",
    "        root1 = self.findParent(node1)\n",
    "        root2 = self.findParent(node2)\n",
    "        if root1 != root2:\n",
    "            if self.size[root1] >= self.size[root2]:\n",
    "                self.parent[root2] = root1\n",
    "                self.size[root1] += self.size[root2]\n",
    "            else:\n",
    "                self.parent[root1] = root2\n",
    "                self.size[root2] += self.size[root1]\n",
    "\n",
    "\n",
    "class Solution:\n",
    "    def weightOfMST(self, graph: Graph) -> int:\n",
    "        # add your logic here\n",
    "        ds = DisjointSet(graph.numVertices)\n",
    "        transformed_edges = sorted(\n",
    "            [[edge.weight, edge.source, edge.destination] for edge in graph.edges]\n",
    "        )\n",
    "        total_weight = 0\n",
    "        for w, s, d in transformed_edges:\n",
    "            if ds.findParent(s) != ds.findParent(d):\n",
    "                ds.unionBySize(s, d)\n",
    "                total_weight += w\n",
    "        return total_weight"
   ]
  }
 ],
 "metadata": {
  "language_info": {
   "name": "python"
  }
 },
 "nbformat": 4,
 "nbformat_minor": 5
}
