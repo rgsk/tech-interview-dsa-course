{
 "cells": [
  {
   "cell_type": "code",
   "execution_count": 1,
   "id": "3c64f021",
   "metadata": {},
   "outputs": [],
   "source": [
    "from typing import List\n",
    "\n",
    "\n",
    "class Solution:\n",
    "    def dfs(self, adjList: List[List[int]]) -> List[int]:\n",
    "        n = len(adjList)\n",
    "        ans = []\n",
    "        visited = [False for _ in range(n)]\n",
    "        def helper(node: int):\n",
    "            if visited[node]:\n",
    "                return\n",
    "            ans.append(node)\n",
    "            visited[node] = True\n",
    "            for child in adjList[node]:\n",
    "                helper(child)\n",
    "        helper(0)\n",
    "        return ans"
   ]
  },
  {
   "cell_type": "code",
   "execution_count": 2,
   "id": "223574ad",
   "metadata": {},
   "outputs": [
    {
     "data": {
      "text/plain": [
       "[0, 1, 2, 3]"
      ]
     },
     "execution_count": 2,
     "metadata": {},
     "output_type": "execute_result"
    }
   ],
   "source": [
    "adjList = [\n",
    "    [1, 2, 3],\n",
    "    [0],\n",
    "    [0, 3],\n",
    "    [0, 2]\n",
    "]\n",
    "sol = Solution()\n",
    "sol.dfs(adjList)"
   ]
  }
 ],
 "metadata": {
  "kernelspec": {
   "display_name": "venv (3.11.3)",
   "language": "python",
   "name": "python3"
  },
  "language_info": {
   "codemirror_mode": {
    "name": "ipython",
    "version": 3
   },
   "file_extension": ".py",
   "mimetype": "text/x-python",
   "name": "python",
   "nbconvert_exporter": "python",
   "pygments_lexer": "ipython3",
   "version": "3.11.3"
  }
 },
 "nbformat": 4,
 "nbformat_minor": 5
}
