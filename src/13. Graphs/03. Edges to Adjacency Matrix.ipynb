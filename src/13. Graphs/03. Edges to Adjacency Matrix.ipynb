{
 "cells": [
  {
   "cell_type": "code",
   "execution_count": 3,
   "id": "edc4c0cc",
   "metadata": {},
   "outputs": [],
   "source": [
    "from typing import List\n",
    "\n",
    "\n",
    "class Solution:\n",
    "    def edgesToMatrix(self, n: int, edges: List[List[int]]) -> List[List[int]]:\n",
    "        matrix = [[0 for _ in range(n)] for _ in range(n)]\n",
    "        for edge in edges:\n",
    "            matrix[edge[0]][edge[1]] = 1\n",
    "            matrix[edge[1]][edge[0]] = 1\n",
    "        return matrix"
   ]
  },
  {
   "cell_type": "code",
   "execution_count": 4,
   "id": "0b086526",
   "metadata": {},
   "outputs": [
    {
     "name": "stdout",
     "output_type": "stream",
     "text": [
      "[0, 1, 1, 1]\n",
      "[1, 0, 0, 0]\n",
      "[1, 0, 0, 1]\n",
      "[1, 0, 1, 0]\n"
     ]
    }
   ],
   "source": [
    "edges = [\n",
    "    [0, 1],\n",
    "    [0, 2],\n",
    "    [2, 3],\n",
    "    [0, 3]\n",
    "]\n",
    "sol = Solution()\n",
    "res = sol.edgesToMatrix(4, edges)\n",
    "for row in res:\n",
    "    print(row)"
   ]
  }
 ],
 "metadata": {
  "kernelspec": {
   "display_name": "venv (3.11.3)",
   "language": "python",
   "name": "python3"
  },
  "language_info": {
   "codemirror_mode": {
    "name": "ipython",
    "version": 3
   },
   "file_extension": ".py",
   "mimetype": "text/x-python",
   "name": "python",
   "nbconvert_exporter": "python",
   "pygments_lexer": "ipython3",
   "version": "3.11.3"
  }
 },
 "nbformat": 4,
 "nbformat_minor": 5
}
