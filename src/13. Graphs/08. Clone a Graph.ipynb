{
 "cells": [
  {
   "cell_type": "code",
   "execution_count": null,
   "id": "5ffcd152",
   "metadata": {},
   "outputs": [],
   "source": [
    "class Node:\n",
    "\tdef __init__(self, value=0, neighbours=None):\n",
    "\t\tif neighbours is None:\n",
    "\t\t\tneighbours = []\n",
    "\t\tself.value = value\n",
    "\t\tself.neighbours = neighbours[:]"
   ]
  },
  {
   "cell_type": "code",
   "execution_count": null,
   "id": "df605d0d",
   "metadata": {},
   "outputs": [],
   "source": [
    "class Solution:\n",
    "    def cloneGraph(self, node: Node) -> Node:\n",
    "        if not node:\n",
    "            return None\n",
    "\n",
    "        mp = {}\n",
    "\n",
    "        def dfs(node: Node) -> Node:\n",
    "            if node in mp:\n",
    "                return mp[node]\n",
    "\n",
    "            clone = Node(node.value)\n",
    "            mp[node] = clone\n",
    "            clone.neighbours = [dfs(neighbour) for neighbour in node.neighbours]\n",
    "            return clone\n",
    "\n",
    "        return dfs(node)"
   ]
  }
 ],
 "metadata": {
  "language_info": {
   "name": "python"
  }
 },
 "nbformat": 4,
 "nbformat_minor": 5
}
