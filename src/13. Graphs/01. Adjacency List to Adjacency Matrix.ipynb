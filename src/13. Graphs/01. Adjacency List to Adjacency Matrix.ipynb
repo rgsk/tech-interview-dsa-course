{
 "cells": [
  {
   "cell_type": "code",
   "execution_count": 1,
   "id": "1cf48434",
   "metadata": {},
   "outputs": [],
   "source": [
    "from typing import List\n",
    "\n",
    "\n",
    "class Solution:\n",
    "    def adjListToMatrix(self, n: int, adjList: List[List[int]]) -> List[List[int]]:\n",
    "        matrix = [[0 for _ in range(n)] for _ in range(n)]\n",
    "        for i in range(n):\n",
    "            for v in adjList[i]:\n",
    "                matrix[i][v] = 1\n",
    "        return matrix"
   ]
  },
  {
   "cell_type": "code",
   "execution_count": 2,
   "id": "0f0e07c6",
   "metadata": {},
   "outputs": [
    {
     "name": "stdout",
     "output_type": "stream",
     "text": [
      "[0, 1, 1, 1]\n",
      "[1, 0, 0, 0]\n",
      "[1, 0, 0, 1]\n",
      "[1, 0, 1, 0]\n"
     ]
    }
   ],
   "source": [
    "adjList = [\n",
    "    [1, 2, 3],\n",
    "    [0],\n",
    "    [0, 3],\n",
    "    [0, 2]\n",
    "]\n",
    "sol = Solution()\n",
    "res = sol.adjListToMatrix(4, adjList)\n",
    "for row in res:\n",
    "    print(row)"
   ]
  },
  {
   "cell_type": "code",
   "execution_count": null,
   "id": "b45e7b90",
   "metadata": {},
   "outputs": [],
   "source": []
  }
 ],
 "metadata": {
  "kernelspec": {
   "display_name": "venv (3.11.3)",
   "language": "python",
   "name": "python3"
  },
  "language_info": {
   "codemirror_mode": {
    "name": "ipython",
    "version": 3
   },
   "file_extension": ".py",
   "mimetype": "text/x-python",
   "name": "python",
   "nbconvert_exporter": "python",
   "pygments_lexer": "ipython3",
   "version": "3.11.3"
  }
 },
 "nbformat": 4,
 "nbformat_minor": 5
}
