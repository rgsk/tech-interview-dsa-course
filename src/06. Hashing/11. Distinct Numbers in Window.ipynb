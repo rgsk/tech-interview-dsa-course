{
 "cells": [
  {
   "cell_type": "code",
   "execution_count": 11,
   "id": "8d496c62",
   "metadata": {},
   "outputs": [],
   "source": [
    "from collections import defaultdict\n",
    "from typing import List\n",
    "\n",
    "\n",
    "class Solution:\n",
    "    def distinctNumbersInWindow(self, A: List[int], k: int) -> List[int]:\n",
    "        mp = defaultdict(int)\n",
    "        for i in range(k):\n",
    "            mp[A[i]] += 1\n",
    "        ans = []\n",
    "        ans.append(len(mp))\n",
    "        for i in range(k, len(A)):\n",
    "            mp[A[i - k]] -= 1\n",
    "            if mp[A[i-k]] == 0:\n",
    "                del mp[A[i-k]]\n",
    "            mp[A[i]] += 1\n",
    "            ans.append(len(mp))\n",
    "        return ans"
   ]
  },
  {
   "cell_type": "code",
   "execution_count": 12,
   "id": "8a1b08f4",
   "metadata": {},
   "outputs": [
    {
     "data": {
      "text/plain": [
       "[2, 2, 3, 3, 3]"
      ]
     },
     "execution_count": 12,
     "metadata": {},
     "output_type": "execute_result"
    }
   ],
   "source": [
    "A = [1, 1, 2, 1, 4, 6, 5]\n",
    "k = 3\n",
    "sol = Solution()\n",
    "sol.distinctNumbersInWindow(A, k)"
   ]
  },
  {
   "cell_type": "code",
   "execution_count": 13,
   "id": "0b39f863",
   "metadata": {},
   "outputs": [],
   "source": [
    "from collections import defaultdict\n",
    "from typing import List\n",
    "\n",
    "\n",
    "class Solution:\n",
    "    def distinctNumbersInWindow(self, A: List[int], k: int) -> List[int]:\n",
    "        mp = defaultdict(int)\n",
    "        ans = []\n",
    "        for i in range(len(A)):\n",
    "            if i >= k:\n",
    "                mp[A[i - k]] -= 1\n",
    "                if mp[A[i-k]] == 0:\n",
    "                    del mp[A[i-k]]\n",
    "\n",
    "            mp[A[i]] += 1\n",
    "\n",
    "            if i >= k - 1:\n",
    "                ans.append(len(mp))\n",
    "        return ans"
   ]
  },
  {
   "cell_type": "code",
   "execution_count": 14,
   "id": "5b6c14dd",
   "metadata": {},
   "outputs": [
    {
     "data": {
      "text/plain": [
       "[2, 2, 3, 3, 3]"
      ]
     },
     "execution_count": 14,
     "metadata": {},
     "output_type": "execute_result"
    }
   ],
   "source": [
    "A = [1, 1, 2, 1, 4, 6, 5]\n",
    "k = 3\n",
    "sol = Solution()\n",
    "sol.distinctNumbersInWindow(A, k)"
   ]
  },
  {
   "cell_type": "code",
   "execution_count": 15,
   "id": "6ac06216",
   "metadata": {},
   "outputs": [],
   "source": [
    "from collections import defaultdict\n",
    "from typing import List\n",
    "\n",
    "\n",
    "class Solution:\n",
    "    def distinctNumbersInWindow(self, A: List[int], k: int) -> List[int]:\n",
    "        mp = defaultdict(int)\n",
    "        ans = []\n",
    "        distinct = 0\n",
    "        for i in range(len(A)):\n",
    "            if i >= k:\n",
    "                mp[A[i - k]] -= 1\n",
    "                if mp[A[i-k]] == 0:\n",
    "                    distinct -= 1\n",
    "\n",
    "            mp[A[i]] += 1\n",
    "            if mp[A[i]] == 1:\n",
    "                distinct += 1\n",
    "\n",
    "            if i >= k - 1:\n",
    "                ans.append(distinct)\n",
    "        return ans"
   ]
  },
  {
   "cell_type": "code",
   "execution_count": 16,
   "id": "417e181c",
   "metadata": {},
   "outputs": [
    {
     "data": {
      "text/plain": [
       "[2, 2, 3, 3, 3]"
      ]
     },
     "execution_count": 16,
     "metadata": {},
     "output_type": "execute_result"
    }
   ],
   "source": [
    "A = [1, 1, 2, 1, 4, 6, 5]\n",
    "k = 3\n",
    "sol = Solution()\n",
    "sol.distinctNumbersInWindow(A, k)"
   ]
  }
 ],
 "metadata": {
  "kernelspec": {
   "display_name": "venv",
   "language": "python",
   "name": "python3"
  },
  "language_info": {
   "codemirror_mode": {
    "name": "ipython",
    "version": 3
   },
   "file_extension": ".py",
   "mimetype": "text/x-python",
   "name": "python",
   "nbconvert_exporter": "python",
   "pygments_lexer": "ipython3",
   "version": "3.11.3"
  }
 },
 "nbformat": 4,
 "nbformat_minor": 5
}
