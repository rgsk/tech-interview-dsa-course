{
 "cells": [
  {
   "cell_type": "code",
   "execution_count": 1,
   "id": "1968c052",
   "metadata": {},
   "outputs": [],
   "source": [
    "from collections import defaultdict\n",
    "\n",
    "class Solution:\n",
    "    def longestSubstringWithKUniqueCharacters(self, s: str, k: int) -> int:\n",
    "        left = 0\n",
    "        max_len = -1\n",
    "        char_count = defaultdict(int)\n",
    "\n",
    "        for right in range(len(s)):\n",
    "            char_count[s[right]] += 1\n",
    "\n",
    "            while len(char_count) > k:\n",
    "                char_count[s[left]] -= 1\n",
    "                if char_count[s[left]] == 0:\n",
    "                    del char_count[s[left]]\n",
    "                left += 1\n",
    "\n",
    "            if len(char_count) == k:\n",
    "                max_len = max(max_len, right - left + 1)\n",
    "\n",
    "        return max_len\n"
   ]
  },
  {
   "cell_type": "code",
   "execution_count": 2,
   "id": "4927ac4b",
   "metadata": {},
   "outputs": [
    {
     "data": {
      "text/plain": [
       "6"
      ]
     },
     "execution_count": 2,
     "metadata": {},
     "output_type": "execute_result"
    }
   ],
   "source": [
    "s = \"aabcdaddaf\"\n",
    "k = 3\n",
    "sol = Solution()\n",
    "sol.longestSubstringWithKUniqueCharacters(s, k)"
   ]
  },
  {
   "cell_type": "code",
   "execution_count": 3,
   "id": "e78b803f",
   "metadata": {},
   "outputs": [
    {
     "data": {
      "text/plain": [
       "11"
      ]
     },
     "execution_count": 3,
     "metadata": {},
     "output_type": "execute_result"
    }
   ],
   "source": [
    "s = \"mississippi\"\n",
    "k = 4\n",
    "sol = Solution()\n",
    "sol.longestSubstringWithKUniqueCharacters(s, k)"
   ]
  },
  {
   "cell_type": "code",
   "execution_count": 4,
   "id": "8a572e80",
   "metadata": {},
   "outputs": [
    {
     "data": {
      "text/plain": [
       "3"
      ]
     },
     "execution_count": 4,
     "metadata": {},
     "output_type": "execute_result"
    }
   ],
   "source": [
    "s = \"abcdef\"\n",
    "k = 3\n",
    "sol = Solution()\n",
    "sol.longestSubstringWithKUniqueCharacters(s, k)"
   ]
  },
  {
   "cell_type": "code",
   "execution_count": 5,
   "id": "a607cabb",
   "metadata": {},
   "outputs": [
    {
     "data": {
      "text/plain": [
       "-1"
      ]
     },
     "execution_count": 5,
     "metadata": {},
     "output_type": "execute_result"
    }
   ],
   "source": [
    "s = \"aaa\"\n",
    "k = 2\n",
    "sol = Solution()\n",
    "sol.longestSubstringWithKUniqueCharacters(s, k)"
   ]
  }
 ],
 "metadata": {
  "kernelspec": {
   "display_name": "venv",
   "language": "python",
   "name": "python3"
  },
  "language_info": {
   "codemirror_mode": {
    "name": "ipython",
    "version": 3
   },
   "file_extension": ".py",
   "mimetype": "text/x-python",
   "name": "python",
   "nbconvert_exporter": "python",
   "pygments_lexer": "ipython3",
   "version": "3.11.3"
  }
 },
 "nbformat": 4,
 "nbformat_minor": 5
}
