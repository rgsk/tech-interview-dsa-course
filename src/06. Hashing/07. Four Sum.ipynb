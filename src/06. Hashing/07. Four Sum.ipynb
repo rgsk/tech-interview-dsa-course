{
 "cells": [
  {
   "cell_type": "code",
   "execution_count": 7,
   "id": "184e1f9b",
   "metadata": {},
   "outputs": [],
   "source": [
    "from typing import List\n",
    "\n",
    "class Solution:\n",
    "    def fourSum(self, A: List[int], target: int) -> List[List[int]]:\n",
    "        n = len(A)\n",
    "        A.sort()\n",
    "        result = set()\n",
    "\n",
    "        # Store pair sums and corresponding indices in a hashmap\n",
    "        pairSum = {}\n",
    "        for i in range(n):\n",
    "            for j in range(i + 1, n):\n",
    "                s = A[i] + A[j]\n",
    "                if s not in pairSum:\n",
    "                    pairSum[s] = []\n",
    "                pairSum[s].append((i, j))\n",
    "\n",
    "        # For every pair, look for complement pair in the hashmap\n",
    "        for i in range(n):\n",
    "            for j in range(i + 1, n):\n",
    "                rem = target - (A[i] + A[j])\n",
    "                if rem in pairSum:\n",
    "                    for (k, l) in pairSum[rem]:\n",
    "                        # Ensure all indices are distinct\n",
    "                        if k != i and k != j and l != i and l != j:\n",
    "                            quad = sorted([A[i], A[j], A[k], A[l]])\n",
    "                            result.add(tuple(quad))\n",
    "\n",
    "        return sorted([list(quad) for quad in result])\n"
   ]
  },
  {
   "cell_type": "code",
   "execution_count": 8,
   "id": "0080ff4f",
   "metadata": {},
   "outputs": [
    {
     "data": {
      "text/plain": [
       "[[-3, -1, 1, 5], [-2, -2, 1, 5]]"
      ]
     },
     "execution_count": 8,
     "metadata": {},
     "output_type": "execute_result"
    }
   ],
   "source": [
    "A = [-1 , -3 , -2, -2, 5, 1]\n",
    "target = 2\n",
    "sol = Solution()\n",
    "sol.fourSum(A, target)"
   ]
  },
  {
   "cell_type": "code",
   "execution_count": 9,
   "id": "d292864c",
   "metadata": {},
   "outputs": [],
   "source": [
    "from typing import List\n",
    "\n",
    "class Solution:\n",
    "\tdef fourSum(self, A: List[int], target: int) -> List[List[int]]:\n",
    "\t\tn = len(A)\n",
    "\t\tA.sort()\n",
    "\t\tresult = []\n",
    "\t\tfor i in range(n):\n",
    "\t\t\tif i > 0 and A[i] == A[i-1]:\n",
    "\t\t\t\tcontinue\n",
    "\t\t\tfor j in range(i + 1, n):\n",
    "\t\t\t\tif j > i + 1 and A[j] == A[j-1]:\n",
    "\t\t\t\t\tcontinue\n",
    "\t\t\t\tl = j + 1\n",
    "\t\t\t\tr = n - 1\n",
    "\t\t\t\twhile l < r:\n",
    "\t\t\t\t\tif l > j + 1 and A[l] == A[l-1]:\n",
    "\t\t\t\t\t\tl += 1\n",
    "\t\t\t\t\t\tcontinue\n",
    "\t\t\t\t\ttotal = A[i] + A[j] + A[l] + A[r]\n",
    "\t\t\t\t\tif total > target:\n",
    "\t\t\t\t\t\tr -= 1\n",
    "\t\t\t\t\telif total < target:\n",
    "\t\t\t\t\t\tl += 1\n",
    "\t\t\t\t\telse:\n",
    "\t\t\t\t\t\tresult.append(sorted([A[i], A[j], A[l], A[r]]))\n",
    "\t\t\t\t\t\tl += 1\n",
    "\t\t\t\t\t\tr -= 1\n",
    "\t\treturn result"
   ]
  },
  {
   "cell_type": "code",
   "execution_count": 10,
   "id": "188cb282",
   "metadata": {},
   "outputs": [
    {
     "data": {
      "text/plain": [
       "[[-3, -1, 1, 5], [-2, -2, 1, 5]]"
      ]
     },
     "execution_count": 10,
     "metadata": {},
     "output_type": "execute_result"
    }
   ],
   "source": [
    "A = [-1 , -3 , -2, -2, 5, 1]\n",
    "target = 2\n",
    "sol = Solution()\n",
    "sol.fourSum(A, target)"
   ]
  }
 ],
 "metadata": {
  "kernelspec": {
   "display_name": "venv",
   "language": "python",
   "name": "python3"
  },
  "language_info": {
   "codemirror_mode": {
    "name": "ipython",
    "version": 3
   },
   "file_extension": ".py",
   "mimetype": "text/x-python",
   "name": "python",
   "nbconvert_exporter": "python",
   "pygments_lexer": "ipython3",
   "version": "3.11.3"
  }
 },
 "nbformat": 4,
 "nbformat_minor": 5
}
