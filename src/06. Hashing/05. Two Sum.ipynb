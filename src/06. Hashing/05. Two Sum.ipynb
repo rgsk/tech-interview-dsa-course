{
 "cells": [
  {
   "cell_type": "code",
   "execution_count": 1,
   "id": "5e2aa313",
   "metadata": {},
   "outputs": [],
   "source": [
    "from typing import List\n",
    "\n",
    "\n",
    "class Solution:\n",
    "    def twoSum(self, A: List[int], target: int) -> List[int]:\n",
    "        mp = {}\n",
    "        for i in range(len(A)):\n",
    "            d = target - A[i]\n",
    "            if d in mp:\n",
    "                return [mp[d], i]\n",
    "            mp[A[i]] = i"
   ]
  },
  {
   "cell_type": "code",
   "execution_count": 2,
   "id": "6085db6c",
   "metadata": {},
   "outputs": [
    {
     "data": {
      "text/plain": [
       "[0, 3]"
      ]
     },
     "execution_count": 2,
     "metadata": {},
     "output_type": "execute_result"
    }
   ],
   "source": [
    "A = [1, 3, 3, 4]\n",
    "target = 5\n",
    "sol = Solution()\n",
    "sol.twoSum(A, target)"
   ]
  }
 ],
 "metadata": {
  "kernelspec": {
   "display_name": "venv",
   "language": "python",
   "name": "python3"
  },
  "language_info": {
   "codemirror_mode": {
    "name": "ipython",
    "version": 3
   },
   "file_extension": ".py",
   "mimetype": "text/x-python",
   "name": "python",
   "nbconvert_exporter": "python",
   "pygments_lexer": "ipython3",
   "version": "3.11.3"
  }
 },
 "nbformat": 4,
 "nbformat_minor": 5
}
