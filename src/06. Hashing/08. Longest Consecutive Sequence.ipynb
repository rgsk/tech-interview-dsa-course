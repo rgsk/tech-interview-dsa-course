{
 "cells": [
  {
   "cell_type": "code",
   "execution_count": 1,
   "id": "848defcc",
   "metadata": {},
   "outputs": [],
   "source": [
    "from typing import List\n",
    "\n",
    "\n",
    "class Solution:\n",
    "\tdef longestConsecutiveSequence(self, A: List[int]) -> int:\n",
    "\t\tans = 1\n",
    "\t\ts = set(A)\n",
    "\t\tfor l in A:\n",
    "\t\t\tif l in s and l - 1 not in s:\n",
    "\t\t\t\tr = l\n",
    "\t\t\t\twhile r in s:\n",
    "\t\t\t\t\ts.remove(r)\n",
    "\t\t\t\t\tr += 1\n",
    "\t\t\t\tans = max(ans, r - l)\n",
    "\t\treturn ans"
   ]
  },
  {
   "cell_type": "code",
   "execution_count": 2,
   "id": "006d321e",
   "metadata": {},
   "outputs": [
    {
     "data": {
      "text/plain": [
       "4"
      ]
     },
     "execution_count": 2,
     "metadata": {},
     "output_type": "execute_result"
    }
   ],
   "source": [
    "A = [24, 2, 34, 1, 3, 4]\n",
    "sol = Solution()\n",
    "sol.longestConsecutiveSequence(A)"
   ]
  },
  {
   "cell_type": "code",
   "execution_count": 3,
   "id": "40a980a4",
   "metadata": {},
   "outputs": [
    {
     "data": {
      "text/plain": [
       "6"
      ]
     },
     "execution_count": 3,
     "metadata": {},
     "output_type": "execute_result"
    }
   ],
   "source": [
    "A = [24, 2, 34, 1, 3, 4, 3, -1, 28, 0]\n",
    "sol = Solution()\n",
    "sol.longestConsecutiveSequence(A)"
   ]
  }
 ],
 "metadata": {
  "kernelspec": {
   "display_name": "venv",
   "language": "python",
   "name": "python3"
  },
  "language_info": {
   "codemirror_mode": {
    "name": "ipython",
    "version": 3
   },
   "file_extension": ".py",
   "mimetype": "text/x-python",
   "name": "python",
   "nbconvert_exporter": "python",
   "pygments_lexer": "ipython3",
   "version": "3.11.3"
  }
 },
 "nbformat": 4,
 "nbformat_minor": 5
}
