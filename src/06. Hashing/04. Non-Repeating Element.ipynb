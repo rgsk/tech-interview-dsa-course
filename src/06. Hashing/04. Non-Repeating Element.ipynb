{
 "cells": [
  {
   "cell_type": "code",
   "execution_count": 1,
   "id": "a2e5594f",
   "metadata": {},
   "outputs": [],
   "source": [
    "from typing import List"
   ]
  },
  {
   "cell_type": "code",
   "execution_count": 2,
   "id": "f4c47739",
   "metadata": {},
   "outputs": [],
   "source": [
    "class Solution:\n",
    "    def findNonRepeatingElement(self, arr: List[int]) -> int:\n",
    "        low, high = 0, len(arr) - 1\n",
    "        while low <= high:\n",
    "            mid = (low + high) // 2\n",
    "            if low == high:\n",
    "                return arr[mid]\n",
    "            if mid % 2 == 0:\n",
    "                if arr[mid] == arr[mid + 1]:\n",
    "                    low = mid + 1\n",
    "                else:\n",
    "                    high = mid\n",
    "            else:\n",
    "                if arr[mid] == arr[mid - 1]:\n",
    "                    low = mid + 1\n",
    "                else:\n",
    "                    high = mid"
   ]
  },
  {
   "cell_type": "code",
   "execution_count": 3,
   "id": "a0772be1",
   "metadata": {},
   "outputs": [
    {
     "data": {
      "text/plain": [
       "2"
      ]
     },
     "execution_count": 3,
     "metadata": {},
     "output_type": "execute_result"
    }
   ],
   "source": [
    "arr = [1, 1, 2, 3, 3, 4, 4]\n",
    "sol = Solution()\n",
    "sol.findNonRepeatingElement(arr)"
   ]
  },
  {
   "cell_type": "code",
   "execution_count": 4,
   "id": "39953e6c",
   "metadata": {},
   "outputs": [],
   "source": [
    "class Solution:\n",
    "\tdef findNonRepeatingElement(self, arr: List[int]) -> int:\n",
    "\t\txor = 0\n",
    "\t\tfor v in arr:\n",
    "\t\t\txor ^= v\n",
    "\t\treturn xor"
   ]
  },
  {
   "cell_type": "code",
   "execution_count": 5,
   "id": "3df63a0f",
   "metadata": {},
   "outputs": [
    {
     "data": {
      "text/plain": [
       "2"
      ]
     },
     "execution_count": 5,
     "metadata": {},
     "output_type": "execute_result"
    }
   ],
   "source": [
    "arr = [1, 1, 2, 3, 3, 4, 4]\n",
    "sol = Solution()\n",
    "sol.findNonRepeatingElement(arr)"
   ]
  },
  {
   "cell_type": "code",
   "execution_count": 6,
   "id": "d5813536",
   "metadata": {},
   "outputs": [],
   "source": [
    "from collections import defaultdict\n",
    "\n",
    "\n",
    "class Solution:\n",
    "\tdef findNonRepeatingElement(self, arr: List[int]) -> int:\n",
    "\t\tmp = defaultdict(int)\n",
    "\t\tfor v in arr:\n",
    "\t\t\tmp[v] += 1\n",
    "\t\tfor k in mp:\n",
    "\t\t\tif mp[k] == 1:\n",
    "\t\t\t\treturn k"
   ]
  },
  {
   "cell_type": "code",
   "execution_count": 7,
   "id": "dd80a583",
   "metadata": {},
   "outputs": [
    {
     "data": {
      "text/plain": [
       "2"
      ]
     },
     "execution_count": 7,
     "metadata": {},
     "output_type": "execute_result"
    }
   ],
   "source": [
    "arr = [1, 1, 2, 3, 3, 4, 4]\n",
    "sol = Solution()\n",
    "sol.findNonRepeatingElement(arr)"
   ]
  }
 ],
 "metadata": {
  "kernelspec": {
   "display_name": "venv",
   "language": "python",
   "name": "python3"
  },
  "language_info": {
   "codemirror_mode": {
    "name": "ipython",
    "version": 3
   },
   "file_extension": ".py",
   "mimetype": "text/x-python",
   "name": "python",
   "nbconvert_exporter": "python",
   "pygments_lexer": "ipython3",
   "version": "3.11.3"
  }
 },
 "nbformat": 4,
 "nbformat_minor": 5
}
