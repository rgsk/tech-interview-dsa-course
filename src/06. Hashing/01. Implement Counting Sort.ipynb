{
 "cells": [
  {
   "cell_type": "code",
   "execution_count": 6,
   "id": "d447b753",
   "metadata": {},
   "outputs": [],
   "source": [
    "from collections import defaultdict\n",
    "from typing import List\n",
    "\n",
    "\n",
    "class Solution:\n",
    "    def countingSort(self, arr: List[int]) -> None:\n",
    "        mp = defaultdict(int)\n",
    "        for v in arr:\n",
    "            mp[v] += 1\n",
    "        i = 0\n",
    "        for v in range(-1000, 1001):\n",
    "            while mp[v] > 0:\n",
    "                arr[i] = v\n",
    "                i += 1\n",
    "                mp[v] -= 1"
   ]
  },
  {
   "cell_type": "code",
   "execution_count": 7,
   "id": "449a2002",
   "metadata": {},
   "outputs": [
    {
     "data": {
      "text/plain": [
       "[1, 2, 3, 4, 5]"
      ]
     },
     "execution_count": 7,
     "metadata": {},
     "output_type": "execute_result"
    }
   ],
   "source": [
    "arr = [4, 2, 5, 3, 1]\n",
    "sol = Solution()\n",
    "sol.countingSort(arr)\n",
    "arr"
   ]
  },
  {
   "cell_type": "code",
   "execution_count": 8,
   "id": "58181668",
   "metadata": {},
   "outputs": [
    {
     "data": {
      "text/plain": [
       "[4, 11, 200]"
      ]
     },
     "execution_count": 8,
     "metadata": {},
     "output_type": "execute_result"
    }
   ],
   "source": [
    "arr = [11, 4, 200]\n",
    "sol = Solution()\n",
    "sol.countingSort(arr)\n",
    "arr"
   ]
  },
  {
   "cell_type": "code",
   "execution_count": null,
   "id": "848467a4",
   "metadata": {},
   "outputs": [],
   "source": [
    "class Solution:\n",
    "    def countingSort(self, arr: List[int]) -> None:\n",
    "        # since we know that arr elements are in range -1000, 1001\n",
    "        mp = [0 for _ in range(-1000, 1001)]\n",
    "        for v in arr:\n",
    "            mp[v] += 1\n",
    "        i = 0\n",
    "        for v in range(-1000, 1001):\n",
    "            while mp[v] > 0:\n",
    "                arr[i] = v\n",
    "                i += 1\n",
    "                mp[v] -= 1"
   ]
  },
  {
   "cell_type": "code",
   "execution_count": 10,
   "id": "bea711d0",
   "metadata": {},
   "outputs": [
    {
     "data": {
      "text/plain": [
       "[1, 2, 3, 4, 5]"
      ]
     },
     "execution_count": 10,
     "metadata": {},
     "output_type": "execute_result"
    }
   ],
   "source": [
    "arr = [4, 2, 5, 3, 1]\n",
    "sol = Solution()\n",
    "sol.countingSort(arr)\n",
    "arr"
   ]
  },
  {
   "cell_type": "code",
   "execution_count": 11,
   "id": "f0856b91",
   "metadata": {},
   "outputs": [
    {
     "data": {
      "text/plain": [
       "[4, 11, 200]"
      ]
     },
     "execution_count": 11,
     "metadata": {},
     "output_type": "execute_result"
    }
   ],
   "source": [
    "arr = [11, 4, 200]\n",
    "sol = Solution()\n",
    "sol.countingSort(arr)\n",
    "arr"
   ]
  }
 ],
 "metadata": {
  "kernelspec": {
   "display_name": "venv",
   "language": "python",
   "name": "python3"
  },
  "language_info": {
   "codemirror_mode": {
    "name": "ipython",
    "version": 3
   },
   "file_extension": ".py",
   "mimetype": "text/x-python",
   "name": "python",
   "nbconvert_exporter": "python",
   "pygments_lexer": "ipython3",
   "version": "3.11.3"
  }
 },
 "nbformat": 4,
 "nbformat_minor": 5
}
