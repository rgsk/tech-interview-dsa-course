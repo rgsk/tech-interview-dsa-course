{
 "cells": [
  {
   "cell_type": "code",
   "execution_count": null,
   "id": "6621796c",
   "metadata": {},
   "outputs": [],
   "source": [
    "class ListNode:\n",
    "\tdef __init__(self, data=0, next=None, random=None):\n",
    "\t\tself.data = data\n",
    "\t\tself.next = next\n",
    "\t\tself.random = random"
   ]
  },
  {
   "cell_type": "code",
   "execution_count": null,
   "id": "691fb30f",
   "metadata": {},
   "outputs": [],
   "source": [
    "class Solution:\n",
    "    def cloneTheLinkedList(self, head: ListNode) -> ListNode:\n",
    "        # add your logic here\n",
    "        temp = head\n",
    "        clone = ListNode(-1)\n",
    "        clone_temp = clone\n",
    "        mp = {}\n",
    "        while temp:\n",
    "            clone_temp.next = ListNode(temp.data)\n",
    "            mp[temp] = clone_temp.next\n",
    "            temp = temp.next\n",
    "            clone_temp = clone_temp.next\n",
    "        clone_temp = clone\n",
    "        clone_temp = clone_temp.next\n",
    "        temp = head\n",
    "        while clone_temp:\n",
    "            clone_temp.random = mp.get(temp.random, None)\n",
    "            temp = temp.next\n",
    "            clone_temp = clone_temp.next\n",
    "        return clone.next"
   ]
  }
 ],
 "metadata": {
  "language_info": {
   "name": "python"
  }
 },
 "nbformat": 4,
 "nbformat_minor": 5
}
