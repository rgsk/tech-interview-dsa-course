{
 "cells": [
  {
   "cell_type": "markdown",
   "id": "2f7ff5e4",
   "metadata": {},
   "source": [
    "<img src=\"../../public/subarrays with given xor.png\" width=\"700\"  >"
   ]
  },
  {
   "cell_type": "code",
   "execution_count": 7,
   "id": "3f908eb6",
   "metadata": {},
   "outputs": [],
   "source": [
    "from collections import defaultdict\n",
    "from typing import List\n",
    "\n",
    "\n",
    "class Solution:\n",
    "    def numSubarrayWithXOR(self, A: List[int], target: int) -> int:\n",
    "        freq = defaultdict(int)\n",
    "        freq[0] = 1\n",
    "        count = 0\n",
    "        xor = 0\n",
    "\n",
    "        for num in A:\n",
    "            xor ^= num\n",
    "            count += freq[xor ^ target]\n",
    "            freq[xor] += 1\n",
    "\n",
    "        return count\n"
   ]
  },
  {
   "cell_type": "code",
   "execution_count": 8,
   "id": "fdaffa27",
   "metadata": {},
   "outputs": [
    {
     "data": {
      "text/plain": [
       "2"
      ]
     },
     "execution_count": 8,
     "metadata": {},
     "output_type": "execute_result"
    }
   ],
   "source": [
    "A = [1, 2, 3, 4]\n",
    "target = 3\n",
    "sol = Solution()\n",
    "sol.numSubarrayWithXOR(A, target)"
   ]
  }
 ],
 "metadata": {
  "kernelspec": {
   "display_name": "venv",
   "language": "python",
   "name": "python3"
  },
  "language_info": {
   "codemirror_mode": {
    "name": "ipython",
    "version": 3
   },
   "file_extension": ".py",
   "mimetype": "text/x-python",
   "name": "python",
   "nbconvert_exporter": "python",
   "pygments_lexer": "ipython3",
   "version": "3.11.3"
  }
 },
 "nbformat": 4,
 "nbformat_minor": 5
}
