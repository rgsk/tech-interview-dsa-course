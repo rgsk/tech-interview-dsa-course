{
 "cells": [
  {
   "cell_type": "code",
   "execution_count": 1,
   "id": "1e4f681d",
   "metadata": {},
   "outputs": [],
   "source": [
    "from typing import List\n",
    "\n",
    "\n",
    "class Solution:\n",
    "    def longestSubarrayWithZeroSum(self, A: List[int]) -> int:\n",
    "        mp = {}\n",
    "        ans = 0\n",
    "        total = 0\n",
    "        mp[total] = -1\n",
    "        n = len(A)\n",
    "        for i in range(n):\n",
    "            total += A[i]\n",
    "            if total in mp:\n",
    "                ans = max(ans, i - mp[total])\n",
    "            else:\n",
    "                mp[total] = i\n",
    "        return ans "
   ]
  },
  {
   "cell_type": "code",
   "execution_count": 2,
   "id": "1cd9c334",
   "metadata": {},
   "outputs": [
    {
     "data": {
      "text/plain": [
       "5"
      ]
     },
     "execution_count": 2,
     "metadata": {},
     "output_type": "execute_result"
    }
   ],
   "source": [
    "A = [3, 0, -1, -2, 3, 0, -2]\n",
    "sol = Solution()\n",
    "sol.longestSubarrayWithZeroSum(A)"
   ]
  }
 ],
 "metadata": {
  "kernelspec": {
   "display_name": "venv",
   "language": "python",
   "name": "python3"
  },
  "language_info": {
   "codemirror_mode": {
    "name": "ipython",
    "version": 3
   },
   "file_extension": ".py",
   "mimetype": "text/x-python",
   "name": "python",
   "nbconvert_exporter": "python",
   "pygments_lexer": "ipython3",
   "version": "3.11.3"
  }
 },
 "nbformat": 4,
 "nbformat_minor": 5
}
