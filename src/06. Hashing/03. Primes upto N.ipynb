{
 "cells": [
  {
   "cell_type": "code",
   "execution_count": 1,
   "id": "85ae58e4",
   "metadata": {},
   "outputs": [],
   "source": [
    "from typing import List"
   ]
  },
  {
   "cell_type": "code",
   "execution_count": 2,
   "id": "c80e0b9d",
   "metadata": {},
   "outputs": [],
   "source": [
    "class Solution:\n",
    "    def primesUptoN(self, n: int) -> List[int]:\n",
    "        primes = [True for _ in range(n + 1)]\n",
    "        primes[0] = False\n",
    "        primes[1] = False\n",
    "        for i in range(2, n + 1):\n",
    "            if primes[i]:\n",
    "                j = i + i\n",
    "                while j <= n:\n",
    "                    primes[j] = False\n",
    "                    j += i\n",
    "        result = []\n",
    "        for i in range(2, n + 1):\n",
    "            if primes[i]:\n",
    "                result.append(i)\n",
    "        return result"
   ]
  },
  {
   "cell_type": "code",
   "execution_count": 3,
   "id": "b3ff8a9b",
   "metadata": {},
   "outputs": [],
   "source": [
    "sol = Solution()"
   ]
  },
  {
   "cell_type": "code",
   "execution_count": 4,
   "id": "4bfdfead",
   "metadata": {},
   "outputs": [
    {
     "data": {
      "text/plain": [
       "[2, 3, 5]"
      ]
     },
     "execution_count": 4,
     "metadata": {},
     "output_type": "execute_result"
    }
   ],
   "source": [
    "n = 5\n",
    "sol.primesUptoN(n)"
   ]
  },
  {
   "cell_type": "code",
   "execution_count": 5,
   "id": "ae557996",
   "metadata": {},
   "outputs": [
    {
     "data": {
      "text/plain": [
       "[]"
      ]
     },
     "execution_count": 5,
     "metadata": {},
     "output_type": "execute_result"
    }
   ],
   "source": [
    "n = 1\n",
    "sol.primesUptoN(n)"
   ]
  },
  {
   "cell_type": "code",
   "execution_count": 6,
   "id": "007f758b",
   "metadata": {},
   "outputs": [
    {
     "data": {
      "text/plain": [
       "[2, 3, 5, 7, 11]"
      ]
     },
     "execution_count": 6,
     "metadata": {},
     "output_type": "execute_result"
    }
   ],
   "source": [
    "n = 12\n",
    "sol.primesUptoN(n)"
   ]
  }
 ],
 "metadata": {
  "kernelspec": {
   "display_name": "venv",
   "language": "python",
   "name": "python3"
  },
  "language_info": {
   "codemirror_mode": {
    "name": "ipython",
    "version": 3
   },
   "file_extension": ".py",
   "mimetype": "text/x-python",
   "name": "python",
   "nbconvert_exporter": "python",
   "pygments_lexer": "ipython3",
   "version": "3.11.3"
  }
 },
 "nbformat": 4,
 "nbformat_minor": 5
}
