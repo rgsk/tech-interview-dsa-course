{
 "cells": [
  {
   "cell_type": "code",
   "execution_count": 4,
   "id": "3a106cf8",
   "metadata": {},
   "outputs": [],
   "source": [
    "class Solution:\n",
    "    def longestSubstringWithoutRepeat(self, s: str) -> int:\n",
    "        st = set()\n",
    "        l = 0\n",
    "        ans = 0\n",
    "        for r in range(len(s)):\n",
    "            while s[r] in st:\n",
    "                st.remove(s[l])\n",
    "                l += 1\n",
    "            ans = max(ans, r - l + 1)\n",
    "            st.add(s[r])\n",
    "        return ans"
   ]
  },
  {
   "cell_type": "code",
   "execution_count": 5,
   "id": "de3e645d",
   "metadata": {},
   "outputs": [
    {
     "data": {
      "text/plain": [
       "6"
      ]
     },
     "execution_count": 5,
     "metadata": {},
     "output_type": "execute_result"
    }
   ],
   "source": [
    "s = \"workattech\"\n",
    "sol = Solution()\n",
    "sol.longestSubstringWithoutRepeat(s)"
   ]
  },
  {
   "cell_type": "code",
   "execution_count": 6,
   "id": "7b38477e",
   "metadata": {},
   "outputs": [
    {
     "data": {
      "text/plain": [
       "3"
      ]
     },
     "execution_count": 6,
     "metadata": {},
     "output_type": "execute_result"
    }
   ],
   "source": [
    "s = \"mississippi\"\n",
    "sol = Solution()\n",
    "sol.longestSubstringWithoutRepeat(s)"
   ]
  },
  {
   "cell_type": "code",
   "execution_count": 7,
   "id": "6070c932",
   "metadata": {},
   "outputs": [],
   "source": [
    "class Solution:\n",
    "    def longestSubstringWithoutRepeat(self, s: str) -> int:\n",
    "        n = len(s)\n",
    "        longestSubstring = 0\n",
    "        previousIndex = [-1] * 26  # for lowercase letters a-z\n",
    "        start = 0\n",
    "\n",
    "        for i in range(n):\n",
    "            charIndex = ord(s[i]) - ord('a')\n",
    "            start = max(start, previousIndex[charIndex] + 1)\n",
    "            previousIndex[charIndex] = i\n",
    "            longestSubstring = max(longestSubstring, i - start + 1)\n",
    "\n",
    "        return longestSubstring\n"
   ]
  },
  {
   "cell_type": "code",
   "execution_count": 8,
   "id": "fa759464",
   "metadata": {},
   "outputs": [
    {
     "data": {
      "text/plain": [
       "6"
      ]
     },
     "execution_count": 8,
     "metadata": {},
     "output_type": "execute_result"
    }
   ],
   "source": [
    "s = \"workattech\"\n",
    "sol = Solution()\n",
    "sol.longestSubstringWithoutRepeat(s)"
   ]
  },
  {
   "cell_type": "code",
   "execution_count": 9,
   "id": "5e45cb5c",
   "metadata": {},
   "outputs": [
    {
     "data": {
      "text/plain": [
       "3"
      ]
     },
     "execution_count": 9,
     "metadata": {},
     "output_type": "execute_result"
    }
   ],
   "source": [
    "s = \"mississippi\"\n",
    "sol = Solution()\n",
    "sol.longestSubstringWithoutRepeat(s)"
   ]
  }
 ],
 "metadata": {
  "kernelspec": {
   "display_name": "venv",
   "language": "python",
   "name": "python3"
  },
  "language_info": {
   "codemirror_mode": {
    "name": "ipython",
    "version": 3
   },
   "file_extension": ".py",
   "mimetype": "text/x-python",
   "name": "python",
   "nbconvert_exporter": "python",
   "pygments_lexer": "ipython3",
   "version": "3.11.3"
  }
 },
 "nbformat": 4,
 "nbformat_minor": 5
}
