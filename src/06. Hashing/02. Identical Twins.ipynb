{
 "cells": [
  {
   "cell_type": "code",
   "execution_count": 21,
   "id": "aa93648c",
   "metadata": {},
   "outputs": [],
   "source": [
    "from typing import List"
   ]
  },
  {
   "cell_type": "code",
   "execution_count": 22,
   "id": "6cb54186",
   "metadata": {},
   "outputs": [],
   "source": [
    "class Solution:\n",
    "    def getIdenticalTwinsCount(self, arr: List[int]) -> int:\n",
    "        result = 0\n",
    "        n = len(arr)\n",
    "        for i in range(n):\n",
    "            for j in range(i + 1, n):\n",
    "                if arr[i] == arr[j]:\n",
    "                    result += 1\n",
    "        return result"
   ]
  },
  {
   "cell_type": "code",
   "execution_count": 23,
   "id": "e577fb92",
   "metadata": {},
   "outputs": [],
   "source": [
    "sol = Solution()"
   ]
  },
  {
   "cell_type": "code",
   "execution_count": 24,
   "id": "74042cf5",
   "metadata": {},
   "outputs": [
    {
     "data": {
      "text/plain": [
       "2"
      ]
     },
     "execution_count": 24,
     "metadata": {},
     "output_type": "execute_result"
    }
   ],
   "source": [
    "arr = [1, 2, 3, 2, 1]\n",
    "sol.getIdenticalTwinsCount(arr)"
   ]
  },
  {
   "cell_type": "code",
   "execution_count": 25,
   "id": "d3c0aad5",
   "metadata": {},
   "outputs": [
    {
     "data": {
      "text/plain": [
       "4"
      ]
     },
     "execution_count": 25,
     "metadata": {},
     "output_type": "execute_result"
    }
   ],
   "source": [
    "arr = [1, 2, 2, 3, 2, 1]\n",
    "sol.getIdenticalTwinsCount(arr)"
   ]
  },
  {
   "cell_type": "code",
   "execution_count": 26,
   "id": "bbae4e75",
   "metadata": {},
   "outputs": [
    {
     "data": {
      "text/plain": [
       "6"
      ]
     },
     "execution_count": 26,
     "metadata": {},
     "output_type": "execute_result"
    }
   ],
   "source": [
    "arr = [1, 1, 1, 1]\n",
    "sol.getIdenticalTwinsCount(arr)"
   ]
  },
  {
   "cell_type": "code",
   "execution_count": null,
   "id": "8a3e1963",
   "metadata": {},
   "outputs": [],
   "source": [
    "# Hashing solution\n",
    "\n",
    "from collections import defaultdict\n",
    "\n",
    "\n",
    "class Solution:\n",
    "    def getIdenticalTwinsCount(self, arr: List[int]) -> int:\n",
    "        result = 0\n",
    "        mp = defaultdict(int)\n",
    "        for v in arr:\n",
    "            result += mp[v]\n",
    "            mp[v] += 1\n",
    "        return result"
   ]
  },
  {
   "cell_type": "code",
   "execution_count": 28,
   "id": "f559f6e0",
   "metadata": {},
   "outputs": [],
   "source": [
    "sol = Solution()"
   ]
  },
  {
   "cell_type": "code",
   "execution_count": 29,
   "id": "a69bd5b6",
   "metadata": {},
   "outputs": [
    {
     "data": {
      "text/plain": [
       "2"
      ]
     },
     "execution_count": 29,
     "metadata": {},
     "output_type": "execute_result"
    }
   ],
   "source": [
    "arr = [1, 2, 3, 2, 1]\n",
    "sol.getIdenticalTwinsCount(arr)"
   ]
  },
  {
   "cell_type": "code",
   "execution_count": 30,
   "id": "8605a1e2",
   "metadata": {},
   "outputs": [
    {
     "data": {
      "text/plain": [
       "4"
      ]
     },
     "execution_count": 30,
     "metadata": {},
     "output_type": "execute_result"
    }
   ],
   "source": [
    "arr = [1, 2, 2, 3, 2, 1]\n",
    "sol.getIdenticalTwinsCount(arr)"
   ]
  },
  {
   "cell_type": "code",
   "execution_count": 31,
   "id": "4424ff2c",
   "metadata": {},
   "outputs": [
    {
     "data": {
      "text/plain": [
       "6"
      ]
     },
     "execution_count": 31,
     "metadata": {},
     "output_type": "execute_result"
    }
   ],
   "source": [
    "arr = [1, 1, 1, 1]\n",
    "sol.getIdenticalTwinsCount(arr)"
   ]
  }
 ],
 "metadata": {
  "kernelspec": {
   "display_name": "venv",
   "language": "python",
   "name": "python3"
  },
  "language_info": {
   "codemirror_mode": {
    "name": "ipython",
    "version": 3
   },
   "file_extension": ".py",
   "mimetype": "text/x-python",
   "name": "python",
   "nbconvert_exporter": "python",
   "pygments_lexer": "ipython3",
   "version": "3.11.3"
  }
 },
 "nbformat": 4,
 "nbformat_minor": 5
}
