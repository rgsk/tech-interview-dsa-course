{
 "cells": [
  {
   "cell_type": "code",
   "execution_count": 7,
   "id": "60f503e7",
   "metadata": {},
   "outputs": [],
   "source": [
    "class Meeting:\n",
    "    def __init__(self, start: int, end: int):\n",
    "        self.start = start\n",
    "        self.end = end"
   ]
  },
  {
   "cell_type": "code",
   "execution_count": 8,
   "id": "97d6aca4",
   "metadata": {},
   "outputs": [],
   "source": [
    "from typing import List\n",
    "\n",
    "\n",
    "class Solution:\n",
    "    def getMaxMeetings(self, meetings: List[Meeting]) -> int:\n",
    "        meetings.sort(key=lambda x: x.end)\n",
    "        last_end = meetings[0].end\n",
    "        count = 1\n",
    "        for meeting in meetings[1:]:\n",
    "            if meeting.start >= last_end:\n",
    "                count += 1\n",
    "                last_end = meeting.end\n",
    "        return count"
   ]
  },
  {
   "cell_type": "code",
   "execution_count": 9,
   "id": "1d971a5f",
   "metadata": {},
   "outputs": [
    {
     "data": {
      "text/plain": [
       "3"
      ]
     },
     "execution_count": 9,
     "metadata": {},
     "output_type": "execute_result"
    }
   ],
   "source": [
    "meetings = [Meeting(3, 29), Meeting(50, 93), Meeting(88, 92), Meeting(54, 67), Meeting(50, 87)]\n",
    "sol = Solution()\n",
    "sol.getMaxMeetings(meetings)"
   ]
  }
 ],
 "metadata": {
  "kernelspec": {
   "display_name": "venv",
   "language": "python",
   "name": "python3"
  },
  "language_info": {
   "codemirror_mode": {
    "name": "ipython",
    "version": 3
   },
   "file_extension": ".py",
   "mimetype": "text/x-python",
   "name": "python",
   "nbconvert_exporter": "python",
   "pygments_lexer": "ipython3",
   "version": "3.11.3"
  }
 },
 "nbformat": 4,
 "nbformat_minor": 5
}
