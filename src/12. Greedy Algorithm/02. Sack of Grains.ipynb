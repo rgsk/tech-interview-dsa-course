{
 "cells": [
  {
   "cell_type": "code",
   "execution_count": 7,
   "id": "56bf73ae",
   "metadata": {},
   "outputs": [],
   "source": [
    "class Grain:\n",
    "\tdef __init__(self, weight: int, value: int):\n",
    "\t\tself.weight = weight\n",
    "\t\tself.value = value"
   ]
  },
  {
   "cell_type": "code",
   "execution_count": 8,
   "id": "2ee2eeac",
   "metadata": {},
   "outputs": [],
   "source": [
    "\n",
    "from typing import List\n",
    "\n",
    "\n",
    "class Solution:\n",
    "    def maxSackValue(self, grains: List[Grain], w: int) -> float:\n",
    "        # grains with higher value to weight ratio are taken first\n",
    "        grains.sort(key=lambda x: x.value/x.weight, reverse=True)\n",
    "        i = 0\n",
    "        result = 0\n",
    "        while i < len(grains) and w > grains[i].weight:\n",
    "            result += grains[i].value\n",
    "            w -= grains[i].weight\n",
    "            i += 1\n",
    "\n",
    "        # take propotional value, for remaining w\n",
    "        if i < len(grains) and w > 0:\n",
    "            result += grains[i].value / grains[i].weight * w\n",
    "        return result"
   ]
  },
  {
   "cell_type": "code",
   "execution_count": 9,
   "id": "5e982954",
   "metadata": {},
   "outputs": [
    {
     "data": {
      "text/plain": [
       "42.5"
      ]
     },
     "execution_count": 9,
     "metadata": {},
     "output_type": "execute_result"
    }
   ],
   "source": [
    "grains = [Grain(5, 20), Grain(8, 20), Grain(4, 15), Grain(5, 8)]\n",
    "w = 12\n",
    "sol = Solution()\n",
    "sol.maxSackValue(grains, w)"
   ]
  }
 ],
 "metadata": {
  "kernelspec": {
   "display_name": "venv",
   "language": "python",
   "name": "python3"
  },
  "language_info": {
   "codemirror_mode": {
    "name": "ipython",
    "version": 3
   },
   "file_extension": ".py",
   "mimetype": "text/x-python",
   "name": "python",
   "nbconvert_exporter": "python",
   "pygments_lexer": "ipython3",
   "version": "3.11.3"
  }
 },
 "nbformat": 4,
 "nbformat_minor": 5
}
