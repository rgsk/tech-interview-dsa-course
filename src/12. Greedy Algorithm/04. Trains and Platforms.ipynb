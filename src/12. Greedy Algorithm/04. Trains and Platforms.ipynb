{
 "cells": [
  {
   "cell_type": "code",
   "execution_count": 1,
   "id": "7477a72d",
   "metadata": {},
   "outputs": [],
   "source": [
    "class Train:\n",
    "\tdef __init__(self, arrival: int, departure: int):\n",
    "\t\tself.arrival = arrival\n",
    "\t\tself.departure = departure\n"
   ]
  },
  {
   "cell_type": "code",
   "execution_count": 2,
   "id": "b67ea2b9",
   "metadata": {},
   "outputs": [],
   "source": [
    "\n",
    "from typing import List\n",
    "\n",
    "\n",
    "class Solution:\n",
    "    def minPlatforms(self, trains: List[Train]) -> int:\n",
    "        arrivals = [train.arrival for train in trains]\n",
    "        departures = [train.departure for train in trains]\n",
    "        arrivals.sort()\n",
    "        departures.sort()\n",
    "        occupied = 1\n",
    "        max_occupied = 1\n",
    "        ai = 1\n",
    "        di = 0\n",
    "        n = len(trains)\n",
    "        while ai < n:\n",
    "            if arrivals[ai] <= departures[di]:\n",
    "                occupied += 1\n",
    "                max_occupied = max(max_occupied, occupied)\n",
    "                ai += 1\n",
    "            else:\n",
    "                occupied -= 1\n",
    "                di += 1\n",
    "        return max_occupied"
   ]
  },
  {
   "cell_type": "code",
   "execution_count": 3,
   "id": "2903ba73",
   "metadata": {},
   "outputs": [
    {
     "data": {
      "text/plain": [
       "3"
      ]
     },
     "execution_count": 3,
     "metadata": {},
     "output_type": "execute_result"
    }
   ],
   "source": [
    "trains = [Train(120, 130), Train(130, 150), Train(125, 145), Train(150, 180)]\n",
    "sol = Solution()\n",
    "sol.minPlatforms(trains)"
   ]
  }
 ],
 "metadata": {
  "kernelspec": {
   "display_name": "venv",
   "language": "python",
   "name": "python3"
  },
  "language_info": {
   "codemirror_mode": {
    "name": "ipython",
    "version": 3
   },
   "file_extension": ".py",
   "mimetype": "text/x-python",
   "name": "python",
   "nbconvert_exporter": "python",
   "pygments_lexer": "ipython3",
   "version": "3.11.3"
  }
 },
 "nbformat": 4,
 "nbformat_minor": 5
}
