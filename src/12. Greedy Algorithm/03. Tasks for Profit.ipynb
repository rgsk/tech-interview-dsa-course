{
 "cells": [
  {
   "cell_type": "code",
   "execution_count": 4,
   "id": "df4d27ce",
   "metadata": {},
   "outputs": [],
   "source": [
    "class Task:\n",
    "\tdef __init__(self, deadline: int, profit: int):\n",
    "\t\tself.deadline = deadline\n",
    "\t\tself.profit = profit"
   ]
  },
  {
   "cell_type": "code",
   "execution_count": null,
   "id": "66ac4e44",
   "metadata": {},
   "outputs": [],
   "source": [
    "from typing import List\n",
    "\n",
    "\n",
    "class Solution:\n",
    "    def getMaxProfit(self, tasks: List[Task]) -> int:\n",
    "        tasks.sort(key=lambda x : x.profit, reverse=True)\n",
    "        slots = [True] * 1001\n",
    "        total_profit = 0\n",
    "        for task in tasks:\n",
    "            # Find a slot for this task (try to find a slot on or before its deadline)\n",
    "            for d in range(task.deadline, 0, -1):\n",
    "                if slots[d]:\n",
    "                    total_profit += task.profit\n",
    "                    slots[d] = False\n",
    "                    break\n",
    "        return total_profit"
   ]
  },
  {
   "cell_type": "code",
   "execution_count": 6,
   "id": "32992ca1",
   "metadata": {},
   "outputs": [
    {
     "data": {
      "text/plain": [
       "90"
      ]
     },
     "execution_count": 6,
     "metadata": {},
     "output_type": "execute_result"
    }
   ],
   "source": [
    "tasks = [Task(4, 20), Task(2, 10), Task(2, 40), Task(1, 30)]\n",
    "sol = Solution()\n",
    "sol.getMaxProfit(tasks)"
   ]
  }
 ],
 "metadata": {
  "kernelspec": {
   "display_name": "venv",
   "language": "python",
   "name": "python3"
  },
  "language_info": {
   "codemirror_mode": {
    "name": "ipython",
    "version": 3
   },
   "file_extension": ".py",
   "mimetype": "text/x-python",
   "name": "python",
   "nbconvert_exporter": "python",
   "pygments_lexer": "ipython3",
   "version": "3.11.3"
  }
 },
 "nbformat": 4,
 "nbformat_minor": 5
}
