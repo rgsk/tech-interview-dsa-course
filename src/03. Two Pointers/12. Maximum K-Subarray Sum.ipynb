{
 "cells": [
  {
   "cell_type": "code",
   "execution_count": 1,
   "id": "8eb69613",
   "metadata": {},
   "outputs": [],
   "source": [
    "from typing import List\n",
    "\n",
    "\n",
    "class Solution:\n",
    "    def maxKSubarraySum(self, A: List[int], k: int) -> int:\n",
    "        max_window = 0\n",
    "        window = 0\n",
    "        for i in range(len(A)):\n",
    "            if i >= k:\n",
    "                window -= A[i-k]\n",
    "            window += A[i]\n",
    "            if i >= k - 1:\n",
    "                max_window = max(max_window, window)\n",
    "        return max_window"
   ]
  },
  {
   "cell_type": "code",
   "execution_count": 2,
   "id": "ac049ff4",
   "metadata": {},
   "outputs": [
    {
     "data": {
      "text/plain": [
       "19"
      ]
     },
     "execution_count": 2,
     "metadata": {},
     "output_type": "execute_result"
    }
   ],
   "source": [
    "A = [3, 5, 6, 2, 4, 7, 8]\n",
    "k = 3\n",
    "sol = Solution()\n",
    "sol.maxKSubarraySum(A, k)"
   ]
  }
 ],
 "metadata": {
  "kernelspec": {
   "display_name": "venv (3.11.3)",
   "language": "python",
   "name": "python3"
  },
  "language_info": {
   "codemirror_mode": {
    "name": "ipython",
    "version": 3
   },
   "file_extension": ".py",
   "mimetype": "text/x-python",
   "name": "python",
   "nbconvert_exporter": "python",
   "pygments_lexer": "ipython3",
   "version": "3.11.3"
  }
 },
 "nbformat": 4,
 "nbformat_minor": 5
}
