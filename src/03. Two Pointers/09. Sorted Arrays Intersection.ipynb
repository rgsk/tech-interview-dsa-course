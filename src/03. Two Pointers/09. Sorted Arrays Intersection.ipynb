{
 "cells": [
  {
   "cell_type": "code",
   "execution_count": 6,
   "id": "b591738c",
   "metadata": {},
   "outputs": [],
   "source": [
    "from typing import List"
   ]
  },
  {
   "cell_type": "code",
   "execution_count": 7,
   "id": "f84b2a4f",
   "metadata": {},
   "outputs": [],
   "source": [
    "class Solution:\n",
    "    def intersection(self, A: List[int], B: List[int]) -> List[int]:\n",
    "        result = []\n",
    "        i = 0\n",
    "        j = 0\n",
    "        while i < len(A) and j < len(B):\n",
    "            if A[i] < B[j]:\n",
    "                i += 1\n",
    "            elif B[j] < A[i]:\n",
    "                j += 1\n",
    "            else:\n",
    "                result.append(A[i])\n",
    "                i += 1\n",
    "                j += 1\n",
    "        return result"
   ]
  },
  {
   "cell_type": "code",
   "execution_count": 8,
   "id": "99ea25a9",
   "metadata": {},
   "outputs": [
    {
     "data": {
      "text/plain": [
       "[5, 6, 6, 7]"
      ]
     },
     "execution_count": 8,
     "metadata": {},
     "output_type": "execute_result"
    }
   ],
   "source": [
    "A = [1, 3, 4, 5, 5, 6, 6, 7]\n",
    "B = [2, 5, 6, 6, 7, 8]\n",
    "sol = Solution()\n",
    "sol.intersection(A, B)"
   ]
  }
 ],
 "metadata": {
  "kernelspec": {
   "display_name": "venv (3.11.3)",
   "language": "python",
   "name": "python3"
  },
  "language_info": {
   "codemirror_mode": {
    "name": "ipython",
    "version": 3
   },
   "file_extension": ".py",
   "mimetype": "text/x-python",
   "name": "python",
   "nbconvert_exporter": "python",
   "pygments_lexer": "ipython3",
   "version": "3.11.3"
  }
 },
 "nbformat": 4,
 "nbformat_minor": 5
}
