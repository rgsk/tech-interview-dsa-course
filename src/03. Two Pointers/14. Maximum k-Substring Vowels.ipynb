{
 "cells": [
  {
   "cell_type": "code",
   "execution_count": 4,
   "id": "413f5425",
   "metadata": {},
   "outputs": [],
   "source": [
    "def is_vowel(c):\n",
    "    return c in ['a', 'e', 'i', 'o', 'u']\n",
    "\n",
    "class Solution:\n",
    "    def maxKSubstringVowels(self, s: str, k: int) -> int:\n",
    "        max_vowels = 0\n",
    "        vowels = 0\n",
    "        for i in range(len(s)):\n",
    "            if i >= k:\n",
    "                if is_vowel(s[i-k]):\n",
    "                    vowels -= 1\n",
    "            if is_vowel(s[i]):\n",
    "                vowels += 1\n",
    "            if i >= k - 1:\n",
    "                max_vowels = max(max_vowels, vowels)\n",
    "        return max_vowels"
   ]
  },
  {
   "cell_type": "code",
   "execution_count": 5,
   "id": "64078634",
   "metadata": {},
   "outputs": [
    {
     "data": {
      "text/plain": [
       "2"
      ]
     },
     "execution_count": 5,
     "metadata": {},
     "output_type": "execute_result"
    }
   ],
   "source": [
    "s = \"workaattech\"\n",
    "k = 3\n",
    "sol = Solution()\n",
    "sol.maxKSubstringVowels(s, k)"
   ]
  },
  {
   "cell_type": "code",
   "execution_count": 6,
   "id": "997262e2",
   "metadata": {},
   "outputs": [
    {
     "data": {
      "text/plain": [
       "1"
      ]
     },
     "execution_count": 6,
     "metadata": {},
     "output_type": "execute_result"
    }
   ],
   "source": [
    "s = \"substring\"\n",
    "k = 2\n",
    "sol = Solution()\n",
    "sol.maxKSubstringVowels(s, k)"
   ]
  }
 ],
 "metadata": {
  "kernelspec": {
   "display_name": "venv",
   "language": "python",
   "name": "python3"
  },
  "language_info": {
   "codemirror_mode": {
    "name": "ipython",
    "version": 3
   },
   "file_extension": ".py",
   "mimetype": "text/x-python",
   "name": "python",
   "nbconvert_exporter": "python",
   "pygments_lexer": "ipython3",
   "version": "3.11.3"
  }
 },
 "nbformat": 4,
 "nbformat_minor": 5
}
