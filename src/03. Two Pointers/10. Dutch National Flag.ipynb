{
 "cells": [
  {
   "cell_type": "code",
   "execution_count": 4,
   "id": "d13213cc",
   "metadata": {},
   "outputs": [],
   "source": [
    "from typing import List"
   ]
  },
  {
   "cell_type": "code",
   "execution_count": 5,
   "id": "4ea9f4da",
   "metadata": {},
   "outputs": [],
   "source": [
    "class Solution:\n",
    "\tdef sortTheArray(self, A: List[int]) -> None:\n",
    "\t\tn = len(A)\n",
    "\t\tl = 0\n",
    "\t\tm = 0\n",
    "\t\tr = n - 1\n",
    "\t\twhile m <= r:\n",
    "\t\t\tif A[m] == 0:\n",
    "\t\t\t\tA[l], A[m] = A[m], A[l]\n",
    "\t\t\t\tl += 1\n",
    "\t\t\t\tm += 1\n",
    "\t\t\telif A[m] == 2:\n",
    "\t\t\t\tA[r], A[m] = A[m], A[r]\n",
    "\t\t\t\tr -= 1\n",
    "\t\t\telse:\n",
    "\t\t\t\tm += 1"
   ]
  },
  {
   "cell_type": "code",
   "execution_count": 6,
   "id": "86765155",
   "metadata": {},
   "outputs": [
    {
     "data": {
      "text/plain": [
       "[0, 1, 2, 2]"
      ]
     },
     "execution_count": 6,
     "metadata": {},
     "output_type": "execute_result"
    }
   ],
   "source": [
    "A = [2, 2, 0, 1]\n",
    "sol = Solution()\n",
    "sol.sortTheArray(A)\n",
    "A"
   ]
  }
 ],
 "metadata": {
  "kernelspec": {
   "display_name": "venv (3.11.3)",
   "language": "python",
   "name": "python3"
  },
  "language_info": {
   "codemirror_mode": {
    "name": "ipython",
    "version": 3
   },
   "file_extension": ".py",
   "mimetype": "text/x-python",
   "name": "python",
   "nbconvert_exporter": "python",
   "pygments_lexer": "ipython3",
   "version": "3.11.3"
  }
 },
 "nbformat": 4,
 "nbformat_minor": 5
}
