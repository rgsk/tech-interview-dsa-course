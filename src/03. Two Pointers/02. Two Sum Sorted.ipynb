{
 "cells": [
  {
   "cell_type": "code",
   "execution_count": 1,
   "id": "8f74e3ad",
   "metadata": {},
   "outputs": [],
   "source": [
    "from typing import List"
   ]
  },
  {
   "cell_type": "code",
   "execution_count": 2,
   "id": "d064a4bf",
   "metadata": {},
   "outputs": [],
   "source": [
    "class Solution:\n",
    "    def hasTwoSumZero(self, A: List[int]) -> bool:\n",
    "        l = 0\n",
    "        r = len(A) - 1\n",
    "        while l < r:\n",
    "            if A[l] + A[r] == 0:\n",
    "                return True\n",
    "            elif A[l] + A[r] < 0:\n",
    "                # we need a bigger number\n",
    "                l += 1\n",
    "            else:\n",
    "                r -= 1\n",
    "        return False"
   ]
  },
  {
   "cell_type": "code",
   "execution_count": 3,
   "id": "560f8406",
   "metadata": {},
   "outputs": [
    {
     "data": {
      "text/plain": [
       "True"
      ]
     },
     "execution_count": 3,
     "metadata": {},
     "output_type": "execute_result"
    }
   ],
   "source": [
    "A = [-3, 1, 3, 4]\n",
    "sol = Solution()\n",
    "sol.hasTwoSumZero(A)"
   ]
  },
  {
   "cell_type": "code",
   "execution_count": 4,
   "id": "6afe2d46",
   "metadata": {},
   "outputs": [
    {
     "data": {
      "text/plain": [
       "False"
      ]
     },
     "execution_count": 4,
     "metadata": {},
     "output_type": "execute_result"
    }
   ],
   "source": [
    "A = [-2, 1, 3, 4]\n",
    "sol = Solution()\n",
    "sol.hasTwoSumZero(A)"
   ]
  }
 ],
 "metadata": {
  "kernelspec": {
   "display_name": "venv",
   "language": "python",
   "name": "python3"
  },
  "language_info": {
   "codemirror_mode": {
    "name": "ipython",
    "version": 3
   },
   "file_extension": ".py",
   "mimetype": "text/x-python",
   "name": "python",
   "nbconvert_exporter": "python",
   "pygments_lexer": "ipython3",
   "version": "3.11.3"
  }
 },
 "nbformat": 4,
 "nbformat_minor": 5
}
