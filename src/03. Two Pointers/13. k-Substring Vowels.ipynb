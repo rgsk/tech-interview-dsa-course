{
 "cells": [
  {
   "cell_type": "code",
   "execution_count": null,
   "id": "f72de5dd",
   "metadata": {},
   "outputs": [],
   "source": [
    "from typing import List\n",
    "\n",
    "def is_vowel(c):\n",
    "    return c in ['a', 'e', 'i', 'o', 'u']\n",
    "\n",
    "class Solution:\n",
    "    def kSubstringVowels(self, s: str, k: int) -> List[int]:\n",
    "        result = []\n",
    "        vowels = 0\n",
    "        for i in range(len(s)):\n",
    "            if i >= k:\n",
    "                if is_vowel(s[i-k]):\n",
    "                    vowels -= 1\n",
    "            if is_vowel(s[i]):\n",
    "                vowels += 1\n",
    "            if i >= k - 1:\n",
    "                result.append(vowels)\n",
    "        return result"
   ]
  },
  {
   "cell_type": "code",
   "execution_count": 2,
   "id": "70725ae1",
   "metadata": {},
   "outputs": [
    {
     "data": {
      "text/plain": [
       "[1, 1, 1, 1, 1, 1, 1, 1]"
      ]
     },
     "execution_count": 2,
     "metadata": {},
     "output_type": "execute_result"
    }
   ],
   "source": [
    "s = \"workattech\"\n",
    "k = 3\n",
    "sol = Solution()\n",
    "sol.kSubstringVowels(s, k)"
   ]
  },
  {
   "cell_type": "code",
   "execution_count": 3,
   "id": "1f4e814f",
   "metadata": {},
   "outputs": [
    {
     "data": {
      "text/plain": [
       "[1, 1, 0, 0, 0, 1, 1, 0]"
      ]
     },
     "execution_count": 3,
     "metadata": {},
     "output_type": "execute_result"
    }
   ],
   "source": [
    "s = \"substring\"\n",
    "k = 2\n",
    "sol = Solution()\n",
    "sol.kSubstringVowels(s, k)"
   ]
  }
 ],
 "metadata": {
  "kernelspec": {
   "display_name": "venv (3.11.3)",
   "language": "python",
   "name": "python3"
  },
  "language_info": {
   "codemirror_mode": {
    "name": "ipython",
    "version": 3
   },
   "file_extension": ".py",
   "mimetype": "text/x-python",
   "name": "python",
   "nbconvert_exporter": "python",
   "pygments_lexer": "ipython3",
   "version": "3.11.3"
  }
 },
 "nbformat": 4,
 "nbformat_minor": 5
}
