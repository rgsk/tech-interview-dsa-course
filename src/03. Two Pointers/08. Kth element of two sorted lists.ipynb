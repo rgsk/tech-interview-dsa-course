{
 "cells": [
  {
   "cell_type": "code",
   "execution_count": 6,
   "id": "1b8a86a5",
   "metadata": {},
   "outputs": [],
   "source": [
    "from typing import List"
   ]
  },
  {
   "cell_type": "code",
   "execution_count": 7,
   "id": "926339d5",
   "metadata": {},
   "outputs": [],
   "source": [
    "class Solution:\n",
    "    def getKthElement(self, firstArr: List[int], secondArr: List[int], k: int) -> int:\n",
    "        i = 0\n",
    "        j = 0\n",
    "        while k > 1 and i < len(firstArr) and j < len(secondArr):\n",
    "            if firstArr[i] < secondArr[j]:\n",
    "                i += 1\n",
    "            else:\n",
    "                j += 1\n",
    "            k -= 1\n",
    "        if k == 1:\n",
    "            if i == len(firstArr):\n",
    "                return secondArr[j]\n",
    "            elif j == len(secondArr):\n",
    "                return firstArr[i]\n",
    "            else:\n",
    "                return min(firstArr[i], secondArr[j])\n",
    "        else:\n",
    "            if i == len(firstArr):\n",
    "                return secondArr[j + k - 1]\n",
    "            else:\n",
    "                # j == len(secondArr)\n",
    "                return firstArr[i + k - 1]"
   ]
  },
  {
   "cell_type": "code",
   "execution_count": 8,
   "id": "097b0ba4",
   "metadata": {},
   "outputs": [
    {
     "data": {
      "text/plain": [
       "3"
      ]
     },
     "execution_count": 8,
     "metadata": {},
     "output_type": "execute_result"
    }
   ],
   "source": [
    "A = [1, 2, 3, 4, 5, 6]\n",
    "B = [3, 4, 4, 5, 6, 6]\n",
    "sol = Solution()\n",
    "sol.getKthElement(A, B, 3)"
   ]
  },
  {
   "cell_type": "code",
   "execution_count": 9,
   "id": "2ed36d40",
   "metadata": {},
   "outputs": [
    {
     "data": {
      "text/plain": [
       "4"
      ]
     },
     "execution_count": 9,
     "metadata": {},
     "output_type": "execute_result"
    }
   ],
   "source": [
    "A = [1, 2, 3, 4, 5, 6]\n",
    "B = [3, 4, 4, 5, 6, 6]\n",
    "sol = Solution()\n",
    "sol.getKthElement(A, B, 6)"
   ]
  }
 ],
 "metadata": {
  "kernelspec": {
   "display_name": "venv",
   "language": "python",
   "name": "python3"
  },
  "language_info": {
   "codemirror_mode": {
    "name": "ipython",
    "version": 3
   },
   "file_extension": ".py",
   "mimetype": "text/x-python",
   "name": "python",
   "nbconvert_exporter": "python",
   "pygments_lexer": "ipython3",
   "version": "3.11.3"
  }
 },
 "nbformat": 4,
 "nbformat_minor": 5
}
