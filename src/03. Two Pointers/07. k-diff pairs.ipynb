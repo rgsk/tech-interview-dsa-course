{
 "cells": [
  {
   "cell_type": "code",
   "execution_count": 89,
   "id": "0c14dddf",
   "metadata": {},
   "outputs": [],
   "source": [
    "from typing import List"
   ]
  },
  {
   "cell_type": "code",
   "execution_count": 90,
   "id": "fd7ce61d",
   "metadata": {},
   "outputs": [],
   "source": [
    "class Solution:\n",
    "\tdef kDiffPairs(self, A: List[int], k: int) -> int:\n",
    "\t\tn = len(A)\n",
    "\t\tl = 0\n",
    "\t\tr = 0\n",
    "\t\tres = 0\n",
    "\t\twhile r < n:\n",
    "\t\t\tdiff = A[r] - A[l]\n",
    "\t\t\tif diff == k and l != r:\n",
    "\t\t\t\tres += 1\n",
    "\t\t\t\t# prevent duplicate pairs\n",
    "\t\t\t\twhile l + 1 < n and A[l] == A[l+1]:\n",
    "\t\t\t\t\tl += 1\n",
    "\t\t\t\twhile r + 1 < n and A[r] == A[r+1]:\n",
    "\t\t\t\t\tr += 1\n",
    "\t\t\t\tl += 1\n",
    "\t\t\t\tr += 1\n",
    "\t\t\telif diff <= k:\n",
    "\t\t\t\tr += 1\n",
    "\t\t\telse:\n",
    "\t\t\t\tl += 1\n",
    "\t\treturn res"
   ]
  },
  {
   "cell_type": "code",
   "execution_count": 91,
   "id": "293a36be",
   "metadata": {},
   "outputs": [],
   "source": [
    "sol = Solution()"
   ]
  },
  {
   "cell_type": "code",
   "execution_count": 92,
   "id": "b2de3853",
   "metadata": {},
   "outputs": [
    {
     "data": {
      "text/plain": [
       "3"
      ]
     },
     "execution_count": 92,
     "metadata": {},
     "output_type": "execute_result"
    }
   ],
   "source": [
    "A = [1, 3, 5, 7, 10]\n",
    "k = 2\n",
    "sol.kDiffPairs(A, k)"
   ]
  },
  {
   "cell_type": "code",
   "execution_count": 93,
   "id": "580408de",
   "metadata": {},
   "outputs": [
    {
     "data": {
      "text/plain": [
       "1"
      ]
     },
     "execution_count": 93,
     "metadata": {},
     "output_type": "execute_result"
    }
   ],
   "source": [
    "A = [1, 3, 5, 7, 10]\n",
    "k = 3\n",
    "sol.kDiffPairs(A, k)"
   ]
  },
  {
   "cell_type": "code",
   "execution_count": 94,
   "id": "47b2a7ac",
   "metadata": {},
   "outputs": [
    {
     "data": {
      "text/plain": [
       "0"
      ]
     },
     "execution_count": 94,
     "metadata": {},
     "output_type": "execute_result"
    }
   ],
   "source": [
    "A = [1, 3, 5, 7, 10]\n",
    "k = 1\n",
    "sol.kDiffPairs(A, k)"
   ]
  },
  {
   "cell_type": "code",
   "execution_count": 95,
   "id": "e27c3342",
   "metadata": {},
   "outputs": [],
   "source": [
    "class Solution:\n",
    "\tdef kDiffPairs(self, A: List[int], k: int) -> int:\n",
    "\t\tn = len(A)\n",
    "\t\tl = 0\n",
    "\t\tr = 0\n",
    "\t\tres = 0\n",
    "\t\twhile r < n:\n",
    "\t\t\tdiff = A[r] - A[l]\n",
    "\t\t\tif diff == k and l != r:\n",
    "\t\t\t\tres += 1\n",
    "\t\t\t\t# even a single condition would work\n",
    "\t\t\t\twhile r + 1 < n and A[r] == A[r+1]:\n",
    "\t\t\t\t\tr += 1\n",
    "\t\t\t\tl += 1\n",
    "\t\t\t\tr += 1\n",
    "\t\t\telif diff <= k:\n",
    "\t\t\t\tr += 1\n",
    "\t\t\telse:\n",
    "\t\t\t\tl += 1\n",
    "\t\treturn res"
   ]
  },
  {
   "cell_type": "code",
   "execution_count": 96,
   "id": "5b6da7b9",
   "metadata": {},
   "outputs": [
    {
     "data": {
      "text/plain": [
       "3"
      ]
     },
     "execution_count": 96,
     "metadata": {},
     "output_type": "execute_result"
    }
   ],
   "source": [
    "A = [1, 3, 5, 7, 10]\n",
    "k = 2\n",
    "sol = Solution()\n",
    "sol.kDiffPairs(A, k)"
   ]
  },
  {
   "cell_type": "code",
   "execution_count": 97,
   "id": "32c57733",
   "metadata": {},
   "outputs": [],
   "source": [
    "class Solution:\n",
    "\tdef kDiffPairs(self, A: List[int], k: int) -> int:\n",
    "\t\tn = len(A)\n",
    "\t\tl = 0\n",
    "\t\tr = 0\n",
    "\t\tres = 0\n",
    "\t\twhile r < n:\n",
    "\t\t\tdiff = A[r] - A[l]\n",
    "\t\t\tif diff == k and l != r:\n",
    "\t\t\t\tres += 1\n",
    "\t\t\t\t# even a single condition would work\n",
    "\t\t\t\twhile l + 1 < n and A[l] == A[l+1]:\n",
    "\t\t\t\t\tl += 1\n",
    "\t\t\t\tl += 1\n",
    "\t\t\t\tr += 1\n",
    "\t\t\telif diff <= k:\n",
    "\t\t\t\tr += 1\n",
    "\t\t\telse:\n",
    "\t\t\t\tl += 1\n",
    "\t\treturn res"
   ]
  },
  {
   "cell_type": "code",
   "execution_count": 98,
   "id": "8055c6be",
   "metadata": {},
   "outputs": [
    {
     "data": {
      "text/plain": [
       "3"
      ]
     },
     "execution_count": 98,
     "metadata": {},
     "output_type": "execute_result"
    }
   ],
   "source": [
    "A = [1, 3, 5, 7, 10]\n",
    "k = 2\n",
    "sol = Solution()\n",
    "sol.kDiffPairs(A, k)"
   ]
  },
  {
   "cell_type": "code",
   "execution_count": 99,
   "id": "4923529a",
   "metadata": {},
   "outputs": [],
   "source": [
    "class Solution:\n",
    "\tdef kDiffPairs(self, A: List[int], k: int) -> int:\n",
    "\t\tn = len(A)\n",
    "\t\tl = 0\n",
    "\t\tr = 0\n",
    "\t\tres = 0\n",
    "\t\twhile r < n:\n",
    "\t\t\twhile r < n - 1 and A[r] == A[r+1]:\n",
    "\t\t\t\tr += 1\n",
    "\n",
    "\t\t\tdiff = A[r] - A[l]\n",
    "\t\t\tif diff == k:\n",
    "\t\t\t\tres += 1\n",
    "\t\t\t\tl += 1\n",
    "\t\t\t\tr += 1\n",
    "\t\t\telif diff < k:\n",
    "\t\t\t\tr += 1\n",
    "\t\t\telse:\n",
    "\t\t\t\tl += 1\n",
    "\t\t\t\t\n",
    "\t\t\tif l == r:\n",
    "\t\t\t\tr += 1\n",
    "\t\t\t\t\n",
    "\t\treturn res"
   ]
  },
  {
   "cell_type": "code",
   "execution_count": 100,
   "id": "057f2841",
   "metadata": {},
   "outputs": [],
   "source": [
    "sol = Solution()"
   ]
  },
  {
   "cell_type": "code",
   "execution_count": 101,
   "id": "1b55d0c5",
   "metadata": {},
   "outputs": [
    {
     "data": {
      "text/plain": [
       "3"
      ]
     },
     "execution_count": 101,
     "metadata": {},
     "output_type": "execute_result"
    }
   ],
   "source": [
    "A = [1, 3, 5, 7, 10]\n",
    "k = 2\n",
    "sol.kDiffPairs(A, k)"
   ]
  },
  {
   "cell_type": "code",
   "execution_count": 102,
   "id": "b2c33c21",
   "metadata": {},
   "outputs": [
    {
     "data": {
      "text/plain": [
       "1"
      ]
     },
     "execution_count": 102,
     "metadata": {},
     "output_type": "execute_result"
    }
   ],
   "source": [
    "A = [1, 3, 5, 7, 10]\n",
    "k = 3\n",
    "sol.kDiffPairs(A, k)"
   ]
  },
  {
   "cell_type": "code",
   "execution_count": 103,
   "id": "b9d82849",
   "metadata": {},
   "outputs": [
    {
     "data": {
      "text/plain": [
       "0"
      ]
     },
     "execution_count": 103,
     "metadata": {},
     "output_type": "execute_result"
    }
   ],
   "source": [
    "A = [1, 3, 5, 7, 10]\n",
    "k = 1\n",
    "sol.kDiffPairs(A, k)"
   ]
  }
 ],
 "metadata": {
  "kernelspec": {
   "display_name": "venv",
   "language": "python",
   "name": "python3"
  },
  "language_info": {
   "codemirror_mode": {
    "name": "ipython",
    "version": 3
   },
   "file_extension": ".py",
   "mimetype": "text/x-python",
   "name": "python",
   "nbconvert_exporter": "python",
   "pygments_lexer": "ipython3",
   "version": "3.11.3"
  }
 },
 "nbformat": 4,
 "nbformat_minor": 5
}
