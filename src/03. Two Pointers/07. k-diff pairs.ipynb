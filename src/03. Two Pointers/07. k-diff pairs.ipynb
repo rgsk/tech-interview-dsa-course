{
 "cells": [
  {
   "cell_type": "code",
   "execution_count": 65,
   "id": "0c14dddf",
   "metadata": {},
   "outputs": [],
   "source": [
    "from typing import List"
   ]
  },
  {
   "cell_type": "code",
   "execution_count": null,
   "id": "fd7ce61d",
   "metadata": {},
   "outputs": [],
   "source": [
    "class Solution:\n",
    "\tdef kDiffPairs(self, A: List[int], k: int) -> int:\n",
    "\t\tn = len(A)\n",
    "\t\tl = 0\n",
    "\t\tr = 0\n",
    "\t\tres = 0\n",
    "\t\twhile r < n:\n",
    "\t\t\tdiff = A[r] - A[l]\n",
    "\t\t\tif diff == k and l != r:\n",
    "\t\t\t\tres += 1\n",
    "\t\t\t\t# prevent duplicate pairs\n",
    "\t\t\t\twhile l + 1 < n and A[l] == A[l+1]:\n",
    "\t\t\t\t\tl += 1\n",
    "\t\t\t\twhile r + 1 < n and A[r] == A[r+1]:\n",
    "\t\t\t\t\tr += 1\n",
    "\t\t\t\tl += 1\n",
    "\t\t\t\tr += 1\n",
    "\t\t\telif diff <= k:\n",
    "\t\t\t\tr += 1\n",
    "\t\t\telse:\n",
    "\t\t\t\tl += 1\n",
    "\t\treturn res"
   ]
  },
  {
   "cell_type": "code",
   "execution_count": 67,
   "id": "293a36be",
   "metadata": {},
   "outputs": [],
   "source": [
    "sol = Solution()"
   ]
  },
  {
   "cell_type": "code",
   "execution_count": 68,
   "id": "b2de3853",
   "metadata": {},
   "outputs": [
    {
     "data": {
      "text/plain": [
       "3"
      ]
     },
     "execution_count": 68,
     "metadata": {},
     "output_type": "execute_result"
    }
   ],
   "source": [
    "A = [1, 3, 5, 7, 10]\n",
    "k = 2\n",
    "sol.kDiffPairs(A, k)"
   ]
  },
  {
   "cell_type": "code",
   "execution_count": 69,
   "id": "580408de",
   "metadata": {},
   "outputs": [
    {
     "data": {
      "text/plain": [
       "1"
      ]
     },
     "execution_count": 69,
     "metadata": {},
     "output_type": "execute_result"
    }
   ],
   "source": [
    "A = [1, 3, 5, 7, 10]\n",
    "k = 3\n",
    "sol.kDiffPairs(A, k)"
   ]
  },
  {
   "cell_type": "code",
   "execution_count": 70,
   "id": "47b2a7ac",
   "metadata": {},
   "outputs": [
    {
     "data": {
      "text/plain": [
       "0"
      ]
     },
     "execution_count": 70,
     "metadata": {},
     "output_type": "execute_result"
    }
   ],
   "source": [
    "A = [1, 3, 5, 7, 10]\n",
    "k = 1\n",
    "sol.kDiffPairs(A, k)"
   ]
  },
  {
   "cell_type": "code",
   "execution_count": 71,
   "id": "4923529a",
   "metadata": {},
   "outputs": [],
   "source": [
    "class Solution:\n",
    "\tdef kDiffPairs(self, A: List[int], k: int) -> int:\n",
    "\t\tn = len(A)\n",
    "\t\tl = 0\n",
    "\t\tr = 0\n",
    "\t\tres = 0\n",
    "\t\twhile r < n:\n",
    "\t\t\twhile r < n - 1 and A[r] == A[r+1]:\n",
    "\t\t\t\tr += 1\n",
    "\n",
    "\t\t\tdiff = A[r] - A[l]\n",
    "\t\t\tif diff == k:\n",
    "\t\t\t\tres += 1\n",
    "\t\t\t\tl += 1\n",
    "\t\t\t\tr += 1\n",
    "\t\t\telif diff < k:\n",
    "\t\t\t\tr += 1\n",
    "\t\t\telse:\n",
    "\t\t\t\tl += 1\n",
    "\t\t\t\t\n",
    "\t\t\tif l == r:\n",
    "\t\t\t\tr += 1\n",
    "\t\t\t\t\n",
    "\t\treturn res"
   ]
  },
  {
   "cell_type": "code",
   "execution_count": 72,
   "id": "057f2841",
   "metadata": {},
   "outputs": [],
   "source": [
    "sol = Solution()"
   ]
  },
  {
   "cell_type": "code",
   "execution_count": 73,
   "id": "1b55d0c5",
   "metadata": {},
   "outputs": [
    {
     "data": {
      "text/plain": [
       "3"
      ]
     },
     "execution_count": 73,
     "metadata": {},
     "output_type": "execute_result"
    }
   ],
   "source": [
    "A = [1, 3, 5, 7, 10]\n",
    "k = 2\n",
    "sol.kDiffPairs(A, k)"
   ]
  },
  {
   "cell_type": "code",
   "execution_count": 74,
   "id": "b2c33c21",
   "metadata": {},
   "outputs": [
    {
     "data": {
      "text/plain": [
       "1"
      ]
     },
     "execution_count": 74,
     "metadata": {},
     "output_type": "execute_result"
    }
   ],
   "source": [
    "A = [1, 3, 5, 7, 10]\n",
    "k = 3\n",
    "sol.kDiffPairs(A, k)"
   ]
  },
  {
   "cell_type": "code",
   "execution_count": 75,
   "id": "b9d82849",
   "metadata": {},
   "outputs": [
    {
     "data": {
      "text/plain": [
       "0"
      ]
     },
     "execution_count": 75,
     "metadata": {},
     "output_type": "execute_result"
    }
   ],
   "source": [
    "A = [1, 3, 5, 7, 10]\n",
    "k = 1\n",
    "sol.kDiffPairs(A, k)"
   ]
  }
 ],
 "metadata": {
  "kernelspec": {
   "display_name": "venv",
   "language": "python",
   "name": "python3"
  },
  "language_info": {
   "codemirror_mode": {
    "name": "ipython",
    "version": 3
   },
   "file_extension": ".py",
   "mimetype": "text/x-python",
   "name": "python",
   "nbconvert_exporter": "python",
   "pygments_lexer": "ipython3",
   "version": "3.11.3"
  }
 },
 "nbformat": 4,
 "nbformat_minor": 5
}
