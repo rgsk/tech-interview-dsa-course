{
 "cells": [
  {
   "cell_type": "code",
   "execution_count": 1,
   "id": "7da72d2e",
   "metadata": {},
   "outputs": [],
   "source": [
    "from typing import List"
   ]
  },
  {
   "cell_type": "code",
   "execution_count": 2,
   "id": "f62d3ca2",
   "metadata": {},
   "outputs": [],
   "source": [
    "class Solution:\n",
    "\tdef kSubarraySum(self, A: List[int], k: int) -> List[int]:\n",
    "\t\tn = len(A)\n",
    "\t\twindow_sum = 0\n",
    "\t\tfor i in range(k):\n",
    "\t\t\twindow_sum += A[i]\n",
    "\t\tresult = []\n",
    "\t\tresult.append(window_sum)\n",
    "\t\tfor i in range(k, n):\n",
    "\t\t\twindow_sum -= A[i - k]\n",
    "\t\t\twindow_sum += A[i]\n",
    "\t\t\tresult.append(window_sum)\n",
    "\t\treturn result"
   ]
  },
  {
   "cell_type": "code",
   "execution_count": 3,
   "id": "d7767dea",
   "metadata": {},
   "outputs": [
    {
     "data": {
      "text/plain": [
       "[14, 13, 12, 13, 19]"
      ]
     },
     "execution_count": 3,
     "metadata": {},
     "output_type": "execute_result"
    }
   ],
   "source": [
    "A = [3, 5, 6, 2, 4, 7, 8]\n",
    "k = 3\n",
    "sol = Solution()\n",
    "sol.kSubarraySum(A, k)"
   ]
  }
 ],
 "metadata": {
  "kernelspec": {
   "display_name": "venv",
   "language": "python",
   "name": "python3"
  },
  "language_info": {
   "codemirror_mode": {
    "name": "ipython",
    "version": 3
   },
   "file_extension": ".py",
   "mimetype": "text/x-python",
   "name": "python",
   "nbconvert_exporter": "python",
   "pygments_lexer": "ipython3",
   "version": "3.11.3"
  }
 },
 "nbformat": 4,
 "nbformat_minor": 5
}
