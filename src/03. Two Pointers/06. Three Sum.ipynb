{
 "cells": [
  {
   "cell_type": "code",
   "execution_count": 1,
   "id": "9ba79195",
   "metadata": {},
   "outputs": [],
   "source": [
    "from typing import List\n",
    "\n",
    "class Solution:\n",
    "\tdef threeSum(self, A: List[int]) -> List[List[int]]:\n",
    "\t\tn = len(A)\n",
    "\t\tA.sort()\n",
    "\t\tresult = []\n",
    "\t\tfor i in range(n):\n",
    "\t\t\tif i > 0 and A[i] == A[i-1]:\n",
    "\t\t\t\tcontinue\n",
    "\t\t\tl = i + 1\n",
    "\t\t\tr = n - 1\n",
    "\t\t\twhile l < r:\n",
    "\t\t\t\tif l > i + 1 and A[l] == A[l-1]:\n",
    "\t\t\t\t\tl += 1\n",
    "\t\t\t\t\tcontinue\n",
    "\t\t\t\ttriplet_sum = A[i] + A[l] + A[r]\n",
    "\t\t\t\tif triplet_sum > 0:\n",
    "\t\t\t\t\tr -= 1\n",
    "\t\t\t\telif triplet_sum < 0:\n",
    "\t\t\t\t\tl += 1\n",
    "\t\t\t\telse:\n",
    "\t\t\t\t\tresult.append(sorted([A[i], A[l], A[r]]))\n",
    "\t\t\t\t\tl += 1\n",
    "\t\t\t\t\tr -= 1\n",
    "\t\treturn result"
   ]
  },
  {
   "cell_type": "code",
   "execution_count": 2,
   "id": "240227d5",
   "metadata": {},
   "outputs": [
    {
     "data": {
      "text/plain": [
       "[[-2, 1, 1], [-1, 0, 1]]"
      ]
     },
     "execution_count": 2,
     "metadata": {},
     "output_type": "execute_result"
    }
   ],
   "source": [
    "A = [1, 1, 0, -1, -2]\n",
    "sol = Solution()\n",
    "sol.threeSum(A)"
   ]
  }
 ],
 "metadata": {
  "kernelspec": {
   "display_name": "venv",
   "language": "python",
   "name": "python3"
  },
  "language_info": {
   "codemirror_mode": {
    "name": "ipython",
    "version": 3
   },
   "file_extension": ".py",
   "mimetype": "text/x-python",
   "name": "python",
   "nbconvert_exporter": "python",
   "pygments_lexer": "ipython3",
   "version": "3.11.3"
  }
 },
 "nbformat": 4,
 "nbformat_minor": 5
}
