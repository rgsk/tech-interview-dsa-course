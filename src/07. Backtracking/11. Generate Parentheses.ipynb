{
 "cells": [
  {
   "cell_type": "code",
   "execution_count": 7,
   "id": "3443ec69",
   "metadata": {},
   "outputs": [],
   "source": [
    "from typing import List\n",
    "\n",
    "\n",
    "class Solution:\n",
    "    def generateParentheses(self, n: int) -> List[str]:\n",
    "        result = []\n",
    "        def helper(open: int, close: int, current: str):\n",
    "            if close == n:\n",
    "                result.append(current)\n",
    "                return\n",
    "            if open < n:\n",
    "                helper(open + 1, close, current + '(')\n",
    "            if open > close:\n",
    "                # we can close\n",
    "                helper(open, close + 1, current + ')')\n",
    "           \n",
    "        helper(0, 0, '')\n",
    "        return result"
   ]
  },
  {
   "cell_type": "code",
   "execution_count": 8,
   "id": "51f5d90d",
   "metadata": {},
   "outputs": [
    {
     "data": {
      "text/plain": [
       "['(())', '()()']"
      ]
     },
     "execution_count": 8,
     "metadata": {},
     "output_type": "execute_result"
    }
   ],
   "source": [
    "sol = Solution()\n",
    "sol.generateParentheses(2)"
   ]
  },
  {
   "cell_type": "code",
   "execution_count": 9,
   "id": "11e648c1",
   "metadata": {},
   "outputs": [
    {
     "data": {
      "text/plain": [
       "['((()))', '(()())', '(())()', '()(())', '()()()']"
      ]
     },
     "execution_count": 9,
     "metadata": {},
     "output_type": "execute_result"
    }
   ],
   "source": [
    "sol = Solution()\n",
    "sol.generateParentheses(3)"
   ]
  }
 ],
 "metadata": {
  "kernelspec": {
   "display_name": "venv",
   "language": "python",
   "name": "python3"
  },
  "language_info": {
   "codemirror_mode": {
    "name": "ipython",
    "version": 3
   },
   "file_extension": ".py",
   "mimetype": "text/x-python",
   "name": "python",
   "nbconvert_exporter": "python",
   "pygments_lexer": "ipython3",
   "version": "3.11.3"
  }
 },
 "nbformat": 4,
 "nbformat_minor": 5
}
