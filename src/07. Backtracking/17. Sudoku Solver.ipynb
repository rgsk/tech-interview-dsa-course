{
 "cells": [
  {
   "cell_type": "code",
   "execution_count": 7,
   "id": "cb5384d2",
   "metadata": {},
   "outputs": [],
   "source": [
    "from typing import List\n",
    "\n",
    "\n",
    "class Solution:\n",
    "    def sudokuSolver(self, board: List[List[str]]) -> None:\n",
    "        \"\"\"\n",
    "        Do not return anything, modify board in-place instead.\n",
    "        \"\"\"\n",
    "        def can_place(row, col, val):\n",
    "            for i in range(9):\n",
    "                if board[i][col] == val:\n",
    "                    return False\n",
    "            for j in range(9):\n",
    "                if board[row][j] == val:\n",
    "                    return False\n",
    "            block_row = (row // 3) * 3\n",
    "            block_col = (col // 3) * 3\n",
    "            for i in range(block_row, block_row + 3):\n",
    "                for j in range(block_col, block_col + 3):\n",
    "                    if board[i][j] == val:\n",
    "                        return False\n",
    "            return True\n",
    "        def helper(row, col):\n",
    "            if col == 9:\n",
    "                return helper(row + 1, 0)\n",
    "            if row == 9:\n",
    "                return True\n",
    "            if board[row][col] != '.':\n",
    "                return helper(row, col + 1)\n",
    "            for v in range(1, 10):\n",
    "                val = f'{v}'\n",
    "                if can_place(row, col, val):\n",
    "                    board[row][col] = val\n",
    "                    res = helper(row, col + 1)\n",
    "                    if res:\n",
    "                        return res\n",
    "                    board[row][col] = '.'\n",
    "            return False\n",
    "        helper(0,0)\n",
    "        return board"
   ]
  },
  {
   "cell_type": "code",
   "execution_count": 8,
   "id": "b5c4b2ce",
   "metadata": {},
   "outputs": [
    {
     "data": {
      "text/plain": [
       "[['2', '5', '6', '4', '7', '3', '9', '8', '1'],\n",
       " ['3', '4', '9', '8', '5', '1', '2', '7', '6'],\n",
       " ['8', '7', '1', '9', '2', '6', '4', '3', '5'],\n",
       " ['4', '2', '7', '5', '6', '8', '1', '9', '3'],\n",
       " ['9', '1', '5', '3', '4', '2', '8', '6', '7'],\n",
       " ['6', '8', '3', '1', '9', '7', '5', '2', '4'],\n",
       " ['5', '9', '8', '7', '3', '4', '6', '1', '2'],\n",
       " ['1', '3', '2', '6', '8', '5', '7', '4', '9'],\n",
       " ['7', '6', '4', '2', '1', '9', '3', '5', '8']]"
      ]
     },
     "execution_count": 8,
     "metadata": {},
     "output_type": "execute_result"
    }
   ],
   "source": [
    "board = [\n",
    "    [\"2\", \"5\", \".\", \".\", \".\", \"3\", \".\", \".\", \".\"],\n",
    "    [\".\", \".\", \".\", \".\", \".\", \".\", \"2\", \"7\", \".\"],\n",
    "    [\"8\", \"7\", \".\", \".\", \".\", \"6\", \"4\", \".\", \".\"],\n",
    "    [\".\", \"2\", \".\", \".\", \".\", \"8\", \"1\", \"9\", \"3\"],\n",
    "    [\".\", \"1\", \"5\", \".\", \"4\", \".\", \"8\", \".\", \".\"],\n",
    "    [\".\", \".\", \".\", \"1\", \".\", \".\", \".\", \".\", \"4\"],\n",
    "    [\".\", \".\", \".\", \"7\", \"3\", \"4\", \".\", \".\", \".\"],\n",
    "    [\".\", \".\", \".\", \"6\", \".\", \".\", \".\", \".\", \"9\"],\n",
    "    [\".\", \"6\", \"4\", \".\", \".\", \"9\", \".\", \"5\", \"8\"]\n",
    "]\n",
    "sol = Solution()\n",
    "sol.sudokuSolver(board)"
   ]
  },
  {
   "cell_type": "code",
   "execution_count": 9,
   "id": "36dd1f90",
   "metadata": {},
   "outputs": [],
   "source": [
    "class Solution:\n",
    "    def sudokuSolver(self, board: List[List[str]]) -> None:\n",
    "        \"\"\"\n",
    "        Do not return anything, modify board in-place instead.\n",
    "        \"\"\"\n",
    "        rowsTrack = [[False for _ in range(9 + 1)] for _ in range(9)]\n",
    "        colsTrack = [[False for _ in range(9 + 1)] for _ in range(9)]\n",
    "        blocksTrack = [[False for _ in range(9 + 1)] for _ in range(9)]\n",
    "        def can_place(row, col, val):\n",
    "            if rowsTrack[row][val] or colsTrack[col][val] or blocksTrack[(row // 3)*3 + col // 3][val]:\n",
    "                return False\n",
    "            return True\n",
    "        \n",
    "        def mark_unmark(row, col, val, mark):\n",
    "            rowsTrack[row][val] = mark\n",
    "            colsTrack[col][val] = mark\n",
    "            blocksTrack[(row // 3)*3 + col // 3][val] = mark\n",
    "\n",
    "        for row in range(9):\n",
    "            for col in range(9):\n",
    "                if board[row][col] != '.':\n",
    "                    v = int(board[row][col])\n",
    "                    mark_unmark(row, col, v, True)\n",
    "\n",
    "        def helper(row, col):\n",
    "            if col == 9:\n",
    "                return helper(row + 1, 0)\n",
    "            if row == 9:\n",
    "                return True\n",
    "            if board[row][col] != '.':\n",
    "                return helper(row, col + 1)\n",
    "            for v in range(1, 10):\n",
    "                val = f'{v}'\n",
    "                if can_place(row, col, v):\n",
    "                    mark_unmark(row, col, v, True)\n",
    "                    board[row][col] = val\n",
    "                    res = helper(row, col + 1)\n",
    "                    if res:\n",
    "                        return res\n",
    "                    board[row][col] = '.'\n",
    "                    mark_unmark(row, col, v, False)\n",
    "            return False\n",
    "        helper(0,0)\n",
    "        return board"
   ]
  },
  {
   "cell_type": "code",
   "execution_count": 10,
   "id": "cf1db32e",
   "metadata": {},
   "outputs": [
    {
     "data": {
      "text/plain": [
       "[['2', '5', '6', '4', '7', '3', '9', '8', '1'],\n",
       " ['3', '4', '9', '8', '5', '1', '2', '7', '6'],\n",
       " ['8', '7', '1', '9', '2', '6', '4', '3', '5'],\n",
       " ['4', '2', '7', '5', '6', '8', '1', '9', '3'],\n",
       " ['9', '1', '5', '3', '4', '2', '8', '6', '7'],\n",
       " ['6', '8', '3', '1', '9', '7', '5', '2', '4'],\n",
       " ['5', '9', '8', '7', '3', '4', '6', '1', '2'],\n",
       " ['1', '3', '2', '6', '8', '5', '7', '4', '9'],\n",
       " ['7', '6', '4', '2', '1', '9', '3', '5', '8']]"
      ]
     },
     "execution_count": 10,
     "metadata": {},
     "output_type": "execute_result"
    }
   ],
   "source": [
    "board = [\n",
    "    [\"2\", \"5\", \".\", \".\", \".\", \"3\", \".\", \".\", \".\"],\n",
    "    [\".\", \".\", \".\", \".\", \".\", \".\", \"2\", \"7\", \".\"],\n",
    "    [\"8\", \"7\", \".\", \".\", \".\", \"6\", \"4\", \".\", \".\"],\n",
    "    [\".\", \"2\", \".\", \".\", \".\", \"8\", \"1\", \"9\", \"3\"],\n",
    "    [\".\", \"1\", \"5\", \".\", \"4\", \".\", \"8\", \".\", \".\"],\n",
    "    [\".\", \".\", \".\", \"1\", \".\", \".\", \".\", \".\", \"4\"],\n",
    "    [\".\", \".\", \".\", \"7\", \"3\", \"4\", \".\", \".\", \".\"],\n",
    "    [\".\", \".\", \".\", \"6\", \".\", \".\", \".\", \".\", \"9\"],\n",
    "    [\".\", \"6\", \"4\", \".\", \".\", \"9\", \".\", \"5\", \"8\"]\n",
    "]\n",
    "sol = Solution()\n",
    "sol.sudokuSolver(board)"
   ]
  }
 ],
 "metadata": {
  "kernelspec": {
   "display_name": "venv",
   "language": "python",
   "name": "python3"
  },
  "language_info": {
   "codemirror_mode": {
    "name": "ipython",
    "version": 3
   },
   "file_extension": ".py",
   "mimetype": "text/x-python",
   "name": "python",
   "nbconvert_exporter": "python",
   "pygments_lexer": "ipython3",
   "version": "3.11.3"
  }
 },
 "nbformat": 4,
 "nbformat_minor": 5
}
