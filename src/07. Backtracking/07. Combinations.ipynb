{
 "cells": [
  {
   "cell_type": "code",
   "execution_count": 1,
   "id": "9821ce9e",
   "metadata": {},
   "outputs": [],
   "source": [
    "from typing import List\n",
    "\n",
    "class Solution:\n",
    "    def combinations(self, n: int, k: int) -> List[List[int]]:\n",
    "        result = []\n",
    "        \n",
    "        # Helper function to generate combinations\n",
    "        def backtrack(start, comb):\n",
    "            if len(comb) == k:\n",
    "                result.append(comb[:])\n",
    "                return\n",
    "            \n",
    "            for i in range(start, n + 1):\n",
    "                comb.append(i)\n",
    "                backtrack(i + 1, comb)\n",
    "                comb.pop()  # backtrack step\n",
    "        \n",
    "        backtrack(1, [])\n",
    "        return result"
   ]
  },
  {
   "cell_type": "code",
   "execution_count": 2,
   "id": "5911ea49",
   "metadata": {},
   "outputs": [
    {
     "data": {
      "text/plain": [
       "[[1, 2], [1, 3], [1, 4], [2, 3], [2, 4], [3, 4]]"
      ]
     },
     "execution_count": 2,
     "metadata": {},
     "output_type": "execute_result"
    }
   ],
   "source": [
    "n = 4\n",
    "k = 2\n",
    "sol = Solution()\n",
    "sol.combinations(n, k)"
   ]
  }
 ],
 "metadata": {
  "kernelspec": {
   "display_name": "venv",
   "language": "python",
   "name": "python3"
  },
  "language_info": {
   "codemirror_mode": {
    "name": "ipython",
    "version": 3
   },
   "file_extension": ".py",
   "mimetype": "text/x-python",
   "name": "python",
   "nbconvert_exporter": "python",
   "pygments_lexer": "ipython3",
   "version": "3.11.3"
  }
 },
 "nbformat": 4,
 "nbformat_minor": 5
}
