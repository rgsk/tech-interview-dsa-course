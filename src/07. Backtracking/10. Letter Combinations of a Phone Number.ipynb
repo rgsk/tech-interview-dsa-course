{
 "cells": [
  {
   "cell_type": "code",
   "execution_count": 1,
   "id": "d5d0f599",
   "metadata": {},
   "outputs": [],
   "source": [
    "from typing import List\n",
    "\n",
    "\n",
    "class Solution:\n",
    "    def letterCombinations(self, digits: str) -> List[str]:\n",
    "        # add your logic here\n",
    "        mp = {\n",
    "            '2': 'abc',\n",
    "            '3': 'def',\n",
    "            '4': 'ghi',\n",
    "            '5': 'jkl',\n",
    "            '6': 'mno',\n",
    "            '7': 'pqrs',\n",
    "            '8': 'tuv',\n",
    "            '9': 'wxyz'\n",
    "        }\n",
    "        items = ['']\n",
    "        for d in digits:\n",
    "            new_items = []\n",
    "            for c in mp[d]:\n",
    "                for i in range(len(items)):\n",
    "                    new_items.append(items[i] + c)\n",
    "            items = new_items\n",
    "        return items\n"
   ]
  },
  {
   "cell_type": "code",
   "execution_count": 2,
   "id": "82fab798",
   "metadata": {},
   "outputs": [
    {
     "data": {
      "text/plain": [
       "['adg',\n",
       " 'bdg',\n",
       " 'cdg',\n",
       " 'aeg',\n",
       " 'beg',\n",
       " 'ceg',\n",
       " 'afg',\n",
       " 'bfg',\n",
       " 'cfg',\n",
       " 'adh',\n",
       " 'bdh',\n",
       " 'cdh',\n",
       " 'aeh',\n",
       " 'beh',\n",
       " 'ceh',\n",
       " 'afh',\n",
       " 'bfh',\n",
       " 'cfh',\n",
       " 'adi',\n",
       " 'bdi',\n",
       " 'cdi',\n",
       " 'aei',\n",
       " 'bei',\n",
       " 'cei',\n",
       " 'afi',\n",
       " 'bfi',\n",
       " 'cfi']"
      ]
     },
     "execution_count": 2,
     "metadata": {},
     "output_type": "execute_result"
    }
   ],
   "source": [
    "digits = '234'\n",
    "sol = Solution()\n",
    "sol.letterCombinations(digits)"
   ]
  }
 ],
 "metadata": {
  "kernelspec": {
   "display_name": "venv",
   "language": "python",
   "name": "python3"
  },
  "language_info": {
   "codemirror_mode": {
    "name": "ipython",
    "version": 3
   },
   "file_extension": ".py",
   "mimetype": "text/x-python",
   "name": "python",
   "nbconvert_exporter": "python",
   "pygments_lexer": "ipython3",
   "version": "3.11.3"
  }
 },
 "nbformat": 4,
 "nbformat_minor": 5
}
