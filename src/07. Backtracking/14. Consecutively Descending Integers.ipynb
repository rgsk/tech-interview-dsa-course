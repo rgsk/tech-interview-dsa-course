{
 "cells": [
  {
   "cell_type": "code",
   "execution_count": 16,
   "id": "026cd1e8",
   "metadata": {},
   "outputs": [],
   "source": [
    "class Solution:\n",
    "    def isConsecutivelyDescending(self, s: str) -> bool:\n",
    "\n",
    "        def helper(start, last):\n",
    "            if start == len(s):\n",
    "                return True\n",
    "            \n",
    "            # we want at least two numbers\n",
    "            end = len(s) - 1 if last == -1 else len(s)\n",
    "\n",
    "            for i in range(start, end):\n",
    "                v = s[start: i + 1]\n",
    "\n",
    "                # Avoid multi-digit numbers with leading zeros\n",
    "                if v[0] == '0' and len(v) > 1:\n",
    "                    continue\n",
    "\n",
    "                num = int(v)\n",
    "\n",
    "                # Either it's the first number, or check if it's descending by 1\n",
    "                if last == -1 or num == last - 1:\n",
    "                    if helper(i + 1, num):\n",
    "                        return True\n",
    "\n",
    "            return False\n",
    "\n",
    "        return helper(0, -1)"
   ]
  },
  {
   "cell_type": "code",
   "execution_count": 17,
   "id": "13f447b0",
   "metadata": {},
   "outputs": [
    {
     "data": {
      "text/plain": [
       "True"
      ]
     },
     "execution_count": 17,
     "metadata": {},
     "output_type": "execute_result"
    }
   ],
   "source": [
    "s = '10099989796'\n",
    "sol = Solution()\n",
    "sol.isConsecutivelyDescending(s)"
   ]
  },
  {
   "cell_type": "code",
   "execution_count": 18,
   "id": "67c4defa",
   "metadata": {},
   "outputs": [
    {
     "data": {
      "text/plain": [
       "True"
      ]
     },
     "execution_count": 18,
     "metadata": {},
     "output_type": "execute_result"
    }
   ],
   "source": [
    "s = '543210'\n",
    "sol = Solution()\n",
    "sol.isConsecutivelyDescending(s)"
   ]
  },
  {
   "cell_type": "code",
   "execution_count": 19,
   "id": "269c5410",
   "metadata": {},
   "outputs": [
    {
     "data": {
      "text/plain": [
       "False"
      ]
     },
     "execution_count": 19,
     "metadata": {},
     "output_type": "execute_result"
    }
   ],
   "source": [
    "s = '54320'\n",
    "sol = Solution()\n",
    "sol.isConsecutivelyDescending(s)"
   ]
  },
  {
   "cell_type": "code",
   "execution_count": 20,
   "id": "33f324d2",
   "metadata": {},
   "outputs": [
    {
     "data": {
      "text/plain": [
       "False"
      ]
     },
     "execution_count": 20,
     "metadata": {},
     "output_type": "execute_result"
    }
   ],
   "source": [
    "s = '20'\n",
    "sol = Solution()\n",
    "sol.isConsecutivelyDescending(s)"
   ]
  }
 ],
 "metadata": {
  "kernelspec": {
   "display_name": "venv",
   "language": "python",
   "name": "python3"
  },
  "language_info": {
   "codemirror_mode": {
    "name": "ipython",
    "version": 3
   },
   "file_extension": ".py",
   "mimetype": "text/x-python",
   "name": "python",
   "nbconvert_exporter": "python",
   "pygments_lexer": "ipython3",
   "version": "3.11.3"
  }
 },
 "nbformat": 4,
 "nbformat_minor": 5
}
