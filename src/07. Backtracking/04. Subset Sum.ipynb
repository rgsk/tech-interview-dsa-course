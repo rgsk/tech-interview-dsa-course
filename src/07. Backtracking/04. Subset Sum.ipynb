{
 "cells": [
  {
   "cell_type": "code",
   "execution_count": 3,
   "id": "3d18c2ac",
   "metadata": {},
   "outputs": [],
   "source": [
    "from typing import List\n",
    "\n",
    "\n",
    "class Solution:\n",
    "    def hasValidSubset(self, A: List[int], target: int) -> bool:\n",
    "        # add your logic here\n",
    "        def helper(i, total):\n",
    "            if total == target:\n",
    "                return True\n",
    "            if total > target:\n",
    "                return False\n",
    "            if i == len(A):\n",
    "                return False\n",
    "            return helper(i + 1, total + A[i]) or helper(i + 1, total)\n",
    "        return helper(0, 0)\n"
   ]
  },
  {
   "cell_type": "code",
   "execution_count": 4,
   "id": "b85b6d2d",
   "metadata": {},
   "outputs": [
    {
     "data": {
      "text/plain": [
       "True"
      ]
     },
     "execution_count": 4,
     "metadata": {},
     "output_type": "execute_result"
    }
   ],
   "source": [
    "A = [1, 3, 4, 9, 2]\n",
    "target = 13\n",
    "sol = Solution()\n",
    "sol.hasValidSubset(A, target)"
   ]
  }
 ],
 "metadata": {
  "kernelspec": {
   "display_name": "venv",
   "language": "python",
   "name": "python3"
  },
  "language_info": {
   "codemirror_mode": {
    "name": "ipython",
    "version": 3
   },
   "file_extension": ".py",
   "mimetype": "text/x-python",
   "name": "python",
   "nbconvert_exporter": "python",
   "pygments_lexer": "ipython3",
   "version": "3.11.3"
  }
 },
 "nbformat": 4,
 "nbformat_minor": 5
}
