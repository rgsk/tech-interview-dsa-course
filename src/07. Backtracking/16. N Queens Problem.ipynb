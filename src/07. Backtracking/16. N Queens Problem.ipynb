{
 "cells": [
  {
   "cell_type": "code",
   "execution_count": 7,
   "id": "68c15102",
   "metadata": {},
   "outputs": [],
   "source": [
    "from typing import List\n",
    "\n",
    "\n",
    "class Solution:\n",
    "    def getNQueensSolutions(self, n: int) -> List[List[str]]:\n",
    "        board = [['.']*n for i in range(n)]\n",
    "        ans =[]\n",
    "        def issafe(r,c):\n",
    "            for i in range(r+1):\n",
    "                if board[i][c] == 'Q':\n",
    "                    return False\n",
    "                if c - i >= 0 and board[r-i][c-i] == 'Q':\n",
    "                    return False\n",
    "                if c + i < n and board[r-i][c+i] == 'Q':\n",
    "                    return False\n",
    "            return True\n",
    "                \n",
    "        def solve(r):\n",
    "            if r == n:\n",
    "                ans.append([\"\".join(row) for row in board])\n",
    "                return \n",
    "            for c in range(0,n):\n",
    "                if issafe(r,c):\n",
    "                    board[r][c] = 'Q'\n",
    "                    solve(r+1)\n",
    "                    board[r][c] = '.'\n",
    "     \n",
    "        solve(0) \n",
    "        return ans"
   ]
  },
  {
   "cell_type": "code",
   "execution_count": 8,
   "id": "f941ef80",
   "metadata": {},
   "outputs": [
    {
     "data": {
      "text/plain": [
       "[['.Q..', '...Q', 'Q...', '..Q.'], ['..Q.', 'Q...', '...Q', '.Q..']]"
      ]
     },
     "execution_count": 8,
     "metadata": {},
     "output_type": "execute_result"
    }
   ],
   "source": [
    "n = 4\n",
    "sol = Solution()\n",
    "sol.getNQueensSolutions(n)"
   ]
  },
  {
   "cell_type": "code",
   "execution_count": 9,
   "id": "3c29d88e",
   "metadata": {},
   "outputs": [],
   "source": [
    "from typing import List\n",
    "\n",
    "\n",
    "class Solution:\n",
    "    def getNQueensSolutions(self, n: int) -> List[List[str]]:\n",
    "        range_n = range(n)\n",
    "        board = [['.' for _ in range_n] for _ in range_n]\n",
    "        ans = []\n",
    "        rows_occupied = [0 for _ in range_n]\n",
    "        cols_occupied = [0 for _ in range_n]\n",
    "        sum_diag = {i + j: 0 for i in range_n for j in range_n}\n",
    "        diff_diag = {i - j: 0 for i in range_n for j in range_n}\n",
    "\n",
    "\n",
    "        def free(row, col):\n",
    "            if rows_occupied[row] or cols_occupied[col] or sum_diag[row + col] or diff_diag[row - col]:\n",
    "                return False\n",
    "            return True\n",
    "        def mark_unmark(row, col, val):\n",
    "            rows_occupied[row] = val\n",
    "            cols_occupied[col] = val\n",
    "            sum_diag[row + col] = val\n",
    "            diff_diag[row - col] = val\n",
    "        def helper(row):\n",
    "            if row == len(board):\n",
    "                ans.append([\"\".join(row) for row in board])\n",
    "                return\n",
    "            for col in range_n:\n",
    "                if free(row, col):\n",
    "                    board[row][col] = 'Q'\n",
    "                    mark_unmark(row, col, 1)\n",
    "                    helper(row + 1)\n",
    "                    board[row][col] = '.'\n",
    "                    mark_unmark(row, col, 0)\n",
    "        helper(0)\n",
    "        return ans"
   ]
  },
  {
   "cell_type": "code",
   "execution_count": 10,
   "id": "78793af6",
   "metadata": {},
   "outputs": [
    {
     "data": {
      "text/plain": [
       "[['.Q..', '...Q', 'Q...', '..Q.'], ['..Q.', 'Q...', '...Q', '.Q..']]"
      ]
     },
     "execution_count": 10,
     "metadata": {},
     "output_type": "execute_result"
    }
   ],
   "source": [
    "n = 4\n",
    "sol = Solution()\n",
    "sol.getNQueensSolutions(n)"
   ]
  }
 ],
 "metadata": {
  "kernelspec": {
   "display_name": "venv",
   "language": "python",
   "name": "python3"
  },
  "language_info": {
   "codemirror_mode": {
    "name": "ipython",
    "version": 3
   },
   "file_extension": ".py",
   "mimetype": "text/x-python",
   "name": "python",
   "nbconvert_exporter": "python",
   "pygments_lexer": "ipython3",
   "version": "3.11.3"
  }
 },
 "nbformat": 4,
 "nbformat_minor": 5
}
