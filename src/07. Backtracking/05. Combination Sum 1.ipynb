{
 "cells": [
  {
   "cell_type": "code",
   "execution_count": 1,
   "id": "0b9220e9",
   "metadata": {},
   "outputs": [],
   "source": [
    "from typing import List\n",
    "\n",
    "\n",
    "class Solution:\n",
    "    def combinationSum(self, A: List[int], val: int) -> List[List[int]]:\n",
    "        result = []\n",
    "        cur = []\n",
    "        n = len(A)\n",
    "        def helper(i, total):\n",
    "            if total == val:\n",
    "                result.append(cur[:])\n",
    "                return\n",
    "            if total > val or i == n:\n",
    "                return\n",
    "            helper(i + 1, total)\n",
    "            cur.append(A[i])\n",
    "            helper(i, total + A[i])\n",
    "            cur.pop()\n",
    "        helper(0, 0)\n",
    "        return result"
   ]
  },
  {
   "cell_type": "code",
   "execution_count": 2,
   "id": "63ae23ac",
   "metadata": {},
   "outputs": [
    {
     "data": {
      "text/plain": [
       "[[2, 2], [1, 1, 2], [1, 1, 1, 1]]"
      ]
     },
     "execution_count": 2,
     "metadata": {},
     "output_type": "execute_result"
    }
   ],
   "source": [
    "A = [1, 2]\n",
    "val = 4\n",
    "sol = Solution()\n",
    "sol.combinationSum(A, val)"
   ]
  }
 ],
 "metadata": {
  "kernelspec": {
   "display_name": "venv",
   "language": "python",
   "name": "python3"
  },
  "language_info": {
   "codemirror_mode": {
    "name": "ipython",
    "version": 3
   },
   "file_extension": ".py",
   "mimetype": "text/x-python",
   "name": "python",
   "nbconvert_exporter": "python",
   "pygments_lexer": "ipython3",
   "version": "3.11.3"
  }
 },
 "nbformat": 4,
 "nbformat_minor": 5
}
