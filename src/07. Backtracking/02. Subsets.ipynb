{
 "cells": [
  {
   "cell_type": "code",
   "execution_count": 32,
   "id": "b79d6177",
   "metadata": {},
   "outputs": [],
   "source": [
    "from typing import List\n",
    "\n",
    "\n",
    "class Solution:\n",
    "    def subsets(self, A: List[int]) -> List[List[int]]:\n",
    "        result = []\n",
    "        \n",
    "        def dfs(index, path):\n",
    "            result.append(path)\n",
    "            for i in range(index, len(A)):\n",
    "                dfs(i + 1, path + [A[i]])\n",
    "        \n",
    "        dfs(0, [])\n",
    "        return result"
   ]
  },
  {
   "cell_type": "code",
   "execution_count": 33,
   "id": "73ee80d0",
   "metadata": {},
   "outputs": [
    {
     "data": {
      "text/plain": [
       "[[], [1], [1, 2], [1, 2, 3], [1, 3], [2], [2, 3], [3]]"
      ]
     },
     "execution_count": 33,
     "metadata": {},
     "output_type": "execute_result"
    }
   ],
   "source": [
    "A = [1, 2, 3]\n",
    "sol = Solution()\n",
    "sol.subsets(A)"
   ]
  },
  {
   "cell_type": "code",
   "execution_count": 34,
   "id": "fe1f899f",
   "metadata": {},
   "outputs": [],
   "source": [
    "from typing import List\n",
    "\n",
    "class Solution:\n",
    "    def get_subsets(self, A: List[int], start: int):\n",
    "        if start == len(A):\n",
    "            self.all_subsets.append(self.curr_subset[:])\n",
    "            return\n",
    "        # Exclude A[start]\n",
    "        self.get_subsets(A, start + 1)\n",
    "        # Include A[start]\n",
    "        self.curr_subset.append(A[start])\n",
    "        self.get_subsets(A, start + 1)\n",
    "        self.curr_subset.pop()\n",
    "\n",
    "    def subsets(self, A: List[int]) -> List[List[int]]:\n",
    "        self.all_subsets = []\n",
    "        self.curr_subset = []\n",
    "        self.get_subsets(A, 0)\n",
    "        return self.all_subsets"
   ]
  },
  {
   "cell_type": "code",
   "execution_count": 35,
   "id": "4b329daa",
   "metadata": {},
   "outputs": [
    {
     "data": {
      "text/plain": [
       "[[], [3], [2], [2, 3], [1], [1, 3], [1, 2], [1, 2, 3]]"
      ]
     },
     "execution_count": 35,
     "metadata": {},
     "output_type": "execute_result"
    }
   ],
   "source": [
    "A = [1, 2, 3]\n",
    "sol = Solution()\n",
    "sol.subsets(A)"
   ]
  },
  {
   "cell_type": "code",
   "execution_count": 36,
   "id": "31e2e95a",
   "metadata": {},
   "outputs": [],
   "source": [
    "class Solution:\n",
    "    def subsets(self, A: List[int]) -> List[List[int]]:\n",
    "        result = [[]]\n",
    "        for v in A:\n",
    "            n = len(result)\n",
    "            for i in range(n):\n",
    "                copy = result[i][:]\n",
    "                copy.append(v)\n",
    "                result.append(copy)\n",
    "        return result"
   ]
  },
  {
   "cell_type": "code",
   "execution_count": 37,
   "id": "1ed246ed",
   "metadata": {},
   "outputs": [
    {
     "data": {
      "text/plain": [
       "[[], [1], [2], [1, 2], [3], [1, 3], [2, 3], [1, 2, 3]]"
      ]
     },
     "execution_count": 37,
     "metadata": {},
     "output_type": "execute_result"
    }
   ],
   "source": [
    "A = [1, 2, 3]\n",
    "sol = Solution()\n",
    "sol.subsets(A)"
   ]
  },
  {
   "cell_type": "code",
   "execution_count": 38,
   "id": "5ece530f",
   "metadata": {},
   "outputs": [],
   "source": [
    "from typing import List\n",
    "\n",
    "def bitmask(a: List[int], n: int) -> List[List[int]]:\n",
    "    all_subsets = []\n",
    "    for mask in range(1 << n):\n",
    "        subset = []\n",
    "        for i in range(n):\n",
    "            if (1 << i) & mask:\n",
    "                subset.append(a[i])\n",
    "        all_subsets.append(subset)\n",
    "    return all_subsets\n",
    "\n",
    "class Solution:\n",
    "    def subsets(self, A: List[int]) -> List[List[int]]:\n",
    "        return bitmask(A, len(A))"
   ]
  },
  {
   "cell_type": "code",
   "execution_count": 39,
   "id": "c6885ccf",
   "metadata": {},
   "outputs": [
    {
     "data": {
      "text/plain": [
       "[[], [1], [2], [1, 2], [3], [1, 3], [2, 3], [1, 2, 3]]"
      ]
     },
     "execution_count": 39,
     "metadata": {},
     "output_type": "execute_result"
    }
   ],
   "source": [
    "A = [1, 2, 3]\n",
    "sol = Solution()\n",
    "sol.subsets(A)"
   ]
  }
 ],
 "metadata": {
  "kernelspec": {
   "display_name": "venv",
   "language": "python",
   "name": "python3"
  },
  "language_info": {
   "codemirror_mode": {
    "name": "ipython",
    "version": 3
   },
   "file_extension": ".py",
   "mimetype": "text/x-python",
   "name": "python",
   "nbconvert_exporter": "python",
   "pygments_lexer": "ipython3",
   "version": "3.11.3"
  }
 },
 "nbformat": 4,
 "nbformat_minor": 5
}
