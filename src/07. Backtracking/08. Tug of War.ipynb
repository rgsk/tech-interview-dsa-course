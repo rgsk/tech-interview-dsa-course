{
 "cells": [
  {
   "cell_type": "code",
   "execution_count": 25,
   "id": "e74305df",
   "metadata": {},
   "outputs": [],
   "source": [
    "from typing import List\n",
    "\n",
    "\n",
    "class Solution:\n",
    "    def divideGroup(self, A: List[int]) -> int:\n",
    "        n = len(A)\n",
    "        limit = n // 2 + 1 if n % 2 else n // 2\n",
    "        def helper(i, j, s1, s2):\n",
    "            if i > limit or j > limit:\n",
    "                return float('inf')\n",
    "            if i + j == n:\n",
    "                return abs(s1 - s2)\n",
    "           \n",
    "            \n",
    "            return min(helper(i + 1, j, s1 + A[i + j], s2), \\\n",
    "                        helper(i, j + 1, s1, s2 + A[i + j]))\n",
    "        return helper(0, 0, 0, 0)"
   ]
  },
  {
   "cell_type": "code",
   "execution_count": 26,
   "id": "f5ab1385",
   "metadata": {},
   "outputs": [
    {
     "data": {
      "text/plain": [
       "0"
      ]
     },
     "execution_count": 26,
     "metadata": {},
     "output_type": "execute_result"
    }
   ],
   "source": [
    "A = [1, 2, 3, 4]\n",
    "sol = Solution()\n",
    "sol.divideGroup(A)"
   ]
  },
  {
   "cell_type": "code",
   "execution_count": 27,
   "id": "5f1cbfe2",
   "metadata": {},
   "outputs": [
    {
     "data": {
      "text/plain": [
       "2"
      ]
     },
     "execution_count": 27,
     "metadata": {},
     "output_type": "execute_result"
    }
   ],
   "source": [
    "A = [5, 1, 2, 8]\n",
    "sol = Solution()\n",
    "sol.divideGroup(A)"
   ]
  },
  {
   "cell_type": "code",
   "execution_count": 28,
   "id": "66fefb01",
   "metadata": {},
   "outputs": [
    {
     "data": {
      "text/plain": [
       "1"
      ]
     },
     "execution_count": 28,
     "metadata": {},
     "output_type": "execute_result"
    }
   ],
   "source": [
    "A = [1, 2, 3, 4, 5]\n",
    "sol = Solution()\n",
    "sol.divideGroup(A)"
   ]
  }
 ],
 "metadata": {
  "kernelspec": {
   "display_name": "venv",
   "language": "python",
   "name": "python3"
  },
  "language_info": {
   "codemirror_mode": {
    "name": "ipython",
    "version": 3
   },
   "file_extension": ".py",
   "mimetype": "text/x-python",
   "name": "python",
   "nbconvert_exporter": "python",
   "pygments_lexer": "ipython3",
   "version": "3.11.3"
  }
 },
 "nbformat": 4,
 "nbformat_minor": 5
}
