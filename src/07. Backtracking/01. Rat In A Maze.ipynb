{
 "cells": [
  {
   "cell_type": "code",
   "execution_count": 3,
   "id": "86e589bb",
   "metadata": {},
   "outputs": [],
   "source": [
    "from typing import List\n",
    "\n",
    "\n",
    "class Solution:\n",
    "\tdef canGetCheese(self, maze: List[List[int]]) -> bool:\n",
    "\t\t# add your logic here\n",
    "\t\trows = len(maze)\n",
    "\t\tcols = len(maze[0])\n",
    "\t\tdef helper(r, c):\n",
    "\t\t\tif r == rows or c == cols or maze[r][c] == 0:\n",
    "\t\t\t\treturn False\n",
    "\t\t\tif r == rows - 1 and c == cols - 1:\n",
    "\t\t\t\treturn True\n",
    "\t\t\t\n",
    "\t\t\treturn helper(r + 1, c) or helper(r, c + 1)\n",
    "\t\treturn helper(0, 0)"
   ]
  },
  {
   "cell_type": "code",
   "execution_count": 4,
   "id": "b66c8587",
   "metadata": {},
   "outputs": [
    {
     "name": "stdout",
     "output_type": "stream",
     "text": [
      "True\n",
      "False\n",
      "False\n",
      "False\n"
     ]
    }
   ],
   "source": [
    "def main():\n",
    "    inputs = [\n",
    "        {\n",
    "            \"n\": 4, \"m\": 4,\n",
    "            \"maze\": [\n",
    "                [1, 1, 0, 0],\n",
    "                [1, 1, 1, 1],\n",
    "                [0, 1, 0, 1],\n",
    "                [0, 1, 0, 1]\n",
    "            ]\n",
    "        },\n",
    "        {\n",
    "            \"n\": 4, \"m\": 4,\n",
    "            \"maze\": [\n",
    "                [1, 1, 0, 0],\n",
    "                [1, 1, 1, 1],\n",
    "                [0, 1, 1, 0],\n",
    "                [0, 1, 0, 1]\n",
    "            ]\n",
    "        },\n",
    "        {\n",
    "            \"n\": 4, \"m\": 5,\n",
    "            \"maze\": [\n",
    "                [1, 0, 1, 1, 1],\n",
    "                [1, 1, 1, 0, 1],\n",
    "                [0, 1, 0, 0, 1],\n",
    "                [0, 1, 1, 0, 1]\n",
    "            ]\n",
    "        },\n",
    "        {\n",
    "            \"n\": 3, \"m\": 4,\n",
    "            \"maze\": [\n",
    "                [1, 0, 0, 0],\n",
    "                [0, 0, 0, 0],\n",
    "                [0, 0, 1, 1]\n",
    "            ]\n",
    "        }\n",
    "    ]\n",
    "\n",
    "    sol = Solution()\n",
    "    for input in inputs:\n",
    "        print(sol.canGetCheese(input['maze']))\n",
    "\n",
    "main()"
   ]
  }
 ],
 "metadata": {
  "kernelspec": {
   "display_name": "venv",
   "language": "python",
   "name": "python3"
  },
  "language_info": {
   "codemirror_mode": {
    "name": "ipython",
    "version": 3
   },
   "file_extension": ".py",
   "mimetype": "text/x-python",
   "name": "python",
   "nbconvert_exporter": "python",
   "pygments_lexer": "ipython3",
   "version": "3.11.3"
  }
 },
 "nbformat": 4,
 "nbformat_minor": 5
}
