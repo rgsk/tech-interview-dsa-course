{
 "cells": [
  {
   "cell_type": "code",
   "execution_count": 9,
   "id": "3e3a8991",
   "metadata": {},
   "outputs": [],
   "source": [
    "from typing import List\n",
    "\n",
    "\n",
    "class Solution:\n",
    "    def combinationSum(self, A: List[int], val: int) -> List[List[int]]:\n",
    "        result = []\n",
    "        cur = []\n",
    "        n = len(A)\n",
    "        def helper(i, total):\n",
    "            if total == val:\n",
    "                result.append(cur[:])\n",
    "                return\n",
    "            if total > val or i == n:\n",
    "                return\n",
    "            idx = 1\n",
    "            while i + idx < n and A[i] == A[i + idx]:\n",
    "                idx += 1\n",
    "            helper(i + idx, total)\n",
    "            cur.append(A[i])\n",
    "            helper(i+1, total + A[i])\n",
    "            cur.pop()\n",
    "        A.sort()\n",
    "        helper(0, 0)\n",
    "        return result"
   ]
  },
  {
   "cell_type": "code",
   "execution_count": 10,
   "id": "01bdb8ce",
   "metadata": {},
   "outputs": [
    {
     "data": {
      "text/plain": [
       "[[2, 6], [1, 7], [1, 2, 5], [1, 1, 6]]"
      ]
     },
     "execution_count": 10,
     "metadata": {},
     "output_type": "execute_result"
    }
   ],
   "source": [
    "A = [10, 1, 2, 7, 6, 1, 5]\n",
    "val = 8\n",
    "sol = Solution()\n",
    "sol.combinationSum(A, val)"
   ]
  }
 ],
 "metadata": {
  "kernelspec": {
   "display_name": "venv",
   "language": "python",
   "name": "python3"
  },
  "language_info": {
   "codemirror_mode": {
    "name": "ipython",
    "version": 3
   },
   "file_extension": ".py",
   "mimetype": "text/x-python",
   "name": "python",
   "nbconvert_exporter": "python",
   "pygments_lexer": "ipython3",
   "version": "3.11.3"
  }
 },
 "nbformat": 4,
 "nbformat_minor": 5
}
