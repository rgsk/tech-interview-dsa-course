{
 "cells": [
  {
   "cell_type": "code",
   "execution_count": 1,
   "id": "f7dd0f42",
   "metadata": {},
   "outputs": [],
   "source": [
    "from typing import List\n",
    "\n",
    "\n",
    "class Solution:\n",
    "    def restoreIPAddresses(self, s: str) -> List[str]:\n",
    "        ans = []\n",
    "\n",
    "        def helper(start, cur):\n",
    "            if len(cur) > 4:\n",
    "                return\n",
    "            if start == len(s) and len(cur) == 4:\n",
    "                ans.append(\".\".join(cur))\n",
    "                return\n",
    "            for i in range(start, len(s)):\n",
    "                v = s[start:i + 1]\n",
    "                if v == '0' or (v[0] != '0' and 1 <= int(v) <= 255):\n",
    "                    cur.append(v)\n",
    "                    helper(i + 1, cur)\n",
    "                    cur.pop()\n",
    "        helper(0, [])\n",
    "        return ans"
   ]
  },
  {
   "cell_type": "code",
   "execution_count": 2,
   "id": "56ee93d5",
   "metadata": {},
   "outputs": [
    {
     "data": {
      "text/plain": [
       "['255.255.11.135', '255.255.111.35']"
      ]
     },
     "execution_count": 2,
     "metadata": {},
     "output_type": "execute_result"
    }
   ],
   "source": [
    "s = \"25525511135\"\n",
    "sol = Solution()\n",
    "sol.restoreIPAddresses(s)"
   ]
  },
  {
   "cell_type": "code",
   "execution_count": 3,
   "id": "7da8b859",
   "metadata": {},
   "outputs": [
    {
     "data": {
      "text/plain": [
       "['8.8.8.8']"
      ]
     },
     "execution_count": 3,
     "metadata": {},
     "output_type": "execute_result"
    }
   ],
   "source": [
    "s = \"8888\"\n",
    "sol = Solution()\n",
    "sol.restoreIPAddresses(s)"
   ]
  },
  {
   "cell_type": "code",
   "execution_count": 4,
   "id": "78b7c7da",
   "metadata": {},
   "outputs": [
    {
     "data": {
      "text/plain": [
       "['0.0.0.0']"
      ]
     },
     "execution_count": 4,
     "metadata": {},
     "output_type": "execute_result"
    }
   ],
   "source": [
    "s = \"0000\"\n",
    "sol = Solution()\n",
    "sol.restoreIPAddresses(s)"
   ]
  },
  {
   "cell_type": "code",
   "execution_count": 5,
   "id": "7080b0bc",
   "metadata": {},
   "outputs": [
    {
     "data": {
      "text/plain": [
       "['0.0.250.0']"
      ]
     },
     "execution_count": 5,
     "metadata": {},
     "output_type": "execute_result"
    }
   ],
   "source": [
    "s = \"002500\"\n",
    "sol = Solution()\n",
    "sol.restoreIPAddresses(s)"
   ]
  }
 ],
 "metadata": {
  "kernelspec": {
   "display_name": "venv",
   "language": "python",
   "name": "python3"
  },
  "language_info": {
   "codemirror_mode": {
    "name": "ipython",
    "version": 3
   },
   "file_extension": ".py",
   "mimetype": "text/x-python",
   "name": "python",
   "nbconvert_exporter": "python",
   "pygments_lexer": "ipython3",
   "version": "3.11.3"
  }
 },
 "nbformat": 4,
 "nbformat_minor": 5
}
