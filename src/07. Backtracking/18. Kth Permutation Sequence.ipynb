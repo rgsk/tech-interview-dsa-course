{
 "cells": [
  {
   "cell_type": "code",
   "execution_count": 1,
   "id": "be70bfb1",
   "metadata": {},
   "outputs": [],
   "source": [
    "from math import factorial\n",
    "class Solution:\n",
    "    def getKthPermutation(self, n: int, k: int) -> str:\n",
    "        \n",
    "        nums = [str(i) for i in range(1, n + 1)]\n",
    "        k -= 1  # make k zero-based\n",
    "        result = []\n",
    "\n",
    "        while n > 0:\n",
    "            n -= 1\n",
    "            fact = factorial(n)\n",
    "            index = k // fact\n",
    "            k %= fact\n",
    "            result.append(nums.pop(index))\n",
    "        \n",
    "        return ''.join(result)"
   ]
  },
  {
   "cell_type": "code",
   "execution_count": 3,
   "id": "e9803791",
   "metadata": {},
   "outputs": [
    {
     "data": {
      "text/plain": [
       "'231'"
      ]
     },
     "execution_count": 3,
     "metadata": {},
     "output_type": "execute_result"
    }
   ],
   "source": [
    "n = 3\n",
    "k = 4\n",
    "sol = Solution()\n",
    "sol.getKthPermutation(n, k)"
   ]
  }
 ],
 "metadata": {
  "kernelspec": {
   "display_name": "venv",
   "language": "python",
   "name": "python3"
  },
  "language_info": {
   "codemirror_mode": {
    "name": "ipython",
    "version": 3
   },
   "file_extension": ".py",
   "mimetype": "text/x-python",
   "name": "python",
   "nbconvert_exporter": "python",
   "pygments_lexer": "ipython3",
   "version": "3.11.3"
  }
 },
 "nbformat": 4,
 "nbformat_minor": 5
}
