{
 "cells": [
  {
   "cell_type": "code",
   "execution_count": 31,
   "id": "397f5f72",
   "metadata": {},
   "outputs": [],
   "source": [
    "from typing import List\n",
    "\n",
    "class Solution:\n",
    "    def get_subsets(self, A: List[int], start: int):\n",
    "        if start == len(A):\n",
    "            self.all_subsets.append(self.curr_subset[:])\n",
    "            return\n",
    "        idx = 1\n",
    "        while start + idx < len(A) and A[start] == A[start + idx]:\n",
    "            idx += 1\n",
    "        self.get_subsets(A, start + idx)\n",
    "        self.curr_subset.append(A[start])\n",
    "        self.get_subsets(A, start + 1)\n",
    "        self.curr_subset.pop()\n",
    "\n",
    "    def subsets(self, A: List[int]) -> List[List[int]]:\n",
    "        A.sort()\n",
    "        self.all_subsets = []\n",
    "        self.curr_subset = []\n",
    "        self.get_subsets(A, 0)\n",
    "        return self.all_subsets"
   ]
  },
  {
   "cell_type": "code",
   "execution_count": 32,
   "id": "a8e52319",
   "metadata": {},
   "outputs": [
    {
     "data": {
      "text/plain": [
       "[[], [3], [3, 3], [1], [1, 3], [1, 3, 3]]"
      ]
     },
     "execution_count": 32,
     "metadata": {},
     "output_type": "execute_result"
    }
   ],
   "source": [
    "A = [1, 3, 3]\n",
    "sol = Solution()\n",
    "sol.subsets(A)"
   ]
  },
  {
   "cell_type": "code",
   "execution_count": 33,
   "id": "cf222b68",
   "metadata": {},
   "outputs": [],
   "source": [
    "from typing import List\n",
    "\n",
    "def bitmask(a: List[int], n: int) -> List[List[int]]:\n",
    "    all_subsets = []\n",
    "    for mask in range(1 << n):\n",
    "        subset = []\n",
    "        for i in range(n):\n",
    "            if (1 << i) & mask:\n",
    "                subset.append(a[i])\n",
    "        subset.sort()\n",
    "        if subset not in all_subsets:\n",
    "            all_subsets.append(subset)\n",
    "    return all_subsets\n",
    "\n",
    "class Solution:\n",
    "    def subsets(self, A: List[int]) -> List[List[int]]:\n",
    "        return bitmask(A, len(A))"
   ]
  },
  {
   "cell_type": "code",
   "execution_count": 34,
   "id": "e8453ebc",
   "metadata": {},
   "outputs": [
    {
     "data": {
      "text/plain": [
       "[[], [1], [3], [1, 3], [3, 3], [1, 3, 3]]"
      ]
     },
     "execution_count": 34,
     "metadata": {},
     "output_type": "execute_result"
    }
   ],
   "source": [
    "A = [1, 3, 3]\n",
    "sol = Solution()\n",
    "sol.subsets(A)"
   ]
  },
  {
   "cell_type": "code",
   "execution_count": 35,
   "id": "b456de88",
   "metadata": {},
   "outputs": [],
   "source": [
    "class Solution:\n",
    "    def subsets(self, A: List[int]) -> List[List[int]]:\n",
    "        # add your logic here\n",
    "        res = [[]]\n",
    "        A.sort()\n",
    "        l = 0  # Variable to track the length of the previous unique elements\n",
    "        for i in range(len(A)):\n",
    "            if i == 0 or A[i] != A[i - 1]:\n",
    "                l = len(res)  # Update l if it's a new element\n",
    "            for j in range(len(res) - l, len(res)):\n",
    "                res.append(res[j] + [A[i]])\n",
    "        return res"
   ]
  },
  {
   "cell_type": "code",
   "execution_count": 36,
   "id": "e08d671f",
   "metadata": {},
   "outputs": [
    {
     "data": {
      "text/plain": [
       "[[], [1], [3], [1, 3], [3, 3], [1, 3, 3]]"
      ]
     },
     "execution_count": 36,
     "metadata": {},
     "output_type": "execute_result"
    }
   ],
   "source": [
    "A = [1, 3, 3]\n",
    "sol = Solution()\n",
    "sol.subsets(A)"
   ]
  }
 ],
 "metadata": {
  "kernelspec": {
   "display_name": "venv",
   "language": "python",
   "name": "python3"
  },
  "language_info": {
   "codemirror_mode": {
    "name": "ipython",
    "version": 3
   },
   "file_extension": ".py",
   "mimetype": "text/x-python",
   "name": "python",
   "nbconvert_exporter": "python",
   "pygments_lexer": "ipython3",
   "version": "3.11.3"
  }
 },
 "nbformat": 4,
 "nbformat_minor": 5
}
