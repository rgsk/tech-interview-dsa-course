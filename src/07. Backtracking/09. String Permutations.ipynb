{
 "cells": [
  {
   "cell_type": "code",
   "execution_count": 1,
   "id": "226da4f2",
   "metadata": {},
   "outputs": [],
   "source": [
    "from typing import List\n",
    "\n",
    "\n",
    "class Solution:\n",
    "    def getAllPermutations(self, s: str) -> List[str]:\n",
    "        n = len(s)\n",
    "        arr = [c for c in s]\n",
    "        result = []\n",
    "        def helper(idx):\n",
    "            if idx == n:\n",
    "                result.append(\"\".join(arr))\n",
    "                return\n",
    "            for i in range(idx , n):\n",
    "                arr[i], arr[idx] = arr[idx], arr[i]\n",
    "                helper(idx + 1)\n",
    "                arr[i], arr[idx] = arr[idx], arr[i]\n",
    "        helper(0)\n",
    "        return result"
   ]
  },
  {
   "cell_type": "code",
   "execution_count": 2,
   "id": "c9519fcb",
   "metadata": {},
   "outputs": [
    {
     "data": {
      "text/plain": [
       "['abc', 'acb', 'bac', 'bca', 'cba', 'cab']"
      ]
     },
     "execution_count": 2,
     "metadata": {},
     "output_type": "execute_result"
    }
   ],
   "source": [
    "s = 'abc'\n",
    "sol = Solution()\n",
    "sol.getAllPermutations(s)"
   ]
  }
 ],
 "metadata": {
  "kernelspec": {
   "display_name": "venv",
   "language": "python",
   "name": "python3"
  },
  "language_info": {
   "codemirror_mode": {
    "name": "ipython",
    "version": 3
   },
   "file_extension": ".py",
   "mimetype": "text/x-python",
   "name": "python",
   "nbconvert_exporter": "python",
   "pygments_lexer": "ipython3",
   "version": "3.11.3"
  }
 },
 "nbformat": 4,
 "nbformat_minor": 5
}
