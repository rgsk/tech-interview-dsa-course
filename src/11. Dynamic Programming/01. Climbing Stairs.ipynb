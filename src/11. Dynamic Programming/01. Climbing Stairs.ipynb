{
 "cells": [
  {
   "cell_type": "code",
   "execution_count": 33,
   "id": "f5d0c0af",
   "metadata": {},
   "outputs": [],
   "source": [
    "class Solution:\n",
    "    def climbStairs(self, n: int) -> int:\n",
    "        def helper(i):\n",
    "            if i == n:\n",
    "                return 1\n",
    "            result = helper(i + 1)\n",
    "            if i + 2 <= n:\n",
    "                result += helper(i + 2)\n",
    "            return result\n",
    "        return helper(0)"
   ]
  },
  {
   "cell_type": "code",
   "execution_count": 34,
   "id": "a9974938",
   "metadata": {},
   "outputs": [
    {
     "data": {
      "text/plain": [
       "2"
      ]
     },
     "execution_count": 34,
     "metadata": {},
     "output_type": "execute_result"
    }
   ],
   "source": [
    "n = 2\n",
    "sol = Solution()\n",
    "sol.climbStairs(n)"
   ]
  },
  {
   "cell_type": "code",
   "execution_count": 35,
   "id": "61127f2f",
   "metadata": {},
   "outputs": [
    {
     "data": {
      "text/plain": [
       "5"
      ]
     },
     "execution_count": 35,
     "metadata": {},
     "output_type": "execute_result"
    }
   ],
   "source": [
    "n = 4\n",
    "sol = Solution()\n",
    "sol.climbStairs(n)"
   ]
  },
  {
   "cell_type": "code",
   "execution_count": 36,
   "id": "a4f29546",
   "metadata": {},
   "outputs": [],
   "source": [
    "class Solution:\n",
    "    def climbStairs(self, n: int) -> int:\n",
    "        def helper(r):\n",
    "            if r <= 1:\n",
    "                return 1\n",
    "            return helper(r - 1) + helper(r - 2)\n",
    "        return helper(n)"
   ]
  },
  {
   "cell_type": "code",
   "execution_count": 37,
   "id": "939d4e88",
   "metadata": {},
   "outputs": [
    {
     "data": {
      "text/plain": [
       "2"
      ]
     },
     "execution_count": 37,
     "metadata": {},
     "output_type": "execute_result"
    }
   ],
   "source": [
    "n = 2\n",
    "sol = Solution()\n",
    "sol.climbStairs(n)"
   ]
  },
  {
   "cell_type": "code",
   "execution_count": 38,
   "id": "6ba2e1e5",
   "metadata": {},
   "outputs": [
    {
     "data": {
      "text/plain": [
       "5"
      ]
     },
     "execution_count": 38,
     "metadata": {},
     "output_type": "execute_result"
    }
   ],
   "source": [
    "n = 4\n",
    "sol = Solution()\n",
    "sol.climbStairs(n)"
   ]
  },
  {
   "cell_type": "code",
   "execution_count": 39,
   "id": "2a292a62",
   "metadata": {},
   "outputs": [],
   "source": [
    "class Solution:\n",
    "    def climbStairs(self, n: int) -> int:\n",
    "        dp = [-1 for _ in range(n + 1)]\n",
    "        for r in range(n + 1):\n",
    "            if r <= 1:\n",
    "                dp[r] = 1\n",
    "                continue\n",
    "            dp[r] = dp[r-1] + dp[r-2]\n",
    "        return dp[n]"
   ]
  },
  {
   "cell_type": "code",
   "execution_count": 40,
   "id": "9d874562",
   "metadata": {},
   "outputs": [
    {
     "data": {
      "text/plain": [
       "2"
      ]
     },
     "execution_count": 40,
     "metadata": {},
     "output_type": "execute_result"
    }
   ],
   "source": [
    "n = 2\n",
    "sol = Solution()\n",
    "sol.climbStairs(n)"
   ]
  },
  {
   "cell_type": "code",
   "execution_count": 41,
   "id": "9e5eef58",
   "metadata": {},
   "outputs": [
    {
     "data": {
      "text/plain": [
       "5"
      ]
     },
     "execution_count": 41,
     "metadata": {},
     "output_type": "execute_result"
    }
   ],
   "source": [
    "n = 4\n",
    "sol = Solution()\n",
    "sol.climbStairs(n)"
   ]
  },
  {
   "cell_type": "code",
   "execution_count": 42,
   "id": "ebc7434d",
   "metadata": {},
   "outputs": [],
   "source": [
    "class Solution:\n",
    "    def climbStairs(self, n: int) -> int:\n",
    "        p = -1\n",
    "        pp = -1\n",
    "        for r in range(n + 1):\n",
    "            if r <= 1:\n",
    "                pp, p = p, 1\n",
    "                continue\n",
    "            pp, p = p, p + pp\n",
    "        return p"
   ]
  },
  {
   "cell_type": "code",
   "execution_count": 43,
   "id": "f42c95f4",
   "metadata": {},
   "outputs": [
    {
     "data": {
      "text/plain": [
       "2"
      ]
     },
     "execution_count": 43,
     "metadata": {},
     "output_type": "execute_result"
    }
   ],
   "source": [
    "n = 2\n",
    "sol = Solution()\n",
    "sol.climbStairs(n)"
   ]
  },
  {
   "cell_type": "code",
   "execution_count": 44,
   "id": "64dbedbf",
   "metadata": {},
   "outputs": [
    {
     "data": {
      "text/plain": [
       "5"
      ]
     },
     "execution_count": 44,
     "metadata": {},
     "output_type": "execute_result"
    }
   ],
   "source": [
    "n = 4\n",
    "sol = Solution()\n",
    "sol.climbStairs(n)"
   ]
  }
 ],
 "metadata": {
  "kernelspec": {
   "display_name": "venv",
   "language": "python",
   "name": "python3"
  },
  "language_info": {
   "codemirror_mode": {
    "name": "ipython",
    "version": 3
   },
   "file_extension": ".py",
   "mimetype": "text/x-python",
   "name": "python",
   "nbconvert_exporter": "python",
   "pygments_lexer": "ipython3",
   "version": "3.11.3"
  }
 },
 "nbformat": 4,
 "nbformat_minor": 5
}
