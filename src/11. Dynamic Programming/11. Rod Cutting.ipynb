{
 "cells": [
  {
   "cell_type": "code",
   "execution_count": 72,
   "id": "4e8034bc",
   "metadata": {},
   "outputs": [],
   "source": [
    "from typing import List\n",
    "\n",
    "\n",
    "class Solution:\n",
    "    def maximumProfit(self, n: int, prices: List[int]) -> int:\n",
    "        def helper(i):\n",
    "            if i == 0:\n",
    "                return 0\n",
    "            ans = 0\n",
    "            for j in range(1, i + 1):\n",
    "                ans = max(ans, prices[j-1] + helper(i-j))\n",
    "            return ans\n",
    "        return helper(n)"
   ]
  },
  {
   "cell_type": "code",
   "execution_count": 73,
   "id": "3800ff64",
   "metadata": {},
   "outputs": [
    {
     "data": {
      "text/plain": [
       "12"
      ]
     },
     "execution_count": 73,
     "metadata": {},
     "output_type": "execute_result"
    }
   ],
   "source": [
    "n = 8\n",
    "prices = [1, 3, 4, 5, 7, 9, 10, 11]\n",
    "sol = Solution()\n",
    "sol.maximumProfit(n, prices)"
   ]
  },
  {
   "cell_type": "code",
   "execution_count": 74,
   "id": "82f69052",
   "metadata": {},
   "outputs": [],
   "source": [
    "import sys\n",
    "sys.setrecursionlimit(10**6)\n",
    "\n",
    "from typing import List\n",
    "\n",
    "\n",
    "class Solution:\n",
    "    def maximumProfit(self, n: int, prices: List[int]) -> int:\n",
    "        dp = [-1 for _ in range(n + 1)]\n",
    "        def helper(i):\n",
    "            if i == 0:\n",
    "                return 0\n",
    "            if dp[i] != -1:\n",
    "                return dp[i]\n",
    "            ans = 0\n",
    "            for j in range(1, i + 1):\n",
    "                ans = max(ans, prices[j-1] + helper(i-j))\n",
    "            dp[i] = ans\n",
    "            return dp[i]\n",
    "        return helper(n)"
   ]
  },
  {
   "cell_type": "code",
   "execution_count": 75,
   "id": "8bf8ed51",
   "metadata": {},
   "outputs": [
    {
     "data": {
      "text/plain": [
       "12"
      ]
     },
     "execution_count": 75,
     "metadata": {},
     "output_type": "execute_result"
    }
   ],
   "source": [
    "n = 8\n",
    "prices = [1, 3, 4, 5, 7, 9, 10, 11]\n",
    "sol = Solution()\n",
    "sol.maximumProfit(n, prices)"
   ]
  },
  {
   "cell_type": "code",
   "execution_count": 76,
   "id": "bdc78a6a",
   "metadata": {},
   "outputs": [],
   "source": [
    "\n",
    "class Solution:\n",
    "    def maximumProfit(self, n: int, prices: List[int]) -> int:\n",
    "        dp = [-1 for _ in range(n + 1)]\n",
    "        for i in range(n+1):\n",
    "            if i == 0:\n",
    "                dp[i] = 0\n",
    "                continue\n",
    "            ans = 0\n",
    "            for j in range(1, i + 1):\n",
    "                ans = max(ans, prices[j-1] + dp[i-j])\n",
    "            dp[i] = ans\n",
    "        return dp[n]"
   ]
  },
  {
   "cell_type": "code",
   "execution_count": 77,
   "id": "3a2834d6",
   "metadata": {},
   "outputs": [
    {
     "data": {
      "text/plain": [
       "12"
      ]
     },
     "execution_count": 77,
     "metadata": {},
     "output_type": "execute_result"
    }
   ],
   "source": [
    "n = 8\n",
    "prices = [1, 3, 4, 5, 7, 9, 10, 11]\n",
    "sol = Solution()\n",
    "sol.maximumProfit(n, prices)"
   ]
  },
  {
   "cell_type": "markdown",
   "id": "f1d97ed5",
   "metadata": {},
   "source": [
    "#### Python versions lead to TLE\n",
    "\n",
    "### CPP variations past test cases, no TLE\n",
    "\n",
    "```cpp\n",
    "#include <bits/stdc++.h>\n",
    "using namespace std;\n",
    "int maximumProfit(int n, vector<int> &prices) {\n",
    "    // add your logic here\n",
    "    vector<int> dp(n + 1, -1);\n",
    "    function<int(int)> helper = [&](int i) {\n",
    "        if (i == 0) {\n",
    "            return 0;\n",
    "        }\n",
    "        if (dp[i] != -1) {\n",
    "            return dp[i];\n",
    "        }\n",
    "        int ans = 0;\n",
    "        for (int j = 1; j <= i; j++) {\n",
    "            ans = max(ans, prices[j - 1] + helper(i - j));\n",
    "        }\n",
    "        return dp[i] = ans;\n",
    "    };\n",
    "    return helper(n);\n",
    "}\n",
    "```"
   ]
  },
  {
   "cell_type": "markdown",
   "id": "235889f9",
   "metadata": {},
   "source": [
    "```cpp\n",
    "#include <bits/stdc++.h>\n",
    "using namespace std;\n",
    "int maximumProfit(int n, vector<int> &prices) {\n",
    "    // add your logic here\n",
    "    vector<int> dp(n + 1, -1);\n",
    "    for (int i=0; i<=n; i++){\n",
    "        if (i == 0) {\n",
    "            dp[i] = 0;\n",
    "            continue;\n",
    "        }\n",
    "        int ans = 0;\n",
    "        for (int j = 1; j <= i; j++) {\n",
    "            ans = max(ans, prices[j - 1] + dp[i-j]);\n",
    "        }\n",
    "        dp[i] = ans;\n",
    "    }\n",
    "    return dp[n];\n",
    "}\n",
    "```"
   ]
  }
 ],
 "metadata": {
  "kernelspec": {
   "display_name": "venv (3.11.3)",
   "language": "python",
   "name": "python3"
  },
  "language_info": {
   "codemirror_mode": {
    "name": "ipython",
    "version": 3
   },
   "file_extension": ".py",
   "mimetype": "text/x-python",
   "name": "python",
   "nbconvert_exporter": "python",
   "pygments_lexer": "ipython3",
   "version": "3.11.3"
  }
 },
 "nbformat": 4,
 "nbformat_minor": 5
}
