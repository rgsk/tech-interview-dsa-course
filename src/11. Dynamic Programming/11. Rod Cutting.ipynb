{
 "cells": [
  {
   "cell_type": "code",
   "execution_count": 144,
   "id": "4e8034bc",
   "metadata": {},
   "outputs": [],
   "source": [
    "from typing import List\n",
    "\n",
    "\n",
    "class Solution:\n",
    "    def maximumProfit(self, n: int, prices: List[int]) -> int:\n",
    "        def helper(i):\n",
    "            if i == 0:\n",
    "                return 0\n",
    "            ans = 0\n",
    "            for j in range(1, i + 1):\n",
    "                ans = max(ans, prices[j-1] + helper(i-j))\n",
    "            return ans\n",
    "        return helper(n)"
   ]
  },
  {
   "cell_type": "code",
   "execution_count": 145,
   "id": "3800ff64",
   "metadata": {},
   "outputs": [
    {
     "data": {
      "text/plain": [
       "12"
      ]
     },
     "execution_count": 145,
     "metadata": {},
     "output_type": "execute_result"
    }
   ],
   "source": [
    "n = 8\n",
    "prices = [1, 3, 4, 5, 7, 9, 10, 11]\n",
    "sol = Solution()\n",
    "sol.maximumProfit(n, prices)"
   ]
  },
  {
   "cell_type": "code",
   "execution_count": 146,
   "id": "82f69052",
   "metadata": {},
   "outputs": [],
   "source": [
    "import sys\n",
    "sys.setrecursionlimit(10**6)\n",
    "\n",
    "from typing import List\n",
    "\n",
    "\n",
    "class Solution:\n",
    "    def maximumProfit(self, n: int, prices: List[int]) -> int:\n",
    "        dp = [-1 for _ in range(n + 1)]\n",
    "        def helper(i):\n",
    "            if i == 0:\n",
    "                return 0\n",
    "            if dp[i] != -1:\n",
    "                return dp[i]\n",
    "            ans = 0\n",
    "            for j in range(1, i + 1):\n",
    "                ans = max(ans, prices[j-1] + helper(i-j))\n",
    "            dp[i] = ans\n",
    "            return dp[i]\n",
    "        return helper(n)"
   ]
  },
  {
   "cell_type": "code",
   "execution_count": 147,
   "id": "8bf8ed51",
   "metadata": {},
   "outputs": [
    {
     "data": {
      "text/plain": [
       "12"
      ]
     },
     "execution_count": 147,
     "metadata": {},
     "output_type": "execute_result"
    }
   ],
   "source": [
    "n = 8\n",
    "prices = [1, 3, 4, 5, 7, 9, 10, 11]\n",
    "sol = Solution()\n",
    "sol.maximumProfit(n, prices)"
   ]
  },
  {
   "cell_type": "code",
   "execution_count": 148,
   "id": "bdc78a6a",
   "metadata": {},
   "outputs": [],
   "source": [
    "\n",
    "class Solution:\n",
    "    def maximumProfit(self, n: int, prices: List[int]) -> int:\n",
    "        dp = [-1 for _ in range(n + 1)]\n",
    "        for i in range(n+1):\n",
    "            if i == 0:\n",
    "                dp[i] = 0\n",
    "                continue\n",
    "            ans = 0\n",
    "            for j in range(1, i + 1):\n",
    "                ans = max(ans, prices[j-1] + dp[i-j])\n",
    "            dp[i] = ans\n",
    "        return dp[n]"
   ]
  },
  {
   "cell_type": "code",
   "execution_count": 149,
   "id": "3a2834d6",
   "metadata": {},
   "outputs": [
    {
     "data": {
      "text/plain": [
       "12"
      ]
     },
     "execution_count": 149,
     "metadata": {},
     "output_type": "execute_result"
    }
   ],
   "source": [
    "n = 8\n",
    "prices = [1, 3, 4, 5, 7, 9, 10, 11]\n",
    "sol = Solution()\n",
    "sol.maximumProfit(n, prices)"
   ]
  },
  {
   "cell_type": "markdown",
   "id": "f1d97ed5",
   "metadata": {},
   "source": [
    "#### Python versions lead to TLE\n",
    "\n",
    "### CPP variations pass test cases, no TLE\n",
    "\n",
    "```cpp\n",
    "#include <bits/stdc++.h>\n",
    "using namespace std;\n",
    "int maximumProfit(int n, vector<int> &prices) {\n",
    "    // add your logic here\n",
    "    vector<int> dp(n + 1, -1);\n",
    "    function<int(int)> helper = [&](int i) {\n",
    "        if (i == 0) {\n",
    "            return 0;\n",
    "        }\n",
    "        if (dp[i] != -1) {\n",
    "            return dp[i];\n",
    "        }\n",
    "        int ans = 0;\n",
    "        for (int j = 1; j <= i; j++) {\n",
    "            ans = max(ans, prices[j - 1] + helper(i - j));\n",
    "        }\n",
    "        return dp[i] = ans;\n",
    "    };\n",
    "    return helper(n);\n",
    "}\n",
    "```"
   ]
  },
  {
   "cell_type": "markdown",
   "id": "235889f9",
   "metadata": {},
   "source": [
    "```cpp\n",
    "#include <bits/stdc++.h>\n",
    "using namespace std;\n",
    "int maximumProfit(int n, vector<int> &prices) {\n",
    "    // add your logic here\n",
    "    vector<int> dp(n + 1, -1);\n",
    "    for (int i=0; i<=n; i++){\n",
    "        if (i == 0) {\n",
    "            dp[i] = 0;\n",
    "            continue;\n",
    "        }\n",
    "        int ans = 0;\n",
    "        for (int j = 1; j <= i; j++) {\n",
    "            ans = max(ans, prices[j - 1] + dp[i-j]);\n",
    "        }\n",
    "        dp[i] = ans;\n",
    "    }\n",
    "    return dp[n];\n",
    "}\n",
    "```"
   ]
  },
  {
   "cell_type": "markdown",
   "id": "17e5936b",
   "metadata": {},
   "source": [
    "### Alternative approach"
   ]
  },
  {
   "cell_type": "code",
   "execution_count": 150,
   "id": "8bb79d2e",
   "metadata": {},
   "outputs": [],
   "source": [
    "from typing import List\n",
    "\n",
    "\n",
    "class Solution:\n",
    "    def maximumProfit(self, n: int, prices: List[int]) -> int:\n",
    "        def helper(i, r):\n",
    "            if i == n:\n",
    "                return 0\n",
    "            if i + 1 <= r:\n",
    "                return max(prices[i] + helper(i, r - (i + 1)), helper(i + 1, r))\n",
    "            else:\n",
    "                return helper(i + 1, r)\n",
    "        return helper(0, n)"
   ]
  },
  {
   "cell_type": "code",
   "execution_count": 151,
   "id": "1d246f06",
   "metadata": {},
   "outputs": [
    {
     "data": {
      "text/plain": [
       "12"
      ]
     },
     "execution_count": 151,
     "metadata": {},
     "output_type": "execute_result"
    }
   ],
   "source": [
    "n = 8\n",
    "prices = [1, 3, 4, 5, 7, 9, 10, 11]\n",
    "sol = Solution()\n",
    "sol.maximumProfit(n, prices)"
   ]
  },
  {
   "cell_type": "code",
   "execution_count": 152,
   "id": "d48bba56",
   "metadata": {},
   "outputs": [],
   "source": [
    "from typing import List\n",
    "\n",
    "\n",
    "class Solution:\n",
    "    def maximumProfit(self, n: int, prices: List[int]) -> int:\n",
    "        dp = [[-1 for _ in range(n + 1)] for _ in range(n + 1)]\n",
    "        for i in range(n, -1, -1):\n",
    "            for r in range(n + 1):\n",
    "                if i == n:\n",
    "                    dp[i][r] = 0\n",
    "                    continue\n",
    "                if i + 1 <= r:\n",
    "                    dp[i][r] = max(prices[i] + dp[i][r-(i+1)], dp[i+1][r])\n",
    "                else:\n",
    "                    dp[i][r] = dp[i+1][r]\n",
    "        return dp[0][n]"
   ]
  },
  {
   "cell_type": "code",
   "execution_count": 153,
   "id": "248771dd",
   "metadata": {},
   "outputs": [
    {
     "data": {
      "text/plain": [
       "12"
      ]
     },
     "execution_count": 153,
     "metadata": {},
     "output_type": "execute_result"
    }
   ],
   "source": [
    "n = 8\n",
    "prices = [1, 3, 4, 5, 7, 9, 10, 11]\n",
    "sol = Solution()\n",
    "sol.maximumProfit(n, prices)"
   ]
  },
  {
   "cell_type": "code",
   "execution_count": 154,
   "id": "e1ca8ecf",
   "metadata": {},
   "outputs": [],
   "source": [
    "from typing import List\n",
    "\n",
    "\n",
    "class Solution:\n",
    "    def maximumProfit(self, n: int, prices: List[int]) -> int:\n",
    "        dp = [-1 for _ in range(n + 1)]\n",
    "        for i in range(n, -1, -1):\n",
    "            copy = dp[:]\n",
    "            for r in range(n + 1):\n",
    "                if i == n:\n",
    "                    dp[r] = 0\n",
    "                    continue\n",
    "                if i + 1 <= r:\n",
    "                    dp[r] = max(prices[i] + dp[r-(i+1)], copy[r])\n",
    "                else:\n",
    "                    dp[r] = copy[r]\n",
    "        return dp[n]"
   ]
  },
  {
   "cell_type": "code",
   "execution_count": 155,
   "id": "417e713f",
   "metadata": {},
   "outputs": [
    {
     "data": {
      "text/plain": [
       "12"
      ]
     },
     "execution_count": 155,
     "metadata": {},
     "output_type": "execute_result"
    }
   ],
   "source": [
    "n = 8\n",
    "prices = [1, 3, 4, 5, 7, 9, 10, 11]\n",
    "sol = Solution()\n",
    "sol.maximumProfit(n, prices)"
   ]
  },
  {
   "cell_type": "markdown",
   "id": "97479c49",
   "metadata": {},
   "source": [
    "### Again python solutions have TLE, but C++ solution is accepted\n",
    "```cpp\n",
    "#include <bits/stdc++.h>\n",
    "using namespace std;\n",
    "int maximumProfit(int n, vector<int> &prices) {\n",
    "    // add your logic here\n",
    "    vector<int> dp(n + 1, -1);\n",
    "    for (int i=n; i>=0; i--) {\n",
    "        auto copy = dp;\n",
    "        for (int r=0; r<n+1; r++) {\n",
    "            if (i == n){\n",
    "                dp[r] = 0;\n",
    "                continue;\n",
    "            }\n",
    "            if (i + 1 <= r) {\n",
    "                dp[r] = max(prices[i] + dp[r-(i+1)], copy[r]);\n",
    "            } else {\n",
    "                dp[r] = copy[r];\n",
    "            }\n",
    "        }\n",
    "    }\n",
    "    return dp[n];\n",
    "}\n",
    "```"
   ]
  }
 ],
 "metadata": {
  "kernelspec": {
   "display_name": "venv (3.11.3)",
   "language": "python",
   "name": "python3"
  },
  "language_info": {
   "codemirror_mode": {
    "name": "ipython",
    "version": 3
   },
   "file_extension": ".py",
   "mimetype": "text/x-python",
   "name": "python",
   "nbconvert_exporter": "python",
   "pygments_lexer": "ipython3",
   "version": "3.11.3"
  }
 },
 "nbformat": 4,
 "nbformat_minor": 5
}
