{
 "cells": [
  {
   "cell_type": "code",
   "execution_count": 12,
   "id": "1d5a991c",
   "metadata": {},
   "outputs": [],
   "source": [
    "class Solution:\n",
    "\tdef getLengthOfLCS(self, s1: str, s2: str) -> int:\n",
    "\t\tdef helper(i, j):\n",
    "\t\t\tif i == len(s1) or j == len(s2):\n",
    "\t\t\t\treturn 0\n",
    "\t\t\tif s1[i] == s2[j]:\n",
    "\t\t\t\treturn 1 + helper(i + 1, j + 1)\n",
    "\t\t\treturn max(helper(i + 1, j), helper(i, j + 1))\n",
    "\t\treturn helper(0, 0)"
   ]
  },
  {
   "cell_type": "code",
   "execution_count": 13,
   "id": "bb64deef",
   "metadata": {},
   "outputs": [
    {
     "data": {
      "text/plain": [
       "4"
      ]
     },
     "execution_count": 13,
     "metadata": {},
     "output_type": "execute_result"
    }
   ],
   "source": [
    "s1 = \"workattech\"\n",
    "s2 = \"branch\"\n",
    "sol = Solution()\n",
    "sol.getLengthOfLCS(s1, s2)"
   ]
  },
  {
   "cell_type": "code",
   "execution_count": 14,
   "id": "aeed3fe4",
   "metadata": {},
   "outputs": [],
   "source": [
    "class Solution:\n",
    "    def getLengthOfLCS(self, s1: str, s2: str) -> int:\n",
    "        dp = [[-1 for _ in range(len(s2) + 1)] for _ in range(len(s1) + 1)]\n",
    "        for i in range(len(s1), -1, -1):\n",
    "            for j in range(len(s2), -1, -1):\n",
    "                if i == len(s1) or j == len(s2):\n",
    "                    dp[i][j] = 0\n",
    "                    continue\n",
    "                if s1[i] == s2[j]:\n",
    "                    dp[i][j] = 1 + dp[i + 1][j + 1]\n",
    "                    continue\n",
    "                dp[i][j] = max(dp[i + 1][j], dp[i][j+1])\n",
    "        return dp[0][0]"
   ]
  },
  {
   "cell_type": "code",
   "execution_count": 15,
   "id": "ed3d921b",
   "metadata": {},
   "outputs": [
    {
     "data": {
      "text/plain": [
       "4"
      ]
     },
     "execution_count": 15,
     "metadata": {},
     "output_type": "execute_result"
    }
   ],
   "source": [
    "s1 = \"workattech\"\n",
    "s2 = \"branch\"\n",
    "sol = Solution()\n",
    "sol.getLengthOfLCS(s1, s2)"
   ]
  },
  {
   "cell_type": "code",
   "execution_count": 16,
   "id": "8a3a173c",
   "metadata": {},
   "outputs": [],
   "source": [
    "class Solution:\n",
    "    def getLengthOfLCS(self, s1: str, s2: str) -> int:\n",
    "        dp = [-1 for _ in range(len(s2) + 1)]\n",
    "        for i in range(len(s1), -1, -1):\n",
    "            copy = dp[:]\n",
    "            for j in range(len(s2), -1, -1):\n",
    "                if i == len(s1) or j == len(s2):\n",
    "                    dp[j] = 0\n",
    "                    continue\n",
    "                if s1[i] == s2[j]:\n",
    "                    dp[j] = 1 + copy[j + 1]\n",
    "                    continue\n",
    "                dp[j] = max(copy[j], dp[j+1])\n",
    "        return dp[0]"
   ]
  },
  {
   "cell_type": "code",
   "execution_count": 17,
   "id": "c114011e",
   "metadata": {},
   "outputs": [
    {
     "data": {
      "text/plain": [
       "4"
      ]
     },
     "execution_count": 17,
     "metadata": {},
     "output_type": "execute_result"
    }
   ],
   "source": [
    "s1 = \"workattech\"\n",
    "s2 = \"branch\"\n",
    "sol = Solution()\n",
    "sol.getLengthOfLCS(s1, s2)"
   ]
  }
 ],
 "metadata": {
  "kernelspec": {
   "display_name": "venv",
   "language": "python",
   "name": "python3"
  },
  "language_info": {
   "codemirror_mode": {
    "name": "ipython",
    "version": 3
   },
   "file_extension": ".py",
   "mimetype": "text/x-python",
   "name": "python",
   "nbconvert_exporter": "python",
   "pygments_lexer": "ipython3",
   "version": "3.11.3"
  }
 },
 "nbformat": 4,
 "nbformat_minor": 5
}
