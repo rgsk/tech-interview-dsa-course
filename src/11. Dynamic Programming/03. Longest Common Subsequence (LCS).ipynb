{
 "cells": [
  {
   "cell_type": "code",
   "execution_count": 45,
   "id": "1d5a991c",
   "metadata": {},
   "outputs": [],
   "source": [
    "class Solution:\n",
    "\tdef getLengthOfLCS(self, s1: str, s2: str) -> int:\n",
    "\t\tdef helper(i, j):\n",
    "\t\t\tif i == len(s1) or j == len(s2):\n",
    "\t\t\t\treturn 0\n",
    "\t\t\tif s1[i] == s2[j]:\n",
    "\t\t\t\treturn 1 + helper(i + 1, j + 1)\n",
    "\t\t\treturn max(helper(i + 1, j), helper(i, j + 1))\n",
    "\t\treturn helper(0, 0)"
   ]
  },
  {
   "cell_type": "code",
   "execution_count": 46,
   "id": "bb64deef",
   "metadata": {},
   "outputs": [
    {
     "data": {
      "text/plain": [
       "4"
      ]
     },
     "execution_count": 46,
     "metadata": {},
     "output_type": "execute_result"
    }
   ],
   "source": [
    "s1 = \"workattech\"\n",
    "s2 = \"branch\"\n",
    "sol = Solution()\n",
    "sol.getLengthOfLCS(s1, s2)"
   ]
  },
  {
   "cell_type": "code",
   "execution_count": 47,
   "id": "aeed3fe4",
   "metadata": {},
   "outputs": [],
   "source": [
    "class Solution:\n",
    "    def getLengthOfLCS(self, s1: str, s2: str) -> int:\n",
    "        dp = [[-1 for _ in range(len(s2) + 1)] for _ in range(len(s1) + 1)]\n",
    "        for i in range(len(s1), -1, -1):\n",
    "            for j in range(len(s2), -1, -1):\n",
    "                if i == len(s1) or j == len(s2):\n",
    "                    dp[i][j] = 0\n",
    "                    continue\n",
    "                if s1[i] == s2[j]:\n",
    "                    dp[i][j] = 1 + dp[i + 1][j + 1]\n",
    "                    continue\n",
    "                dp[i][j] = max(dp[i + 1][j], dp[i][j+1])\n",
    "        return dp[0][0]"
   ]
  },
  {
   "cell_type": "code",
   "execution_count": 48,
   "id": "ed3d921b",
   "metadata": {},
   "outputs": [
    {
     "data": {
      "text/plain": [
       "4"
      ]
     },
     "execution_count": 48,
     "metadata": {},
     "output_type": "execute_result"
    }
   ],
   "source": [
    "s1 = \"workattech\"\n",
    "s2 = \"branch\"\n",
    "sol = Solution()\n",
    "sol.getLengthOfLCS(s1, s2)"
   ]
  },
  {
   "cell_type": "code",
   "execution_count": 49,
   "id": "8a3a173c",
   "metadata": {},
   "outputs": [],
   "source": [
    "class Solution:\n",
    "    def getLengthOfLCS(self, s1: str, s2: str) -> int:\n",
    "        dp = [-1 for _ in range(len(s2) + 1)]\n",
    "        for i in range(len(s1), -1, -1):\n",
    "            copy = dp[:]\n",
    "            for j in range(len(s2), -1, -1):\n",
    "                if i == len(s1) or j == len(s2):\n",
    "                    dp[j] = 0\n",
    "                    continue\n",
    "                if s1[i] == s2[j]:\n",
    "                    dp[j] = 1 + copy[j + 1]\n",
    "                    continue\n",
    "                dp[j] = max(copy[j], dp[j+1])\n",
    "        return dp[0]"
   ]
  },
  {
   "cell_type": "code",
   "execution_count": 50,
   "id": "c114011e",
   "metadata": {},
   "outputs": [
    {
     "data": {
      "text/plain": [
       "4"
      ]
     },
     "execution_count": 50,
     "metadata": {},
     "output_type": "execute_result"
    }
   ],
   "source": [
    "s1 = \"workattech\"\n",
    "s2 = \"branch\"\n",
    "sol = Solution()\n",
    "sol.getLengthOfLCS(s1, s2)"
   ]
  },
  {
   "cell_type": "markdown",
   "id": "0a926415",
   "metadata": {},
   "source": [
    "### Reversing DP Index traversal order"
   ]
  },
  {
   "cell_type": "code",
   "execution_count": 51,
   "id": "56a25a88",
   "metadata": {},
   "outputs": [],
   "source": [
    "class Solution:\n",
    "\tdef getLengthOfLCS(self, s1: str, s2: str) -> int:\n",
    "\t\tdef helper(i, j):\n",
    "\t\t\tif i == -1 or j == -1:\n",
    "\t\t\t\treturn 0\n",
    "\t\t\tif s1[i] == s2[j]:\n",
    "\t\t\t\treturn 1 + helper(i - 1, j - 1)\n",
    "\t\t\treturn max(helper(i - 1, j), helper(i, j - 1))\n",
    "\t\treturn helper(len(s1) - 1, len(s2) - 1)"
   ]
  },
  {
   "cell_type": "code",
   "execution_count": 52,
   "id": "5f959fe9",
   "metadata": {},
   "outputs": [
    {
     "data": {
      "text/plain": [
       "4"
      ]
     },
     "execution_count": 52,
     "metadata": {},
     "output_type": "execute_result"
    }
   ],
   "source": [
    "s1 = \"workattech\"\n",
    "s2 = \"branch\"\n",
    "sol = Solution()\n",
    "sol.getLengthOfLCS(s1, s2)"
   ]
  },
  {
   "cell_type": "code",
   "execution_count": 53,
   "id": "f45f15e2",
   "metadata": {},
   "outputs": [],
   "source": [
    "class Solution:\n",
    "\tdef getLengthOfLCS(self, s1: str, s2: str) -> int:\n",
    "\t\tdef helper(i, j):\n",
    "\t\t\tif i == 0 or j == 0:\n",
    "\t\t\t\treturn 0\n",
    "\t\t\tif s1[i - 1] == s2[j - 1]:\n",
    "\t\t\t\treturn 1 + helper(i - 1, j - 1)\n",
    "\t\t\treturn max(helper(i - 1, j), helper(i, j - 1))\n",
    "\t\treturn helper(len(s1), len(s2))"
   ]
  },
  {
   "cell_type": "code",
   "execution_count": 54,
   "id": "47145612",
   "metadata": {},
   "outputs": [
    {
     "data": {
      "text/plain": [
       "4"
      ]
     },
     "execution_count": 54,
     "metadata": {},
     "output_type": "execute_result"
    }
   ],
   "source": [
    "s1 = \"workattech\"\n",
    "s2 = \"branch\"\n",
    "sol = Solution()\n",
    "sol.getLengthOfLCS(s1, s2)"
   ]
  },
  {
   "cell_type": "code",
   "execution_count": 55,
   "id": "a6ff23e2",
   "metadata": {},
   "outputs": [],
   "source": [
    "class Solution:\n",
    "\tdef getLengthOfLCS(self, s1: str, s2: str) -> int:\n",
    "\t\tdp = [[-1 for _ in range(len(s2) + 1)] for _ in range(len(s1) + 1)]\n",
    "\t\tfor i in range(len(s1) + 1):\n",
    "\t\t\tfor j in range(len(s2) + 1):\n",
    "\t\t\t\tif i == 0 or j == 0:\n",
    "\t\t\t\t\tdp[i][j] = 0\n",
    "\t\t\t\t\tcontinue\n",
    "\t\t\t\tif s1[i - 1] == s2[j - 1]:\n",
    "\t\t\t\t\tdp[i][j] = 1 + dp[i-1][j-1]\n",
    "\t\t\t\t\tcontinue\n",
    "\t\t\t\tdp[i][j] = max(dp[i-1][j], dp[i][j-1])\n",
    "\t\treturn dp[len(s1)][len(s2)]"
   ]
  },
  {
   "cell_type": "code",
   "execution_count": 56,
   "id": "4a474577",
   "metadata": {},
   "outputs": [
    {
     "data": {
      "text/plain": [
       "4"
      ]
     },
     "execution_count": 56,
     "metadata": {},
     "output_type": "execute_result"
    }
   ],
   "source": [
    "s1 = \"workattech\"\n",
    "s2 = \"branch\"\n",
    "sol = Solution()\n",
    "sol.getLengthOfLCS(s1, s2)"
   ]
  },
  {
   "cell_type": "code",
   "execution_count": 57,
   "id": "62e3b325",
   "metadata": {},
   "outputs": [],
   "source": [
    "class Solution:\n",
    "\tdef getLengthOfLCS(self, s1: str, s2: str) -> int:\n",
    "\t\tdp = [-1 for _ in range(len(s2) + 1)]\n",
    "\t\tfor i in range(len(s1) + 1):\n",
    "\t\t\tcopy = dp[:]\n",
    "\t\t\tfor j in range(len(s2) + 1):\n",
    "\t\t\t\tif i == 0 or j == 0:\n",
    "\t\t\t\t\tdp[j] = 0\n",
    "\t\t\t\t\tcontinue\n",
    "\t\t\t\tif s1[i - 1] == s2[j - 1]:\n",
    "\t\t\t\t\tdp[j] = 1 + copy[j-1]\n",
    "\t\t\t\t\tcontinue\n",
    "\t\t\t\tdp[j] = max(copy[j], dp[j-1])\n",
    "\t\treturn dp[len(s2)]"
   ]
  },
  {
   "cell_type": "code",
   "execution_count": 58,
   "id": "c491d817",
   "metadata": {},
   "outputs": [
    {
     "data": {
      "text/plain": [
       "4"
      ]
     },
     "execution_count": 58,
     "metadata": {},
     "output_type": "execute_result"
    }
   ],
   "source": [
    "s1 = \"workattech\"\n",
    "s2 = \"branch\"\n",
    "sol = Solution()\n",
    "sol.getLengthOfLCS(s1, s2)"
   ]
  }
 ],
 "metadata": {
  "kernelspec": {
   "display_name": "venv (3.11.3)",
   "language": "python",
   "name": "python3"
  },
  "language_info": {
   "codemirror_mode": {
    "name": "ipython",
    "version": 3
   },
   "file_extension": ".py",
   "mimetype": "text/x-python",
   "name": "python",
   "nbconvert_exporter": "python",
   "pygments_lexer": "ipython3",
   "version": "3.11.3"
  }
 },
 "nbformat": 4,
 "nbformat_minor": 5
}
