{
 "cells": [
  {
   "cell_type": "code",
   "execution_count": null,
   "id": "13afd341",
   "metadata": {},
   "outputs": [],
   "source": [
    "\n",
    "# https://www.youtube.com/watch?v=qmTtAbOTqcg\n",
    "\n",
    "class Solution:\n",
    "    # @param A : string\n",
    "    # @return an integer\n",
    "    def getMinCuts(self, A):\n",
    "        n = len(A)\n",
    "        palindrome = [[False for _ in range(n)] for _ in range(n)]\n",
    "\n",
    "        # Fill out the palindrome table\n",
    "        for gap in range(n):\n",
    "            for i in range(n - gap):\n",
    "                j = i + gap\n",
    "                if gap == 0:\n",
    "                    palindrome[i][j] = True\n",
    "                elif gap == 1:\n",
    "                    palindrome[i][j] = (A[i] == A[j])\n",
    "                else:\n",
    "                    palindrome[i][j] = (A[i] == A[j] and palindrome[i+1][j-1])\n",
    "\n",
    "        dp = [float('inf') for _ in range(n + 1)]\n",
    "        dp[0] = -1\n",
    "        for i in range(n):\n",
    "            for j in range(i + 1):\n",
    "                if palindrome[j][i]:\n",
    "                    dp[i + 1] = min(dp[i + 1], 1 + dp[j])\n",
    "        return dp[n]\n",
    "    \n",
    "'''\n",
    "dp[i] means upto length i how many minimum cuts are needed\n",
    "if suffix is a palindrome\n",
    "then we get the min cuts for rest of string on left\n",
    "and store \"1 + min_cuts_on_left\" at current dp[i]\n",
    "'''"
   ]
  }
 ],
 "metadata": {
  "language_info": {
   "name": "python"
  }
 },
 "nbformat": 4,
 "nbformat_minor": 5
}
