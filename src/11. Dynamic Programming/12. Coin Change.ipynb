{
 "cells": [
  {
   "cell_type": "code",
   "execution_count": 9,
   "id": "f98e9a48",
   "metadata": {},
   "outputs": [],
   "source": [
    "from typing import List\n",
    "\n",
    "\n",
    "class Solution:\n",
    "    def numberOfCombinations(self, coins: List[int], target: int) -> int:\n",
    "        n = len(coins)\n",
    "        def helper(i, r):\n",
    "            if r == 0:\n",
    "                return 1\n",
    "            if i == n:\n",
    "                return 0\n",
    "            if coins[i] <= r:\n",
    "                return helper(i, r - coins[i]) + helper(i + 1, r)\n",
    "            else:\n",
    "                return helper(i + 1, r)\n",
    "        return helper(0, target)"
   ]
  },
  {
   "cell_type": "code",
   "execution_count": 10,
   "id": "a26b0049",
   "metadata": {},
   "outputs": [
    {
     "data": {
      "text/plain": [
       "3"
      ]
     },
     "execution_count": 10,
     "metadata": {},
     "output_type": "execute_result"
    }
   ],
   "source": [
    "coins = [5, 2, 4]\n",
    "target = 13\n",
    "sol = Solution()\n",
    "sol.numberOfCombinations(coins, target)"
   ]
  },
  {
   "cell_type": "code",
   "execution_count": 11,
   "id": "f5716311",
   "metadata": {},
   "outputs": [],
   "source": [
    "from typing import List\n",
    "\n",
    "\n",
    "class Solution:\n",
    "    def numberOfCombinations(self, coins: List[int], target: int) -> int:\n",
    "        n = len(coins)\n",
    "        dp = [[-1 for _ in range(target + 1)] for _ in range(n + 1)]\n",
    "        for i in range(n, -1, -1):\n",
    "            for r in range(target + 1):\n",
    "                if r == 0:\n",
    "                    dp[i][r] = 1\n",
    "                    continue\n",
    "                if i == n:\n",
    "                    dp[i][r] = 0\n",
    "                    continue\n",
    "                if coins[i] <= r:\n",
    "                    dp[i][r] = dp[i][r-coins[i]] + dp[i+1][r]\n",
    "                else:\n",
    "                    dp[i][r] = dp[i+1][r]\n",
    "        return dp[0][target]"
   ]
  },
  {
   "cell_type": "code",
   "execution_count": 12,
   "id": "e57259a0",
   "metadata": {},
   "outputs": [
    {
     "data": {
      "text/plain": [
       "3"
      ]
     },
     "execution_count": 12,
     "metadata": {},
     "output_type": "execute_result"
    }
   ],
   "source": [
    "coins = [5, 2, 4]\n",
    "target = 13\n",
    "sol = Solution()\n",
    "sol.numberOfCombinations(coins, target)"
   ]
  },
  {
   "cell_type": "markdown",
   "id": "a495e05e",
   "metadata": {},
   "source": [
    "### CPP version accepted, no TLE\n",
    "\n",
    "```cpp\n",
    "#include <bits/stdc++.h>\n",
    "using namespace std;\n",
    "\n",
    "int numberOfCombinations(vector<int> &coins, int target) {\n",
    "    // add you logic here\n",
    "    int n = coins.size();\n",
    "    vector<vector<int>> dp(n + 1, vector<int>(target + 1, -1));\n",
    "    for (int i = n; i >= 0; i--) {\n",
    "        for (int r = 0; r <= target; r++) {\n",
    "            if (r == 0) {\n",
    "                dp[i][r] = 1;\n",
    "                continue;\n",
    "            }\n",
    "            if (i == n) {\n",
    "                dp[i][r] = 0;\n",
    "                continue;\n",
    "            }\n",
    "            if (coins[i] <= r) {\n",
    "                dp[i][r] = dp[i][r - coins[i]] + dp[i + 1][r];\n",
    "            } else {\n",
    "                dp[i][r] = dp[i + 1][r];\n",
    "            }\n",
    "        }\n",
    "    }\n",
    "    return dp[0][target];\n",
    "}\n",
    "```"
   ]
  }
 ],
 "metadata": {
  "kernelspec": {
   "display_name": "venv (3.11.3)",
   "language": "python",
   "name": "python3"
  },
  "language_info": {
   "codemirror_mode": {
    "name": "ipython",
    "version": 3
   },
   "file_extension": ".py",
   "mimetype": "text/x-python",
   "name": "python",
   "nbconvert_exporter": "python",
   "pygments_lexer": "ipython3",
   "version": "3.11.3"
  }
 },
 "nbformat": 4,
 "nbformat_minor": 5
}
