{
 "cells": [
  {
   "cell_type": "code",
   "execution_count": 69,
   "id": "63d6c820",
   "metadata": {},
   "outputs": [],
   "source": [
    "from typing import List\n",
    "\n",
    "class Solution:\n",
    "    def maxProduct(self, A: List[int]) -> int:\n",
    "        n = len(A)\n",
    "        left_running = A[0]\n",
    "        left_max = left_running\n",
    "\n",
    "        for i in range(1, n):\n",
    "            if left_running == 0:\n",
    "                left_running = 1\n",
    "            left_running *= A[i]\n",
    "            left_max = max(left_max, left_running)\n",
    "\n",
    "        right_running = A[-1]\n",
    "        right_max = right_running\n",
    "\n",
    "        for i in range(n - 2, -1, -1):\n",
    "            if right_running == 0:\n",
    "                right_running = 1\n",
    "            right_running *= A[i]\n",
    "            right_max = max(right_max, right_running)\n",
    "\n",
    "        return max(left_max, right_max)"
   ]
  },
  {
   "cell_type": "code",
   "execution_count": 70,
   "id": "1103d28c",
   "metadata": {},
   "outputs": [
    {
     "data": {
      "text/plain": [
       "36"
      ]
     },
     "execution_count": 70,
     "metadata": {},
     "output_type": "execute_result"
    }
   ],
   "source": [
    "A = [-1, 3, 2, -1, -2, 3, 0, -2]\n",
    "sol = Solution()\n",
    "sol.maxProduct(A)"
   ]
  },
  {
   "cell_type": "markdown",
   "id": "0be30a92",
   "metadata": {},
   "source": [
    "<img src=\"../../public/max-product-subarray-kadane.png\" width=\"700\" >\n",
    "\n",
    "Note: in calculation of cur_max and cur_min, the element at current index must be included, elements to left of it may or may not be included"
   ]
  },
  {
   "cell_type": "code",
   "execution_count": 71,
   "id": "5b4d1185",
   "metadata": {},
   "outputs": [],
   "source": [
    "# Kadane’s-style for Product\n",
    "\n",
    "from typing import List\n",
    "\n",
    "class Solution:\n",
    "    def maxProduct(self, A: List[int]) -> int:\n",
    "        curr_max = curr_min = result = A[0]\n",
    "\n",
    "        for num in A[1:]:\n",
    "            if num < 0:\n",
    "                curr_max, curr_min = curr_min, curr_max\n",
    "            \n",
    "            curr_max = max(num, curr_max * num)\n",
    "            curr_min = min(num, curr_min * num)\n",
    "            \n",
    "            result = max(result, curr_max)\n",
    "\n",
    "        return result\n"
   ]
  },
  {
   "cell_type": "code",
   "execution_count": 72,
   "id": "33312527",
   "metadata": {},
   "outputs": [
    {
     "data": {
      "text/plain": [
       "36"
      ]
     },
     "execution_count": 72,
     "metadata": {},
     "output_type": "execute_result"
    }
   ],
   "source": [
    "A = [-1, 3, 2, -1, -2, 3, 0, -2]\n",
    "sol = Solution()\n",
    "sol.maxProduct(A)"
   ]
  },
  {
   "cell_type": "markdown",
   "id": "8d5b3f23",
   "metadata": {},
   "source": [
    "### Kadane's based approach, Easy to understand\n",
    "\n",
    "Below is the Kadane's approach for largestContiguousSum, check how it changes for maxProduct\n",
    "\n",
    "```py\n",
    "class Solution:\n",
    "    def largestContiguousSum(self, arr: List[int]) -> int:\n",
    "        cur_sum = arr[0]\n",
    "        max_sum = cur_sum\n",
    "        for i in range(1, len(arr)):\n",
    "            cur_sum = max(cur_sum + arr[i], arr[i])\n",
    "            max_sum = max(max_sum, cur_sum)\n",
    "        return max_sum\n",
    "```"
   ]
  },
  {
   "cell_type": "code",
   "execution_count": 73,
   "id": "0399159d",
   "metadata": {},
   "outputs": [],
   "source": [
    "# Kadane’s-style for Product (Easier Variation)\n",
    "\n",
    "from typing import List\n",
    "\n",
    "\n",
    "class Solution:\n",
    "    def maxProduct(self, A: List[int]) -> int:\n",
    "        curr_max = curr_min = result = A[0]\n",
    "\n",
    "        for num in A[1:]:\n",
    "            curr_max, curr_min = (\n",
    "                max(num, curr_max * num, curr_min * num),\n",
    "                min(num, curr_min * num, curr_max * num)\n",
    "            )\n",
    "            result = max(result, curr_max)\n",
    "\n",
    "        return result"
   ]
  },
  {
   "cell_type": "code",
   "execution_count": 74,
   "id": "77c4afd1",
   "metadata": {},
   "outputs": [
    {
     "data": {
      "text/plain": [
       "36"
      ]
     },
     "execution_count": 74,
     "metadata": {},
     "output_type": "execute_result"
    }
   ],
   "source": [
    "A = [-1, 3, 2, -1, -2, 3, 0, -2]\n",
    "sol = Solution()\n",
    "sol.maxProduct(A)"
   ]
  }
 ],
 "metadata": {
  "kernelspec": {
   "display_name": "venv (3.11.3)",
   "language": "python",
   "name": "python3"
  },
  "language_info": {
   "codemirror_mode": {
    "name": "ipython",
    "version": 3
   },
   "file_extension": ".py",
   "mimetype": "text/x-python",
   "name": "python",
   "nbconvert_exporter": "python",
   "pygments_lexer": "ipython3",
   "version": "3.11.3"
  }
 },
 "nbformat": 4,
 "nbformat_minor": 5
}
