{
 "cells": [
  {
   "cell_type": "code",
   "execution_count": 3,
   "id": "8e9aea6c",
   "metadata": {},
   "outputs": [],
   "source": [
    "from typing import List\n",
    "\n",
    "\n",
    "class Solution:\n",
    "    def maxSumSubsequence(self, arr: List[int]) -> int:\n",
    "        n = len(arr)\n",
    "        dp = [arr[i] for i in range(n)]\n",
    "        for i in range(1, n):\n",
    "            for j in range(i):\n",
    "                if arr[i] > arr[j]:\n",
    "                    dp[i] = max(dp[i], dp[j] + arr[i])\n",
    "        return max(dp)"
   ]
  },
  {
   "cell_type": "code",
   "execution_count": 4,
   "id": "6b4d0380",
   "metadata": {},
   "outputs": [
    {
     "data": {
      "text/plain": [
       "205"
      ]
     },
     "execution_count": 4,
     "metadata": {},
     "output_type": "execute_result"
    }
   ],
   "source": [
    "arr = [101, 4, 98, 103]\n",
    "sol = Solution()\n",
    "sol.maxSumSubsequence(arr)"
   ]
  },
  {
   "cell_type": "code",
   "execution_count": 5,
   "id": "0c78c3e4",
   "metadata": {},
   "outputs": [
    {
     "data": {
      "text/plain": [
       "204"
      ]
     },
     "execution_count": 5,
     "metadata": {},
     "output_type": "execute_result"
    }
   ],
   "source": [
    "arr = [101, 4, 95, 103]\n",
    "sol = Solution()\n",
    "sol.maxSumSubsequence(arr)"
   ]
  }
 ],
 "metadata": {
  "kernelspec": {
   "display_name": "venv (3.11.3)",
   "language": "python",
   "name": "python3"
  },
  "language_info": {
   "codemirror_mode": {
    "name": "ipython",
    "version": 3
   },
   "file_extension": ".py",
   "mimetype": "text/x-python",
   "name": "python",
   "nbconvert_exporter": "python",
   "pygments_lexer": "ipython3",
   "version": "3.11.3"
  }
 },
 "nbformat": 4,
 "nbformat_minor": 5
}
