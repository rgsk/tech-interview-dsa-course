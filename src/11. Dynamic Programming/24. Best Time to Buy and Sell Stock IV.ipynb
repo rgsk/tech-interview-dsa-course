{
 "cells": [
  {
   "cell_type": "code",
   "execution_count": 3,
   "id": "ff043724",
   "metadata": {},
   "outputs": [],
   "source": [
    "from copy import deepcopy\n",
    "from typing import List\n",
    "\n",
    "\n",
    "class Solution:\n",
    "    def maxProfit(self, prices: List[int], k: int) -> int:\n",
    "        n = len(prices)\n",
    "        dp = [[-1 for _ in range(2)] for _ in range(k + 1)]\n",
    "        for i in range(n, -1, -1):\n",
    "            copy = deepcopy(dp)\n",
    "            for r in range(k + 1):\n",
    "                for buy in range(2):\n",
    "                    if i == n or r == 0:\n",
    "                        dp[r][buy] = 0\n",
    "                        continue\n",
    "                    if buy:\n",
    "                        # buy or not buy\n",
    "                        dp[r][buy] = max(\n",
    "                            -prices[i] + copy[r][0],\n",
    "                            copy[r][1]\n",
    "                        )\n",
    "                    else:\n",
    "                        # sell or not sell\n",
    "                        dp[r][buy] = max(\n",
    "                            prices[i] + copy[r - 1][1],\n",
    "                            copy[r][0]\n",
    "                        )\n",
    "        return dp[k][1]"
   ]
  },
  {
   "cell_type": "code",
   "execution_count": 4,
   "id": "a80725aa",
   "metadata": {},
   "outputs": [
    {
     "data": {
      "text/plain": [
       "6"
      ]
     },
     "execution_count": 4,
     "metadata": {},
     "output_type": "execute_result"
    }
   ],
   "source": [
    "prices = [6, 1, 4, 2, 5, 3]\n",
    "k = 2\n",
    "sol = Solution()\n",
    "sol.maxProfit(prices, k)"
   ]
  },
  {
   "cell_type": "code",
   "execution_count": 5,
   "id": "d3592bef",
   "metadata": {},
   "outputs": [
    {
     "data": {
      "text/plain": [
       "4"
      ]
     },
     "execution_count": 5,
     "metadata": {},
     "output_type": "execute_result"
    }
   ],
   "source": [
    "prices = [6, 1, 4, 2, 5, 3]\n",
    "k = 1\n",
    "sol = Solution()\n",
    "sol.maxProfit(prices, k)"
   ]
  },
  {
   "cell_type": "markdown",
   "id": "3ef14cd6",
   "metadata": {},
   "source": [
    "```cpp\n",
    "\n",
    "#include <bits/stdc++.h>\n",
    "using namespace std;\n",
    "\n",
    "int maxProfit(vector<int> &prices, int k) {\n",
    "    // add you logic here\n",
    "    int n = prices.size();\n",
    "    vector<vector<int>> dp(k + 1, vector<int>(2, -1));\n",
    "    for (int i = n; i >= 0; i--) {\n",
    "        auto copy = dp;\n",
    "        for (int rem = 0; rem <= k; rem++) {\n",
    "            for (int buy = 0; buy <= 1; buy++) {\n",
    "                if (i == n || rem == 0) {\n",
    "                    dp[rem][buy] = 0;\n",
    "                    continue;\n",
    "                }\n",
    "                if (buy) {\n",
    "                    dp[rem][buy] = max(-prices[i] + copy[rem][0], copy[rem][1]);\n",
    "                } else {\n",
    "                    dp[rem][buy] = max(prices[i] + copy[rem - 1][1], copy[rem][0]);\n",
    "                }\n",
    "            }\n",
    "        }\n",
    "    }\n",
    "    return dp[k][1];\n",
    "}\n",
    "```"
   ]
  }
 ],
 "metadata": {
  "kernelspec": {
   "display_name": "venv (3.11.3)",
   "language": "python",
   "name": "python3"
  },
  "language_info": {
   "codemirror_mode": {
    "name": "ipython",
    "version": 3
   },
   "file_extension": ".py",
   "mimetype": "text/x-python",
   "name": "python",
   "nbconvert_exporter": "python",
   "pygments_lexer": "ipython3",
   "version": "3.11.3"
  }
 },
 "nbformat": 4,
 "nbformat_minor": 5
}
