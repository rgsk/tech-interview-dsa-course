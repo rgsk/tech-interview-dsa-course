{
 "cells": [
  {
   "cell_type": "code",
   "execution_count": 4,
   "id": "3b4f9bf7",
   "metadata": {},
   "outputs": [],
   "source": [
    "# non dynamic programming solution \n",
    "\n",
    "from typing import List\n",
    "\n",
    "\n",
    "class Solution:\n",
    "    def wordBreak(self, s: str, w: List[str]) -> List[str]:\n",
    "        # add your logic here\n",
    "        w_set = set(w)\n",
    "        ans = []\n",
    "\n",
    "        def helper(i, words):\n",
    "            if i == len(s):\n",
    "                return ans.append(\" \".join(words))\n",
    "            for j in range(i + 1, len(s) + 1):\n",
    "                if s[i:j] in w_set:\n",
    "                    words.append(s[i:j])\n",
    "                    helper(j, words)\n",
    "                    words.pop()\n",
    "        helper(0, [])\n",
    "        return ans\n"
   ]
  },
  {
   "cell_type": "code",
   "execution_count": 5,
   "id": "9d6f8f77",
   "metadata": {},
   "outputs": [
    {
     "data": {
      "text/plain": [
       "['work at tech', 'workattech']"
      ]
     },
     "execution_count": 5,
     "metadata": {},
     "output_type": "execute_result"
    }
   ],
   "source": [
    "s = \"workattech\"\n",
    "w = [\"tech\", \"work\", \"problem\", \"at\", \"workattech\"]\n",
    "sol = Solution()\n",
    "sol.wordBreak(s, w)"
   ]
  },
  {
   "cell_type": "code",
   "execution_count": 6,
   "id": "7342d1fd",
   "metadata": {},
   "outputs": [
    {
     "data": {
      "text/plain": [
       "['round and round', 'roundand round']"
      ]
     },
     "execution_count": 6,
     "metadata": {},
     "output_type": "execute_result"
    }
   ],
   "source": [
    "s = \"roundandround\"\n",
    "w = [\"and\", \"round\", \"roundand\"]\n",
    "sol = Solution()\n",
    "sol.wordBreak(s, w)"
   ]
  },
  {
   "cell_type": "code",
   "execution_count": 7,
   "id": "ae45e57f",
   "metadata": {},
   "outputs": [],
   "source": [
    "from typing import List\n",
    "\n",
    "\n",
    "class Solution:\n",
    "    def wordBreak(self, s: str, w: List[str]) -> List[str]:\n",
    "        # add your logic here\n",
    "        w_set = set(w)\n",
    "\n",
    "        def helper(i):\n",
    "            seq = []\n",
    "            for j in range(i + 1, len(s) + 1):\n",
    "                cur = s[i:j]\n",
    "                if cur in w_set:\n",
    "                    if j == len(s):\n",
    "                        seq.append(cur)\n",
    "                        break\n",
    "                    else:\n",
    "                        for v in helper(j):\n",
    "                            seq.append(cur + ' ' + v)\n",
    "            return seq\n",
    "        return helper(0)\n"
   ]
  },
  {
   "cell_type": "code",
   "execution_count": 8,
   "id": "a340ab58",
   "metadata": {},
   "outputs": [
    {
     "data": {
      "text/plain": [
       "['work at tech', 'workattech']"
      ]
     },
     "execution_count": 8,
     "metadata": {},
     "output_type": "execute_result"
    }
   ],
   "source": [
    "s = \"workattech\"\n",
    "w = [\"tech\", \"work\", \"problem\", \"at\", \"workattech\"]\n",
    "sol = Solution()\n",
    "sol.wordBreak(s, w)"
   ]
  },
  {
   "cell_type": "code",
   "execution_count": 9,
   "id": "f4d84d39",
   "metadata": {},
   "outputs": [
    {
     "data": {
      "text/plain": [
       "['round and round', 'roundand round']"
      ]
     },
     "execution_count": 9,
     "metadata": {},
     "output_type": "execute_result"
    }
   ],
   "source": [
    "s = \"roundandround\"\n",
    "w = [\"and\", \"round\", \"roundand\"]\n",
    "sol = Solution()\n",
    "sol.wordBreak(s, w)"
   ]
  },
  {
   "cell_type": "code",
   "execution_count": 10,
   "id": "43e619dd",
   "metadata": {},
   "outputs": [],
   "source": [
    "from typing import List\n",
    "\n",
    "\n",
    "class Solution:\n",
    "    def wordBreak(self, s: str, w: List[str]) -> List[str]:\n",
    "        # add your logic here\n",
    "        w_set = set(w)\n",
    "        dp = {}\n",
    "\n",
    "        def helper(i):\n",
    "            if i in dp:\n",
    "                return dp[i]\n",
    "            seq = []\n",
    "            for j in range(i + 1, len(s) + 1):\n",
    "                cur = s[i:j]\n",
    "                if cur in w_set:\n",
    "                    if j == len(s):\n",
    "                        seq.append(cur)\n",
    "                        break\n",
    "                    else:\n",
    "                        for v in helper(j):\n",
    "                            seq.append(cur + ' ' + v)\n",
    "            dp[i] = seq\n",
    "            return dp[i]\n",
    "        return helper(0)\n"
   ]
  },
  {
   "cell_type": "code",
   "execution_count": 11,
   "id": "b60ae9d1",
   "metadata": {},
   "outputs": [
    {
     "data": {
      "text/plain": [
       "['work at tech', 'workattech']"
      ]
     },
     "execution_count": 11,
     "metadata": {},
     "output_type": "execute_result"
    }
   ],
   "source": [
    "s = \"workattech\"\n",
    "w = [\"tech\", \"work\", \"problem\", \"at\", \"workattech\"]\n",
    "sol = Solution()\n",
    "sol.wordBreak(s, w)"
   ]
  },
  {
   "cell_type": "code",
   "execution_count": 12,
   "id": "ec163b00",
   "metadata": {},
   "outputs": [
    {
     "data": {
      "text/plain": [
       "['round and round', 'roundand round']"
      ]
     },
     "execution_count": 12,
     "metadata": {},
     "output_type": "execute_result"
    }
   ],
   "source": [
    "s = \"roundandround\"\n",
    "w = [\"and\", \"round\", \"roundand\"]\n",
    "sol = Solution()\n",
    "sol.wordBreak(s, w)"
   ]
  }
 ],
 "metadata": {
  "kernelspec": {
   "display_name": "venv (3.11.3)",
   "language": "python",
   "name": "python3"
  },
  "language_info": {
   "codemirror_mode": {
    "name": "ipython",
    "version": 3
   },
   "file_extension": ".py",
   "mimetype": "text/x-python",
   "name": "python",
   "nbconvert_exporter": "python",
   "pygments_lexer": "ipython3",
   "version": "3.11.3"
  }
 },
 "nbformat": 4,
 "nbformat_minor": 5
}
