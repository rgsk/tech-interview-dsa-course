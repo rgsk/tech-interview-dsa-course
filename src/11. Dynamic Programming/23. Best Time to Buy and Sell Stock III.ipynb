{
 "cells": [
  {
   "cell_type": "code",
   "execution_count": 29,
   "id": "e06beed6",
   "metadata": {},
   "outputs": [],
   "source": [
    "from typing import List\n",
    "\n",
    "\n",
    "class Solution:\n",
    "    def maxProfit(self, prices: List[int]) -> int:\n",
    "        n = len(prices)\n",
    "        def helper(i, r, buy):\n",
    "            if i == n or r == 0:\n",
    "                return 0\n",
    "            if buy:\n",
    "                # buy or not buy\n",
    "                return max(-prices[i] + helper(i + 1, r, 0), helper(i + 1, r, 1))\n",
    "            else:\n",
    "                # sell or not sell\n",
    "                return max(prices[i] + helper(i + 1, r - 1, 1), helper(i + 1, r, 0))\n",
    "        return helper(0, 2, 1)"
   ]
  },
  {
   "cell_type": "code",
   "execution_count": 30,
   "id": "a937b8ce",
   "metadata": {},
   "outputs": [
    {
     "data": {
      "text/plain": [
       "6"
      ]
     },
     "execution_count": 30,
     "metadata": {},
     "output_type": "execute_result"
    }
   ],
   "source": [
    "prices = [6, 1, 4, 2, 5, 3]\n",
    "sol = Solution()\n",
    "sol.maxProfit(prices)"
   ]
  },
  {
   "cell_type": "code",
   "execution_count": 31,
   "id": "d0e59050",
   "metadata": {},
   "outputs": [],
   "source": [
    "from typing import List\n",
    "\n",
    "\n",
    "class Solution:\n",
    "    def maxProfit(self, prices: List[int]) -> int:\n",
    "        n = len(prices)\n",
    "        dp = [[[-1 for _ in range(2)] for _ in range(3)] for _ in range(n + 1)]\n",
    "        for i in range(n, -1, -1):\n",
    "            for r in range(3):\n",
    "                for buy in range(2):\n",
    "                    if i == n or r == 0:\n",
    "                        dp[i][r][buy] = 0\n",
    "                        continue\n",
    "                    if buy:\n",
    "                        # buy or not buy\n",
    "                        dp[i][r][buy] = max(\n",
    "                            -prices[i] + dp[i + 1][r][0],\n",
    "                            dp[i + 1][r][1]\n",
    "                        )\n",
    "                    else:\n",
    "                        # sell or not sell\n",
    "                        dp[i][r][buy] = max(\n",
    "                            prices[i] + dp[i + 1][r - 1][1],\n",
    "                            dp[i + 1][r][0]\n",
    "                        )\n",
    "        return dp[0][2][1]"
   ]
  },
  {
   "cell_type": "code",
   "execution_count": 32,
   "id": "de970ff0",
   "metadata": {},
   "outputs": [
    {
     "data": {
      "text/plain": [
       "6"
      ]
     },
     "execution_count": 32,
     "metadata": {},
     "output_type": "execute_result"
    }
   ],
   "source": [
    "prices = [6, 1, 4, 2, 5, 3]\n",
    "sol = Solution()\n",
    "sol.maxProfit(prices)"
   ]
  },
  {
   "cell_type": "code",
   "execution_count": 33,
   "id": "77c01668",
   "metadata": {},
   "outputs": [],
   "source": [
    "from copy import deepcopy\n",
    "from typing import List\n",
    "\n",
    "\n",
    "class Solution:\n",
    "    def maxProfit(self, prices: List[int]) -> int:\n",
    "        k = 2\n",
    "        n = len(prices)\n",
    "        dp = [[-1 for _ in range(2)] for _ in range(k + 1)]\n",
    "        for i in range(n, -1, -1):\n",
    "            copy = deepcopy(dp)\n",
    "            for r in range(k + 1):\n",
    "                for buy in range(2):\n",
    "                    if i == n or r == 0:\n",
    "                        dp[r][buy] = 0\n",
    "                        continue\n",
    "                    if buy:\n",
    "                        # buy or not buy\n",
    "                        dp[r][buy] = max(\n",
    "                            -prices[i] + copy[r][0],\n",
    "                            copy[r][1]\n",
    "                        )\n",
    "                    else:\n",
    "                        # sell or not sell\n",
    "                        dp[r][buy] = max(\n",
    "                            prices[i] + copy[r - 1][1],\n",
    "                            copy[r][0]\n",
    "                        )\n",
    "        return dp[2][1]"
   ]
  },
  {
   "cell_type": "code",
   "execution_count": 34,
   "id": "15850442",
   "metadata": {},
   "outputs": [
    {
     "data": {
      "text/plain": [
       "6"
      ]
     },
     "execution_count": 34,
     "metadata": {},
     "output_type": "execute_result"
    }
   ],
   "source": [
    "prices = [6, 1, 4, 2, 5, 3]\n",
    "sol = Solution()\n",
    "sol.maxProfit(prices)"
   ]
  },
  {
   "cell_type": "markdown",
   "id": "2b87abbc",
   "metadata": {},
   "source": [
    "```cpp\n",
    "\n",
    "#include <bits/stdc++.h>\n",
    "using namespace std;\n",
    "\n",
    "int maxProfit(vector<int> &prices) {\n",
    "    int k = 2;\n",
    "    // add you logic here\n",
    "    int n = prices.size();\n",
    "    vector<vector<int>> dp(k + 1, vector<int>(2, -1));\n",
    "    for (int i = n; i >= 0; i--) {\n",
    "        auto copy = dp;\n",
    "        for (int rem = 0; rem <= k; rem++) {\n",
    "            for (int buy = 0; buy <= 1; buy++) {\n",
    "                if (i == n || rem == 0) {\n",
    "                    dp[rem][buy] = 0;\n",
    "                    continue;\n",
    "                }\n",
    "                if (buy) {\n",
    "                    dp[rem][buy] = max(-prices[i] + copy[rem][0], copy[rem][1]);\n",
    "                } else {\n",
    "                    dp[rem][buy] = max(prices[i] + copy[rem - 1][1], copy[rem][0]);\n",
    "                }\n",
    "            }\n",
    "        }\n",
    "    }\n",
    "    return dp[k][1];\n",
    "}\n",
    "```"
   ]
  },
  {
   "cell_type": "code",
   "execution_count": 35,
   "id": "8c53aeb4",
   "metadata": {},
   "outputs": [],
   "source": [
    "from typing import List\n",
    "\n",
    "class Solution:\n",
    "    def maxProfit(self, prices: List[int]) -> int:\n",
    "        first_buy = float('-inf')\n",
    "        first_sell = 0\n",
    "        second_buy = float('-inf')\n",
    "        second_sell = 0\n",
    "        \n",
    "        for price in prices:\n",
    "            first_buy = max(first_buy, -price)\n",
    "            first_sell = max(first_sell, first_buy + price)\n",
    "            second_buy = max(second_buy, first_sell - price)\n",
    "            second_sell = max(second_sell, second_buy + price)\n",
    "        \n",
    "        return second_sell\n"
   ]
  },
  {
   "cell_type": "code",
   "execution_count": 36,
   "id": "6cc2e5ea",
   "metadata": {},
   "outputs": [
    {
     "data": {
      "text/plain": [
       "6"
      ]
     },
     "execution_count": 36,
     "metadata": {},
     "output_type": "execute_result"
    }
   ],
   "source": [
    "prices = [6, 1, 4, 2, 5, 3]\n",
    "sol = Solution()\n",
    "sol.maxProfit(prices)"
   ]
  }
 ],
 "metadata": {
  "kernelspec": {
   "display_name": "venv (3.11.3)",
   "language": "python",
   "name": "python3"
  },
  "language_info": {
   "codemirror_mode": {
    "name": "ipython",
    "version": 3
   },
   "file_extension": ".py",
   "mimetype": "text/x-python",
   "name": "python",
   "nbconvert_exporter": "python",
   "pygments_lexer": "ipython3",
   "version": "3.11.3"
  }
 },
 "nbformat": 4,
 "nbformat_minor": 5
}
