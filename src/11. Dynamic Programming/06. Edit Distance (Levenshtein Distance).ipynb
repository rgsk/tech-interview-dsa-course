{
 "cells": [
  {
   "cell_type": "code",
   "execution_count": 13,
   "id": "26786451",
   "metadata": {},
   "outputs": [],
   "source": [
    "class Solution:\n",
    "    def minOperations(self, s1: str, s2: str) -> int:\n",
    "        def helper(i, j):\n",
    "            if i == len(s1) or j == len(s2):\n",
    "                return max(len(s1) - i, len(s2) - j)\n",
    "            if s1[i] == s2[j]:\n",
    "                return helper(i + 1, j + 1)\n",
    "            return 1 + min(helper(i + 1, j), # delete\n",
    "                           helper(i, j + 1), # insert\n",
    "                           helper(i + 1, j + 1) # replace\n",
    "                           )\n",
    "        return helper(0, 0)"
   ]
  },
  {
   "cell_type": "code",
   "execution_count": 14,
   "id": "efd0a82b",
   "metadata": {},
   "outputs": [
    {
     "data": {
      "text/plain": [
       "3"
      ]
     },
     "execution_count": 14,
     "metadata": {},
     "output_type": "execute_result"
    }
   ],
   "source": [
    "s1 = \"hello\"\n",
    "s2 = \"seldom\"\n",
    "sol = Solution()\n",
    "sol.minOperations(s1, s2)"
   ]
  },
  {
   "cell_type": "code",
   "execution_count": 15,
   "id": "c9eceba5",
   "metadata": {},
   "outputs": [],
   "source": [
    "class Solution:\n",
    "    def minOperations(self, s1: str, s2: str) -> int:\n",
    "        dp = [[-1 for _ in range(len(s2) + 1)] for _ in range(len(s1) + 1)]\n",
    "\n",
    "        for i in range(len(s1), -1, -1):\n",
    "            for j in range(len(s2), -1, -1):\n",
    "                if i == len(s1) or j == len(s2):\n",
    "                    dp[i][j] = max(len(s1) - i, len(s2) - j)\n",
    "                    continue\n",
    "                if s1[i] == s2[j]:\n",
    "                    dp[i][j] = dp[i + 1][j + 1]\n",
    "                    continue\n",
    "                dp[i][j] = 1 + min(dp[i + 1][j],  # delete\n",
    "                           dp[i][j + 1], # insert\n",
    "                           dp[i + 1][j + 1]) # replace\n",
    "\n",
    "        return dp[0][0]"
   ]
  },
  {
   "cell_type": "code",
   "execution_count": 16,
   "id": "d1dea891",
   "metadata": {},
   "outputs": [
    {
     "data": {
      "text/plain": [
       "3"
      ]
     },
     "execution_count": 16,
     "metadata": {},
     "output_type": "execute_result"
    }
   ],
   "source": [
    "s1 = \"hello\"\n",
    "s2 = \"seldom\"\n",
    "sol = Solution()\n",
    "sol.minOperations(s1, s2)"
   ]
  },
  {
   "cell_type": "code",
   "execution_count": 17,
   "id": "7410b437",
   "metadata": {},
   "outputs": [],
   "source": [
    "class Solution:\n",
    "    def minOperations(self, s1: str, s2: str) -> int:\n",
    "        dp = [-1 for _ in range(len(s2) + 1)]\n",
    "\n",
    "        for i in range(len(s1), -1, -1):\n",
    "            copy = dp[:]\n",
    "            for j in range(len(s2), -1, -1):\n",
    "                if i == len(s1) or j == len(s2):\n",
    "                    dp[j] = max(len(s1) - i, len(s2) - j)\n",
    "                    continue\n",
    "                if s1[i] == s2[j]:\n",
    "                    dp[j] = copy[j + 1]\n",
    "                    continue\n",
    "                dp[j] = 1 + min(copy[j],  # delete\n",
    "                           dp[j + 1], # insert\n",
    "                           copy[j + 1]) # replace\n",
    "\n",
    "        return dp[0]"
   ]
  },
  {
   "cell_type": "code",
   "execution_count": 18,
   "id": "70d51cf8",
   "metadata": {},
   "outputs": [
    {
     "data": {
      "text/plain": [
       "3"
      ]
     },
     "execution_count": 18,
     "metadata": {},
     "output_type": "execute_result"
    }
   ],
   "source": [
    "s1 = \"hello\"\n",
    "s2 = \"seldom\"\n",
    "sol = Solution()\n",
    "sol.minOperations(s1, s2)"
   ]
  }
 ],
 "metadata": {
  "kernelspec": {
   "display_name": "venv (3.11.3)",
   "language": "python",
   "name": "python3"
  },
  "language_info": {
   "codemirror_mode": {
    "name": "ipython",
    "version": 3
   },
   "file_extension": ".py",
   "mimetype": "text/x-python",
   "name": "python",
   "nbconvert_exporter": "python",
   "pygments_lexer": "ipython3",
   "version": "3.11.3"
  }
 },
 "nbformat": 4,
 "nbformat_minor": 5
}
