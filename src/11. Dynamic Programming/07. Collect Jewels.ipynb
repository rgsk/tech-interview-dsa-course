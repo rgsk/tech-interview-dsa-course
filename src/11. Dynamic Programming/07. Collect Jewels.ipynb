{
 "cells": [
  {
   "cell_type": "code",
   "execution_count": 9,
   "id": "a00073ee",
   "metadata": {},
   "outputs": [],
   "source": [
    "class JewelStone:\n",
    "\tdef __init__(self, weight=0, value=0):\n",
    "\t\tself.weight = weight\n",
    "\t\tself.value = value"
   ]
  },
  {
   "cell_type": "code",
   "execution_count": 10,
   "id": "a79821ff",
   "metadata": {},
   "outputs": [],
   "source": [
    "from typing import List\n",
    "\n",
    "class Solution:\n",
    "    def getMaxValue(self, stones: List[JewelStone], capacity: int) -> int:\n",
    "        n = len(stones)\n",
    "        def helper(i, r):\n",
    "            if i == n or r == 0:\n",
    "                return 0\n",
    "            if stones[i].weight <= r:\n",
    "                # take or no take\n",
    "                return max(stones[i].value + helper(i + 1, r - stones[i].weight), helper(i + 1, r))\n",
    "            return helper(i + 1, r)\n",
    "        return helper(0, capacity)"
   ]
  },
  {
   "cell_type": "code",
   "execution_count": 11,
   "id": "5e22cde6",
   "metadata": {},
   "outputs": [
    {
     "data": {
      "text/plain": [
       "10"
      ]
     },
     "execution_count": 11,
     "metadata": {},
     "output_type": "execute_result"
    }
   ],
   "source": [
    "stones = [JewelStone(1, 3), JewelStone(2, 4), JewelStone(3, 5), JewelStone(4, 7)]\n",
    "capacity = 5\n",
    "sol = Solution()\n",
    "sol.getMaxValue(stones, capacity)"
   ]
  },
  {
   "cell_type": "code",
   "execution_count": 12,
   "id": "1ae17afc",
   "metadata": {},
   "outputs": [],
   "source": [
    "from typing import List\n",
    "\n",
    "class Solution:\n",
    "    def getMaxValue(self, stones: List[JewelStone], capacity: int) -> int:\n",
    "        n = len(stones)\n",
    "        dp = [[-1 for _ in range(capacity + 1)] for _ in range(n + 1)]\n",
    "        for i in range(n, -1, -1):\n",
    "            for r in range(capacity + 1):\n",
    "                if i == n or r == 0:\n",
    "                    dp[i][r] = 0\n",
    "                    continue\n",
    "                if stones[i].weight <= r:\n",
    "                    # take or no take\n",
    "                    dp[i][r] = max(stones[i].value + dp[i + 1][r - stones[i].weight], dp[i + 1][r])\n",
    "                    continue\n",
    "                dp[i][r] = dp[i + 1][r]\n",
    "        return dp[0][capacity]"
   ]
  },
  {
   "cell_type": "code",
   "execution_count": 13,
   "id": "03cd7f17",
   "metadata": {},
   "outputs": [
    {
     "data": {
      "text/plain": [
       "10"
      ]
     },
     "execution_count": 13,
     "metadata": {},
     "output_type": "execute_result"
    }
   ],
   "source": [
    "stones = [JewelStone(1, 3), JewelStone(2, 4), JewelStone(3, 5), JewelStone(4, 7)]\n",
    "capacity = 5\n",
    "sol = Solution()\n",
    "sol.getMaxValue(stones, capacity)"
   ]
  },
  {
   "cell_type": "code",
   "execution_count": 14,
   "id": "65532d0f",
   "metadata": {},
   "outputs": [],
   "source": [
    "from typing import List\n",
    "\n",
    "class Solution:\n",
    "    def getMaxValue(self, stones: List[JewelStone], capacity: int) -> int:\n",
    "        n = len(stones)\n",
    "        dp = [-1 for _ in range(capacity + 1)]\n",
    "        for i in range(n, -1, -1):\n",
    "            copy = dp[:]\n",
    "            for r in range(capacity + 1):\n",
    "                if i == n or r == 0:\n",
    "                    dp[r] = 0\n",
    "                    continue\n",
    "                if stones[i].weight <= r:\n",
    "                    # take or no take\n",
    "                    dp[r] = max(stones[i].value + copy[r - stones[i].weight], copy[r])\n",
    "                    continue\n",
    "                dp[r] = copy[r]\n",
    "        return dp[capacity]"
   ]
  },
  {
   "cell_type": "code",
   "execution_count": 15,
   "id": "e0cd0973",
   "metadata": {},
   "outputs": [
    {
     "data": {
      "text/plain": [
       "10"
      ]
     },
     "execution_count": 15,
     "metadata": {},
     "output_type": "execute_result"
    }
   ],
   "source": [
    "stones = [JewelStone(1, 3), JewelStone(2, 4), JewelStone(3, 5), JewelStone(4, 7)]\n",
    "capacity = 5\n",
    "sol = Solution()\n",
    "sol.getMaxValue(stones, capacity)"
   ]
  }
 ],
 "metadata": {
  "kernelspec": {
   "display_name": "venv (3.11.3)",
   "language": "python",
   "name": "python3"
  },
  "language_info": {
   "codemirror_mode": {
    "name": "ipython",
    "version": 3
   },
   "file_extension": ".py",
   "mimetype": "text/x-python",
   "name": "python",
   "nbconvert_exporter": "python",
   "pygments_lexer": "ipython3",
   "version": "3.11.3"
  }
 },
 "nbformat": 4,
 "nbformat_minor": 5
}
