{
 "cells": [
  {
   "cell_type": "code",
   "execution_count": 133,
   "id": "1131f0bf",
   "metadata": {},
   "outputs": [],
   "source": [
    "class Solution:\n",
    "    def numDecodings(self, st: str) -> int:\n",
    "        n = len(st)\n",
    "        def helper(i):\n",
    "            if i == n:\n",
    "                return 1\n",
    "            ways = 0\n",
    "            if st[i] != '0':\n",
    "                ways += helper(i + 1)\n",
    "                if i < n - 1:\n",
    "                    two_digit = int(st[i:i+2])\n",
    "                    if 10 <= two_digit <= 26:\n",
    "                        ways += helper(i + 2)\n",
    "            return ways\n",
    "        return helper(0)"
   ]
  },
  {
   "cell_type": "code",
   "execution_count": 134,
   "id": "2dffa513",
   "metadata": {},
   "outputs": [
    {
     "data": {
      "text/plain": [
       "3"
      ]
     },
     "execution_count": 134,
     "metadata": {},
     "output_type": "execute_result"
    }
   ],
   "source": [
    "st = '123'\n",
    "sol = Solution()\n",
    "sol.numDecodings(st)"
   ]
  },
  {
   "cell_type": "code",
   "execution_count": 135,
   "id": "14ca10cd",
   "metadata": {},
   "outputs": [
    {
     "data": {
      "text/plain": [
       "1"
      ]
     },
     "execution_count": 135,
     "metadata": {},
     "output_type": "execute_result"
    }
   ],
   "source": [
    "st = '36'\n",
    "sol = Solution()\n",
    "sol.numDecodings(st)"
   ]
  },
  {
   "cell_type": "code",
   "execution_count": 136,
   "id": "a6920c5a",
   "metadata": {},
   "outputs": [
    {
     "data": {
      "text/plain": [
       "1"
      ]
     },
     "execution_count": 136,
     "metadata": {},
     "output_type": "execute_result"
    }
   ],
   "source": [
    "st = '106'\n",
    "sol = Solution()\n",
    "sol.numDecodings(st)"
   ]
  },
  {
   "cell_type": "code",
   "execution_count": 137,
   "id": "db29c354",
   "metadata": {},
   "outputs": [
    {
     "data": {
      "text/plain": [
       "0"
      ]
     },
     "execution_count": 137,
     "metadata": {},
     "output_type": "execute_result"
    }
   ],
   "source": [
    "st = '306'\n",
    "sol = Solution()\n",
    "sol.numDecodings(st)"
   ]
  },
  {
   "cell_type": "code",
   "execution_count": 138,
   "id": "91e4980b",
   "metadata": {},
   "outputs": [],
   "source": [
    "mod = 10**9 + 7\n",
    "class Solution:\n",
    "    def numDecodings(self, st: str) -> int:\n",
    "        n = len(st)\n",
    "        dp = [-1 for _ in range(n + 1)]\n",
    "        for i in range(n, -1, -1):\n",
    "            if i == n:\n",
    "                dp[i] = 1\n",
    "                continue\n",
    "            ways = 0\n",
    "            if st[i] != '0':\n",
    "                ways = (ways + dp[i + 1]) % mod\n",
    "                if i < n - 1:\n",
    "                    two_digit = int(st[i:i+2])\n",
    "                    if 10 <= two_digit <= 26:\n",
    "                        ways = (ways + dp[i + 2]) % mod\n",
    "            dp[i] = ways\n",
    "        return dp[0]"
   ]
  },
  {
   "cell_type": "code",
   "execution_count": 139,
   "id": "2634bbc5",
   "metadata": {},
   "outputs": [
    {
     "data": {
      "text/plain": [
       "3"
      ]
     },
     "execution_count": 139,
     "metadata": {},
     "output_type": "execute_result"
    }
   ],
   "source": [
    "st = '123'\n",
    "sol = Solution()\n",
    "sol.numDecodings(st)"
   ]
  },
  {
   "cell_type": "code",
   "execution_count": 140,
   "id": "19f68957",
   "metadata": {},
   "outputs": [
    {
     "data": {
      "text/plain": [
       "1"
      ]
     },
     "execution_count": 140,
     "metadata": {},
     "output_type": "execute_result"
    }
   ],
   "source": [
    "st = '36'\n",
    "sol = Solution()\n",
    "sol.numDecodings(st)"
   ]
  }
 ],
 "metadata": {
  "kernelspec": {
   "display_name": "venv (3.11.3)",
   "language": "python",
   "name": "python3"
  },
  "language_info": {
   "codemirror_mode": {
    "name": "ipython",
    "version": 3
   },
   "file_extension": ".py",
   "mimetype": "text/x-python",
   "name": "python",
   "nbconvert_exporter": "python",
   "pygments_lexer": "ipython3",
   "version": "3.11.3"
  }
 },
 "nbformat": 4,
 "nbformat_minor": 5
}
