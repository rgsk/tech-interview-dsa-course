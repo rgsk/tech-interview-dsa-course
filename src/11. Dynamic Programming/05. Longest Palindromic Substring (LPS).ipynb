{
 "cells": [
  {
   "cell_type": "code",
   "execution_count": 1,
   "id": "7d6c8a08",
   "metadata": {},
   "outputs": [],
   "source": [
    "class Solution:\n",
    "    def lps(self, s: str) -> str:\n",
    "\n",
    "        n = len(s)\n",
    "        palindrome = [[False for _ in range(n)] for _ in range(n)]\n",
    "        start = 0\n",
    "        end = 0\n",
    "        # Fill out the palindrome table\n",
    "        for gap in range(n):\n",
    "            for i in range(n - gap):\n",
    "                j = i + gap\n",
    "                if gap == 0:\n",
    "                    palindrome[i][j] = True\n",
    "                elif gap == 1:\n",
    "                    palindrome[i][j] = (s[i] == s[j])\n",
    "                else:\n",
    "                    palindrome[i][j] = (s[i] == s[j] and palindrome[i+1][j-1])\n",
    "                if palindrome[i][j]:\n",
    "                    if j - i + 1 > end - start + 1:\n",
    "                        start = i\n",
    "                        end = j\n",
    "        return s[start: end + 1]"
   ]
  },
  {
   "cell_type": "code",
   "execution_count": 2,
   "id": "28ff06c3",
   "metadata": {},
   "outputs": [
    {
     "data": {
      "text/plain": [
       "'cdc'"
      ]
     },
     "execution_count": 2,
     "metadata": {},
     "output_type": "execute_result"
    }
   ],
   "source": [
    "s = 'abcdcab'\n",
    "sol = Solution()\n",
    "sol.lps(s)"
   ]
  }
 ],
 "metadata": {
  "kernelspec": {
   "display_name": "venv (3.11.3)",
   "language": "python",
   "name": "python3"
  },
  "language_info": {
   "codemirror_mode": {
    "name": "ipython",
    "version": 3
   },
   "file_extension": ".py",
   "mimetype": "text/x-python",
   "name": "python",
   "nbconvert_exporter": "python",
   "pygments_lexer": "ipython3",
   "version": "3.11.3"
  }
 },
 "nbformat": 4,
 "nbformat_minor": 5
}
