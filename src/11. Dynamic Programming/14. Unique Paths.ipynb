{
 "cells": [
  {
   "cell_type": "code",
   "execution_count": 40,
   "id": "317b19f4",
   "metadata": {},
   "outputs": [],
   "source": [
    "class Solution:\n",
    "    def uniquePaths(self, m: int, n: int) -> int:\n",
    "        def helper(i, j):\n",
    "            if i == m and j == n:\n",
    "                return 1\n",
    "            ways = 0\n",
    "            if i + 1 <= m:\n",
    "                ways += helper(i + 1, j)\n",
    "            if j + 1 <= n:\n",
    "                ways += helper(i, j + 1)\n",
    "            return ways\n",
    "        return helper(1, 1)"
   ]
  },
  {
   "cell_type": "code",
   "execution_count": 41,
   "id": "fe66c41d",
   "metadata": {},
   "outputs": [
    {
     "data": {
      "text/plain": [
       "3"
      ]
     },
     "execution_count": 41,
     "metadata": {},
     "output_type": "execute_result"
    }
   ],
   "source": [
    "m = 3\n",
    "n = 2\n",
    "sol = Solution()\n",
    "sol.uniquePaths(m, n)"
   ]
  },
  {
   "cell_type": "code",
   "execution_count": 42,
   "id": "e70eba14",
   "metadata": {},
   "outputs": [],
   "source": [
    "mod = 1000000007\n",
    "class Solution:\n",
    "    def uniquePaths(self, m: int, n: int) -> int:\n",
    "        dp = [[-1 for _ in range(n + 1)] for _ in range(m + 1)]\n",
    "        for i in range(m, 0, -1):\n",
    "            for j in range(n, 0, -1):\n",
    "                if i == m and j == n:\n",
    "                    dp[i][j] = 1\n",
    "                    continue\n",
    "                ways = 0\n",
    "                if i + 1 <= m:\n",
    "                    ways = (ways + dp[i+1][j]) % mod\n",
    "                if j + 1 <= n:\n",
    "                    ways = (ways + dp[i][j+1]) % mod\n",
    "                dp[i][j] = ways\n",
    "        return dp[1][1] "
   ]
  },
  {
   "cell_type": "code",
   "execution_count": 43,
   "id": "dc658c8d",
   "metadata": {},
   "outputs": [
    {
     "data": {
      "text/plain": [
       "3"
      ]
     },
     "execution_count": 43,
     "metadata": {},
     "output_type": "execute_result"
    }
   ],
   "source": [
    "m = 3\n",
    "n = 2\n",
    "sol = Solution()\n",
    "sol.uniquePaths(m, n)"
   ]
  }
 ],
 "metadata": {
  "kernelspec": {
   "display_name": "venv (3.11.3)",
   "language": "python",
   "name": "python3"
  },
  "language_info": {
   "codemirror_mode": {
    "name": "ipython",
    "version": 3
   },
   "file_extension": ".py",
   "mimetype": "text/x-python",
   "name": "python",
   "nbconvert_exporter": "python",
   "pygments_lexer": "ipython3",
   "version": "3.11.3"
  }
 },
 "nbformat": 4,
 "nbformat_minor": 5
}
