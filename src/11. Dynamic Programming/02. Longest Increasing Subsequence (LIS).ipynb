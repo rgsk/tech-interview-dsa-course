{
 "cells": [
  {
   "cell_type": "code",
   "execution_count": null,
   "id": "69348315",
   "metadata": {},
   "outputs": [],
   "source": [
    "from typing import List\n",
    "\n",
    "\n",
    "class Solution:\n",
    "    def getLengthOfLIS(self, A: List[int]) -> int:\n",
    "        n = len(A)\n",
    "        dp = [1 for _ in range(n)]\n",
    "        for i in range(1, n):\n",
    "            for j in range(i):\n",
    "                if A[i] > A[j]:\n",
    "                    dp[i] = max(dp[i], dp[j] + 1)\n",
    "        return max(dp)"
   ]
  },
  {
   "cell_type": "code",
   "execution_count": 40,
   "id": "81418a71",
   "metadata": {},
   "outputs": [
    {
     "data": {
      "text/plain": [
       "4"
      ]
     },
     "execution_count": 40,
     "metadata": {},
     "output_type": "execute_result"
    }
   ],
   "source": [
    "A = [10, 20, 2, 5, 3, 8, 8, 25, 6]\n",
    "sol = Solution()\n",
    "sol.getLengthOfLIS(A)"
   ]
  },
  {
   "cell_type": "code",
   "execution_count": 41,
   "id": "fded69ce",
   "metadata": {},
   "outputs": [],
   "source": [
    "from typing import List\n",
    "\n",
    "\n",
    "class Solution:\n",
    "    def getLengthOfLIS(self, A: List[int]) -> int:\n",
    "        n = len(A)\n",
    "        def helper(i, l):\n",
    "            if i == n:\n",
    "                return 0\n",
    "            max_result = 0\n",
    "            if l == -1:\n",
    "                # take i\n",
    "                max_result = max(max_result, 1 + helper(i + 1, i))\n",
    "                # not take i\n",
    "                max_result = max(max_result, helper(i + 1, l))\n",
    "            else:\n",
    "                if A[i] > A[l]:\n",
    "                    # take i\n",
    "                    max_result = max(max_result, 1 + helper(i + 1, i))\n",
    "                # not take i\n",
    "                max_result = max(max_result, helper(i + 1, l))\n",
    "            return max_result\n",
    "        return helper(0, -1)"
   ]
  },
  {
   "cell_type": "code",
   "execution_count": 42,
   "id": "818dc6ee",
   "metadata": {},
   "outputs": [
    {
     "data": {
      "text/plain": [
       "4"
      ]
     },
     "execution_count": 42,
     "metadata": {},
     "output_type": "execute_result"
    }
   ],
   "source": [
    "A = [10, 20, 2, 5, 3, 8, 8, 25, 6]\n",
    "sol = Solution()\n",
    "sol.getLengthOfLIS(A)"
   ]
  },
  {
   "cell_type": "code",
   "execution_count": 43,
   "id": "05b672b0",
   "metadata": {},
   "outputs": [],
   "source": [
    "from typing import List\n",
    "\n",
    "\n",
    "class Solution:\n",
    "    def getLengthOfLIS(self, A: List[int]) -> int:\n",
    "        n = len(A)\n",
    "        def helper(i, l):\n",
    "            if i == n:\n",
    "                return 0\n",
    "            max_result = 0\n",
    "            if l == 0:\n",
    "                # take i\n",
    "                max_result = max(max_result, 1 + helper(i + 1, i + 1))\n",
    "                # not take i\n",
    "                max_result = max(max_result, helper(i + 1, l))\n",
    "            else:\n",
    "                if A[i] > A[l - 1]:\n",
    "                    # take i\n",
    "                    max_result = max(max_result, 1 + helper(i + 1, i + 1))\n",
    "                # not take i\n",
    "                max_result = max(max_result, helper(i + 1, l))\n",
    "            return max_result\n",
    "        return helper(0, 0)"
   ]
  },
  {
   "cell_type": "code",
   "execution_count": 44,
   "id": "40b19572",
   "metadata": {},
   "outputs": [
    {
     "data": {
      "text/plain": [
       "4"
      ]
     },
     "execution_count": 44,
     "metadata": {},
     "output_type": "execute_result"
    }
   ],
   "source": [
    "A = [10, 20, 2, 5, 3, 8, 8, 25, 6]\n",
    "sol = Solution()\n",
    "sol.getLengthOfLIS(A)"
   ]
  },
  {
   "cell_type": "code",
   "execution_count": 45,
   "id": "e227dac7",
   "metadata": {},
   "outputs": [],
   "source": [
    "from typing import List\n",
    "\n",
    "\n",
    "class Solution:\n",
    "    def getLengthOfLIS(self, A: List[int]) -> int:\n",
    "        n = len(A)\n",
    "        def helper(i, l):\n",
    "            if i == n:\n",
    "                return 0\n",
    "            max_result = 0\n",
    "            if l == 0 or A[i] > A[l - 1]:\n",
    "                # take i\n",
    "                max_result = max(max_result, 1 + helper(i + 1, i + 1))\n",
    "            # not take i\n",
    "            max_result = max(max_result, helper(i + 1, l))\n",
    "            return max_result\n",
    "        return helper(0, 0)"
   ]
  },
  {
   "cell_type": "code",
   "execution_count": 46,
   "id": "d131e503",
   "metadata": {},
   "outputs": [
    {
     "data": {
      "text/plain": [
       "4"
      ]
     },
     "execution_count": 46,
     "metadata": {},
     "output_type": "execute_result"
    }
   ],
   "source": [
    "A = [10, 20, 2, 5, 3, 8, 8, 25, 6]\n",
    "sol = Solution()\n",
    "sol.getLengthOfLIS(A)"
   ]
  },
  {
   "cell_type": "code",
   "execution_count": null,
   "id": "36f1b6a1",
   "metadata": {},
   "outputs": [],
   "source": [
    "# accepted in C++ or other platforms like leetcode\n",
    "\n",
    "from typing import List\n",
    "\n",
    "\n",
    "class Solution:\n",
    "    def getLengthOfLIS(self, A: List[int]) -> int:\n",
    "        n = len(A)\n",
    "        dp = [[-1 for _ in range(n + 1)] for _ in range(n + 1)]\n",
    "        for i in range(n, -1, -1):\n",
    "            for l in range(n, -1, -1):\n",
    "                if i == n:\n",
    "                    dp[i][l] = 0\n",
    "                    continue\n",
    "                max_result = 0\n",
    "                if l == 0 or A[i] > A[l - 1]:\n",
    "                    # take i\n",
    "                    max_result = max(max_result, 1 + dp[i + 1][i + 1])\n",
    "                # not take i\n",
    "                max_result = max(max_result, dp[i + 1][l])\n",
    "                dp[i][l] = max_result\n",
    "        return dp[0][0]"
   ]
  },
  {
   "cell_type": "code",
   "execution_count": 48,
   "id": "6df02f23",
   "metadata": {},
   "outputs": [
    {
     "data": {
      "text/plain": [
       "4"
      ]
     },
     "execution_count": 48,
     "metadata": {},
     "output_type": "execute_result"
    }
   ],
   "source": [
    "A = [10, 20, 2, 5, 3, 8, 8, 25, 6]\n",
    "sol = Solution()\n",
    "sol.getLengthOfLIS(A)"
   ]
  },
  {
   "cell_type": "code",
   "execution_count": 49,
   "id": "b7d0c67f",
   "metadata": {},
   "outputs": [],
   "source": [
    "from typing import List\n",
    "\n",
    "\n",
    "class Solution:\n",
    "    def getLengthOfLIS(self, A: List[int]) -> int:\n",
    "        n = len(A)\n",
    "        dp = [-1 for _ in range(n + 1)]\n",
    "        for i in range(n, -1, -1):\n",
    "            copy = dp[:]\n",
    "            for l in range(n, -1, -1):\n",
    "                if i == n:\n",
    "                    dp[l] = 0\n",
    "                    continue\n",
    "                max_result = 0\n",
    "                if l == 0 or A[i] > A[l - 1]:\n",
    "                    # take i\n",
    "                    max_result = max(max_result, 1 + copy[i + 1])\n",
    "                # not take i\n",
    "                max_result = max(max_result, copy[l])\n",
    "                dp[l] = max_result\n",
    "        return dp[0]"
   ]
  },
  {
   "cell_type": "code",
   "execution_count": 50,
   "id": "d6f40476",
   "metadata": {},
   "outputs": [
    {
     "data": {
      "text/plain": [
       "4"
      ]
     },
     "execution_count": 50,
     "metadata": {},
     "output_type": "execute_result"
    }
   ],
   "source": [
    "A = [10, 20, 2, 5, 3, 8, 8, 25, 6]\n",
    "sol = Solution()\n",
    "sol.getLengthOfLIS(A)"
   ]
  }
 ],
 "metadata": {
  "kernelspec": {
   "display_name": "venv",
   "language": "python",
   "name": "python3"
  },
  "language_info": {
   "codemirror_mode": {
    "name": "ipython",
    "version": 3
   },
   "file_extension": ".py",
   "mimetype": "text/x-python",
   "name": "python",
   "nbconvert_exporter": "python",
   "pygments_lexer": "ipython3",
   "version": "3.11.3"
  }
 },
 "nbformat": 4,
 "nbformat_minor": 5
}
