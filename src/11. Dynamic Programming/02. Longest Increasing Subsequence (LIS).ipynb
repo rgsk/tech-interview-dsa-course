{
 "cells": [
  {
   "cell_type": "code",
   "execution_count": 99,
   "id": "69348315",
   "metadata": {},
   "outputs": [],
   "source": [
    "from typing import List\n",
    "\n",
    "\n",
    "class Solution:\n",
    "    def getLengthOfLIS(self, A: List[int]) -> int:\n",
    "        n = len(A)\n",
    "        dp = [1 for _ in range(n)]\n",
    "        for i in range(1, n):\n",
    "            for j in range(i):\n",
    "                if A[i] > A[j]:\n",
    "                    dp[i] = max(dp[i], dp[j] + 1)\n",
    "        return max(dp)"
   ]
  },
  {
   "cell_type": "code",
   "execution_count": 100,
   "id": "81418a71",
   "metadata": {},
   "outputs": [
    {
     "data": {
      "text/plain": [
       "4"
      ]
     },
     "execution_count": 100,
     "metadata": {},
     "output_type": "execute_result"
    }
   ],
   "source": [
    "A = [10, 20, 2, 5, 3, 8, 8, 25, 6]\n",
    "sol = Solution()\n",
    "sol.getLengthOfLIS(A)"
   ]
  },
  {
   "cell_type": "markdown",
   "id": "2314959b",
   "metadata": {},
   "source": [
    "Binary Search Approach Example\n",
    "\n",
    "<img src=\"../../public/lis binary search.png\" width=\"500\"  >"
   ]
  },
  {
   "cell_type": "code",
   "execution_count": 101,
   "id": "dd0913c7",
   "metadata": {},
   "outputs": [],
   "source": [
    "import bisect\n",
    "from typing import List\n",
    "\n",
    "class Solution:\n",
    "    def getLengthOfLIS(self, A: List[int]) -> int:\n",
    "        sub = []\n",
    "        for num in A:\n",
    "            # find place to insert/replace in `sub`\n",
    "            i = bisect.bisect_left(sub, num)\n",
    "            if i == len(sub):\n",
    "                # num is larger than any tail we've seen → extend\n",
    "                sub.append(num)\n",
    "            else:\n",
    "                # replace an existing tail with a smaller one (num)\n",
    "                sub[i] = num\n",
    "        return len(sub)\n"
   ]
  },
  {
   "cell_type": "code",
   "execution_count": 102,
   "id": "f284164c",
   "metadata": {},
   "outputs": [
    {
     "data": {
      "text/plain": [
       "4"
      ]
     },
     "execution_count": 102,
     "metadata": {},
     "output_type": "execute_result"
    }
   ],
   "source": [
    "A = [10, 20, 2, 5, 3, 8, 8, 25, 6]\n",
    "sol = Solution()\n",
    "sol.getLengthOfLIS(A)"
   ]
  },
  {
   "cell_type": "markdown",
   "id": "5560e320",
   "metadata": {},
   "source": [
    "### Generic DP Approach Below"
   ]
  },
  {
   "cell_type": "code",
   "execution_count": 103,
   "id": "fded69ce",
   "metadata": {},
   "outputs": [],
   "source": [
    "from typing import List\n",
    "\n",
    "\n",
    "class Solution:\n",
    "    def getLengthOfLIS(self, A: List[int]) -> int:\n",
    "        n = len(A)\n",
    "        def helper(i, l):\n",
    "            if i == n:\n",
    "                return 0\n",
    "            max_result = 0\n",
    "            if l == -1:\n",
    "                # take i\n",
    "                max_result = max(max_result, 1 + helper(i + 1, i))\n",
    "                # not take i\n",
    "                max_result = max(max_result, helper(i + 1, l))\n",
    "            else:\n",
    "                if A[i] > A[l]:\n",
    "                    # take i\n",
    "                    max_result = max(max_result, 1 + helper(i + 1, i))\n",
    "                # not take i\n",
    "                max_result = max(max_result, helper(i + 1, l))\n",
    "            return max_result\n",
    "        return helper(0, -1)"
   ]
  },
  {
   "cell_type": "code",
   "execution_count": 104,
   "id": "818dc6ee",
   "metadata": {},
   "outputs": [
    {
     "data": {
      "text/plain": [
       "4"
      ]
     },
     "execution_count": 104,
     "metadata": {},
     "output_type": "execute_result"
    }
   ],
   "source": [
    "A = [10, 20, 2, 5, 3, 8, 8, 25, 6]\n",
    "sol = Solution()\n",
    "sol.getLengthOfLIS(A)"
   ]
  },
  {
   "cell_type": "code",
   "execution_count": 105,
   "id": "05b672b0",
   "metadata": {},
   "outputs": [],
   "source": [
    "from typing import List\n",
    "\n",
    "\n",
    "class Solution:\n",
    "    def getLengthOfLIS(self, A: List[int]) -> int:\n",
    "        n = len(A)\n",
    "        def helper(i, l):\n",
    "            if i == n:\n",
    "                return 0\n",
    "            max_result = 0\n",
    "            if l == 0:\n",
    "                # take i\n",
    "                max_result = max(max_result, 1 + helper(i + 1, i + 1))\n",
    "                # not take i\n",
    "                max_result = max(max_result, helper(i + 1, l))\n",
    "            else:\n",
    "                if A[i] > A[l - 1]:\n",
    "                    # take i\n",
    "                    max_result = max(max_result, 1 + helper(i + 1, i + 1))\n",
    "                # not take i\n",
    "                max_result = max(max_result, helper(i + 1, l))\n",
    "            return max_result\n",
    "        return helper(0, 0)"
   ]
  },
  {
   "cell_type": "code",
   "execution_count": 106,
   "id": "40b19572",
   "metadata": {},
   "outputs": [
    {
     "data": {
      "text/plain": [
       "4"
      ]
     },
     "execution_count": 106,
     "metadata": {},
     "output_type": "execute_result"
    }
   ],
   "source": [
    "A = [10, 20, 2, 5, 3, 8, 8, 25, 6]\n",
    "sol = Solution()\n",
    "sol.getLengthOfLIS(A)"
   ]
  },
  {
   "cell_type": "code",
   "execution_count": 107,
   "id": "e227dac7",
   "metadata": {},
   "outputs": [],
   "source": [
    "from typing import List\n",
    "\n",
    "\n",
    "class Solution:\n",
    "    def getLengthOfLIS(self, A: List[int]) -> int:\n",
    "        n = len(A)\n",
    "        def helper(i, l):\n",
    "            if i == n:\n",
    "                return 0\n",
    "            max_result = 0\n",
    "            if l == 0 or A[i] > A[l - 1]:\n",
    "                # take i\n",
    "                max_result = max(max_result, 1 + helper(i + 1, i + 1))\n",
    "            # not take i\n",
    "            max_result = max(max_result, helper(i + 1, l))\n",
    "            return max_result\n",
    "        return helper(0, 0)"
   ]
  },
  {
   "cell_type": "code",
   "execution_count": 108,
   "id": "d131e503",
   "metadata": {},
   "outputs": [
    {
     "data": {
      "text/plain": [
       "4"
      ]
     },
     "execution_count": 108,
     "metadata": {},
     "output_type": "execute_result"
    }
   ],
   "source": [
    "A = [10, 20, 2, 5, 3, 8, 8, 25, 6]\n",
    "sol = Solution()\n",
    "sol.getLengthOfLIS(A)"
   ]
  },
  {
   "cell_type": "code",
   "execution_count": 109,
   "id": "36f1b6a1",
   "metadata": {},
   "outputs": [],
   "source": [
    "# accepted in C++ or other platforms like leetcode\n",
    "\n",
    "from typing import List\n",
    "\n",
    "\n",
    "class Solution:\n",
    "    def getLengthOfLIS(self, A: List[int]) -> int:\n",
    "        n = len(A)\n",
    "        dp = [[-1 for _ in range(n + 1)] for _ in range(n + 1)]\n",
    "        for i in range(n, -1, -1):\n",
    "            for l in range(n, -1, -1):\n",
    "                if i == n:\n",
    "                    dp[i][l] = 0\n",
    "                    continue\n",
    "                max_result = 0\n",
    "                if l == 0 or A[i] > A[l - 1]:\n",
    "                    # take i\n",
    "                    max_result = max(max_result, 1 + dp[i + 1][i + 1])\n",
    "                # not take i\n",
    "                max_result = max(max_result, dp[i + 1][l])\n",
    "                dp[i][l] = max_result\n",
    "        return dp[0][0]"
   ]
  },
  {
   "cell_type": "code",
   "execution_count": 110,
   "id": "6df02f23",
   "metadata": {},
   "outputs": [
    {
     "data": {
      "text/plain": [
       "4"
      ]
     },
     "execution_count": 110,
     "metadata": {},
     "output_type": "execute_result"
    }
   ],
   "source": [
    "A = [10, 20, 2, 5, 3, 8, 8, 25, 6]\n",
    "sol = Solution()\n",
    "sol.getLengthOfLIS(A)"
   ]
  },
  {
   "cell_type": "code",
   "execution_count": 111,
   "id": "b7d0c67f",
   "metadata": {},
   "outputs": [],
   "source": [
    "\n",
    "from typing import List\n",
    "\n",
    "\n",
    "class Solution:\n",
    "    def getLengthOfLIS(self, A: List[int]) -> int:\n",
    "        n = len(A)\n",
    "        dp = [-1 for _ in range(n + 1)]\n",
    "        for i in range(n, -1, -1):\n",
    "            copy = dp[:]\n",
    "            for l in range(n, -1, -1):\n",
    "                if i == n:\n",
    "                    dp[l] = 0\n",
    "                    continue\n",
    "                max_result = 0\n",
    "                if l == 0 or A[i] > A[l - 1]:\n",
    "                    # take i\n",
    "                    max_result = max(max_result, 1 + copy[i + 1])\n",
    "                # not take i\n",
    "                max_result = max(max_result, copy[l])\n",
    "                dp[l] = max_result\n",
    "        return dp[0]"
   ]
  },
  {
   "cell_type": "code",
   "execution_count": 112,
   "id": "d6f40476",
   "metadata": {},
   "outputs": [
    {
     "data": {
      "text/plain": [
       "4"
      ]
     },
     "execution_count": 112,
     "metadata": {},
     "output_type": "execute_result"
    }
   ],
   "source": [
    "A = [10, 20, 2, 5, 3, 8, 8, 25, 6]\n",
    "sol = Solution()\n",
    "sol.getLengthOfLIS(A)"
   ]
  }
 ],
 "metadata": {
  "kernelspec": {
   "display_name": "venv (3.11.3)",
   "language": "python",
   "name": "python3"
  },
  "language_info": {
   "codemirror_mode": {
    "name": "ipython",
    "version": 3
   },
   "file_extension": ".py",
   "mimetype": "text/x-python",
   "name": "python",
   "nbconvert_exporter": "python",
   "pygments_lexer": "ipython3",
   "version": "3.11.3"
  }
 },
 "nbformat": 4,
 "nbformat_minor": 5
}
