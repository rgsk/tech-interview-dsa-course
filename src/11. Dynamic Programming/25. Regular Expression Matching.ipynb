{
 "cells": [
  {
   "cell_type": "markdown",
   "id": "8a0bfe6c",
   "metadata": {},
   "source": [
    "```cpp\n",
    "\n",
    " bool isMatch(string A, string B) {\n",
    "    int na = A.length();\n",
    "    int nb = B.length();\n",
    "    \n",
    "    // DP table initialized to false (-1 in your Python code)\n",
    "    vector<vector<bool>> dp(na + 1, vector<bool>(nb + 1, false));\n",
    "    \n",
    "    // Fill the DP table\n",
    "    for (int ia = na; ia >= 0; ia--) {\n",
    "        for (int ib = nb; ib >= 0; ib--) {\n",
    "            if (ib == nb) {\n",
    "                dp[ia][ib] = (ia == na);\n",
    "                continue;\n",
    "            }\n",
    "            if (ib + 1 < nb && B[ib + 1] == '*') {\n",
    "                dp[ia][ib] = dp[ia][ib + 2] || (ia < na && (B[ib] == A[ia] || B[ib] == '.') && dp[ia + 1][ib]);\n",
    "            } else {\n",
    "                if (ia < na) {\n",
    "                    dp[ia][ib] = (B[ib] == A[ia] || B[ib] == '.') && dp[ia + 1][ib + 1];\n",
    "                }\n",
    "            }\n",
    "        }\n",
    "    }\n",
    "    \n",
    "    return dp[0][0];\n",
    "}\n",
    "```"
   ]
  }
 ],
 "metadata": {
  "language_info": {
   "name": "python"
  }
 },
 "nbformat": 4,
 "nbformat_minor": 5
}
