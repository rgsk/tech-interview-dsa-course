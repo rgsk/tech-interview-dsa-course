{
 "cells": [
  {
   "cell_type": "code",
   "execution_count": 1,
   "id": "aed318af",
   "metadata": {},
   "outputs": [],
   "source": [
    "from typing import List\n",
    "\n",
    "\n",
    "class Solution:\n",
    "    def wordBreak(self, s: str, w: List[str]) -> bool:\n",
    "        # add your logic here\n",
    "        def helper(start):\n",
    "            if start == len(s):\n",
    "                return True\n",
    "            for i in range(start, len(s)):\n",
    "                cur = s[start:i+1]\n",
    "                if cur in w:\n",
    "                    if helper(i + 1):\n",
    "                        return True\n",
    "            return False\n",
    "        return helper(0)"
   ]
  },
  {
   "cell_type": "code",
   "execution_count": 2,
   "id": "9f30145d",
   "metadata": {},
   "outputs": [
    {
     "data": {
      "text/plain": [
       "True"
      ]
     },
     "execution_count": 2,
     "metadata": {},
     "output_type": "execute_result"
    }
   ],
   "source": [
    "s = \"workattech\"\n",
    "w = [\"tech\", \"work\", \"problem\", \"at\"]\n",
    "sol = Solution()\n",
    "sol.wordBreak(s, w)"
   ]
  },
  {
   "cell_type": "code",
   "execution_count": 3,
   "id": "4b6e6409",
   "metadata": {},
   "outputs": [
    {
     "data": {
      "text/plain": [
       "True"
      ]
     },
     "execution_count": 3,
     "metadata": {},
     "output_type": "execute_result"
    }
   ],
   "source": [
    "s = \"roundandround\"\n",
    "w = [\"and\", \"round\"]\n",
    "sol = Solution()\n",
    "sol.wordBreak(s, w)"
   ]
  },
  {
   "cell_type": "code",
   "execution_count": 4,
   "id": "f9ca7718",
   "metadata": {},
   "outputs": [
    {
     "data": {
      "text/plain": [
       "False"
      ]
     },
     "execution_count": 4,
     "metadata": {},
     "output_type": "execute_result"
    }
   ],
   "source": [
    "s = \"helloworld\"\n",
    "w = [\"hi\", \"world\"]\n",
    "sol = Solution()\n",
    "sol.wordBreak(s, w)"
   ]
  },
  {
   "cell_type": "code",
   "execution_count": 5,
   "id": "11b7a544",
   "metadata": {},
   "outputs": [],
   "source": [
    "from typing import List\n",
    "\n",
    "class Solution:\n",
    "    def wordBreak(self, s: str, w: List[str]) -> bool:\n",
    "        word_set = set(w)  # for O(1) lookup\n",
    "        n = len(s)\n",
    "        dp = [False] * (n + 1)\n",
    "        dp[0] = True  # base case: empty string\n",
    "\n",
    "        for i in range(1, n + 1):\n",
    "            for j in range(i):\n",
    "                if dp[j] and s[j:i] in word_set:\n",
    "                    dp[i] = True\n",
    "                    break\n",
    "\n",
    "        return dp[n]"
   ]
  },
  {
   "cell_type": "code",
   "execution_count": 6,
   "id": "09d268ca",
   "metadata": {},
   "outputs": [
    {
     "data": {
      "text/plain": [
       "True"
      ]
     },
     "execution_count": 6,
     "metadata": {},
     "output_type": "execute_result"
    }
   ],
   "source": [
    "s = \"workattech\"\n",
    "w = [\"tech\", \"work\", \"problem\", \"at\"]\n",
    "sol = Solution()\n",
    "sol.wordBreak(s, w)"
   ]
  },
  {
   "cell_type": "code",
   "execution_count": 7,
   "id": "301039bb",
   "metadata": {},
   "outputs": [
    {
     "data": {
      "text/plain": [
       "True"
      ]
     },
     "execution_count": 7,
     "metadata": {},
     "output_type": "execute_result"
    }
   ],
   "source": [
    "s = \"roundandround\"\n",
    "w = [\"and\", \"round\"]\n",
    "sol = Solution()\n",
    "sol.wordBreak(s, w)"
   ]
  },
  {
   "cell_type": "code",
   "execution_count": 8,
   "id": "7cb94238",
   "metadata": {},
   "outputs": [
    {
     "data": {
      "text/plain": [
       "False"
      ]
     },
     "execution_count": 8,
     "metadata": {},
     "output_type": "execute_result"
    }
   ],
   "source": [
    "s = \"helloworld\"\n",
    "w = [\"hi\", \"world\"]\n",
    "sol = Solution()\n",
    "sol.wordBreak(s, w)"
   ]
  }
 ],
 "metadata": {
  "kernelspec": {
   "display_name": "venv (3.11.3)",
   "language": "python",
   "name": "python3"
  },
  "language_info": {
   "codemirror_mode": {
    "name": "ipython",
    "version": 3
   },
   "file_extension": ".py",
   "mimetype": "text/x-python",
   "name": "python",
   "nbconvert_exporter": "python",
   "pygments_lexer": "ipython3",
   "version": "3.11.3"
  }
 },
 "nbformat": 4,
 "nbformat_minor": 5
}
