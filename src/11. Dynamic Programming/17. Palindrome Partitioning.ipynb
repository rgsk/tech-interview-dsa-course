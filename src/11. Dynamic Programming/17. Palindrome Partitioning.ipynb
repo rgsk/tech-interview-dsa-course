{
 "cells": [
  {
   "cell_type": "code",
   "execution_count": 1,
   "id": "4bf33d1d",
   "metadata": {},
   "outputs": [],
   "source": [
    "from typing import List\n",
    "\n",
    "\n",
    "class Solution:\n",
    "    def getPartitions(self, s: str) -> List[List[str]]:\n",
    "        # add your logic here\n",
    "        ans = []\n",
    "\n",
    "        def helper(start, cur):\n",
    "            if start == len(s):\n",
    "                ans.append(cur[:])\n",
    "                return\n",
    "            for i in range(start, len(s)):\n",
    "                if s[start:i + 1] == s[start:i + 1][::-1]:\n",
    "                    cur.append(s[start:i + 1])\n",
    "                    helper(i + 1, cur)\n",
    "                    cur.pop()\n",
    "        helper(0, [])\n",
    "        return ans"
   ]
  },
  {
   "cell_type": "code",
   "execution_count": 2,
   "id": "0054b3b5",
   "metadata": {},
   "outputs": [
    {
     "data": {
      "text/plain": [
       "[['a', 'a', 'b', 'c'], ['aa', 'b', 'c']]"
      ]
     },
     "execution_count": 2,
     "metadata": {},
     "output_type": "execute_result"
    }
   ],
   "source": [
    "s = 'aabc'\n",
    "sol = Solution()\n",
    "sol.getPartitions(s)"
   ]
  },
  {
   "cell_type": "code",
   "execution_count": 3,
   "id": "996b0c42",
   "metadata": {},
   "outputs": [],
   "source": [
    "from typing import List\n",
    "\n",
    "class Solution:\n",
    "    def getPartitions(self, s: str) -> List[List[str]]:\n",
    "        n = len(s)\n",
    "        # Step 1: Precompute palindromic substrings\n",
    "        dp = [[False] * n for _ in range(n)]\n",
    "        for i in range(n):\n",
    "            dp[i][i] = True\n",
    "        for i in range(n - 1):\n",
    "            dp[i][i + 1] = s[i] == s[i + 1]\n",
    "        for length in range(3, n + 1):\n",
    "            for i in range(n - length + 1):\n",
    "                j = i + length - 1\n",
    "                dp[i][j] = s[i] == s[j] and dp[i + 1][j - 1]\n",
    "        \n",
    "        # Step 2: Backtracking using the dp table\n",
    "        ans = []\n",
    "        def dfs(start, path):\n",
    "            if start == n:\n",
    "                ans.append(path[:])\n",
    "                return\n",
    "            for end in range(start, n):\n",
    "                if dp[start][end]:\n",
    "                    dfs(end + 1, path + [s[start:end + 1]])\n",
    "        \n",
    "        dfs(0, [])\n",
    "        return ans"
   ]
  },
  {
   "cell_type": "code",
   "execution_count": 4,
   "id": "63685a4f",
   "metadata": {},
   "outputs": [
    {
     "data": {
      "text/plain": [
       "[['a', 'a', 'b', 'c'], ['aa', 'b', 'c']]"
      ]
     },
     "execution_count": 4,
     "metadata": {},
     "output_type": "execute_result"
    }
   ],
   "source": [
    "s = 'aabc'\n",
    "sol = Solution()\n",
    "sol.getPartitions(s)"
   ]
  }
 ],
 "metadata": {
  "kernelspec": {
   "display_name": "venv (3.11.3)",
   "language": "python",
   "name": "python3"
  },
  "language_info": {
   "codemirror_mode": {
    "name": "ipython",
    "version": 3
   },
   "file_extension": ".py",
   "mimetype": "text/x-python",
   "name": "python",
   "nbconvert_exporter": "python",
   "pygments_lexer": "ipython3",
   "version": "3.11.3"
  }
 },
 "nbformat": 4,
 "nbformat_minor": 5
}
