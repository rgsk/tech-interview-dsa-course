{
 "cells": [
  {
   "cell_type": "code",
   "execution_count": 19,
   "id": "8f2c266f",
   "metadata": {},
   "outputs": [],
   "source": [
    "from typing import List\n",
    "\n",
    "\n",
    "class Solution:\n",
    "    def findMaxPath(self, M: List[List[int]]) -> int:\n",
    "        rows = len(M)\n",
    "        cols = len(M[0])\n",
    "        def helper(i, j):\n",
    "            if i == rows:\n",
    "                return 0\n",
    "            add = 0\n",
    "            if j + 1 < cols:\n",
    "                # right\n",
    "                add = max(add, helper(i + 1, j + 1))\n",
    "            if j - 1 >= 0:\n",
    "                # left\n",
    "                add = max(add, helper(i + 1, j - 1))\n",
    "            # down\n",
    "            add = max(add, helper(i + 1, j))\n",
    "            return M[i][j] + add\n",
    "        ans = 0\n",
    "        for j in range(cols):\n",
    "            ans = max(ans, helper(0, j))\n",
    "        return ans"
   ]
  },
  {
   "cell_type": "code",
   "execution_count": 20,
   "id": "f0c52f11",
   "metadata": {},
   "outputs": [
    {
     "data": {
      "text/plain": [
       "70"
      ]
     },
     "execution_count": 20,
     "metadata": {},
     "output_type": "execute_result"
    }
   ],
   "source": [
    "M = [\n",
    "    [12, 22, 5, 0, 20, 18],\n",
    "    [0, 2, 5, 25, 18, 17],\n",
    "    [12, 10, 5, 4, 2, 1],\n",
    "    [3, 8, 2, 20, 10, 8]\n",
    "]\n",
    "\n",
    "sol = Solution()\n",
    "sol.findMaxPath(M)"
   ]
  },
  {
   "cell_type": "code",
   "execution_count": 21,
   "id": "1f152e52",
   "metadata": {},
   "outputs": [],
   "source": [
    "from typing import List\n",
    "\n",
    "\n",
    "class Solution:\n",
    "    def findMaxPath(self, M: List[List[int]]) -> int:\n",
    "        rows = len(M)\n",
    "        cols = len(M[0])\n",
    "        dp = [[-1 for _ in range(cols)] for _ in range(rows + 1)]\n",
    "        def helper(i, j):\n",
    "            if i == rows:\n",
    "                return 0\n",
    "            if dp[i][j] != -1:\n",
    "                return dp[i][j]\n",
    "            add = 0\n",
    "            if j + 1 < cols:\n",
    "                # right\n",
    "                add = max(add, helper(i + 1, j + 1))\n",
    "            if j - 1 >= 0:\n",
    "                # left\n",
    "                add = max(add, helper(i + 1, j - 1))\n",
    "            # down\n",
    "            add = max(add, helper(i + 1, j))\n",
    "            dp[i][j] = M[i][j] + add\n",
    "            return dp[i][j]\n",
    "        ans = 0\n",
    "        for j in range(cols):\n",
    "            ans = max(ans, helper(0, j))\n",
    "        return ans"
   ]
  },
  {
   "cell_type": "code",
   "execution_count": 22,
   "id": "cb076020",
   "metadata": {},
   "outputs": [
    {
     "data": {
      "text/plain": [
       "70"
      ]
     },
     "execution_count": 22,
     "metadata": {},
     "output_type": "execute_result"
    }
   ],
   "source": [
    "M = [\n",
    "    [12, 22, 5, 0, 20, 18],\n",
    "    [0, 2, 5, 25, 18, 17],\n",
    "    [12, 10, 5, 4, 2, 1],\n",
    "    [3, 8, 2, 20, 10, 8]\n",
    "]\n",
    "\n",
    "sol = Solution()\n",
    "sol.findMaxPath(M)"
   ]
  },
  {
   "cell_type": "code",
   "execution_count": 23,
   "id": "4748c125",
   "metadata": {},
   "outputs": [],
   "source": [
    "from typing import List\n",
    "\n",
    "\n",
    "class Solution:\n",
    "    def findMaxPath(self, M: List[List[int]]) -> int:\n",
    "        rows = len(M)\n",
    "        cols = len(M[0])\n",
    "        dp = [[-1 for _ in range(cols)] for _ in range(rows + 1)]\n",
    "        for i in range(rows, -1, -1):\n",
    "            for j in range(cols):\n",
    "                if i == rows:\n",
    "                    dp[i][j] = 0\n",
    "                    continue\n",
    "                add = 0\n",
    "                if j + 1 < cols:\n",
    "                    # right\n",
    "                    add = max(add, dp[i + 1][j + 1])\n",
    "                if j - 1 >= 0:\n",
    "                    # left\n",
    "                    add = max(add, dp[i + 1][j - 1])\n",
    "                # down\n",
    "                add = max(add, dp[i + 1][j])\n",
    "                dp[i][j] = M[i][j] + add\n",
    "\n",
    "        ans = 0\n",
    "        for j in range(cols):\n",
    "            ans = max(ans, dp[0][j])\n",
    "        return ans"
   ]
  },
  {
   "cell_type": "code",
   "execution_count": 24,
   "id": "34041b2e",
   "metadata": {},
   "outputs": [
    {
     "data": {
      "text/plain": [
       "70"
      ]
     },
     "execution_count": 24,
     "metadata": {},
     "output_type": "execute_result"
    }
   ],
   "source": [
    "M = [\n",
    "    [12, 22, 5, 0, 20, 18],\n",
    "    [0, 2, 5, 25, 18, 17],\n",
    "    [12, 10, 5, 4, 2, 1],\n",
    "    [3, 8, 2, 20, 10, 8]\n",
    "]\n",
    "\n",
    "sol = Solution()\n",
    "sol.findMaxPath(M)"
   ]
  },
  {
   "cell_type": "code",
   "execution_count": 25,
   "id": "ff89e24a",
   "metadata": {},
   "outputs": [],
   "source": [
    "from typing import List\n",
    "\n",
    "\n",
    "class Solution:\n",
    "    def findMaxPath(self, M: List[List[int]]) -> int:\n",
    "        rows = len(M)\n",
    "        cols = len(M[0])\n",
    "        dp = [-1 for _ in range(cols)]\n",
    "        for i in range(rows, -1, -1):\n",
    "            copy = dp[:]\n",
    "            for j in range(cols):\n",
    "                if i == rows:\n",
    "                    dp[j] = 0\n",
    "                    continue\n",
    "                add = 0\n",
    "                if j + 1 < cols:\n",
    "                    # right\n",
    "                    add = max(add, copy[j + 1])\n",
    "                if j - 1 >= 0:\n",
    "                    # left\n",
    "                    add = max(add, copy[j - 1])\n",
    "                # down\n",
    "                add = max(add, copy[j])\n",
    "                dp[j] = M[i][j] + add\n",
    "\n",
    "        ans = 0\n",
    "        for j in range(cols):\n",
    "            ans = max(ans, dp[j])\n",
    "        return ans"
   ]
  },
  {
   "cell_type": "code",
   "execution_count": 26,
   "id": "8665b8e6",
   "metadata": {},
   "outputs": [
    {
     "data": {
      "text/plain": [
       "70"
      ]
     },
     "execution_count": 26,
     "metadata": {},
     "output_type": "execute_result"
    }
   ],
   "source": [
    "M = [\n",
    "    [12, 22, 5, 0, 20, 18],\n",
    "    [0, 2, 5, 25, 18, 17],\n",
    "    [12, 10, 5, 4, 2, 1],\n",
    "    [3, 8, 2, 20, 10, 8]\n",
    "]\n",
    "\n",
    "sol = Solution()\n",
    "sol.findMaxPath(M)"
   ]
  }
 ],
 "metadata": {
  "kernelspec": {
   "display_name": "venv (3.11.3)",
   "language": "python",
   "name": "python3"
  },
  "language_info": {
   "codemirror_mode": {
    "name": "ipython",
    "version": 3
   },
   "file_extension": ".py",
   "mimetype": "text/x-python",
   "name": "python",
   "nbconvert_exporter": "python",
   "pygments_lexer": "ipython3",
   "version": "3.11.3"
  }
 },
 "nbformat": 4,
 "nbformat_minor": 5
}
