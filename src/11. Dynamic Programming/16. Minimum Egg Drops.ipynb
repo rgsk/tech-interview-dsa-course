{
 "cells": [
  {
   "cell_type": "code",
   "execution_count": null,
   "id": "d373748a",
   "metadata": {},
   "outputs": [],
   "source": [
    "# https://www.youtube.com/watch?v=iOaRjDT0vjc\n",
    "\n",
    "class Solution:\n",
    "    def __init__(self):\n",
    "        self.memo = {}  # Dictionary to store the results of subproblems\n",
    "    \n",
    "    def minimumMoves(self, k: int, n: int) -> int:\n",
    "        # Helper function with memoization\n",
    "        def dp(eggs, floors):\n",
    "            # Base cases\n",
    "            if floors == 0:\n",
    "                # on floor 0 egg doesn't break, no matter how many eggs, we need zero moves\n",
    "                return 0\n",
    "            if eggs == 1:\n",
    "                # if we have just one egg, in worst case we would go from bottom to top most floor\n",
    "                # checking if egg dropped from floor 1 break, if didn't check from floor 2 and so on\n",
    "                # so number of floors is number of moves\n",
    "                return floors\n",
    "            \n",
    "            # If the result is already computed, return it from the memo\n",
    "            if (eggs, floors) in self.memo:\n",
    "                return self.memo[(eggs, floors)]\n",
    "            \n",
    "            # Initialize minimum moves to a large number\n",
    "            min_moves = float('inf')\n",
    "            \n",
    "            # Try dropping an egg from every floor and take the minimum of the worst-case scenario\n",
    "            for x in range(1, floors + 1):\n",
    "                # If egg breaks, we check below (eggs-1, x-1)\n",
    "                # If egg doesn't break, we check above (eggs, floors-x)\n",
    "                worst_case_moves = 1 + max(dp(eggs - 1, x - 1), dp(eggs, floors - x))\n",
    "                min_moves = min(min_moves, worst_case_moves)\n",
    "            \n",
    "            # Store the result in the memo and return it\n",
    "            self.memo[(eggs, floors)] = min_moves\n",
    "            return min_moves\n",
    "        \n",
    "        # Call the helper function\n",
    "        return dp(k, n)\n"
   ]
  }
 ],
 "metadata": {
  "language_info": {
   "name": "python"
  }
 },
 "nbformat": 4,
 "nbformat_minor": 5
}
