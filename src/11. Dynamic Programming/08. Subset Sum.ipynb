{
 "cells": [
  {
   "cell_type": "code",
   "execution_count": 11,
   "id": "3d18c2ac",
   "metadata": {},
   "outputs": [],
   "source": [
    "from typing import List\n",
    "\n",
    "\n",
    "class Solution:\n",
    "    def hasValidSubset(self, A: List[int], target: int) -> bool:\n",
    "        # add your logic here\n",
    "        def helper(i, total):\n",
    "            if total == target:\n",
    "                return True\n",
    "            if total > target:\n",
    "                return False\n",
    "            if i == len(A):\n",
    "                return False\n",
    "            return helper(i + 1, total + A[i]) or helper(i + 1, total)\n",
    "        return helper(0, 0)\n"
   ]
  },
  {
   "cell_type": "code",
   "execution_count": 12,
   "id": "b85b6d2d",
   "metadata": {},
   "outputs": [
    {
     "data": {
      "text/plain": [
       "True"
      ]
     },
     "execution_count": 12,
     "metadata": {},
     "output_type": "execute_result"
    }
   ],
   "source": [
    "A = [1, 3, 4, 9, 2]\n",
    "target = 13\n",
    "sol = Solution()\n",
    "sol.hasValidSubset(A, target)"
   ]
  },
  {
   "cell_type": "code",
   "execution_count": 13,
   "id": "7c9cfc4f",
   "metadata": {},
   "outputs": [],
   "source": [
    "from typing import List\n",
    "\n",
    "\n",
    "class Solution:\n",
    "    def hasValidSubset(self, A: List[int], target: int) -> bool:\n",
    "        n = len(A)\n",
    "        def helper(i, r):\n",
    "            if r == 0:\n",
    "                return True\n",
    "            if i == n:\n",
    "                return False\n",
    "            if A[i] <= r:\n",
    "                return helper(i + 1, r - A[i]) or helper(i + 1, r)\n",
    "            return helper(i + 1, r)\n",
    "        return helper(0, target)\n"
   ]
  },
  {
   "cell_type": "code",
   "execution_count": 14,
   "id": "82f910ed",
   "metadata": {},
   "outputs": [
    {
     "data": {
      "text/plain": [
       "True"
      ]
     },
     "execution_count": 14,
     "metadata": {},
     "output_type": "execute_result"
    }
   ],
   "source": [
    "A = [1, 3, 4, 9, 2]\n",
    "target = 13\n",
    "sol = Solution()\n",
    "sol.hasValidSubset(A, target)"
   ]
  },
  {
   "cell_type": "code",
   "execution_count": 15,
   "id": "a47174f0",
   "metadata": {},
   "outputs": [],
   "source": [
    "from typing import List\n",
    "\n",
    "\n",
    "class Solution:\n",
    "    def hasValidSubset(self, A: List[int], target: int) -> bool:\n",
    "        n = len(A)\n",
    "        dp = [[-1 for _ in range(target + 1)] for _ in range(n + 1)]\n",
    "        for i in range(n, -1, -1):\n",
    "            for r in range(target + 1):\n",
    "                if r == 0:\n",
    "                    dp[i][r] = True\n",
    "                    continue\n",
    "                if i == n:\n",
    "                    dp[i][r] = False\n",
    "                    continue\n",
    "                if A[i] <= r:\n",
    "                    dp[i][r] = dp[i+1][r-A[i]] or dp[i+1][r]\n",
    "                    continue\n",
    "                dp[i][r] = dp[i+1][r]\n",
    "        return dp[0][target]"
   ]
  },
  {
   "cell_type": "code",
   "execution_count": 16,
   "id": "a3df7ded",
   "metadata": {},
   "outputs": [
    {
     "data": {
      "text/plain": [
       "True"
      ]
     },
     "execution_count": 16,
     "metadata": {},
     "output_type": "execute_result"
    }
   ],
   "source": [
    "A = [1, 3, 4, 9, 2]\n",
    "target = 13\n",
    "sol = Solution()\n",
    "sol.hasValidSubset(A, target)"
   ]
  },
  {
   "cell_type": "code",
   "execution_count": 17,
   "id": "9071560e",
   "metadata": {},
   "outputs": [],
   "source": [
    "from typing import List\n",
    "\n",
    "\n",
    "class Solution:\n",
    "    def hasValidSubset(self, A: List[int], target: int) -> bool:\n",
    "        n = len(A)\n",
    "        dp = [-1 for _ in range(target + 1)]\n",
    "        for i in range(n, -1, -1):\n",
    "            copy = dp[:]\n",
    "            for r in range(target + 1):\n",
    "                if r == 0:\n",
    "                    dp[r] = True\n",
    "                    continue\n",
    "                if i == n:\n",
    "                    dp[r] = False\n",
    "                    continue\n",
    "                if A[i] <= r:\n",
    "                    dp[r] = copy[r-A[i]] or copy[r]\n",
    "                    continue\n",
    "                dp[r] = copy[r]\n",
    "        return dp[target]"
   ]
  },
  {
   "cell_type": "code",
   "execution_count": 18,
   "id": "20f932bb",
   "metadata": {},
   "outputs": [
    {
     "data": {
      "text/plain": [
       "True"
      ]
     },
     "execution_count": 18,
     "metadata": {},
     "output_type": "execute_result"
    }
   ],
   "source": [
    "A = [1, 3, 4, 9, 2]\n",
    "target = 13\n",
    "sol = Solution()\n",
    "sol.hasValidSubset(A, target)"
   ]
  }
 ],
 "metadata": {
  "kernelspec": {
   "display_name": "venv (3.11.3)",
   "language": "python",
   "name": "python3"
  },
  "language_info": {
   "codemirror_mode": {
    "name": "ipython",
    "version": 3
   },
   "file_extension": ".py",
   "mimetype": "text/x-python",
   "name": "python",
   "nbconvert_exporter": "python",
   "pygments_lexer": "ipython3",
   "version": "3.11.3"
  }
 },
 "nbformat": 4,
 "nbformat_minor": 5
}
