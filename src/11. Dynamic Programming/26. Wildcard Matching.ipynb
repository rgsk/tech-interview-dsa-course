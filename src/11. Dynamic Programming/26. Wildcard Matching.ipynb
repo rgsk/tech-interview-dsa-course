{
 "cells": [
  {
   "cell_type": "code",
   "execution_count": null,
   "id": "599419b2",
   "metadata": {},
   "outputs": [],
   "source": [
    "class Solution:\n",
    "    def isMatch(self, s: str, p: str) -> bool:\n",
    "        dp = [[None for _ in range(len(p))] for _ in range(len(s))]\n",
    "        def helper(i, j):\n",
    "            if j == len(p):\n",
    "                return i == len(s)\n",
    "            if i == len(s):\n",
    "                return p[j] == '*' and helper(i, j + 1)\n",
    "            if dp[i][j] != None:\n",
    "                return dp[i][j]\n",
    "            if p[j] == '*':\n",
    "                dp[i][j] = helper(i + 1, j) or helper(i, j + 1)\n",
    "            else:\n",
    "                dp[i][j] = (p[j] == s[i] or p[j] == '?') and helper(i + 1, j + 1)\n",
    "            return dp[i][j]\n",
    "        return helper(0, 0)"
   ]
  },
  {
   "cell_type": "code",
   "execution_count": null,
   "id": "b324be9e",
   "metadata": {},
   "outputs": [],
   "source": [
    "s = 'a'\n",
    "p = 'a'\n",
    "sol = Solution()\n",
    "sol.isMatch(s, p)"
   ]
  }
 ],
 "metadata": {
  "language_info": {
   "name": "python"
  }
 },
 "nbformat": 4,
 "nbformat_minor": 5
}
