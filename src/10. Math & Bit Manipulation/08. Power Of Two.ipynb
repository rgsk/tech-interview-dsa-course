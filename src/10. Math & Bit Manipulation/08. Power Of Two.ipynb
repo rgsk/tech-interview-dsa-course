{
 "cells": [
  {
   "cell_type": "code",
   "execution_count": 42,
   "id": "79bf0742",
   "metadata": {},
   "outputs": [
    {
     "name": "stdout",
     "output_type": "stream",
     "text": [
      "00 - 0000\n",
      "01 - 0001\n",
      "02 - 0010\n",
      "03 - 0011\n",
      "04 - 0100\n",
      "05 - 0101\n",
      "06 - 0110\n",
      "07 - 0111\n",
      "08 - 1000\n",
      "09 - 1001\n",
      "10 - 1010\n",
      "11 - 1011\n",
      "12 - 1100\n",
      "13 - 1101\n",
      "14 - 1110\n",
      "15 - 1111\n"
     ]
    }
   ],
   "source": [
    "for i in range(16):\n",
    "    print(f'{str(i).zfill(2)} - {bin(i)[2:].zfill(4)}')"
   ]
  },
  {
   "cell_type": "markdown",
   "id": "8d70f0e4",
   "metadata": {},
   "source": [
    "Approach\n",
    "\n",
    "When you subtract `1` from `x`, it turns the rightmost `1` in `x` into a `0` and flips all the bits to the right of it.\n",
    "\n",
    "so taking & should return 0\n",
    "\n",
    "for powers of 2 `(n & (n - 1)) == 0`, is true\n",
    "\n",
    "but for other numbers, since they have bit set other than most significant bit, it gets flipped, and msb remains, so taking &, preserves the msb"
   ]
  },
  {
   "cell_type": "code",
   "execution_count": 43,
   "id": "abc2249a",
   "metadata": {},
   "outputs": [],
   "source": [
    "class Solution:\n",
    "    def isPowerOfTwo(self, n: int) -> bool:\n",
    "        if n <= 0:\n",
    "            return False\n",
    "        return (n & (n - 1)) == 0"
   ]
  },
  {
   "cell_type": "code",
   "execution_count": 44,
   "id": "3a650a0b",
   "metadata": {},
   "outputs": [
    {
     "data": {
      "text/plain": [
       "True"
      ]
     },
     "execution_count": 44,
     "metadata": {},
     "output_type": "execute_result"
    }
   ],
   "source": [
    "sol = Solution()\n",
    "sol.isPowerOfTwo(8)"
   ]
  },
  {
   "cell_type": "code",
   "execution_count": 45,
   "id": "03757d33",
   "metadata": {},
   "outputs": [],
   "source": [
    "class Solution:\n",
    "    def isPowerOfTwo(self, n: int) -> bool:\n",
    "        if n <= 0:\n",
    "            return False\n",
    "        binary_format = bin(n)[2:]\n",
    "        return binary_format.count('1') == 1"
   ]
  },
  {
   "cell_type": "code",
   "execution_count": 46,
   "id": "287e5f31",
   "metadata": {},
   "outputs": [
    {
     "data": {
      "text/plain": [
       "True"
      ]
     },
     "execution_count": 46,
     "metadata": {},
     "output_type": "execute_result"
    }
   ],
   "source": [
    "sol = Solution()\n",
    "sol.isPowerOfTwo(8)"
   ]
  }
 ],
 "metadata": {
  "kernelspec": {
   "display_name": "venv (3.11.3)",
   "language": "python",
   "name": "python3"
  },
  "language_info": {
   "codemirror_mode": {
    "name": "ipython",
    "version": 3
   },
   "file_extension": ".py",
   "mimetype": "text/x-python",
   "name": "python",
   "nbconvert_exporter": "python",
   "pygments_lexer": "ipython3",
   "version": "3.11.3"
  }
 },
 "nbformat": 4,
 "nbformat_minor": 5
}
