{
 "cells": [
  {
   "cell_type": "code",
   "execution_count": 4,
   "id": "0df6c779",
   "metadata": {},
   "outputs": [],
   "source": [
    "from typing import List\n",
    "\n",
    "\n",
    "class Solution:\n",
    "\tdef findTheMissingNumber(self, nums: List[int]) -> int:\n",
    "\t\tn = len(nums) + 1\n",
    "\t\tsum_upto_n = n * (n + 1) // 2\n",
    "\t\treturn sum_upto_n - sum(nums)"
   ]
  },
  {
   "cell_type": "code",
   "execution_count": 5,
   "id": "129d9c3d",
   "metadata": {},
   "outputs": [
    {
     "data": {
      "text/plain": [
       "2"
      ]
     },
     "execution_count": 5,
     "metadata": {},
     "output_type": "execute_result"
    }
   ],
   "source": [
    "nums = [3, 1, 4]\n",
    "sol = Solution()\n",
    "sol.findTheMissingNumber(nums)"
   ]
  },
  {
   "cell_type": "code",
   "execution_count": 6,
   "id": "b6b7a556",
   "metadata": {},
   "outputs": [
    {
     "data": {
      "text/plain": [
       "3"
      ]
     },
     "execution_count": 6,
     "metadata": {},
     "output_type": "execute_result"
    }
   ],
   "source": [
    "nums = [1, 2]\n",
    "sol = Solution()\n",
    "sol.findTheMissingNumber(nums)"
   ]
  },
  {
   "cell_type": "code",
   "execution_count": 7,
   "id": "50ebb8ff",
   "metadata": {},
   "outputs": [],
   "source": [
    "class Solution:\n",
    "\tdef findTheMissingNumber(self, nums: List[int]) -> int:\n",
    "\t\txor = 0\n",
    "\t\tfor v in nums:\n",
    "\t\t\txor ^= v\n",
    "\t\tn = len(nums) + 1\n",
    "\t\tfor i in range(1, n + 1):\n",
    "\t\t\txor ^= i\n",
    "\t\treturn xor"
   ]
  },
  {
   "cell_type": "code",
   "execution_count": 8,
   "id": "f9b3a56a",
   "metadata": {},
   "outputs": [
    {
     "data": {
      "text/plain": [
       "2"
      ]
     },
     "execution_count": 8,
     "metadata": {},
     "output_type": "execute_result"
    }
   ],
   "source": [
    "nums = [3, 1, 4]\n",
    "sol = Solution()\n",
    "sol.findTheMissingNumber(nums)"
   ]
  },
  {
   "cell_type": "code",
   "execution_count": 9,
   "id": "a59705cc",
   "metadata": {},
   "outputs": [
    {
     "data": {
      "text/plain": [
       "3"
      ]
     },
     "execution_count": 9,
     "metadata": {},
     "output_type": "execute_result"
    }
   ],
   "source": [
    "nums = [1, 2]\n",
    "sol = Solution()\n",
    "sol.findTheMissingNumber(nums)"
   ]
  }
 ],
 "metadata": {
  "kernelspec": {
   "display_name": "venv (3.11.3)",
   "language": "python",
   "name": "python3"
  },
  "language_info": {
   "codemirror_mode": {
    "name": "ipython",
    "version": 3
   },
   "file_extension": ".py",
   "mimetype": "text/x-python",
   "name": "python",
   "nbconvert_exporter": "python",
   "pygments_lexer": "ipython3",
   "version": "3.11.3"
  }
 },
 "nbformat": 4,
 "nbformat_minor": 5
}
