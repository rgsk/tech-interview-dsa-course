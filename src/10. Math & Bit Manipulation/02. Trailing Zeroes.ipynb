{
 "cells": [
  {
   "cell_type": "code",
   "execution_count": 39,
   "id": "0589917a",
   "metadata": {},
   "outputs": [],
   "source": [
    "class Solution:\n",
    "\tdef trailingZeroesInFactorial(self, n: int) -> int:\n",
    "\t\tresult = 0\n",
    "\t\ti = 5\n",
    "\t\twhile i <= n:\n",
    "\t\t\tresult += n // i\n",
    "\t\t\ti *= 5\n",
    "\t\treturn result"
   ]
  },
  {
   "cell_type": "code",
   "execution_count": 40,
   "id": "7a7770e5",
   "metadata": {},
   "outputs": [],
   "source": [
    "sol = Solution()"
   ]
  },
  {
   "cell_type": "code",
   "execution_count": 41,
   "id": "560f9656",
   "metadata": {},
   "outputs": [
    {
     "data": {
      "text/plain": [
       "0"
      ]
     },
     "execution_count": 41,
     "metadata": {},
     "output_type": "execute_result"
    }
   ],
   "source": [
    "sol.trailingZeroesInFactorial(3)"
   ]
  },
  {
   "cell_type": "code",
   "execution_count": 42,
   "id": "832f7367",
   "metadata": {},
   "outputs": [
    {
     "data": {
      "text/plain": [
       "1"
      ]
     },
     "execution_count": 42,
     "metadata": {},
     "output_type": "execute_result"
    }
   ],
   "source": [
    "sol.trailingZeroesInFactorial(5)"
   ]
  },
  {
   "cell_type": "code",
   "execution_count": 43,
   "id": "a5850da3",
   "metadata": {},
   "outputs": [
    {
     "data": {
      "text/plain": [
       "2"
      ]
     },
     "execution_count": 43,
     "metadata": {},
     "output_type": "execute_result"
    }
   ],
   "source": [
    "sol.trailingZeroesInFactorial(10)"
   ]
  }
 ],
 "metadata": {
  "kernelspec": {
   "display_name": "venv (3.11.3)",
   "language": "python",
   "name": "python3"
  },
  "language_info": {
   "codemirror_mode": {
    "name": "ipython",
    "version": 3
   },
   "file_extension": ".py",
   "mimetype": "text/x-python",
   "name": "python",
   "nbconvert_exporter": "python",
   "pygments_lexer": "ipython3",
   "version": "3.11.3"
  }
 },
 "nbformat": 4,
 "nbformat_minor": 5
}
