{
 "cells": [
  {
   "cell_type": "code",
   "execution_count": 6,
   "id": "f81e69ab",
   "metadata": {},
   "outputs": [],
   "source": [
    "import math\n",
    "\n",
    "\n",
    "class Solution:\n",
    "    def msbSignificance(self, n: int) -> int:\n",
    "        offset = int(math.log2(n))\n",
    "        return 1 << offset    "
   ]
  },
  {
   "cell_type": "code",
   "execution_count": 7,
   "id": "dee4de70",
   "metadata": {},
   "outputs": [
    {
     "data": {
      "text/plain": [
       "4"
      ]
     },
     "execution_count": 7,
     "metadata": {},
     "output_type": "execute_result"
    }
   ],
   "source": [
    "n = 4\n",
    "sol = Solution()\n",
    "sol.msbSignificance(n)"
   ]
  },
  {
   "cell_type": "code",
   "execution_count": 8,
   "id": "eaf8f435",
   "metadata": {},
   "outputs": [
    {
     "data": {
      "text/plain": [
       "8"
      ]
     },
     "execution_count": 8,
     "metadata": {},
     "output_type": "execute_result"
    }
   ],
   "source": [
    "n = 10\n",
    "sol = Solution()\n",
    "sol.msbSignificance(n)"
   ]
  },
  {
   "cell_type": "code",
   "execution_count": null,
   "id": "f161a6e0",
   "metadata": {},
   "outputs": [],
   "source": [
    "import math\n",
    "\n",
    "class Solution:\n",
    "    def msbSignificance(self, n: int) -> int:\n",
    "        l = 0\n",
    "        r = 30\n",
    "        while l < r:\n",
    "            m = math.ceil((l + r) / 2)\n",
    "            if 1 << m <= n:\n",
    "                l = m\n",
    "            else:\n",
    "                r = m - 1\n",
    "        return 1 << l"
   ]
  },
  {
   "cell_type": "code",
   "execution_count": 10,
   "id": "20042d27",
   "metadata": {},
   "outputs": [
    {
     "data": {
      "text/plain": [
       "4"
      ]
     },
     "execution_count": 10,
     "metadata": {},
     "output_type": "execute_result"
    }
   ],
   "source": [
    "n = 4\n",
    "sol = Solution()\n",
    "sol.msbSignificance(n)"
   ]
  },
  {
   "cell_type": "code",
   "execution_count": 11,
   "id": "22ef2132",
   "metadata": {},
   "outputs": [
    {
     "data": {
      "text/plain": [
       "8"
      ]
     },
     "execution_count": 11,
     "metadata": {},
     "output_type": "execute_result"
    }
   ],
   "source": [
    "n = 10\n",
    "sol = Solution()\n",
    "sol.msbSignificance(n)"
   ]
  }
 ],
 "metadata": {
  "kernelspec": {
   "display_name": "venv (3.11.3)",
   "language": "python",
   "name": "python3"
  },
  "language_info": {
   "codemirror_mode": {
    "name": "ipython",
    "version": 3
   },
   "file_extension": ".py",
   "mimetype": "text/x-python",
   "name": "python",
   "nbconvert_exporter": "python",
   "pygments_lexer": "ipython3",
   "version": "3.11.3"
  }
 },
 "nbformat": 4,
 "nbformat_minor": 5
}
