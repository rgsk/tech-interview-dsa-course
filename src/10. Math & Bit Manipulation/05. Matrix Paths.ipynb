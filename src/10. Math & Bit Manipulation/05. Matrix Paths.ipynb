{
 "cells": [
  {
   "cell_type": "code",
   "execution_count": 6,
   "id": "4ed2becd",
   "metadata": {},
   "outputs": [],
   "source": [
    "def C(n, r):\n",
    "\tresult = 1\n",
    "\tfor i in range(1, r + 1):\n",
    "\t\tresult *= n\n",
    "\t\tresult //= i\n",
    "\t\tn -= 1\n",
    "\treturn result\n",
    "\n",
    "class Solution:\n",
    "    def getNumPaths(self, rows: int, columns: int) -> int:\n",
    "        n = rows + columns - 2\n",
    "        r = rows - 1\n",
    "        return C(n, r)"
   ]
  },
  {
   "cell_type": "code",
   "execution_count": 7,
   "id": "18e9d0c2",
   "metadata": {},
   "outputs": [],
   "source": [
    "sol = Solution()"
   ]
  },
  {
   "cell_type": "code",
   "execution_count": 8,
   "id": "a91eba3f",
   "metadata": {},
   "outputs": [
    {
     "data": {
      "text/plain": [
       "3"
      ]
     },
     "execution_count": 8,
     "metadata": {},
     "output_type": "execute_result"
    }
   ],
   "source": [
    "sol.getNumPaths(2, 3)"
   ]
  },
  {
   "cell_type": "code",
   "execution_count": 9,
   "id": "af7a82ef",
   "metadata": {},
   "outputs": [
    {
     "data": {
      "text/plain": [
       "6"
      ]
     },
     "execution_count": 9,
     "metadata": {},
     "output_type": "execute_result"
    }
   ],
   "source": [
    "sol.getNumPaths(3, 3)"
   ]
  },
  {
   "cell_type": "code",
   "execution_count": 10,
   "id": "70da7864",
   "metadata": {},
   "outputs": [
    {
     "data": {
      "text/plain": [
       "70"
      ]
     },
     "execution_count": 10,
     "metadata": {},
     "output_type": "execute_result"
    }
   ],
   "source": [
    "sol.getNumPaths(5, 5)"
   ]
  },
  {
   "cell_type": "code",
   "execution_count": 11,
   "id": "5bd342b6",
   "metadata": {},
   "outputs": [],
   "source": [
    "import math\n",
    "\n",
    "\n",
    "class Solution:\n",
    "    def getNumPaths(self, rows: int, columns: int) -> int:\n",
    "        n = rows + columns - 2\n",
    "        r = rows - 1\n",
    "        return math.comb(n, r)"
   ]
  },
  {
   "cell_type": "code",
   "execution_count": 12,
   "id": "51ac3580",
   "metadata": {},
   "outputs": [],
   "source": [
    "sol = Solution()"
   ]
  },
  {
   "cell_type": "code",
   "execution_count": 13,
   "id": "a5af213b",
   "metadata": {},
   "outputs": [
    {
     "data": {
      "text/plain": [
       "70"
      ]
     },
     "execution_count": 13,
     "metadata": {},
     "output_type": "execute_result"
    }
   ],
   "source": [
    "sol.getNumPaths(5, 5)"
   ]
  }
 ],
 "metadata": {
  "kernelspec": {
   "display_name": "venv",
   "language": "python",
   "name": "python3"
  },
  "language_info": {
   "codemirror_mode": {
    "name": "ipython",
    "version": 3
   },
   "file_extension": ".py",
   "mimetype": "text/x-python",
   "name": "python",
   "nbconvert_exporter": "python",
   "pygments_lexer": "ipython3",
   "version": "3.11.3"
  }
 },
 "nbformat": 4,
 "nbformat_minor": 5
}
