{
 "cells": [
  {
   "cell_type": "code",
   "execution_count": 7,
   "id": "15c3a969",
   "metadata": {},
   "outputs": [],
   "source": [
    "class Solution:\n",
    "    def countSetBits(self, n: int) -> int:\n",
    "        c = 0\n",
    "        while n > 0:\n",
    "            c += n % 2\n",
    "            n //= 2\n",
    "        return c"
   ]
  },
  {
   "cell_type": "code",
   "execution_count": 8,
   "id": "82fcdf0e",
   "metadata": {},
   "outputs": [
    {
     "data": {
      "text/plain": [
       "2"
      ]
     },
     "execution_count": 8,
     "metadata": {},
     "output_type": "execute_result"
    }
   ],
   "source": [
    "sol = Solution()\n",
    "sol.countSetBits(5)"
   ]
  },
  {
   "cell_type": "code",
   "execution_count": 9,
   "id": "9bcc3416",
   "metadata": {},
   "outputs": [],
   "source": [
    "class Solution:\n",
    "    def countSetBits(self, n: int) -> int:\n",
    "        c = 0\n",
    "        while n > 0:\n",
    "            c += n & 1\n",
    "            n >>= 1\n",
    "        return c"
   ]
  },
  {
   "cell_type": "code",
   "execution_count": 10,
   "id": "1bb8ab32",
   "metadata": {},
   "outputs": [
    {
     "data": {
      "text/plain": [
       "2"
      ]
     },
     "execution_count": 10,
     "metadata": {},
     "output_type": "execute_result"
    }
   ],
   "source": [
    "sol = Solution()\n",
    "sol.countSetBits(5)"
   ]
  }
 ],
 "metadata": {
  "kernelspec": {
   "display_name": "venv (3.11.3)",
   "language": "python",
   "name": "python3"
  },
  "language_info": {
   "codemirror_mode": {
    "name": "ipython",
    "version": 3
   },
   "file_extension": ".py",
   "mimetype": "text/x-python",
   "name": "python",
   "nbconvert_exporter": "python",
   "pygments_lexer": "ipython3",
   "version": "3.11.3"
  }
 },
 "nbformat": 4,
 "nbformat_minor": 5
}
