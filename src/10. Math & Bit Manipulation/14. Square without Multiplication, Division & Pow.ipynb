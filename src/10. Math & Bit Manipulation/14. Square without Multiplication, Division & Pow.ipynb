{
 "cells": [
  {
   "cell_type": "markdown",
   "id": "b762e26d",
   "metadata": {},
   "source": [
    "<img src=\"../../public/square-bitwise.png\" width=\"700\"  >"
   ]
  },
  {
   "cell_type": "code",
   "execution_count": 5,
   "id": "8ed11f88",
   "metadata": {},
   "outputs": [],
   "source": [
    "def solve(num: int) -> int:\n",
    "    if num < 2:\n",
    "        return num\n",
    "    num_by_2 = num >> 1\n",
    "    if num & 1:\n",
    "        return ((num_by_2 << 2) + 1) + (solve(num_by_2) << 2)\n",
    "    else:\n",
    "        return solve(num_by_2) << 2\n",
    "    \n",
    "class Solution:\n",
    "    def findSquare(self, num: int) -> int:\n",
    "        return solve(num)"
   ]
  },
  {
   "cell_type": "code",
   "execution_count": 6,
   "id": "483d44ec",
   "metadata": {},
   "outputs": [
    {
     "data": {
      "text/plain": [
       "25"
      ]
     },
     "execution_count": 6,
     "metadata": {},
     "output_type": "execute_result"
    }
   ],
   "source": [
    "num = 5\n",
    "sol = Solution()\n",
    "sol.findSquare(num)"
   ]
  }
 ],
 "metadata": {
  "kernelspec": {
   "display_name": "venv (3.11.3)",
   "language": "python",
   "name": "python3"
  },
  "language_info": {
   "codemirror_mode": {
    "name": "ipython",
    "version": 3
   },
   "file_extension": ".py",
   "mimetype": "text/x-python",
   "name": "python",
   "nbconvert_exporter": "python",
   "pygments_lexer": "ipython3",
   "version": "3.11.3"
  }
 },
 "nbformat": 4,
 "nbformat_minor": 5
}
