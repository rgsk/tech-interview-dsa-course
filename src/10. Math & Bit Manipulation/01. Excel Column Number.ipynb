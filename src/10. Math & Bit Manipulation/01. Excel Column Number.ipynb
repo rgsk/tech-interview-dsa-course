{
 "cells": [
  {
   "cell_type": "code",
   "execution_count": 11,
   "id": "d8de8626",
   "metadata": {},
   "outputs": [],
   "source": [
    "class Solution:\n",
    "    def getColumnNumber(self, excelColumnNumber: str) -> int:\n",
    "        # add your logic here\n",
    "        def get_number(c: str):\n",
    "            return ord(c) - 64\n",
    "        ans = 0\n",
    "        m = 1\n",
    "        for i in range(len(excelColumnNumber) - 1, -1, -1):\n",
    "            ans += m * get_number(excelColumnNumber[i])\n",
    "            m *= 26\n",
    "        return ans"
   ]
  },
  {
   "cell_type": "code",
   "execution_count": 12,
   "id": "08de3555",
   "metadata": {},
   "outputs": [],
   "source": [
    "sol = Solution()"
   ]
  },
  {
   "cell_type": "code",
   "execution_count": 13,
   "id": "2627549a",
   "metadata": {},
   "outputs": [
    {
     "data": {
      "text/plain": [
       "26"
      ]
     },
     "execution_count": 13,
     "metadata": {},
     "output_type": "execute_result"
    }
   ],
   "source": [
    "excelColumnNumber = 'Z'\n",
    "sol.getColumnNumber(excelColumnNumber)"
   ]
  },
  {
   "cell_type": "code",
   "execution_count": 14,
   "id": "8f42e023",
   "metadata": {},
   "outputs": [
    {
     "data": {
      "text/plain": [
       "27"
      ]
     },
     "execution_count": 14,
     "metadata": {},
     "output_type": "execute_result"
    }
   ],
   "source": [
    "excelColumnNumber = 'AA'\n",
    "sol.getColumnNumber(excelColumnNumber)"
   ]
  },
  {
   "cell_type": "code",
   "execution_count": 15,
   "id": "47d6378d",
   "metadata": {},
   "outputs": [
    {
     "data": {
      "text/plain": [
       "19007"
      ]
     },
     "execution_count": 15,
     "metadata": {},
     "output_type": "execute_result"
    }
   ],
   "source": [
    "excelColumnNumber = 'ABCA'\n",
    "sol.getColumnNumber(excelColumnNumber)"
   ]
  }
 ],
 "metadata": {
  "kernelspec": {
   "display_name": "venv (3.11.3)",
   "language": "python",
   "name": "python3"
  },
  "language_info": {
   "codemirror_mode": {
    "name": "ipython",
    "version": 3
   },
   "file_extension": ".py",
   "mimetype": "text/x-python",
   "name": "python",
   "nbconvert_exporter": "python",
   "pygments_lexer": "ipython3",
   "version": "3.11.3"
  }
 },
 "nbformat": 4,
 "nbformat_minor": 5
}
