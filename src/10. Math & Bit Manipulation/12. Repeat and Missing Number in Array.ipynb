{
 "cells": [
  {
   "cell_type": "code",
   "execution_count": 7,
   "id": "0e1b984c",
   "metadata": {},
   "outputs": [],
   "source": [
    "from typing import List\n",
    "\n",
    "\n",
    "class Solution:\n",
    "    def findRepeatAndMissingNumber(self, nums: List[int]) -> List[int]:\n",
    "        xor_result = 0\n",
    "        n = len(nums)\n",
    "\n",
    "        # Step 1: XOR all elements of array and numbers from 1 to n\n",
    "        for i in range(n):\n",
    "            xor_result ^= nums[i]\n",
    "            xor_result ^= (i + 1)\n",
    "\n",
    "        # Step 2: Find rightmost set bit\n",
    "        set_bit = xor_result & -xor_result\n",
    "\n",
    "        # Step 3: Divide numbers into two groups and XOR separately\n",
    "        x = 0  # one of the numbers (either repeating or missing)\n",
    "        y = 0  # the other number\n",
    "\n",
    "        for i in range(n):\n",
    "            if nums[i] & set_bit:\n",
    "                x ^= nums[i]\n",
    "            else:\n",
    "                y ^= nums[i]\n",
    "\n",
    "            if (i + 1) & set_bit:\n",
    "                x ^= (i + 1)\n",
    "            else:\n",
    "                y ^= (i + 1)\n",
    "\n",
    "        # Step 4: Determine which is repeating and which is missing\n",
    "        for num in nums:\n",
    "            if num == x:\n",
    "                return [x, y]  # x is repeating, y is missing\n",
    "        return [y, x]  # y is repeating, x is missing\n",
    "    "
   ]
  },
  {
   "cell_type": "code",
   "execution_count": 8,
   "id": "a5114732",
   "metadata": {},
   "outputs": [
    {
     "data": {
      "text/plain": [
       "[2, 4]"
      ]
     },
     "execution_count": 8,
     "metadata": {},
     "output_type": "execute_result"
    }
   ],
   "source": [
    "nums = [3, 2, 1, 2]\n",
    "sol = Solution()\n",
    "sol.findRepeatAndMissingNumber(nums)"
   ]
  },
  {
   "cell_type": "code",
   "execution_count": 9,
   "id": "07237dd9",
   "metadata": {},
   "outputs": [],
   "source": [
    "class Solution:\n",
    "    def findRepeatAndMissingNumber(self, A: List[int]) -> List[int]:\n",
    "\n",
    "        n = len(A)\n",
    "        square_sum_upto_n = n*(n+1)*(2*n+1) // 6\n",
    "        square_sum_A = sum([v**2 for v in A])\n",
    "\n",
    "        square_difference = square_sum_A - square_sum_upto_n # r^2 - m^2\n",
    "\n",
    "        sum_upto_n = n*(n+1) // 2\n",
    "        sum_A = sum(A)\n",
    "\n",
    "        difference = sum_A - sum_upto_n # r - m\n",
    "        addition = square_difference // difference # r + m\n",
    "\n",
    "        twice_repeating = addition + difference # 2r\n",
    "\n",
    "        repeating = twice_repeating // 2\n",
    "\n",
    "        missing = addition - repeating\n",
    "\n",
    "        return [repeating, missing]\n"
   ]
  },
  {
   "cell_type": "code",
   "execution_count": 10,
   "id": "e5e1b3cb",
   "metadata": {},
   "outputs": [
    {
     "data": {
      "text/plain": [
       "[2, 4]"
      ]
     },
     "execution_count": 10,
     "metadata": {},
     "output_type": "execute_result"
    }
   ],
   "source": [
    "nums = [3, 2, 1, 2]\n",
    "sol = Solution()\n",
    "sol.findRepeatAndMissingNumber(nums)"
   ]
  },
  {
   "cell_type": "code",
   "execution_count": 11,
   "id": "0f1e7b70",
   "metadata": {},
   "outputs": [],
   "source": [
    "class Solution:\n",
    "    def findRepeatAndMissingNumber(self, A: List[int]) -> List[int]:\n",
    "\n",
    "        n = len(A)\n",
    "        square_sum_upto_n = n*(n+1)*(2*n+1) // 6\n",
    "        square_sum_A = sum([v**2 for v in A])\n",
    "\n",
    "        square_difference = square_sum_upto_n - square_sum_A # m^2 - r^2\n",
    "\n",
    "        sum_upto_n = n*(n+1) // 2\n",
    "        sum_A = sum(A)\n",
    "\n",
    "        difference = sum_upto_n - sum_A # m - r\n",
    "        addition = square_difference // difference # m + r\n",
    "\n",
    "        twice_missing = addition + difference # 2m\n",
    "\n",
    "        missing = twice_missing // 2\n",
    "\n",
    "        repeating = addition - missing\n",
    "\n",
    "        return [repeating, missing]\n"
   ]
  },
  {
   "cell_type": "code",
   "execution_count": 12,
   "id": "8a9b43f6",
   "metadata": {},
   "outputs": [
    {
     "data": {
      "text/plain": [
       "[2, 4]"
      ]
     },
     "execution_count": 12,
     "metadata": {},
     "output_type": "execute_result"
    }
   ],
   "source": [
    "nums = [3, 2, 1, 2]\n",
    "sol = Solution()\n",
    "sol.findRepeatAndMissingNumber(nums)"
   ]
  }
 ],
 "metadata": {
  "kernelspec": {
   "display_name": "venv (3.11.3)",
   "language": "python",
   "name": "python3"
  },
  "language_info": {
   "codemirror_mode": {
    "name": "ipython",
    "version": 3
   },
   "file_extension": ".py",
   "mimetype": "text/x-python",
   "name": "python",
   "nbconvert_exporter": "python",
   "pygments_lexer": "ipython3",
   "version": "3.11.3"
  }
 },
 "nbformat": 4,
 "nbformat_minor": 5
}
