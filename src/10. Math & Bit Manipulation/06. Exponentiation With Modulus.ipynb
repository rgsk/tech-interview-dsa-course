{
 "cells": [
  {
   "cell_type": "code",
   "execution_count": 4,
   "id": "5f13290d",
   "metadata": {},
   "outputs": [],
   "source": [
    "class Solution:\n",
    "    def exp(self, x: int, y: int):\n",
    "        if y == 0:\n",
    "            return 1\n",
    "        half = self.exp(x, y // 2)\n",
    "        sq = half * half % self.mod\n",
    "        if y % 2:\n",
    "            return x * sq % self.mod\n",
    "        return sq\n",
    "        \n",
    "    def getModulatedPower(self, x: int, y: int, z: int) -> int:\n",
    "        self.mod = z\n",
    "        return self.exp(x, y)"
   ]
  },
  {
   "cell_type": "code",
   "execution_count": 5,
   "id": "861315c8",
   "metadata": {},
   "outputs": [
    {
     "data": {
      "text/plain": [
       "0"
      ]
     },
     "execution_count": 5,
     "metadata": {},
     "output_type": "execute_result"
    }
   ],
   "source": [
    "sol = Solution()\n",
    "sol.getModulatedPower(5, 2, 5)"
   ]
  },
  {
   "cell_type": "code",
   "execution_count": 6,
   "id": "8939f66f",
   "metadata": {},
   "outputs": [
    {
     "data": {
      "text/plain": [
       "1"
      ]
     },
     "execution_count": 6,
     "metadata": {},
     "output_type": "execute_result"
    }
   ],
   "source": [
    "sol = Solution()\n",
    "sol.getModulatedPower(3, 3, 2)"
   ]
  }
 ],
 "metadata": {
  "kernelspec": {
   "display_name": "venv (3.11.3)",
   "language": "python",
   "name": "python3"
  },
  "language_info": {
   "codemirror_mode": {
    "name": "ipython",
    "version": 3
   },
   "file_extension": ".py",
   "mimetype": "text/x-python",
   "name": "python",
   "nbconvert_exporter": "python",
   "pygments_lexer": "ipython3",
   "version": "3.11.3"
  }
 },
 "nbformat": 4,
 "nbformat_minor": 5
}
