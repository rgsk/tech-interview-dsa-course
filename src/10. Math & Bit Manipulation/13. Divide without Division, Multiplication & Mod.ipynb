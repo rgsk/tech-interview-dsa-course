{
 "cells": [
  {
   "cell_type": "markdown",
   "id": "81ffbb09",
   "metadata": {},
   "source": [
    "<img src=\"../../public/divide-bitwise.png\" width=\"500\"  >"
   ]
  },
  {
   "cell_type": "code",
   "execution_count": 2,
   "id": "96be9965",
   "metadata": {},
   "outputs": [],
   "source": [
    "class Solution:\n",
    "    def divide(self, a: int, b: int) -> int:\n",
    "        # Determine the sign\n",
    "        sign = -1 if (a < 0) ^ (b < 0) else 1\n",
    "\n",
    "        # Work with absolute values\n",
    "        a = abs(a)\n",
    "        b = abs(b)\n",
    "\n",
    "        quotient = 0\n",
    "        for i in range(31, -1, -1):\n",
    "            if (b << i) <= a:\n",
    "                a -= b << i\n",
    "                quotient += 1 << i\n",
    "\n",
    "        return sign * quotient"
   ]
  },
  {
   "cell_type": "code",
   "execution_count": 3,
   "id": "2dda0bf5",
   "metadata": {},
   "outputs": [
    {
     "data": {
      "text/plain": [
       "3"
      ]
     },
     "execution_count": 3,
     "metadata": {},
     "output_type": "execute_result"
    }
   ],
   "source": [
    "a = 15\n",
    "b = 4\n",
    "sol = Solution()\n",
    "sol.divide(a, b)"
   ]
  }
 ],
 "metadata": {
  "kernelspec": {
   "display_name": "venv (3.11.3)",
   "language": "python",
   "name": "python3"
  },
  "language_info": {
   "codemirror_mode": {
    "name": "ipython",
    "version": 3
   },
   "file_extension": ".py",
   "mimetype": "text/x-python",
   "name": "python",
   "nbconvert_exporter": "python",
   "pygments_lexer": "ipython3",
   "version": "3.11.3"
  }
 },
 "nbformat": 4,
 "nbformat_minor": 5
}
