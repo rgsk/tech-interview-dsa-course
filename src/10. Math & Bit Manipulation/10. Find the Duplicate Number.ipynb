{
 "cells": [
  {
   "cell_type": "code",
   "execution_count": null,
   "id": "c1ed3990",
   "metadata": {},
   "outputs": [],
   "source": [
    "from typing import List\n",
    "\n",
    "\n",
    "class Solution:\n",
    "    def findTheDuplicateNumber(self, nums: List[int]) -> int:\n",
    "        total = sum(nums)\n",
    "        n = len(nums) - 1\n",
    "        sum_upto_n = n * (n + 1) // 2\n",
    "        return total - sum_upto_n"
   ]
  },
  {
   "cell_type": "code",
   "execution_count": 2,
   "id": "8aa2e5bb",
   "metadata": {},
   "outputs": [
    {
     "data": {
      "text/plain": [
       "2"
      ]
     },
     "execution_count": 2,
     "metadata": {},
     "output_type": "execute_result"
    }
   ],
   "source": [
    "nums = [3, 1, 2, 4, 2]\n",
    "sol = Solution()\n",
    "sol.findTheDuplicateNumber(nums)"
   ]
  },
  {
   "cell_type": "code",
   "execution_count": 3,
   "id": "d1027322",
   "metadata": {},
   "outputs": [],
   "source": [
    "from typing import List\n",
    "\n",
    "\n",
    "class Solution:\n",
    "    def findTheDuplicateNumber(self, nums: List[int]) -> int:\n",
    "        xor = 0\n",
    "        for v in nums:\n",
    "            xor ^= v\n",
    "        for i in range(1, len(nums)):\n",
    "            xor ^= i\n",
    "        return xor"
   ]
  },
  {
   "cell_type": "code",
   "execution_count": 4,
   "id": "8197ccbf",
   "metadata": {},
   "outputs": [
    {
     "data": {
      "text/plain": [
       "2"
      ]
     },
     "execution_count": 4,
     "metadata": {},
     "output_type": "execute_result"
    }
   ],
   "source": [
    "nums = [3, 1, 2, 4, 2]\n",
    "sol = Solution()\n",
    "sol.findTheDuplicateNumber(nums)"
   ]
  }
 ],
 "metadata": {
  "kernelspec": {
   "display_name": "venv (3.11.3)",
   "language": "python",
   "name": "python3"
  },
  "language_info": {
   "codemirror_mode": {
    "name": "ipython",
    "version": 3
   },
   "file_extension": ".py",
   "mimetype": "text/x-python",
   "name": "python",
   "nbconvert_exporter": "python",
   "pygments_lexer": "ipython3",
   "version": "3.11.3"
  }
 },
 "nbformat": 4,
 "nbformat_minor": 5
}
