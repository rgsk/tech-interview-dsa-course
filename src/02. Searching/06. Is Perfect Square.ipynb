{
 "cells": [
  {
   "cell_type": "code",
   "execution_count": 1,
   "id": "99a9bf16",
   "metadata": {},
   "outputs": [],
   "source": [
    "class Solution:\n",
    "\tdef isPerfectSquare(self, n: int) -> bool:\n",
    "\t\tif n == 1:\n",
    "\t\t\treturn True\n",
    "\t\tif n <= 3:\n",
    "\t\t\treturn False\n",
    "\t\tl = 1\n",
    "\t\tr = n // 2\n",
    "\t\twhile l <= r:\n",
    "\t\t\tmid = (l + r) // 2\n",
    "\t\t\tsq = mid * mid\n",
    "\t\t\tif sq == n:\n",
    "\t\t\t\treturn True\n",
    "\t\t\telif sq < n:\n",
    "\t\t\t\tl = mid + 1\n",
    "\t\t\telse:\n",
    "\t\t\t\tr = mid - 1\n",
    "\t\treturn False\n",
    "\t\t"
   ]
  },
  {
   "cell_type": "code",
   "execution_count": 2,
   "id": "347b6fc0",
   "metadata": {},
   "outputs": [
    {
     "data": {
      "text/plain": [
       "True"
      ]
     },
     "execution_count": 2,
     "metadata": {},
     "output_type": "execute_result"
    }
   ],
   "source": [
    "sol = Solution()\n",
    "sol.isPerfectSquare(25)"
   ]
  },
  {
   "cell_type": "code",
   "execution_count": 3,
   "id": "4688c305",
   "metadata": {},
   "outputs": [
    {
     "data": {
      "text/plain": [
       "False"
      ]
     },
     "execution_count": 3,
     "metadata": {},
     "output_type": "execute_result"
    }
   ],
   "source": [
    "sol = Solution()\n",
    "sol.isPerfectSquare(30)"
   ]
  }
 ],
 "metadata": {
  "kernelspec": {
   "display_name": "venv",
   "language": "python",
   "name": "python3"
  },
  "language_info": {
   "codemirror_mode": {
    "name": "ipython",
    "version": 3
   },
   "file_extension": ".py",
   "mimetype": "text/x-python",
   "name": "python",
   "nbconvert_exporter": "python",
   "pygments_lexer": "ipython3",
   "version": "3.11.3"
  }
 },
 "nbformat": 4,
 "nbformat_minor": 5
}
