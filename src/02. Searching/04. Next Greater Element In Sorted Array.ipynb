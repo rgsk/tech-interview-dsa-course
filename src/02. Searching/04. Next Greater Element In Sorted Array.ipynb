{
 "cells": [
  {
   "cell_type": "code",
   "execution_count": 8,
   "id": "71be502e",
   "metadata": {},
   "outputs": [],
   "source": [
    "from typing import List\n",
    "from bisect import bisect_right\n",
    "\n",
    "class Solution:\n",
    "    def getNextGreaterElement(self, arr: List[int], key: int) -> int:\n",
    "        r = bisect_right(arr, key)\n",
    "        if r == len(arr):\n",
    "            return key\n",
    "        return arr[r]"
   ]
  },
  {
   "cell_type": "code",
   "execution_count": 9,
   "id": "2b7a5cd1",
   "metadata": {},
   "outputs": [
    {
     "data": {
      "text/plain": [
       "8"
      ]
     },
     "execution_count": 9,
     "metadata": {},
     "output_type": "execute_result"
    }
   ],
   "source": [
    "arr = [1, 2, 3, 3, 4, 4, 8, 10]\n",
    "key = 4\n",
    "sol = Solution()\n",
    "sol.getNextGreaterElement(arr, key)"
   ]
  },
  {
   "cell_type": "code",
   "execution_count": 10,
   "id": "adc29682",
   "metadata": {},
   "outputs": [
    {
     "data": {
      "text/plain": [
       "5"
      ]
     },
     "execution_count": 10,
     "metadata": {},
     "output_type": "execute_result"
    }
   ],
   "source": [
    "arr = [1, 2, 3, 3, 3, 4, 4, 5]\n",
    "key = 5\n",
    "sol = Solution()\n",
    "sol.getNextGreaterElement(arr, key)"
   ]
  },
  {
   "cell_type": "code",
   "execution_count": 11,
   "id": "8f804679",
   "metadata": {},
   "outputs": [
    {
     "data": {
      "text/plain": [
       "1"
      ]
     },
     "execution_count": 11,
     "metadata": {},
     "output_type": "execute_result"
    }
   ],
   "source": [
    "arr = [1, 2, 3, 3, 3, 4, 4, 5]\n",
    "key = -5\n",
    "sol = Solution()\n",
    "sol.getNextGreaterElement(arr, key)"
   ]
  }
 ],
 "metadata": {
  "kernelspec": {
   "display_name": "venv",
   "language": "python",
   "name": "python3"
  },
  "language_info": {
   "codemirror_mode": {
    "name": "ipython",
    "version": 3
   },
   "file_extension": ".py",
   "mimetype": "text/x-python",
   "name": "python",
   "nbconvert_exporter": "python",
   "pygments_lexer": "ipython3",
   "version": "3.11.3"
  }
 },
 "nbformat": 4,
 "nbformat_minor": 5
}
