{
 "cells": [
  {
   "cell_type": "code",
   "execution_count": 1,
   "id": "71be502e",
   "metadata": {},
   "outputs": [],
   "source": [
    "from typing import List\n",
    "from bisect import bisect_right\n",
    "\n",
    "class Solution:\n",
    "    def getNextGreaterElement(self, arr: List[int], key: int) -> int:\n",
    "        r = bisect_right(arr, key)\n",
    "        if r == len(arr):\n",
    "            return key\n",
    "        return arr[r]"
   ]
  },
  {
   "cell_type": "code",
   "execution_count": 2,
   "id": "2b7a5cd1",
   "metadata": {},
   "outputs": [
    {
     "data": {
      "text/plain": [
       "8"
      ]
     },
     "execution_count": 2,
     "metadata": {},
     "output_type": "execute_result"
    }
   ],
   "source": [
    "arr = [1, 2, 3, 3, 4, 4, 8, 10]\n",
    "key = 4\n",
    "sol = Solution()\n",
    "sol.getNextGreaterElement(arr, key)"
   ]
  },
  {
   "cell_type": "code",
   "execution_count": 3,
   "id": "adc29682",
   "metadata": {},
   "outputs": [
    {
     "data": {
      "text/plain": [
       "5"
      ]
     },
     "execution_count": 3,
     "metadata": {},
     "output_type": "execute_result"
    }
   ],
   "source": [
    "arr = [1, 2, 3, 3, 3, 4, 4, 5]\n",
    "key = 5\n",
    "sol = Solution()\n",
    "sol.getNextGreaterElement(arr, key)"
   ]
  },
  {
   "cell_type": "code",
   "execution_count": 4,
   "id": "8f804679",
   "metadata": {},
   "outputs": [
    {
     "data": {
      "text/plain": [
       "1"
      ]
     },
     "execution_count": 4,
     "metadata": {},
     "output_type": "execute_result"
    }
   ],
   "source": [
    "arr = [1, 2, 3, 3, 3, 4, 4, 5]\n",
    "key = -5\n",
    "sol = Solution()\n",
    "sol.getNextGreaterElement(arr, key)"
   ]
  },
  {
   "cell_type": "code",
   "execution_count": 5,
   "id": "ab4c648f",
   "metadata": {},
   "outputs": [],
   "source": [
    "from math import ceil\n",
    "\n",
    "\n",
    "def right_binary_search(nums: List[int], target: int) -> int:\n",
    "    left = 0\n",
    "    right = len(nums) - 1\n",
    "    while left < right:\n",
    "        mid = ceil((left + right) / 2)\n",
    "        if nums[mid] > target:\n",
    "            right = mid - 1\n",
    "        else:\n",
    "            left = mid\n",
    "    if nums[left] > target:\n",
    "        return left\n",
    "    return left + 1\n",
    "\n",
    "class Solution:\n",
    "    def getNextGreaterElement(self, arr: List[int], key: int) -> int:\n",
    "        r = right_binary_search(arr, key)\n",
    "        if r == len(arr):\n",
    "            return key\n",
    "        return arr[r]"
   ]
  },
  {
   "cell_type": "code",
   "execution_count": 6,
   "id": "5d414140",
   "metadata": {},
   "outputs": [
    {
     "data": {
      "text/plain": [
       "8"
      ]
     },
     "execution_count": 6,
     "metadata": {},
     "output_type": "execute_result"
    }
   ],
   "source": [
    "arr = [1, 2, 3, 3, 4, 4, 8, 10]\n",
    "key = 4\n",
    "sol = Solution()\n",
    "sol.getNextGreaterElement(arr, key)"
   ]
  },
  {
   "cell_type": "code",
   "execution_count": 7,
   "id": "fd7700c6",
   "metadata": {},
   "outputs": [
    {
     "data": {
      "text/plain": [
       "5"
      ]
     },
     "execution_count": 7,
     "metadata": {},
     "output_type": "execute_result"
    }
   ],
   "source": [
    "arr = [1, 2, 3, 3, 3, 4, 4, 5]\n",
    "key = 5\n",
    "sol = Solution()\n",
    "sol.getNextGreaterElement(arr, key)"
   ]
  },
  {
   "cell_type": "code",
   "execution_count": 8,
   "id": "63c2416d",
   "metadata": {},
   "outputs": [
    {
     "data": {
      "text/plain": [
       "1"
      ]
     },
     "execution_count": 8,
     "metadata": {},
     "output_type": "execute_result"
    }
   ],
   "source": [
    "arr = [1, 2, 3, 3, 3, 4, 4, 5]\n",
    "key = -5\n",
    "sol = Solution()\n",
    "sol.getNextGreaterElement(arr, key)"
   ]
  },
  {
   "cell_type": "code",
   "execution_count": 9,
   "id": "4a563410",
   "metadata": {},
   "outputs": [],
   "source": [
    "from math import ceil\n",
    "\n",
    "\n",
    "def right_binary_search(nums: List[int], target: int) -> int:\n",
    "    left = -1\n",
    "    right = len(nums) - 1\n",
    "    while left < right:\n",
    "        mid = ceil((left + right) / 2)\n",
    "        if nums[mid] > target:\n",
    "            right = mid - 1\n",
    "        else:\n",
    "            left = mid\n",
    "    return left + 1\n",
    "\n",
    "class Solution:\n",
    "    def getNextGreaterElement(self, arr: List[int], key: int) -> int:\n",
    "        r = right_binary_search(arr, key)\n",
    "        if r == len(arr):\n",
    "            return key\n",
    "        return arr[r]"
   ]
  },
  {
   "cell_type": "code",
   "execution_count": 10,
   "id": "8f1e05e8",
   "metadata": {},
   "outputs": [
    {
     "data": {
      "text/plain": [
       "8"
      ]
     },
     "execution_count": 10,
     "metadata": {},
     "output_type": "execute_result"
    }
   ],
   "source": [
    "arr = [1, 2, 3, 3, 4, 4, 8, 10]\n",
    "key = 4\n",
    "sol = Solution()\n",
    "sol.getNextGreaterElement(arr, key)"
   ]
  }
 ],
 "metadata": {
  "kernelspec": {
   "display_name": "venv",
   "language": "python",
   "name": "python3"
  },
  "language_info": {
   "codemirror_mode": {
    "name": "ipython",
    "version": 3
   },
   "file_extension": ".py",
   "mimetype": "text/x-python",
   "name": "python",
   "nbconvert_exporter": "python",
   "pygments_lexer": "ipython3",
   "version": "3.11.3"
  }
 },
 "nbformat": 4,
 "nbformat_minor": 5
}
