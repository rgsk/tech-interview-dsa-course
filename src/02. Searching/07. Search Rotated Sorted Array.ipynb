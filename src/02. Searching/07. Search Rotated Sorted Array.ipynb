{
 "cells": [
  {
   "cell_type": "code",
   "execution_count": 3,
   "id": "16a55456",
   "metadata": {},
   "outputs": [],
   "source": [
    "from typing import List\n",
    "\n",
    "def findRotatedIndex(array: List[int]) -> int:\n",
    "    n = len(array)\n",
    "    l, r = 0, n - 1\n",
    "    while l <= r:\n",
    "        m = (l + r) // 2\n",
    "        if m > 0 and array[m - 1] > array[m]:\n",
    "            return m - 1\n",
    "        elif array[m] >= array[0]:\n",
    "            l = m + 1\n",
    "        else:\n",
    "            r = m - 1\n",
    "    return -1\n",
    "\n",
    "def binarySearch(array: List[int], l: int, r: int, target: int) -> int:\n",
    "    while l <= r:\n",
    "        m = (l + r) // 2\n",
    "        if array[m] == target:\n",
    "            return m\n",
    "        elif array[m] < target:\n",
    "            l = m + 1\n",
    "        else:\n",
    "            r = m - 1\n",
    "    return -1\n",
    "\n",
    "class Solution:\n",
    "    def getElementIndex(self, array: List[int], target: int) -> int:\n",
    "        n = len(array)\n",
    "        leftEndIndex = findRotatedIndex(array)\n",
    "        if leftEndIndex == -1:\n",
    "            return binarySearch(array, 0, n - 1, target)\n",
    "        if target >= array[0]:\n",
    "            return binarySearch(array, 0, leftEndIndex, target)\n",
    "        else:\n",
    "            return binarySearch(array, leftEndIndex + 1, n - 1, target)\n"
   ]
  },
  {
   "cell_type": "code",
   "execution_count": 4,
   "id": "61541f8a",
   "metadata": {},
   "outputs": [
    {
     "data": {
      "text/plain": [
       "2"
      ]
     },
     "execution_count": 4,
     "metadata": {},
     "output_type": "execute_result"
    }
   ],
   "source": [
    "array = [4, 5, 6, 7, 1, 2, 3]\n",
    "target = 6\n",
    "sol = Solution()\n",
    "sol.getElementIndex(array, target)"
   ]
  },
  {
   "cell_type": "code",
   "execution_count": 5,
   "id": "80e7a6cf",
   "metadata": {},
   "outputs": [],
   "source": [
    "from typing import List\n",
    "\n",
    "class Solution:\n",
    "    def getElementIndex(self, array: List[int], target: int) -> int:\n",
    "        n = len(array)\n",
    "        l, r = 0, n - 1\n",
    "        while l <= r:\n",
    "            m = (l + r) // 2\n",
    "            if array[m] == target:\n",
    "                return m\n",
    "\n",
    "            if target >= array[0]:\n",
    "                # We need to be on left side\n",
    "                if array[m] >= array[0]:\n",
    "                    # We are on left side - normal binary search\n",
    "                    if array[m] > target:\n",
    "                        r = m - 1\n",
    "                    else:\n",
    "                        l = m + 1\n",
    "                else:\n",
    "                    # We are on right side, but we want left side\n",
    "                    r = m - 1\n",
    "            else:\n",
    "                # We need to be on right side\n",
    "                if array[m] < array[0]:\n",
    "                    # We are on right side - normal binary search\n",
    "                    if array[m] > target:\n",
    "                        r = m - 1\n",
    "                    else:\n",
    "                        l = m + 1\n",
    "                else:\n",
    "                    # We are on left side, but we want right side\n",
    "                    l = m + 1\n",
    "        return -1\n"
   ]
  },
  {
   "cell_type": "code",
   "execution_count": 6,
   "id": "6a3b49c6",
   "metadata": {},
   "outputs": [
    {
     "data": {
      "text/plain": [
       "2"
      ]
     },
     "execution_count": 6,
     "metadata": {},
     "output_type": "execute_result"
    }
   ],
   "source": [
    "array = [4, 5, 6, 7, 1, 2, 3]\n",
    "target = 6\n",
    "sol = Solution()\n",
    "sol.getElementIndex(array, target)"
   ]
  }
 ],
 "metadata": {
  "kernelspec": {
   "display_name": "venv",
   "language": "python",
   "name": "python3"
  },
  "language_info": {
   "codemirror_mode": {
    "name": "ipython",
    "version": 3
   },
   "file_extension": ".py",
   "mimetype": "text/x-python",
   "name": "python",
   "nbconvert_exporter": "python",
   "pygments_lexer": "ipython3",
   "version": "3.11.3"
  }
 },
 "nbformat": 4,
 "nbformat_minor": 5
}
