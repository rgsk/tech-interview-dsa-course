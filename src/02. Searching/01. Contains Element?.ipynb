{
 "cells": [
  {
   "cell_type": "code",
   "execution_count": 1,
   "id": "06da76fa",
   "metadata": {},
   "outputs": [],
   "source": [
    "from typing import List"
   ]
  },
  {
   "cell_type": "code",
   "execution_count": 2,
   "id": "15d221c7",
   "metadata": {},
   "outputs": [],
   "source": [
    "from bisect import bisect_left\n",
    "\n",
    "class Solution:\n",
    "    def containsElement(self, arr: List[int], key: int) -> bool:\n",
    "        index = bisect_left(arr, key)\n",
    "        return index < len(arr) and arr[index] == key"
   ]
  },
  {
   "cell_type": "code",
   "execution_count": 3,
   "id": "9a515ef3",
   "metadata": {},
   "outputs": [
    {
     "data": {
      "text/plain": [
       "True"
      ]
     },
     "execution_count": 3,
     "metadata": {},
     "output_type": "execute_result"
    }
   ],
   "source": [
    "arr = [1, 2, 3, 3, 3, 4, 4, 5]\n",
    "key = 2\n",
    "sol = Solution()\n",
    "sol.containsElement(arr, key)"
   ]
  },
  {
   "cell_type": "code",
   "execution_count": 4,
   "id": "16732d78",
   "metadata": {},
   "outputs": [
    {
     "data": {
      "text/plain": [
       "False"
      ]
     },
     "execution_count": 4,
     "metadata": {},
     "output_type": "execute_result"
    }
   ],
   "source": [
    "arr = [1, 2, 3, 3, 3, 4, 4, 5]\n",
    "key = 6\n",
    "sol = Solution()\n",
    "sol.containsElement(arr, key)"
   ]
  },
  {
   "cell_type": "code",
   "execution_count": 5,
   "id": "d334afe7",
   "metadata": {},
   "outputs": [],
   "source": [
    "def binary_search(nums: List[int], target: int) -> int:\n",
    "        low = 0\n",
    "        high = len(nums) - 1\n",
    "        while low <= high:\n",
    "            mid = (low + high) // 2\n",
    "            if nums[mid] == target:\n",
    "                return mid\n",
    "            elif nums[mid] > target:\n",
    "                high = mid - 1\n",
    "            else:\n",
    "                low = mid + 1\n",
    "        return -1\n",
    "\n",
    "class Solution:\n",
    "\tdef containsElement(self, arr: List[int], key: int) -> bool:\n",
    "\t\tif binary_search(arr, key) == -1:\n",
    "\t\t\treturn False\n",
    "\t\treturn True"
   ]
  },
  {
   "cell_type": "code",
   "execution_count": 6,
   "id": "5c5c4bdd",
   "metadata": {},
   "outputs": [
    {
     "data": {
      "text/plain": [
       "True"
      ]
     },
     "execution_count": 6,
     "metadata": {},
     "output_type": "execute_result"
    }
   ],
   "source": [
    "arr = [1, 2, 3, 3, 3, 4, 4, 5]\n",
    "key = 2\n",
    "sol = Solution()\n",
    "sol.containsElement(arr, key)"
   ]
  },
  {
   "cell_type": "code",
   "execution_count": 7,
   "id": "9a4c7b3c",
   "metadata": {},
   "outputs": [
    {
     "data": {
      "text/plain": [
       "False"
      ]
     },
     "execution_count": 7,
     "metadata": {},
     "output_type": "execute_result"
    }
   ],
   "source": [
    "arr = [1, 2, 3, 3, 3, 4, 4, 5]\n",
    "key = 6\n",
    "sol = Solution()\n",
    "sol.containsElement(arr, key)"
   ]
  }
 ],
 "metadata": {
  "kernelspec": {
   "display_name": "venv",
   "language": "python",
   "name": "python3"
  },
  "language_info": {
   "codemirror_mode": {
    "name": "ipython",
    "version": 3
   },
   "file_extension": ".py",
   "mimetype": "text/x-python",
   "name": "python",
   "nbconvert_exporter": "python",
   "pygments_lexer": "ipython3",
   "version": "3.11.3"
  }
 },
 "nbformat": 4,
 "nbformat_minor": 5
}
