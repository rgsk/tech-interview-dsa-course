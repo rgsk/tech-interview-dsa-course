{
 "cells": [
  {
   "cell_type": "code",
   "execution_count": 8,
   "id": "12c0a714",
   "metadata": {},
   "outputs": [],
   "source": [
    "from typing import List\n",
    "\n",
    "class Solution:\n",
    "    def searchMatrix(self, matrix: List[List[int]], key: int) -> bool:\n",
    "        rows = len(matrix)\n",
    "        cols = len(matrix[0])\n",
    "\n",
    "        r = 0\n",
    "        while r < rows and matrix[r][cols - 1] < key:\n",
    "            r += 1\n",
    "\n",
    "        if r == rows:\n",
    "            return False\n",
    "\n",
    "        # Perform binary search in row r\n",
    "        l, h = 0, cols - 1\n",
    "        while l <= h:\n",
    "            m = (l + h) // 2\n",
    "            v = matrix[r][m]\n",
    "            if v == key:\n",
    "                return True\n",
    "            elif v < key:\n",
    "                l = m + 1\n",
    "            else:\n",
    "                h = m - 1\n",
    "\n",
    "        return False"
   ]
  },
  {
   "cell_type": "code",
   "execution_count": 9,
   "id": "709d634c",
   "metadata": {},
   "outputs": [
    {
     "data": {
      "text/plain": [
       "True"
      ]
     },
     "execution_count": 9,
     "metadata": {},
     "output_type": "execute_result"
    }
   ],
   "source": [
    "matrix = [\n",
    "    [1, 2, 3],\n",
    "    [4, 5, 6],\n",
    "    [7, 8, 9]\n",
    "]\n",
    "sol = Solution()\n",
    "sol.searchMatrix(matrix, 6)"
   ]
  },
  {
   "cell_type": "code",
   "execution_count": 10,
   "id": "113ef73d",
   "metadata": {},
   "outputs": [
    {
     "data": {
      "text/plain": [
       "False"
      ]
     },
     "execution_count": 10,
     "metadata": {},
     "output_type": "execute_result"
    }
   ],
   "source": [
    "matrix = [\n",
    "    [1, 2, 3],\n",
    "    [4, 5, 6],\n",
    "    [7, 8, 9],\n",
    "    [10, 11, 12]\n",
    "]\n",
    "sol = Solution()\n",
    "sol.searchMatrix(matrix, 15)"
   ]
  },
  {
   "cell_type": "code",
   "execution_count": 11,
   "id": "f7416a65",
   "metadata": {},
   "outputs": [],
   "source": [
    "from typing import List\n",
    "\n",
    "class Solution:\n",
    "    def searchMatrix(self, matrix: List[List[int]], key: int) -> bool:\n",
    "        rows = len(matrix)\n",
    "        cols = len(matrix[0])\n",
    "        \n",
    "        l = 0\n",
    "        h = rows * cols - 1\n",
    "        \n",
    "        while l <= h:\n",
    "            m = (l + h) // 2\n",
    "            v = matrix[m // cols][m % cols]\n",
    "            \n",
    "            if v == key:\n",
    "                return True\n",
    "            elif v < key:\n",
    "                l = m + 1\n",
    "            else:\n",
    "                h = m - 1\n",
    "        \n",
    "        return False\n"
   ]
  },
  {
   "cell_type": "code",
   "execution_count": 12,
   "id": "188d44b9",
   "metadata": {},
   "outputs": [
    {
     "data": {
      "text/plain": [
       "True"
      ]
     },
     "execution_count": 12,
     "metadata": {},
     "output_type": "execute_result"
    }
   ],
   "source": [
    "matrix = [\n",
    "    [1, 2, 3],\n",
    "    [4, 5, 6],\n",
    "    [7, 8, 9]\n",
    "]\n",
    "sol = Solution()\n",
    "sol.searchMatrix(matrix, 6)"
   ]
  },
  {
   "cell_type": "code",
   "execution_count": 13,
   "id": "be501781",
   "metadata": {},
   "outputs": [
    {
     "data": {
      "text/plain": [
       "False"
      ]
     },
     "execution_count": 13,
     "metadata": {},
     "output_type": "execute_result"
    }
   ],
   "source": [
    "matrix = [\n",
    "    [1, 2, 3],\n",
    "    [4, 5, 6],\n",
    "    [7, 8, 9],\n",
    "    [10, 11, 12]\n",
    "]\n",
    "sol = Solution()\n",
    "sol.searchMatrix(matrix, 15)"
   ]
  }
 ],
 "metadata": {
  "kernelspec": {
   "display_name": "venv",
   "language": "python",
   "name": "python3"
  },
  "language_info": {
   "codemirror_mode": {
    "name": "ipython",
    "version": 3
   },
   "file_extension": ".py",
   "mimetype": "text/x-python",
   "name": "python",
   "nbconvert_exporter": "python",
   "pygments_lexer": "ipython3",
   "version": "3.11.3"
  }
 },
 "nbformat": 4,
 "nbformat_minor": 5
}
