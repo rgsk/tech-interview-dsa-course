{
 "cells": [
  {
   "cell_type": "code",
   "execution_count": null,
   "id": "6324e802",
   "metadata": {},
   "outputs": [],
   "source": [
    "from math import ceil\n",
    "\n",
    "\n",
    "class Solution:\n",
    "\tdef searchRoot(self, n: int) -> int:\n",
    "\t\tif n <= 1:\n",
    "\t\t\treturn n\n",
    "\t\tl = 0\n",
    "\t\tr = n // 2\n",
    "\t\twhile l < r:\n",
    "\t\t\tm = ceil((l + r) / 2)\n",
    "\t\t\tsq = m * m\n",
    "\t\t\tif sq > n:\n",
    "\t\t\t\tr = m - 1\n",
    "\t\t\telse:\n",
    "\t\t\t\tl = m\n",
    "\t\treturn l\n",
    "                "
   ]
  },
  {
   "cell_type": "code",
   "execution_count": 7,
   "id": "48496e6c",
   "metadata": {},
   "outputs": [],
   "source": [
    "sol = Solution()"
   ]
  },
  {
   "cell_type": "code",
   "execution_count": 8,
   "id": "ac120c05",
   "metadata": {},
   "outputs": [
    {
     "data": {
      "text/plain": [
       "4"
      ]
     },
     "execution_count": 8,
     "metadata": {},
     "output_type": "execute_result"
    }
   ],
   "source": [
    "n = 16\n",
    "sol.searchRoot(n)"
   ]
  },
  {
   "cell_type": "code",
   "execution_count": 9,
   "id": "8dcb5620",
   "metadata": {},
   "outputs": [
    {
     "data": {
      "text/plain": [
       "3"
      ]
     },
     "execution_count": 9,
     "metadata": {},
     "output_type": "execute_result"
    }
   ],
   "source": [
    "n = 12\n",
    "sol.searchRoot(n)"
   ]
  },
  {
   "cell_type": "code",
   "execution_count": 10,
   "id": "d2f84b23",
   "metadata": {},
   "outputs": [
    {
     "data": {
      "text/plain": [
       "0"
      ]
     },
     "execution_count": 10,
     "metadata": {},
     "output_type": "execute_result"
    }
   ],
   "source": [
    "n = 0\n",
    "sol.searchRoot(n)"
   ]
  }
 ],
 "metadata": {
  "kernelspec": {
   "display_name": "venv",
   "language": "python",
   "name": "python3"
  },
  "language_info": {
   "codemirror_mode": {
    "name": "ipython",
    "version": 3
   },
   "file_extension": ".py",
   "mimetype": "text/x-python",
   "name": "python",
   "nbconvert_exporter": "python",
   "pygments_lexer": "ipython3",
   "version": "3.11.3"
  }
 },
 "nbformat": 4,
 "nbformat_minor": 5
}
