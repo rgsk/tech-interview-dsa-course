{
 "cells": [
  {
   "cell_type": "code",
   "execution_count": 20,
   "id": "ea15c11f",
   "metadata": {},
   "outputs": [],
   "source": [
    "from typing import List"
   ]
  },
  {
   "cell_type": "code",
   "execution_count": 21,
   "id": "02d47bbf",
   "metadata": {},
   "outputs": [],
   "source": [
    "from bisect import bisect_left\n",
    "\n",
    "class Solution:\n",
    "    def getInsertPosition(self, arr: List[int], key: int) -> int:\n",
    "        return bisect_left(arr, key)"
   ]
  },
  {
   "cell_type": "code",
   "execution_count": 22,
   "id": "3530acb0",
   "metadata": {},
   "outputs": [],
   "source": [
    "sol = Solution()"
   ]
  },
  {
   "cell_type": "code",
   "execution_count": 23,
   "id": "00b6a4f0",
   "metadata": {},
   "outputs": [
    {
     "data": {
      "text/plain": [
       "2"
      ]
     },
     "execution_count": 23,
     "metadata": {},
     "output_type": "execute_result"
    }
   ],
   "source": [
    "arr = [1, 2, 3, 4, 5]\n",
    "key = 3\n",
    "sol.getInsertPosition(arr, key)"
   ]
  },
  {
   "cell_type": "code",
   "execution_count": 24,
   "id": "d9e3c46e",
   "metadata": {},
   "outputs": [
    {
     "data": {
      "text/plain": [
       "3"
      ]
     },
     "execution_count": 24,
     "metadata": {},
     "output_type": "execute_result"
    }
   ],
   "source": [
    "arr = [1, 2, 3, 5]\n",
    "key = 4\n",
    "sol.getInsertPosition(arr, key)"
   ]
  },
  {
   "cell_type": "code",
   "execution_count": 25,
   "id": "22cfd74b",
   "metadata": {},
   "outputs": [
    {
     "data": {
      "text/plain": [
       "0"
      ]
     },
     "execution_count": 25,
     "metadata": {},
     "output_type": "execute_result"
    }
   ],
   "source": [
    "arr = [1, 2, 3, 4, 5]\n",
    "key = -100\n",
    "sol.getInsertPosition(arr, key)"
   ]
  },
  {
   "cell_type": "code",
   "execution_count": 26,
   "id": "a903f5a9",
   "metadata": {},
   "outputs": [
    {
     "data": {
      "text/plain": [
       "5"
      ]
     },
     "execution_count": 26,
     "metadata": {},
     "output_type": "execute_result"
    }
   ],
   "source": [
    "arr = [1, 2, 3, 4, 5]\n",
    "key = 6\n",
    "sol.getInsertPosition(arr, key)"
   ]
  },
  {
   "cell_type": "code",
   "execution_count": 27,
   "id": "48248b6f",
   "metadata": {},
   "outputs": [],
   "source": [
    "def left_binary_search(nums: List[int], target: int) -> int:\n",
    "    left = 0\n",
    "    right = len(nums)\n",
    "    while left < right:\n",
    "        mid = (left + right) // 2\n",
    "        if nums[mid] < target:\n",
    "            left = mid + 1\n",
    "        else:\n",
    "            right = mid\n",
    "    return left\n",
    "\n",
    "class Solution:\n",
    "    def getInsertPosition(self, arr: List[int], key: int) -> int:\n",
    "        return left_binary_search(arr, key)"
   ]
  },
  {
   "cell_type": "code",
   "execution_count": 28,
   "id": "870aa93f",
   "metadata": {},
   "outputs": [
    {
     "data": {
      "text/plain": [
       "2"
      ]
     },
     "execution_count": 28,
     "metadata": {},
     "output_type": "execute_result"
    }
   ],
   "source": [
    "arr = [1, 2, 3, 4, 5]\n",
    "key = 3\n",
    "sol.getInsertPosition(arr, key)"
   ]
  },
  {
   "cell_type": "code",
   "execution_count": 29,
   "id": "4dadeb87",
   "metadata": {},
   "outputs": [
    {
     "data": {
      "text/plain": [
       "3"
      ]
     },
     "execution_count": 29,
     "metadata": {},
     "output_type": "execute_result"
    }
   ],
   "source": [
    "arr = [1, 2, 3, 5]\n",
    "key = 4\n",
    "sol.getInsertPosition(arr, key)"
   ]
  },
  {
   "cell_type": "code",
   "execution_count": 30,
   "id": "57944261",
   "metadata": {},
   "outputs": [
    {
     "data": {
      "text/plain": [
       "0"
      ]
     },
     "execution_count": 30,
     "metadata": {},
     "output_type": "execute_result"
    }
   ],
   "source": [
    "arr = [1, 2, 3, 4, 5]\n",
    "key = -100\n",
    "sol.getInsertPosition(arr, key)"
   ]
  },
  {
   "cell_type": "code",
   "execution_count": 31,
   "id": "488d48cd",
   "metadata": {},
   "outputs": [
    {
     "data": {
      "text/plain": [
       "5"
      ]
     },
     "execution_count": 31,
     "metadata": {},
     "output_type": "execute_result"
    }
   ],
   "source": [
    "arr = [1, 2, 3, 4, 5]\n",
    "key = 6\n",
    "sol.getInsertPosition(arr, key)"
   ]
  }
 ],
 "metadata": {
  "kernelspec": {
   "display_name": "venv",
   "language": "python",
   "name": "python3"
  },
  "language_info": {
   "codemirror_mode": {
    "name": "ipython",
    "version": 3
   },
   "file_extension": ".py",
   "mimetype": "text/x-python",
   "name": "python",
   "nbconvert_exporter": "python",
   "pygments_lexer": "ipython3",
   "version": "3.11.3"
  }
 },
 "nbformat": 4,
 "nbformat_minor": 5
}
