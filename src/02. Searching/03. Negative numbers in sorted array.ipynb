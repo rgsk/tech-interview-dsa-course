{
 "cells": [
  {
   "cell_type": "code",
   "execution_count": 1,
   "id": "fb5069da",
   "metadata": {},
   "outputs": [],
   "source": [
    "from typing import List"
   ]
  },
  {
   "cell_type": "code",
   "execution_count": 2,
   "id": "16341df2",
   "metadata": {},
   "outputs": [],
   "source": [
    "from bisect import bisect_left\n",
    "\n",
    "class Solution:\n",
    "\tdef getNegativeNumbersCount(self, arr: List[int]) -> int:\n",
    "\t\treturn bisect_left(arr, 0)"
   ]
  },
  {
   "cell_type": "code",
   "execution_count": 3,
   "id": "6f576305",
   "metadata": {},
   "outputs": [
    {
     "data": {
      "text/plain": [
       "3"
      ]
     },
     "execution_count": 3,
     "metadata": {},
     "output_type": "execute_result"
    }
   ],
   "source": [
    "arr = [-5, -3, -2, 3, 4, 6, 7, 8]\n",
    "sol = Solution()\n",
    "sol.getNegativeNumbersCount(arr)"
   ]
  },
  {
   "cell_type": "code",
   "execution_count": 4,
   "id": "6d2d3f3c",
   "metadata": {},
   "outputs": [
    {
     "data": {
      "text/plain": [
       "0"
      ]
     },
     "execution_count": 4,
     "metadata": {},
     "output_type": "execute_result"
    }
   ],
   "source": [
    "arr = [0, 1, 2, 3, 4, 6, 7, 8]\n",
    "sol = Solution()\n",
    "sol.getNegativeNumbersCount(arr)"
   ]
  },
  {
   "cell_type": "code",
   "execution_count": 5,
   "id": "cfae52c1",
   "metadata": {},
   "outputs": [],
   "source": [
    "def left_binary_search(nums: List[int], target: int) -> int:\n",
    "    left = 0\n",
    "    right = len(nums) - 1\n",
    "    while left < right:\n",
    "        mid = (left + right) // 2\n",
    "        if nums[mid] < target:\n",
    "            left = mid + 1\n",
    "        else:\n",
    "            right = mid\n",
    "    return left\n",
    "\n",
    "class Solution:\n",
    "\tdef getNegativeNumbersCount(self, arr: List[int]) -> int:\n",
    "\t\treturn left_binary_search(arr, 0)"
   ]
  },
  {
   "cell_type": "code",
   "execution_count": 6,
   "id": "254341c3",
   "metadata": {},
   "outputs": [
    {
     "data": {
      "text/plain": [
       "3"
      ]
     },
     "execution_count": 6,
     "metadata": {},
     "output_type": "execute_result"
    }
   ],
   "source": [
    "arr = [-5, -3, -2, 3, 4, 6, 7, 8]\n",
    "sol = Solution()\n",
    "sol.getNegativeNumbersCount(arr)"
   ]
  },
  {
   "cell_type": "code",
   "execution_count": 7,
   "id": "e38f89e7",
   "metadata": {},
   "outputs": [
    {
     "data": {
      "text/plain": [
       "0"
      ]
     },
     "execution_count": 7,
     "metadata": {},
     "output_type": "execute_result"
    }
   ],
   "source": [
    "arr = [0, 1, 2, 3, 4, 6, 7, 8]\n",
    "sol = Solution()\n",
    "sol.getNegativeNumbersCount(arr)"
   ]
  }
 ],
 "metadata": {
  "kernelspec": {
   "display_name": "venv",
   "language": "python",
   "name": "python3"
  },
  "language_info": {
   "codemirror_mode": {
    "name": "ipython",
    "version": 3
   },
   "file_extension": ".py",
   "mimetype": "text/x-python",
   "name": "python",
   "nbconvert_exporter": "python",
   "pygments_lexer": "ipython3",
   "version": "3.11.3"
  }
 },
 "nbformat": 4,
 "nbformat_minor": 5
}
