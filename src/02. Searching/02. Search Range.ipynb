{
 "cells": [
  {
   "cell_type": "code",
   "execution_count": 19,
   "id": "2e17415b",
   "metadata": {},
   "outputs": [],
   "source": [
    "from typing import List"
   ]
  },
  {
   "cell_type": "code",
   "execution_count": 20,
   "id": "88cec750",
   "metadata": {},
   "outputs": [],
   "source": [
    "from bisect import bisect_left, bisect_right\n",
    "\n",
    "class Solution:\n",
    "    def searchRange(self, arr: List[int], key: int) -> List[int]:\n",
    "        index = bisect_left(arr, key)\n",
    "        l = index if index < len(arr) and arr[index] == key else -1\n",
    "        if l == -1:\n",
    "            return [-1, -1]\n",
    "        r = bisect_right(arr, key) - 1\n",
    "        return [l, r]"
   ]
  },
  {
   "cell_type": "code",
   "execution_count": 21,
   "id": "13ce8802",
   "metadata": {},
   "outputs": [
    {
     "data": {
      "text/plain": [
       "[2, 4]"
      ]
     },
     "execution_count": 21,
     "metadata": {},
     "output_type": "execute_result"
    }
   ],
   "source": [
    "arr = [1, 2, 3, 3, 3, 4, 4, 5]\n",
    "key = 3\n",
    "sol = Solution()\n",
    "sol.searchRange(arr, key)"
   ]
  },
  {
   "cell_type": "code",
   "execution_count": 22,
   "id": "5fa83438",
   "metadata": {},
   "outputs": [
    {
     "data": {
      "text/plain": [
       "[7, 7]"
      ]
     },
     "execution_count": 22,
     "metadata": {},
     "output_type": "execute_result"
    }
   ],
   "source": [
    "arr = [1, 2, 3, 3, 3, 4, 4, 5]\n",
    "key = 5\n",
    "sol = Solution()\n",
    "sol.searchRange(arr, key)"
   ]
  },
  {
   "cell_type": "code",
   "execution_count": 23,
   "id": "cf91bdff",
   "metadata": {},
   "outputs": [
    {
     "data": {
      "text/plain": [
       "[-1, -1]"
      ]
     },
     "execution_count": 23,
     "metadata": {},
     "output_type": "execute_result"
    }
   ],
   "source": [
    "arr = [1, 2, 3, 3, 3, 4, 4, 5]\n",
    "key = 6\n",
    "sol = Solution()\n",
    "sol.searchRange(arr, key)"
   ]
  },
  {
   "cell_type": "code",
   "execution_count": 24,
   "id": "7bba2ba4",
   "metadata": {},
   "outputs": [],
   "source": [
    "from math import ceil\n",
    "\n",
    "\n",
    "def left_binary_search(nums: List[int], target: int) -> int:\n",
    "    left = 0\n",
    "    right = len(nums) - 1\n",
    "    while left < right:\n",
    "        mid = (left + right) // 2\n",
    "        if nums[mid] < target:\n",
    "            left = mid + 1\n",
    "        else:\n",
    "            right = mid\n",
    "    return left if nums[left] == target else -1\n",
    "\n",
    "def right_binary_search(nums: List[int], target: int) -> int:\n",
    "    low = 0\n",
    "    high = len(nums) - 1\n",
    "    while low < high:\n",
    "        mid = ceil((low + high) / 2)\n",
    "        if nums[mid] > target:\n",
    "            high = mid - 1\n",
    "        else:\n",
    "            low = mid\n",
    "    return low if nums[low] == target else -1\n",
    "\n",
    "class Solution:\n",
    "    def searchRange(self, arr: List[int], key: int) -> List[int]:\n",
    "        l = left_binary_search(arr, key)\n",
    "        if l == -1:\n",
    "            return [-1, -1]\n",
    "        r = right_binary_search(arr, key)\n",
    "        return [l, r]"
   ]
  },
  {
   "cell_type": "code",
   "execution_count": 25,
   "id": "e737ceda",
   "metadata": {},
   "outputs": [
    {
     "data": {
      "text/plain": [
       "[2, 4]"
      ]
     },
     "execution_count": 25,
     "metadata": {},
     "output_type": "execute_result"
    }
   ],
   "source": [
    "arr = [1, 2, 3, 3, 3, 4, 4, 5]\n",
    "key = 3\n",
    "sol = Solution()\n",
    "sol.searchRange(arr, key)"
   ]
  },
  {
   "cell_type": "code",
   "execution_count": 26,
   "id": "68c1c1cd",
   "metadata": {},
   "outputs": [
    {
     "data": {
      "text/plain": [
       "[7, 7]"
      ]
     },
     "execution_count": 26,
     "metadata": {},
     "output_type": "execute_result"
    }
   ],
   "source": [
    "arr = [1, 2, 3, 3, 3, 4, 4, 5]\n",
    "key = 5\n",
    "sol = Solution()\n",
    "sol.searchRange(arr, key)"
   ]
  },
  {
   "cell_type": "code",
   "execution_count": 27,
   "id": "f9106de0",
   "metadata": {},
   "outputs": [
    {
     "data": {
      "text/plain": [
       "[-1, -1]"
      ]
     },
     "execution_count": 27,
     "metadata": {},
     "output_type": "execute_result"
    }
   ],
   "source": [
    "arr = [1, 2, 3, 3, 3, 4, 4, 5]\n",
    "key = 6\n",
    "sol = Solution()\n",
    "sol.searchRange(arr, key)"
   ]
  }
 ],
 "metadata": {
  "kernelspec": {
   "display_name": "venv",
   "language": "python",
   "name": "python3"
  },
  "language_info": {
   "codemirror_mode": {
    "name": "ipython",
    "version": 3
   },
   "file_extension": ".py",
   "mimetype": "text/x-python",
   "name": "python",
   "nbconvert_exporter": "python",
   "pygments_lexer": "ipython3",
   "version": "3.11.3"
  }
 },
 "nbformat": 4,
 "nbformat_minor": 5
}
