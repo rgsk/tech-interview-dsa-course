{
 "cells": [
  {
   "cell_type": "code",
   "execution_count": 1,
   "id": "4632cada",
   "metadata": {},
   "outputs": [],
   "source": [
    "from bisect import bisect_right\n",
    "from typing import List\n",
    "\n",
    "class Solution:\n",
    "    def calculateMedianOfMatrix(self, matrix: List[List[int]]) -> int:\n",
    "        n = len(matrix)\n",
    "        m = len(matrix[0])\n",
    "        \n",
    "        # Find the minimum and maximum elements in the matrix\n",
    "        left = min(row[0] for row in matrix)\n",
    "        right = max(row[-1] for row in matrix)\n",
    "\n",
    "        desired = (n * m + 1) // 2\n",
    "\n",
    "        # Binary search to find the median\n",
    "        while left < right:\n",
    "            mid = (left + right) // 2\n",
    "            place = 0\n",
    "\n",
    "            # Count elements <= mid in each row using binary search\n",
    "            for row in matrix:\n",
    "                place += bisect_right(row, mid)\n",
    "\n",
    "            if place < desired:\n",
    "                left = mid + 1\n",
    "            else:\n",
    "                right = mid\n",
    "\n",
    "        return left\n"
   ]
  },
  {
   "cell_type": "code",
   "execution_count": 2,
   "id": "dfa3c3fe",
   "metadata": {},
   "outputs": [
    {
     "data": {
      "text/plain": [
       "2"
      ]
     },
     "execution_count": 2,
     "metadata": {},
     "output_type": "execute_result"
    }
   ],
   "source": [
    "matrix = [\n",
    "    [1, 2, 3],\n",
    "    [3, 3, 4],\n",
    "    [1, 1, 2]\n",
    "]\n",
    "sol = Solution()\n",
    "sol.calculateMedianOfMatrix(matrix)"
   ]
  }
 ],
 "metadata": {
  "kernelspec": {
   "display_name": "venv",
   "language": "python",
   "name": "python3"
  },
  "language_info": {
   "codemirror_mode": {
    "name": "ipython",
    "version": 3
   },
   "file_extension": ".py",
   "mimetype": "text/x-python",
   "name": "python",
   "nbconvert_exporter": "python",
   "pygments_lexer": "ipython3",
   "version": "3.11.3"
  }
 },
 "nbformat": 4,
 "nbformat_minor": 5
}
