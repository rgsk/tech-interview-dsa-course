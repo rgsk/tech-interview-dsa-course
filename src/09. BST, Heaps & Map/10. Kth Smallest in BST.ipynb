{
 "cells": [
  {
   "cell_type": "code",
   "execution_count": null,
   "id": "2993376b",
   "metadata": {},
   "outputs": [],
   "source": [
    "class Node:\n",
    "\tdef __init__(self, data=0, left=None, right=None):\n",
    "\t\tself.data = data\n",
    "\t\tself.left = left\n",
    "\t\tself.right = right"
   ]
  },
  {
   "cell_type": "code",
   "execution_count": null,
   "id": "6ad4cd22",
   "metadata": {},
   "outputs": [],
   "source": [
    "\n",
    "from typing import Optional\n",
    "\n",
    "\n",
    "class Solution:\n",
    "    def findKthSmallest(self, A: Optional[Node], k: int) -> int:\n",
    "        # add your logic here\n",
    "        i = 0\n",
    "\n",
    "        def helper(temp):\n",
    "            nonlocal i\n",
    "            if temp:\n",
    "                v = helper(temp.left)\n",
    "                if v != None:\n",
    "                    return v\n",
    "                i += 1\n",
    "                if i == k:\n",
    "                    return temp.data\n",
    "                v = helper(temp.right)\n",
    "                if v != None:\n",
    "                    return v\n",
    "        return helper(A)\n"
   ]
  }
 ],
 "metadata": {
  "language_info": {
   "name": "python"
  }
 },
 "nbformat": 4,
 "nbformat_minor": 5
}
