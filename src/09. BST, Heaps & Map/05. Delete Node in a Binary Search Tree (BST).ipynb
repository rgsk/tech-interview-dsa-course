{
 "cells": [
  {
   "cell_type": "code",
   "execution_count": null,
   "id": "1dd2abc5",
   "metadata": {},
   "outputs": [],
   "source": [
    "class Node:\n",
    "\tdef __init__(self, data=0, left=None, right=None):\n",
    "\t\tself.data = data\n",
    "\t\tself.left = left\n",
    "\t\tself.right = right"
   ]
  },
  {
   "cell_type": "code",
   "execution_count": null,
   "id": "9e62c8a8",
   "metadata": {},
   "outputs": [],
   "source": [
    "from typing import Optional\n",
    "\n",
    "\n",
    "class Solution:\n",
    "    def removeFromBst(self, root: Optional[Node], key: int) -> Optional[Node]:\n",
    "        # add your logic here\n",
    "        if root:\n",
    "            if root.data == key:\n",
    "                if root.left and root.left.right and root.right:\n",
    "                    temp = root.right\n",
    "                    while temp.left:\n",
    "                        temp = temp.left\n",
    "\n",
    "                    temp.left = root.left.right\n",
    "                if root.right:\n",
    "                    root.left.right = root.right\n",
    "                return root.left\n",
    "            elif key < root.data:\n",
    "                root.left = self.removeFromBst(root.left, key)\n",
    "            else:\n",
    "                root.right = self.removeFromBst(root.right, key)\n",
    "            return root\n",
    "        return None"
   ]
  },
  {
   "cell_type": "code",
   "execution_count": null,
   "id": "b6831223",
   "metadata": {},
   "outputs": [],
   "source": [
    "# below solution is for binary trees, works for bst too, but slower\n",
    "\n",
    "class Solution:\n",
    "    def removeFromBst(self, root: Optional[Node], key: int) -> Optional[Node]:\n",
    "        # add your logic here\n",
    "        if root:\n",
    "            if root.data == key:\n",
    "                if root.left and root.right and root.left.right:\n",
    "                    temp = root.right\n",
    "                    while temp.left:\n",
    "                        temp = temp.left\n",
    "\n",
    "                    temp.left = root.left.right\n",
    "                if root.right:\n",
    "                    root.left.right = root.right\n",
    "                return root.left\n",
    "            root.left = self.removeFromBst(root.left, key)\n",
    "            root.right = self.removeFromBst(root.right, key)\n",
    "            return root\n",
    "        return None\n"
   ]
  }
 ],
 "metadata": {
  "language_info": {
   "name": "python"
  }
 },
 "nbformat": 4,
 "nbformat_minor": 5
}
