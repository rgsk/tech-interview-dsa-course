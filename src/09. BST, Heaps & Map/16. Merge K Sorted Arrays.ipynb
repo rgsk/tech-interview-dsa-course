{
 "cells": [
  {
   "cell_type": "code",
   "execution_count": 1,
   "id": "fbb0278f",
   "metadata": {},
   "outputs": [],
   "source": [
    "import heapq\n",
    "from typing import List\n",
    "\n",
    "class Solution:\n",
    "    def mergeKArrays(self, arr: List[List[int]]) -> List[int]:\n",
    "        heap = []\n",
    "        result = []\n",
    "\n",
    "        # Initialize heap with the first element from each array\n",
    "        for i in range(len(arr)):\n",
    "            if arr[i]:\n",
    "                heapq.heappush(heap, (arr[i][0], i, 0))  # (value, array_index, element_index)\n",
    "\n",
    "        # Extract the smallest elements and push the next elements from the same array\n",
    "        while heap:\n",
    "            val, row, col = heapq.heappop(heap)\n",
    "            result.append(val)\n",
    "            if col + 1 < len(arr[row]):\n",
    "                heapq.heappush(heap, (arr[row][col + 1], row, col + 1))\n",
    "\n",
    "        return result"
   ]
  },
  {
   "cell_type": "code",
   "execution_count": 2,
   "id": "ed774707",
   "metadata": {},
   "outputs": [
    {
     "data": {
      "text/plain": [
       "[1, 2, 3, 3, 3, 4, 6, 7, 7, 8, 9, 10]"
      ]
     },
     "execution_count": 2,
     "metadata": {},
     "output_type": "execute_result"
    }
   ],
   "source": [
    "arr = [\n",
    "    [1, 3, 7, 10],\n",
    "    [3, 3, 6, 8],\n",
    "    [2, 4, 7, 9]\n",
    "]\n",
    "sol = Solution()\n",
    "sol.mergeKArrays(arr)"
   ]
  }
 ],
 "metadata": {
  "kernelspec": {
   "display_name": "venv",
   "language": "python",
   "name": "python3"
  },
  "language_info": {
   "codemirror_mode": {
    "name": "ipython",
    "version": 3
   },
   "file_extension": ".py",
   "mimetype": "text/x-python",
   "name": "python",
   "nbconvert_exporter": "python",
   "pygments_lexer": "ipython3",
   "version": "3.11.3"
  }
 },
 "nbformat": 4,
 "nbformat_minor": 5
}
