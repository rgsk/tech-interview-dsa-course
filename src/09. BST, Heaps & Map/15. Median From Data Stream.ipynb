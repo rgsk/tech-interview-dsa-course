{
 "cells": [
  {
   "cell_type": "code",
   "execution_count": null,
   "id": "5b71b051",
   "metadata": {},
   "outputs": [],
   "source": [
    "import heapq\n",
    "\n",
    "class MedianCalculator:\n",
    "\n",
    "    def __init__(self):\n",
    "        # max-heap (we invert values to simulate a max-heap in Python)\n",
    "        self.small = []\n",
    "        # min-heap\n",
    "        self.large = []\n",
    "\n",
    "    def addNum(self, num: int) -> None:\n",
    "        # Step 1: Add to max-heap (small), but as Python only has min-heap, we push -num\n",
    "        heapq.heappush(self.small, -num)\n",
    "        \n",
    "        # Step 2: Balance the heaps, by ensuring the smallest element of `large` is greater than the largest element of `small`\n",
    "        if self.small and self.large and (-self.small[0] > self.large[0]):\n",
    "            heapq.heappush(self.large, -heapq.heappop(self.small))\n",
    "        \n",
    "        # Step 3: Ensure the size property: len(self.small) >= len(self.large)\n",
    "        if len(self.small) > len(self.large) + 1:\n",
    "            heapq.heappush(self.large, -heapq.heappop(self.small))\n",
    "        elif len(self.large) > len(self.small):\n",
    "            heapq.heappush(self.small, -heapq.heappop(self.large))\n",
    "\n",
    "    def getMedian(self) -> float:\n",
    "        # If the heaps are of different sizes, the max-heap (small) holds the median\n",
    "        if len(self.small) > len(self.large):\n",
    "            return -self.small[0]\n",
    "        else:\n",
    "            # If heaps are of equal size, the median is the average of the two roots\n",
    "            return (-self.small[0] + self.large[0]) / 2"
   ]
  }
 ],
 "metadata": {
  "language_info": {
   "name": "python"
  }
 },
 "nbformat": 4,
 "nbformat_minor": 5
}
