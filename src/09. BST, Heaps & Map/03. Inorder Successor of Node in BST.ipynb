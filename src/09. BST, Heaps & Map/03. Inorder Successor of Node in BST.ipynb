{
 "cells": [
  {
   "cell_type": "code",
   "execution_count": null,
   "id": "66f51b28",
   "metadata": {},
   "outputs": [],
   "source": [
    "class Node:\n",
    "\tdef __init__(self, data=0, left=None, right=None):\n",
    "\t\tself.data = data\n",
    "\t\tself.left = left\n",
    "\t\tself.right = right\n"
   ]
  },
  {
   "cell_type": "code",
   "execution_count": null,
   "id": "e234bb96",
   "metadata": {},
   "outputs": [],
   "source": [
    "\n",
    "from typing import Optional\n",
    "\n",
    "\n",
    "class Solution:\n",
    "    def findSuccessor(self, root: Optional[Node], p: Optional[Node]) -> Optional[Node]:\n",
    "        # add your logic here\n",
    "        ans = None\n",
    "\n",
    "        def helper(root):\n",
    "            nonlocal ans\n",
    "            if root:\n",
    "                if root.data <= p.data:\n",
    "                    helper(root.right)\n",
    "                else:\n",
    "                    ans = root\n",
    "                    helper(root.left)\n",
    "        helper(root)\n",
    "        return ans"
   ]
  },
  {
   "cell_type": "code",
   "execution_count": null,
   "id": "28faa708",
   "metadata": {},
   "outputs": [],
   "source": [
    "# below solution is for binary trees, works for bst too, but slower\n",
    "\n",
    "class Solution:\n",
    "    def findSuccessor(self, root: Optional[Node], p: Optional[Node]) -> Optional[Node]:\n",
    "        # add your logic here\n",
    "        found = False\n",
    "        ans = None\n",
    "\n",
    "        def inorder(root):\n",
    "            nonlocal found, ans\n",
    "            if root:\n",
    "                inorder(root.left)\n",
    "                if ans:\n",
    "                    return\n",
    "                if found:\n",
    "                    ans = root\n",
    "                    return\n",
    "\n",
    "                if p == root:\n",
    "                    found = True\n",
    "                inorder(root.right)\n",
    "        inorder(root)\n",
    "        return ans\n"
   ]
  }
 ],
 "metadata": {
  "language_info": {
   "name": "python"
  }
 },
 "nbformat": 4,
 "nbformat_minor": 5
}
