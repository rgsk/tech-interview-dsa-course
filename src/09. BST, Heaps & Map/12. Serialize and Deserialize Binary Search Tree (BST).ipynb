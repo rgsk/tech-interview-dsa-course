{
 "cells": [
  {
   "cell_type": "code",
   "execution_count": null,
   "id": "157ffdb4",
   "metadata": {},
   "outputs": [],
   "source": [
    "\n",
    "class Node:\n",
    "\tdef __init__(self, data=0, left=None, right=None):\n",
    "\t\tself.data = data\n",
    "\t\tself.left = left\n",
    "\t\tself.right = right"
   ]
  },
  {
   "cell_type": "code",
   "execution_count": null,
   "id": "488d3782",
   "metadata": {},
   "outputs": [],
   "source": [
    "from typing import Optional\n",
    "\n",
    "\n",
    "class Solution:\n",
    "    def serialize(self, root: Optional[Node]) -> str:\n",
    "        def preorder(node):\n",
    "            if not node:\n",
    "                return []\n",
    "            return [str(node.data)] + preorder(node.left) + preorder(node.right)\n",
    "        \n",
    "        return ' '.join(preorder(root))\n",
    "\n",
    "    def deserialize(self, serializedTree: str) -> Optional[Node]:\n",
    "        if not serializedTree:\n",
    "            return None\n",
    "        \n",
    "        values = list(map(int, serializedTree.split()))\n",
    "        index = 0\n",
    "\n",
    "        def build(lower=float('-inf'), upper=float('inf')):\n",
    "            nonlocal index\n",
    "            if index == len(values):\n",
    "                return None\n",
    "            \n",
    "            val = values[index]\n",
    "            if not (lower < val < upper):\n",
    "                return None\n",
    "\n",
    "            index += 1\n",
    "            node = Node(val)\n",
    "            node.left = build(lower, val)\n",
    "            node.right = build(val, upper)\n",
    "            return node\n",
    "\n",
    "        return build()\n"
   ]
  }
 ],
 "metadata": {
  "language_info": {
   "name": "python"
  }
 },
 "nbformat": 4,
 "nbformat_minor": 5
}
