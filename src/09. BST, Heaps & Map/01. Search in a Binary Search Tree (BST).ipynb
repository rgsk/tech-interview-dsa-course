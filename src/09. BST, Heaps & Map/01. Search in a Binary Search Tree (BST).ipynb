{
 "cells": [
  {
   "cell_type": "code",
   "execution_count": null,
   "id": "0d9a80bd",
   "metadata": {},
   "outputs": [],
   "source": [
    "class Node:\n",
    "\tdef __init__(self, data=0, left=None, right=None):\n",
    "\t\tself.data = data\n",
    "\t\tself.left = left\n",
    "\t\tself.right = right"
   ]
  },
  {
   "cell_type": "code",
   "execution_count": null,
   "id": "c3a719d8",
   "metadata": {},
   "outputs": [],
   "source": [
    "from typing import Optional\n",
    "\n",
    "\n",
    "class Solution:\n",
    "\tdef searchBst(self, root: Optional[Node], key: int) -> Optional[Node]:\n",
    "\t\t# add your logic here\n",
    "\t\tif root:\n",
    "\t\t\tif root.data == key:\n",
    "\t\t\t\treturn root\n",
    "\t\t\telif key < root.data:\n",
    "\t\t\t\treturn self.searchBst(root.left, key)\n",
    "\t\t\telse:\n",
    "\t\t\t\treturn self.searchBst(root.right, key)"
   ]
  }
 ],
 "metadata": {
  "language_info": {
   "name": "python"
  }
 },
 "nbformat": 4,
 "nbformat_minor": 5
}
