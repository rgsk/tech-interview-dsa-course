{
 "cells": [
  {
   "cell_type": "code",
   "execution_count": null,
   "id": "8aa2fefd",
   "metadata": {},
   "outputs": [],
   "source": [
    "class Node:\n",
    "\tdef __init__(self, data=0, left=None, right=None):\n",
    "\t\tself.data = data\n",
    "\t\tself.left = left\n",
    "\t\tself.right = right"
   ]
  },
  {
   "cell_type": "code",
   "execution_count": null,
   "id": "c2512307",
   "metadata": {},
   "outputs": [],
   "source": [
    "from typing import Optional\n",
    "\n",
    "\n",
    "class Solution:\n",
    "\tdef isBst(self, root: Optional[Node]) -> bool:\n",
    "\t\t# add your logic here\n",
    "\t\tdef helper(root, minimum, maximum):\n",
    "\t\t\tif root:\n",
    "\t\t\t\tif minimum < root.data < maximum:\n",
    "\t\t\t\t\tpass\n",
    "\t\t\t\telse:\n",
    "\t\t\t\t\treturn False\n",
    "\t\t\t\treturn helper(root.left, minimum, root.data) and helper(root.right, root.data, maximum)\n",
    "\t\t\treturn True\n",
    "\t\treturn helper(root, 0, 10**9+1)"
   ]
  }
 ],
 "metadata": {
  "language_info": {
   "name": "python"
  }
 },
 "nbformat": 4,
 "nbformat_minor": 5
}
