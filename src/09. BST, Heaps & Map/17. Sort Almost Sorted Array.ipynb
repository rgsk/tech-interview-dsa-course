{
 "cells": [
  {
   "cell_type": "code",
   "execution_count": 1,
   "id": "91f996ca",
   "metadata": {},
   "outputs": [],
   "source": [
    "import heapq\n",
    "from typing import List\n",
    "\n",
    "class Solution:\n",
    "    def sortAlmostSorted(self, A: List[int], k: int) -> List[int]:\n",
    "        heap = []\n",
    "        result = []\n",
    "\n",
    "        # Step 1: Build a heap with the first k+1 elements\n",
    "        for i in range(min(k + 1, len(A))):\n",
    "            heapq.heappush(heap, A[i])\n",
    "\n",
    "        # Step 2: Process the remaining elements\n",
    "        for i in range(k + 1, len(A)):\n",
    "            result.append(heapq.heappop(heap))\n",
    "            heapq.heappush(heap, A[i])\n",
    "\n",
    "        # Step 3: Extract the remaining elements from heap\n",
    "        while heap:\n",
    "            result.append(heapq.heappop(heap))\n",
    "\n",
    "        return result"
   ]
  },
  {
   "cell_type": "code",
   "execution_count": 2,
   "id": "b3860bf2",
   "metadata": {},
   "outputs": [
    {
     "data": {
      "text/plain": [
       "[1, 2, 3, 4, 5, 6, 7, 8, 9, 10]"
      ]
     },
     "execution_count": 2,
     "metadata": {},
     "output_type": "execute_result"
    }
   ],
   "source": [
    "A = [2, 4, 1, 5, 3, 7, 8, 6, 10, 9]\n",
    "k = 2\n",
    "sol = Solution()\n",
    "sol.sortAlmostSorted(A, k)"
   ]
  }
 ],
 "metadata": {
  "kernelspec": {
   "display_name": "venv",
   "language": "python",
   "name": "python3"
  },
  "language_info": {
   "codemirror_mode": {
    "name": "ipython",
    "version": 3
   },
   "file_extension": ".py",
   "mimetype": "text/x-python",
   "name": "python",
   "nbconvert_exporter": "python",
   "pygments_lexer": "ipython3",
   "version": "3.11.3"
  }
 },
 "nbformat": 4,
 "nbformat_minor": 5
}
