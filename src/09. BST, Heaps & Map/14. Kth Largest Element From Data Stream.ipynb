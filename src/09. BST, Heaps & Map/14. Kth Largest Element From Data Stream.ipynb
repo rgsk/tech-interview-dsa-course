{
 "cells": [
  {
   "cell_type": "code",
   "execution_count": null,
   "id": "e69fb3a5",
   "metadata": {},
   "outputs": [],
   "source": [
    "import heapq\n",
    "from typing import List\n",
    "\n",
    "\n",
    "class KthLargest:\n",
    "    def __init__(self, k: int):\n",
    "        \"\"\"initialize your data structure here.\"\"\"\n",
    "        self.k = k\n",
    "        self.heap: List[int] = []\n",
    "\n",
    "    def add(self, num: int) -> int:\n",
    "        if len(self.heap) < self.k:\n",
    "            heapq.heappush(self.heap, num)\n",
    "            if len(self.heap) < self.k:\n",
    "                return -1\n",
    "            else:\n",
    "                return self.heap[0]\n",
    "\n",
    "        if num > self.heap[0]:\n",
    "            heapq.heappop(self.heap)\n",
    "            heapq.heappush(self.heap, num)\n",
    "        return self.heap[0]"
   ]
  }
 ],
 "metadata": {
  "language_info": {
   "name": "python"
  }
 },
 "nbformat": 4,
 "nbformat_minor": 5
}
