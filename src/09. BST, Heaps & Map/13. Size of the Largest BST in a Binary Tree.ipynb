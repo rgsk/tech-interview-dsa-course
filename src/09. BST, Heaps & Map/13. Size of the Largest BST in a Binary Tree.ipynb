{
 "cells": [
  {
   "cell_type": "code",
   "execution_count": null,
   "id": "5d061112",
   "metadata": {},
   "outputs": [],
   "source": [
    "class Node:\n",
    "\tdef __init__(self, data=0, left=None, right=None):\n",
    "\t\tself.data = data\n",
    "\t\tself.left = left\n",
    "\t\tself.right = right"
   ]
  },
  {
   "cell_type": "code",
   "execution_count": null,
   "id": "96c73d9a",
   "metadata": {},
   "outputs": [],
   "source": [
    "from typing import Optional\n",
    "\n",
    "\n",
    "class Solution:\n",
    "    def getLargestBstSize(self, root: Optional[Node]) -> int:\n",
    "        self.max_size = 0\n",
    "\n",
    "        def dfs(node):\n",
    "            if not node:\n",
    "                return (True, float('inf'), float('-inf'), 0)  # (isBST, min, max, size)\n",
    "\n",
    "            left_is_bst, left_min, left_max, left_size = dfs(node.left)\n",
    "            right_is_bst, right_min, right_max, right_size = dfs(node.right)\n",
    "\n",
    "            # Check if current subtree is BST\n",
    "            if left_is_bst and right_is_bst and left_max < node.data < right_min:\n",
    "                size = left_size + right_size + 1\n",
    "                self.max_size = max(self.max_size, size)\n",
    "                return (True, min(node.data, left_min), max(node.data, right_max), size)\n",
    "            else:\n",
    "                return (False, 0, 0, 0)\n",
    "\n",
    "        dfs(root)\n",
    "        return self.max_size"
   ]
  }
 ],
 "metadata": {
  "language_info": {
   "name": "python"
  }
 },
 "nbformat": 4,
 "nbformat_minor": 5
}
