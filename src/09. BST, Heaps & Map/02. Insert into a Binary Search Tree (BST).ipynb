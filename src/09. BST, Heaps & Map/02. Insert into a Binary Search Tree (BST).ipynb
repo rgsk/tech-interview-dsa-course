{
 "cells": [
  {
   "cell_type": "code",
   "execution_count": null,
   "id": "b8dd427b",
   "metadata": {},
   "outputs": [],
   "source": [
    "class Node:\n",
    "\tdef __init__(self, data=0, left=None, right=None):\n",
    "\t\tself.data = data\n",
    "\t\tself.left = left\n",
    "\t\tself.right = right"
   ]
  },
  {
   "cell_type": "code",
   "execution_count": null,
   "id": "c36d4f96",
   "metadata": {},
   "outputs": [],
   "source": [
    "from typing import Optional\n",
    "\n",
    "\n",
    "class Solution:\n",
    "    def insertBst(self, root: Optional[Node], key: int) -> Optional[Node]:\n",
    "        if root:\n",
    "            if key < root.data:\n",
    "                if not root.left:\n",
    "                    root.left = Node(key)\n",
    "                else:\n",
    "                    self.insertBst(root.left, key)\n",
    "            else:\n",
    "                if not root.right:\n",
    "                    root.right = Node(key)\n",
    "                else:\n",
    "                    self.insertBst(root.right, key)\n",
    "        return root"
   ]
  }
 ],
 "metadata": {
  "language_info": {
   "name": "python"
  }
 },
 "nbformat": 4,
 "nbformat_minor": 5
}
