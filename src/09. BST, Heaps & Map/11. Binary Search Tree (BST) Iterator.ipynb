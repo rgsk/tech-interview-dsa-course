{
 "cells": [
  {
   "cell_type": "code",
   "execution_count": null,
   "id": "79989873",
   "metadata": {},
   "outputs": [],
   "source": [
    "class Node:\n",
    "\tdef __init__(self, data=0, left=None, right=None):\n",
    "\t\tself.data = data\n",
    "\t\tself.left = left\n",
    "\t\tself.right = right"
   ]
  },
  {
   "cell_type": "code",
   "execution_count": null,
   "id": "8ad8dcd2",
   "metadata": {},
   "outputs": [],
   "source": [
    "from typing import Optional\n",
    "\n",
    "\n",
    "class BSTIterator:\n",
    "    def __init__(self, root: Node):\n",
    "        self.stack = []\n",
    "        self._push_left_branch(root)\n",
    "\n",
    "    def _push_left_branch(self, node: Optional[Node]):\n",
    "        while node:\n",
    "            self.stack.append(node)\n",
    "            node = node.left\n",
    "\n",
    "    def hasNext(self) -> bool:\n",
    "        return len(self.stack) > 0\n",
    "\n",
    "    def next(self) -> Optional[Node]:\n",
    "        if not self.hasNext():\n",
    "            return None\n",
    "        node = self.stack.pop()\n",
    "        if node.right:\n",
    "            self._push_left_branch(node.right)\n",
    "        return node"
   ]
  }
 ],
 "metadata": {
  "language_info": {
   "name": "python"
  }
 },
 "nbformat": 4,
 "nbformat_minor": 5
}
