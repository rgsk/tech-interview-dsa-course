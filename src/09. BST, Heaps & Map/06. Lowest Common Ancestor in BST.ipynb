{
 "cells": [
  {
   "cell_type": "code",
   "execution_count": null,
   "id": "d31bd054",
   "metadata": {},
   "outputs": [],
   "source": [
    "class Node:\n",
    "\tdef __init__(self, data=0, left=None, right=None):\n",
    "\t\tself.data = data\n",
    "\t\tself.left = left\n",
    "\t\tself.right = right"
   ]
  },
  {
   "cell_type": "code",
   "execution_count": null,
   "id": "332b12ce",
   "metadata": {},
   "outputs": [],
   "source": [
    "from typing import Optional\n",
    "\n",
    "\n",
    "class Solution:\n",
    "\tdef lowestCommonAncestor(self, root: Node, p: Node, q: Node) -> Optional[Node]:\n",
    "\t\t# add your logic here\n",
    "\t\t if root:\n",
    "\t\t\t\tif p.data <= root.data <= q.data or q.data <= root.data <= p.data:\n",
    "\t\t\t\t\treturn root\n",
    "\t\t\t\telif p.data < root.data and q.data < root.data:\n",
    "\t\t\t\t\treturn self.lowestCommonAncestor(root.left, p, q)\n",
    "\t\t\t\telse:\n",
    "\t\t\t\t\treturn self.lowestCommonAncestor(root.right, p, q)"
   ]
  }
 ],
 "metadata": {
  "language_info": {
   "name": "python"
  }
 },
 "nbformat": 4,
 "nbformat_minor": 5
}
