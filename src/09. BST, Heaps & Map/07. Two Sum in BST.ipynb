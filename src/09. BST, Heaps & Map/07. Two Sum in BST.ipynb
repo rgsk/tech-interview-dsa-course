{
 "cells": [
  {
   "cell_type": "code",
   "execution_count": null,
   "id": "fcf99041",
   "metadata": {},
   "outputs": [],
   "source": [
    "class Node:\n",
    "\tdef __init__(self, data=0, left=None, right=None):\n",
    "\t\tself.data = data\n",
    "\t\tself.left = left\n",
    "\t\tself.right = right"
   ]
  },
  {
   "cell_type": "code",
   "execution_count": null,
   "id": "ccd2af67",
   "metadata": {},
   "outputs": [],
   "source": [
    "from typing import Optional\n",
    "\n",
    "class Solution:\n",
    "    def pairExists(self, root: Optional[Node], k: int) -> bool:\n",
    "        values = []\n",
    "\n",
    "        # Step 1: In-order traversal to get sorted elements\n",
    "        def inorder(node, result):\n",
    "            if not node:\n",
    "                return\n",
    "            inorder(node.left, result)\n",
    "            values.append(node.data)\n",
    "            inorder(node.right, result)\n",
    "\n",
    "        inorder(root, values)\n",
    "\n",
    "        # Step 2: Binary Search\n",
    "        l, r = 0, len(values) - 1\n",
    "        while l < r:\n",
    "            total = values[l] + values[r]\n",
    "            if total == k:\n",
    "                return True\n",
    "            elif total < k:\n",
    "                l += 1\n",
    "            else:\n",
    "                r -= 1\n",
    "\n",
    "        return False\n"
   ]
  },
  {
   "cell_type": "code",
   "execution_count": null,
   "id": "719ee4ee",
   "metadata": {},
   "outputs": [],
   "source": [
    "# below solution is for binary trees, works for bst too, but slower\n",
    "\n",
    "class Solution:\n",
    "    def pairExists(self, root: Optional[Node], k: int) -> bool:\n",
    "        seen = set()\n",
    "\n",
    "        def helper(node):\n",
    "            if not node:\n",
    "                return False\n",
    "            if (k - node.data) in seen:\n",
    "                return True\n",
    "            seen.add(node.data)\n",
    "            return helper(node.left) or helper(node.right)\n",
    "\n",
    "        return helper(root)\n"
   ]
  }
 ],
 "metadata": {
  "language_info": {
   "name": "python"
  }
 },
 "nbformat": 4,
 "nbformat_minor": 5
}
