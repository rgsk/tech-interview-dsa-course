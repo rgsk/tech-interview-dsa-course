{
 "cells": [
  {
   "cell_type": "code",
   "execution_count": null,
   "id": "882443bf",
   "metadata": {},
   "outputs": [],
   "source": [
    "class Node:\n",
    "\tdef __init__(self, data=0, left=None, right=None):\n",
    "\t\tself.data = data\n",
    "\t\tself.left = left\n",
    "\t\tself.right = right"
   ]
  },
  {
   "cell_type": "code",
   "execution_count": null,
   "id": "5f6eb36a",
   "metadata": {},
   "outputs": [],
   "source": [
    "from typing import Optional\n",
    "\n",
    "class Solution:\n",
    "    def findPredecessor(self, root: Optional[Node], p: Optional[Node]) -> Optional[Node]:\n",
    "        # add your logic here\n",
    "        ans = None\n",
    "\n",
    "        def helper(root):\n",
    "            nonlocal ans\n",
    "            if root:\n",
    "                if root.data >= p.data:\n",
    "                    helper(root.left)\n",
    "                else:\n",
    "                    ans = root\n",
    "                    helper(root.right)\n",
    "        helper(root)\n",
    "        return ans"
   ]
  },
  {
   "cell_type": "code",
   "execution_count": null,
   "id": "8a892610",
   "metadata": {},
   "outputs": [],
   "source": [
    "class Solution:\n",
    "    def findPredecessor(self, root: Optional[Node], p: Optional[Node]) -> Optional[Node]:\n",
    "        # add your logic here\n",
    "\n",
    "        ans = None\n",
    "        prev = None\n",
    "\n",
    "        def inorder(root):\n",
    "            nonlocal ans, prev\n",
    "            if root:\n",
    "                inorder(root.left)\n",
    "                if ans:\n",
    "                    return\n",
    "                if p == root:\n",
    "                    ans = prev\n",
    "                    return\n",
    "                prev = root\n",
    "                inorder(root.right)\n",
    "        inorder(root)\n",
    "        return ans"
   ]
  }
 ],
 "metadata": {
  "language_info": {
   "name": "python"
  }
 },
 "nbformat": 4,
 "nbformat_minor": 5
}
