{
 "cells": [
  {
   "cell_type": "code",
   "execution_count": null,
   "id": "b95f99c8",
   "metadata": {},
   "outputs": [],
   "source": [
    "class Node:\n",
    "\tdef __init__(self, data=0, left=None, right=None):\n",
    "\t\tself.data = data\n",
    "\t\tself.left = left\n",
    "\t\tself.right = right\n"
   ]
  },
  {
   "cell_type": "code",
   "execution_count": null,
   "id": "ec38fa05",
   "metadata": {},
   "outputs": [],
   "source": [
    "\n",
    "from typing import Optional\n",
    "\n",
    "\n",
    "class Solution:\n",
    "    def findKthLargest(self, A: Optional[Node], k: int) -> int:\n",
    "        # add your logic here\n",
    "        i = 0\n",
    "\n",
    "        def helper(temp):\n",
    "            nonlocal i\n",
    "            if temp:\n",
    "                v = helper(temp.right)\n",
    "                if v != None:\n",
    "                    return v\n",
    "                i += 1\n",
    "                if i == k:\n",
    "                    return temp.data\n",
    "                v = helper(temp.left)\n",
    "                if v != None:\n",
    "                    return v\n",
    "        return helper(A)\n"
   ]
  }
 ],
 "metadata": {
  "language_info": {
   "name": "python"
  }
 },
 "nbformat": 4,
 "nbformat_minor": 5
}
