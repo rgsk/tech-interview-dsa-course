{
 "cells": [
  {
   "cell_type": "code",
   "execution_count": 5,
   "id": "9e044460",
   "metadata": {},
   "outputs": [],
   "source": [
    "class ListNode:\n",
    "\tdef __init__(self, data=0, next=None):\n",
    "\t\tself.data = data\n",
    "\t\tself.next = next"
   ]
  },
  {
   "cell_type": "code",
   "execution_count": 6,
   "id": "be2e9da3",
   "metadata": {},
   "outputs": [],
   "source": [
    "def printList(node: ListNode):\n",
    "    temp = node\n",
    "    while temp:\n",
    "        if temp.next:\n",
    "            print(f'{temp.data}', end = \"->\")\n",
    "        else:\n",
    "            print(temp.data)\n",
    "        temp = temp.next"
   ]
  },
  {
   "cell_type": "code",
   "execution_count": 7,
   "id": "47d15009",
   "metadata": {},
   "outputs": [],
   "source": [
    "class Solution:\n",
    "    def removeOccurences(self, head: ListNode, key: int) -> ListNode:\n",
    "        dummy = ListNode(-1)\n",
    "        temp = head\n",
    "        t = dummy\n",
    "        while temp:\n",
    "            if temp.data != key:\n",
    "                t.next = temp\n",
    "                t = t.next\n",
    "            temp = temp.next\n",
    "        t.next = None\n",
    "        return dummy.next"
   ]
  },
  {
   "cell_type": "code",
   "execution_count": 8,
   "id": "5c143958",
   "metadata": {},
   "outputs": [
    {
     "name": "stdout",
     "output_type": "stream",
     "text": [
      "1->3->4->7\n"
     ]
    }
   ],
   "source": [
    "head = ListNode(1, ListNode(2, ListNode(3, ListNode(2, ListNode(4, ListNode(7, ListNode(2)))))))\n",
    "sol = Solution()\n",
    "result = sol.removeOccurences(head, 2)\n",
    "printList(result)"
   ]
  }
 ],
 "metadata": {
  "kernelspec": {
   "display_name": "venv",
   "language": "python",
   "name": "python3"
  },
  "language_info": {
   "codemirror_mode": {
    "name": "ipython",
    "version": 3
   },
   "file_extension": ".py",
   "mimetype": "text/x-python",
   "name": "python",
   "nbconvert_exporter": "python",
   "pygments_lexer": "ipython3",
   "version": "3.11.3"
  }
 },
 "nbformat": 4,
 "nbformat_minor": 5
}
