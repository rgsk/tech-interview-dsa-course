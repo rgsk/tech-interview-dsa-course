{
 "cells": [
  {
   "cell_type": "code",
   "execution_count": 1,
   "id": "634dc6be",
   "metadata": {},
   "outputs": [],
   "source": [
    "class ListNode:\n",
    "\tdef __init__(self, data=0, next=None):\n",
    "\t\tself.data = data\n",
    "\t\tself.next = next"
   ]
  },
  {
   "cell_type": "code",
   "execution_count": 2,
   "id": "f674230a",
   "metadata": {},
   "outputs": [],
   "source": [
    "class Solution:\n",
    "    def getStartingNodeOfLoop(self, head: ListNode) -> ListNode:\n",
    "        if not head or not head.next:\n",
    "            return None\n",
    "\n",
    "        # Step 1: Detect loop using Floyd's cycle detection\n",
    "        slow = fast = head\n",
    "        while fast and fast.next:\n",
    "            slow = slow.next\n",
    "            fast = fast.next.next\n",
    "            if slow == fast:\n",
    "                break\n",
    "        else:\n",
    "            # No loop\n",
    "            return None\n",
    "\n",
    "        # Step 2: Find the starting node of the loop\n",
    "        slow = head\n",
    "        while slow != fast:\n",
    "            slow = slow.next\n",
    "            fast = fast.next\n",
    "\n",
    "        return slow"
   ]
  },
  {
   "cell_type": "code",
   "execution_count": 3,
   "id": "84df92ae",
   "metadata": {},
   "outputs": [
    {
     "data": {
      "text/plain": [
       "7"
      ]
     },
     "execution_count": 3,
     "metadata": {},
     "output_type": "execute_result"
    }
   ],
   "source": [
    "# Construct linked list: 1 -> 7 -> 3 -> 6 -> (back to 7)\n",
    "head = ListNode(1)\n",
    "seven = ListNode(7)\n",
    "three = ListNode(3)\n",
    "six = ListNode(6)\n",
    "\n",
    "head.next = seven\n",
    "seven.next = three\n",
    "three.next = six\n",
    "six.next = seven  # Loop back to 7\n",
    "\n",
    "sol = Solution()\n",
    "sol.getStartingNodeOfLoop(head).data"
   ]
  }
 ],
 "metadata": {
  "kernelspec": {
   "display_name": "venv",
   "language": "python",
   "name": "python3"
  },
  "language_info": {
   "codemirror_mode": {
    "name": "ipython",
    "version": 3
   },
   "file_extension": ".py",
   "mimetype": "text/x-python",
   "name": "python",
   "nbconvert_exporter": "python",
   "pygments_lexer": "ipython3",
   "version": "3.11.3"
  }
 },
 "nbformat": 4,
 "nbformat_minor": 5
}
