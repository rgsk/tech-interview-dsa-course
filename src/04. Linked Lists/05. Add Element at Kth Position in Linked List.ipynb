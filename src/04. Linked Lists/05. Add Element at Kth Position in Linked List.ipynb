{
 "cells": [
  {
   "cell_type": "code",
   "execution_count": 19,
   "id": "3d6a88a8",
   "metadata": {},
   "outputs": [],
   "source": [
    "class ListNode:\n",
    "\tdef __init__(self, data=0, next=None):\n",
    "\t\tself.data = data\n",
    "\t\tself.next = next"
   ]
  },
  {
   "cell_type": "code",
   "execution_count": 20,
   "id": "0a5794d0",
   "metadata": {},
   "outputs": [],
   "source": [
    "class Solution:\n",
    "    def addAtkthElement(self, head: ListNode, k: int, node: ListNode) -> ListNode:\n",
    "        if k == 1:\n",
    "            node.next = head\n",
    "            return node\n",
    "        temp = head\n",
    "        while k > 2:\n",
    "            temp = temp.next\n",
    "            k -= 1\n",
    "        node.next = temp.next\n",
    "        temp.next = node\n",
    "        return head"
   ]
  },
  {
   "cell_type": "code",
   "execution_count": 21,
   "id": "2784ccaa",
   "metadata": {},
   "outputs": [
    {
     "name": "stdout",
     "output_type": "stream",
     "text": [
      "1->5->3->4->7\n"
     ]
    }
   ],
   "source": [
    "head = ListNode(1, ListNode(3, ListNode(4, ListNode(7))))\n",
    "sol = Solution()\n",
    "res = sol.addAtkthElement(head, 2, ListNode(5))\n",
    "\n",
    "temp = res\n",
    "while temp:\n",
    "    if temp.next:\n",
    "        print(f'{temp.data}', end = \"->\")\n",
    "    else:\n",
    "        print(temp.data)\n",
    "    temp = temp.next"
   ]
  }
 ],
 "metadata": {
  "kernelspec": {
   "display_name": "venv",
   "language": "python",
   "name": "python3"
  },
  "language_info": {
   "codemirror_mode": {
    "name": "ipython",
    "version": 3
   },
   "file_extension": ".py",
   "mimetype": "text/x-python",
   "name": "python",
   "nbconvert_exporter": "python",
   "pygments_lexer": "ipython3",
   "version": "3.11.3"
  }
 },
 "nbformat": 4,
 "nbformat_minor": 5
}
