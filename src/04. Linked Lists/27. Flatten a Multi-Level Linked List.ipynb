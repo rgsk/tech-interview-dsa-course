{
 "cells": [
  {
   "cell_type": "code",
   "execution_count": 6,
   "id": "e32eec1c",
   "metadata": {},
   "outputs": [],
   "source": [
    "class ListNode:\n",
    "\tdef __init__(self, data=0, next=None, down=None):\n",
    "\t\tself.data = data\n",
    "\t\tself.next = next\n",
    "\t\tself.down=down"
   ]
  },
  {
   "cell_type": "code",
   "execution_count": 7,
   "id": "19b4a6f2",
   "metadata": {},
   "outputs": [],
   "source": [
    "def printList(node: ListNode):\n",
    "    temp = node\n",
    "    while temp:\n",
    "        if temp.next:\n",
    "            print(f'{temp.data}', end = \"->\")\n",
    "        else:\n",
    "            print(temp.data)\n",
    "        temp = temp.next"
   ]
  },
  {
   "cell_type": "code",
   "execution_count": 8,
   "id": "1b3f6679",
   "metadata": {},
   "outputs": [],
   "source": [
    "class Solution:\n",
    "\tdef flattenTheLinkedList(self, root: ListNode) -> ListNode:\n",
    "\t\t# add your logic here\n",
    "\t\tarr = []\n",
    "\t\ttemp = root\n",
    "\t\twhile temp:\n",
    "\t\t\tarr.append(temp)\n",
    "\t\t\ttemp = temp.next\n",
    "\t\tdummy = ListNode()\n",
    "\t\ttemp = dummy\n",
    "\t\twhile True:\n",
    "\t\t\tsmallest_index = -1\n",
    "\t\t\tfor i in range(len(arr)):\n",
    "\t\t\t\tif arr[i] and (smallest_index == -1 or arr[i].data < arr[smallest_index].data):\n",
    "\t\t\t\t\tsmallest_index = i\n",
    "\t\t\tif smallest_index == -1:\n",
    "\t\t\t\tbreak\n",
    "\t\t\ttemp.next = arr[smallest_index]\n",
    "\t\t\ttemp = temp.next\n",
    "\t\t\tarr[smallest_index] = arr[smallest_index].down\n",
    "\t\t\t\t\n",
    "\t\treturn dummy.next\n"
   ]
  },
  {
   "cell_type": "code",
   "execution_count": 9,
   "id": "1a323d4b",
   "metadata": {},
   "outputs": [
    {
     "name": "stdout",
     "output_type": "stream",
     "text": [
      "1->3->5->8->8->8->13->14->15->22->25->26\n"
     ]
    }
   ],
   "source": [
    "def main():\n",
    "    n1 = ListNode(1)\n",
    "    n1.down = ListNode(3)\n",
    "    n1.down.down = ListNode(8)\n",
    "\n",
    "    n5 = ListNode(5)\n",
    "    n5.down = ListNode(8)\n",
    "    n5.down.down = ListNode(26)\n",
    "\n",
    "    n8 = ListNode(8)\n",
    "    n8.down = ListNode(14)\n",
    "\n",
    "    n13 = ListNode(13)\n",
    "    n13.down = ListNode(15)\n",
    "    n13.down.down = ListNode(22)\n",
    "    n13.down.down.down = ListNode(25)\n",
    "\n",
    "    # Link horizontal (next) pointers\n",
    "    n1.next = n5\n",
    "    n5.next = n8\n",
    "    n8.next = n13\n",
    "\n",
    "    # Assume you have a function `flattenTheLinkedList` in Solution\n",
    "    sol = Solution()\n",
    "    flat_head = sol.flattenTheLinkedList(n1)\n",
    "\n",
    "    printList(flat_head)\n",
    "\n",
    "main()"
   ]
  }
 ],
 "metadata": {
  "kernelspec": {
   "display_name": "venv",
   "language": "python",
   "name": "python3"
  },
  "language_info": {
   "codemirror_mode": {
    "name": "ipython",
    "version": 3
   },
   "file_extension": ".py",
   "mimetype": "text/x-python",
   "name": "python",
   "nbconvert_exporter": "python",
   "pygments_lexer": "ipython3",
   "version": "3.11.3"
  }
 },
 "nbformat": 4,
 "nbformat_minor": 5
}
