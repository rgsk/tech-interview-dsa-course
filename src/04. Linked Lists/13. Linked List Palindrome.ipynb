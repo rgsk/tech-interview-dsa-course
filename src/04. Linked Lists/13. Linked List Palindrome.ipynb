{
 "cells": [
  {
   "cell_type": "code",
   "execution_count": 3,
   "id": "da1e56de",
   "metadata": {},
   "outputs": [],
   "source": [
    "class ListNode:\n",
    "\tdef __init__(self, data=0, next=None):\n",
    "\t\tself.data = data\n",
    "\t\tself.next = next"
   ]
  },
  {
   "cell_type": "code",
   "execution_count": 4,
   "id": "b8c52a9e",
   "metadata": {},
   "outputs": [],
   "source": [
    "class Solution:\n",
    "\tdef isPalindrome(self, head: ListNode) -> bool:\n",
    "\t\tif not head or not head.next:\n",
    "\t\t\treturn True\n",
    "\n",
    "\t\t# Step 1: Find the middle (slow will point to mid)\n",
    "\t\tslow = fast = head\n",
    "\t\twhile fast and fast.next:\n",
    "\t\t\tfast = fast.next.next\n",
    "\t\t\tslow = slow.next\n",
    "\n",
    "\t\t# Step 2: Reverse the second half\n",
    "\t\tprev = None\n",
    "\t\twhile slow:\n",
    "\t\t\tnext_node = slow.next\n",
    "\t\t\tslow.next = prev\n",
    "\t\t\tprev = slow\n",
    "\t\t\tslow = next_node\n",
    "\n",
    "\t\t# Step 3: Compare the first half and the reversed second half\n",
    "\t\tleft, right = head, prev\n",
    "\t\twhile right:\n",
    "\t\t\tif left.data != right.data:\n",
    "\t\t\t\treturn False\n",
    "\t\t\tleft = left.next\n",
    "\t\t\tright = right.next\n",
    "\n",
    "\t\treturn True"
   ]
  },
  {
   "cell_type": "code",
   "execution_count": 5,
   "id": "500ee411",
   "metadata": {},
   "outputs": [
    {
     "data": {
      "text/plain": [
       "False"
      ]
     },
     "execution_count": 5,
     "metadata": {},
     "output_type": "execute_result"
    }
   ],
   "source": [
    "head = ListNode(1, ListNode(2, ListNode(3, ListNode(4))))\n",
    "sol = Solution()\n",
    "sol.isPalindrome(head)"
   ]
  },
  {
   "cell_type": "code",
   "execution_count": 6,
   "id": "d7a70474",
   "metadata": {},
   "outputs": [
    {
     "data": {
      "text/plain": [
       "True"
      ]
     },
     "execution_count": 6,
     "metadata": {},
     "output_type": "execute_result"
    }
   ],
   "source": [
    "head = ListNode(1, ListNode(2, ListNode(2, ListNode(1))))\n",
    "sol = Solution()\n",
    "sol.isPalindrome(head)"
   ]
  }
 ],
 "metadata": {
  "kernelspec": {
   "display_name": "venv",
   "language": "python",
   "name": "python3"
  },
  "language_info": {
   "codemirror_mode": {
    "name": "ipython",
    "version": 3
   },
   "file_extension": ".py",
   "mimetype": "text/x-python",
   "name": "python",
   "nbconvert_exporter": "python",
   "pygments_lexer": "ipython3",
   "version": "3.11.3"
  }
 },
 "nbformat": 4,
 "nbformat_minor": 5
}
