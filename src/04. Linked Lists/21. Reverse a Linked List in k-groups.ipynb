{
 "cells": [
  {
   "cell_type": "code",
   "execution_count": 6,
   "id": "cdfa3b70",
   "metadata": {},
   "outputs": [],
   "source": [
    "class ListNode:\n",
    "\tdef __init__(self, data=0, next=None):\n",
    "\t\tself.data = data\n",
    "\t\tself.next = next"
   ]
  },
  {
   "cell_type": "code",
   "execution_count": 7,
   "id": "f26fcb95",
   "metadata": {},
   "outputs": [],
   "source": [
    "def formList(arr):\n",
    "    if not arr:\n",
    "        return None\n",
    "\n",
    "    head = ListNode(arr[0])\n",
    "    curr = head\n",
    "    for value in arr[1:]:\n",
    "        curr.next = ListNode(value)\n",
    "        curr = curr.next\n",
    "    return head"
   ]
  },
  {
   "cell_type": "code",
   "execution_count": 8,
   "id": "5f705bcd",
   "metadata": {},
   "outputs": [],
   "source": [
    "def printList(node: ListNode):\n",
    "    temp = node\n",
    "    while temp:\n",
    "        if temp.next:\n",
    "            print(f'{temp.data}', end = \"->\")\n",
    "        else:\n",
    "            print(temp.data)\n",
    "        temp = temp.next"
   ]
  },
  {
   "cell_type": "code",
   "execution_count": 9,
   "id": "e095c2e0",
   "metadata": {},
   "outputs": [],
   "source": [
    "def reverseLinkedList(head: ListNode) -> ListNode:\n",
    "    prev = None\n",
    "    cur = head\n",
    "    while cur:\n",
    "        nxt = cur.next\n",
    "        cur.next = prev\n",
    "        prev = cur\n",
    "        cur = nxt\n",
    "    return prev\n",
    "\n",
    "class Solution:\n",
    "    def reverseLinkedListKGroup(self, head: ListNode, k: int) -> ListNode:\n",
    "        dummy = ListNode(0)\n",
    "        tail = dummy\n",
    "        node = head\n",
    "\n",
    "        while True:\n",
    "            # Check if there are k nodes remaining\n",
    "            count = 0\n",
    "            ptr = node\n",
    "            while ptr and count < k:\n",
    "                ptr = ptr.next\n",
    "                count += 1\n",
    "            if count < k:\n",
    "                # fewer than k nodes left → attach the remainder as is\n",
    "                tail.next = node\n",
    "                break\n",
    "\n",
    "            # Detach a group of k nodes\n",
    "            group_head = node\n",
    "            for _ in range(k - 1):\n",
    "                node = node.next\n",
    "            next_group = node.next\n",
    "            node.next = None  # cut\n",
    "\n",
    "            # Reverse the k‑group and attach\n",
    "            rev = reverseLinkedList(group_head)\n",
    "            tail.next = rev\n",
    "\n",
    "            # Move tail to the end of the reversed group\n",
    "            tail = group_head\n",
    "            node = next_group\n",
    "\n",
    "        return dummy.next"
   ]
  },
  {
   "cell_type": "code",
   "execution_count": 10,
   "id": "4815767e",
   "metadata": {},
   "outputs": [
    {
     "name": "stdout",
     "output_type": "stream",
     "text": [
      "3->2->1->6->5->4->9->8->7\n"
     ]
    }
   ],
   "source": [
    "head = formList([1, 2, 3, 4, 5, 6, 7, 8, 9])\n",
    "sol = Solution()\n",
    "result = sol.reverseLinkedListKGroup(head, 3)\n",
    "printList(result)"
   ]
  },
  {
   "cell_type": "code",
   "execution_count": 11,
   "id": "5efa1e5f",
   "metadata": {},
   "outputs": [
    {
     "name": "stdout",
     "output_type": "stream",
     "text": [
      "3->2->1->6->5->4->7->8\n"
     ]
    }
   ],
   "source": [
    "head = formList([1, 2, 3, 4, 5, 6, 7, 8])\n",
    "sol = Solution()\n",
    "result = sol.reverseLinkedListKGroup(head, 3)\n",
    "printList(result)"
   ]
  }
 ],
 "metadata": {
  "kernelspec": {
   "display_name": "venv",
   "language": "python",
   "name": "python3"
  },
  "language_info": {
   "codemirror_mode": {
    "name": "ipython",
    "version": 3
   },
   "file_extension": ".py",
   "mimetype": "text/x-python",
   "name": "python",
   "nbconvert_exporter": "python",
   "pygments_lexer": "ipython3",
   "version": "3.11.3"
  }
 },
 "nbformat": 4,
 "nbformat_minor": 5
}
