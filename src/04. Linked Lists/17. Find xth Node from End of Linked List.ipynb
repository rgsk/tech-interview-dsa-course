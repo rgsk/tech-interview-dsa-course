{
 "cells": [
  {
   "cell_type": "code",
   "execution_count": 4,
   "id": "b4c76a38",
   "metadata": {},
   "outputs": [],
   "source": [
    "class ListNode:\n",
    "\tdef __init__(self, data=0, next=None):\n",
    "\t\tself.data = data\n",
    "\t\tself.next = next"
   ]
  },
  {
   "cell_type": "code",
   "execution_count": 5,
   "id": "65cf4459",
   "metadata": {},
   "outputs": [],
   "source": [
    "\n",
    "class Solution:\n",
    "    def xthNodeFromEnd(self, head: ListNode, x: int) -> ListNode:\n",
    "        front = head\n",
    "        for _ in range(1, x):\n",
    "            if front:\n",
    "                front = front.next\n",
    "\n",
    "        if front is None or front.next is None:\n",
    "            return head\n",
    "\n",
    "        while front.next:\n",
    "            front = front.next\n",
    "            head = head.next\n",
    "\n",
    "        return head"
   ]
  },
  {
   "cell_type": "code",
   "execution_count": 6,
   "id": "db536c56",
   "metadata": {},
   "outputs": [
    {
     "data": {
      "text/plain": [
       "3"
      ]
     },
     "execution_count": 6,
     "metadata": {},
     "output_type": "execute_result"
    }
   ],
   "source": [
    "head = ListNode(1, ListNode(2, ListNode(3, ListNode(4))))\n",
    "sol = Solution()\n",
    "sol.xthNodeFromEnd(head, 2).data"
   ]
  }
 ],
 "metadata": {
  "kernelspec": {
   "display_name": "venv",
   "language": "python",
   "name": "python3"
  },
  "language_info": {
   "codemirror_mode": {
    "name": "ipython",
    "version": 3
   },
   "file_extension": ".py",
   "mimetype": "text/x-python",
   "name": "python",
   "nbconvert_exporter": "python",
   "pygments_lexer": "ipython3",
   "version": "3.11.3"
  }
 },
 "nbformat": 4,
 "nbformat_minor": 5
}
