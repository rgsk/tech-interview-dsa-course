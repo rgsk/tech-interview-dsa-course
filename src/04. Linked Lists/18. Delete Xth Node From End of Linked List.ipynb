{
 "cells": [
  {
   "cell_type": "code",
   "execution_count": 4,
   "id": "06e6270e",
   "metadata": {},
   "outputs": [],
   "source": [
    "class ListNode:\n",
    "\tdef __init__(self, data=0, next=None):\n",
    "\t\tself.data = data\n",
    "\t\tself.next = next"
   ]
  },
  {
   "cell_type": "code",
   "execution_count": 5,
   "id": "85106108",
   "metadata": {},
   "outputs": [],
   "source": [
    "def printList(node: ListNode):\n",
    "    temp = node\n",
    "    while temp:\n",
    "        if temp.next:\n",
    "            print(f'{temp.data}', end = \"->\")\n",
    "        else:\n",
    "            print(temp.data)\n",
    "        temp = temp.next"
   ]
  },
  {
   "cell_type": "code",
   "execution_count": 6,
   "id": "0bafa636",
   "metadata": {},
   "outputs": [],
   "source": [
    "class Solution:\n",
    "    def removeXthNodeFromEnd(self, head: ListNode, x: int) -> ListNode:\n",
    "        front = head\n",
    "        temp = head\n",
    "        for _ in range(1, x):\n",
    "            if front:\n",
    "                front = front.next\n",
    "\n",
    "        if front is None or front.next is None:\n",
    "            return temp.next\n",
    "\n",
    "        while front.next.next:\n",
    "            front = front.next\n",
    "            temp = temp.next\n",
    "        temp.next = temp.next.next\n",
    "        return head"
   ]
  },
  {
   "cell_type": "code",
   "execution_count": 7,
   "id": "c9b2bf6a",
   "metadata": {},
   "outputs": [
    {
     "name": "stdout",
     "output_type": "stream",
     "text": [
      "1->2->4\n"
     ]
    }
   ],
   "source": [
    "head = ListNode(1, ListNode(2, ListNode(3, ListNode(4))))\n",
    "sol = Solution()\n",
    "res = sol.removeXthNodeFromEnd(head, 2)\n",
    "printList(res)"
   ]
  }
 ],
 "metadata": {
  "kernelspec": {
   "display_name": "venv",
   "language": "python",
   "name": "python3"
  },
  "language_info": {
   "codemirror_mode": {
    "name": "ipython",
    "version": 3
   },
   "file_extension": ".py",
   "mimetype": "text/x-python",
   "name": "python",
   "nbconvert_exporter": "python",
   "pygments_lexer": "ipython3",
   "version": "3.11.3"
  }
 },
 "nbformat": 4,
 "nbformat_minor": 5
}
