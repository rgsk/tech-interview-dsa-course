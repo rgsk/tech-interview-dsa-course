{
 "cells": [
  {
   "cell_type": "code",
   "execution_count": 7,
   "id": "fd831be9",
   "metadata": {},
   "outputs": [],
   "source": [
    "class ListNode:\n",
    "\tdef __init__(self, data=0, next=None):\n",
    "\t\tself.data = data\n",
    "\t\tself.next = next"
   ]
  },
  {
   "cell_type": "code",
   "execution_count": 8,
   "id": "53b75879",
   "metadata": {},
   "outputs": [],
   "source": [
    "def printList(node: ListNode):\n",
    "    temp = node\n",
    "    while temp:\n",
    "        if temp.next:\n",
    "            print(f'{temp.data}', end = \"->\")\n",
    "        else:\n",
    "            print(temp.data)\n",
    "        temp = temp.next"
   ]
  },
  {
   "cell_type": "code",
   "execution_count": 9,
   "id": "19684c67",
   "metadata": {},
   "outputs": [],
   "source": [
    "class Solution:\n",
    "    def reverseLinkedList(self, head: ListNode) -> ListNode:\n",
    "        cur = head\n",
    "        prev = None\n",
    "        while cur:\n",
    "            next = cur.next\n",
    "            cur.next = prev\n",
    "            prev = cur\n",
    "            cur = next\n",
    "        return prev"
   ]
  },
  {
   "cell_type": "code",
   "execution_count": 10,
   "id": "d6423369",
   "metadata": {},
   "outputs": [
    {
     "name": "stdout",
     "output_type": "stream",
     "text": [
      "4->3->2->1\n"
     ]
    }
   ],
   "source": [
    "head = ListNode(1, ListNode(2, ListNode(3, ListNode(4))))\n",
    "sol = Solution()\n",
    "result = sol.reverseLinkedList(head)\n",
    "printList(result)"
   ]
  },
  {
   "cell_type": "code",
   "execution_count": null,
   "id": "1c9ee4a2",
   "metadata": {},
   "outputs": [],
   "source": [
    "import sys\n",
    "sys.setrecursionlimit(10**6)\n",
    "\n",
    "class Solution:\n",
    "    def reverseLinkedList(self, head: ListNode) -> ListNode:\n",
    "        if head and head.next:\n",
    "            last = self.reverseLinkedList(head.next)\n",
    "            head.next.next = head\n",
    "            head.next = None\n",
    "            return last\n",
    "        return head"
   ]
  },
  {
   "cell_type": "code",
   "execution_count": 12,
   "id": "306fef26",
   "metadata": {},
   "outputs": [
    {
     "name": "stdout",
     "output_type": "stream",
     "text": [
      "4->3->2->1\n"
     ]
    }
   ],
   "source": [
    "head = ListNode(1, ListNode(2, ListNode(3, ListNode(4))))\n",
    "sol = Solution()\n",
    "result = sol.reverseLinkedList(head)\n",
    "printList(result)"
   ]
  },
  {
   "cell_type": "code",
   "execution_count": null,
   "id": "43949931",
   "metadata": {},
   "outputs": [],
   "source": []
  }
 ],
 "metadata": {
  "kernelspec": {
   "display_name": "venv",
   "language": "python",
   "name": "python3"
  },
  "language_info": {
   "codemirror_mode": {
    "name": "ipython",
    "version": 3
   },
   "file_extension": ".py",
   "mimetype": "text/x-python",
   "name": "python",
   "nbconvert_exporter": "python",
   "pygments_lexer": "ipython3",
   "version": "3.11.3"
  }
 },
 "nbformat": 4,
 "nbformat_minor": 5
}
