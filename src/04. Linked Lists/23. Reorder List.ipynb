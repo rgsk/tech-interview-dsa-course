{
 "cells": [
  {
   "cell_type": "code",
   "execution_count": 6,
   "id": "55d94513",
   "metadata": {},
   "outputs": [],
   "source": [
    "class ListNode:\n",
    "\tdef __init__(self, data=0, next=None):\n",
    "\t\tself.data = data\n",
    "\t\tself.next = next"
   ]
  },
  {
   "cell_type": "code",
   "execution_count": 7,
   "id": "2b9e9ed9",
   "metadata": {},
   "outputs": [],
   "source": [
    "def formList(arr):\n",
    "    if not arr:\n",
    "        return None\n",
    "\n",
    "    head = ListNode(arr[0])\n",
    "    curr = head\n",
    "    for value in arr[1:]:\n",
    "        curr.next = ListNode(value)\n",
    "        curr = curr.next\n",
    "    return head"
   ]
  },
  {
   "cell_type": "code",
   "execution_count": 8,
   "id": "0f99a19b",
   "metadata": {},
   "outputs": [],
   "source": [
    "def printList(node: ListNode):\n",
    "    temp = node\n",
    "    while temp:\n",
    "        if temp.next:\n",
    "            print(f'{temp.data}', end = \"->\")\n",
    "        else:\n",
    "            print(temp.data)\n",
    "        temp = temp.next"
   ]
  },
  {
   "cell_type": "code",
   "execution_count": 9,
   "id": "8e6782f6",
   "metadata": {},
   "outputs": [],
   "source": [
    "class Solution:\n",
    "    def reorderList(self, head: ListNode) -> ListNode:\n",
    "        if not head or not head.next:\n",
    "            return head\n",
    "\n",
    "        # Step 1: Find the middle\n",
    "        slow, fast = head, head\n",
    "        while fast and fast.next:\n",
    "            slow = slow.next\n",
    "            fast = fast.next.next\n",
    "\n",
    "        # Step 2: Reverse the second half\n",
    "        prev = None\n",
    "        curr = slow.next\n",
    "        slow.next = None  # Split the list into two halves\n",
    "        while curr:\n",
    "            next_node = curr.next\n",
    "            curr.next = prev\n",
    "            prev = curr\n",
    "            curr = next_node\n",
    "\n",
    "        # Step 3: Merge the two halves\n",
    "        first, second = head, prev\n",
    "        while second:\n",
    "            tmp1 = first.next\n",
    "            tmp2 = second.next\n",
    "\n",
    "            first.next = second\n",
    "            second.next = tmp1\n",
    "\n",
    "            first = tmp1\n",
    "            second = tmp2\n",
    "\n",
    "        return head\n"
   ]
  },
  {
   "cell_type": "code",
   "execution_count": 10,
   "id": "11c4b119",
   "metadata": {},
   "outputs": [
    {
     "name": "stdout",
     "output_type": "stream",
     "text": [
      "1->9->2->8->3->7->4->6->5\n"
     ]
    }
   ],
   "source": [
    "head = formList([1, 2, 3, 4, 5, 6, 7, 8, 9])\n",
    "sol = Solution()\n",
    "res = sol.reorderList(head)\n",
    "printList(res)"
   ]
  },
  {
   "cell_type": "code",
   "execution_count": 11,
   "id": "35ce12a8",
   "metadata": {},
   "outputs": [
    {
     "name": "stdout",
     "output_type": "stream",
     "text": [
      "1->8->2->7->3->6->4->5\n"
     ]
    }
   ],
   "source": [
    "head = formList([1, 2, 3, 4, 5, 6, 7, 8])\n",
    "sol = Solution()\n",
    "res = sol.reorderList(head)\n",
    "printList(res)"
   ]
  }
 ],
 "metadata": {
  "kernelspec": {
   "display_name": "venv",
   "language": "python",
   "name": "python3"
  },
  "language_info": {
   "codemirror_mode": {
    "name": "ipython",
    "version": 3
   },
   "file_extension": ".py",
   "mimetype": "text/x-python",
   "name": "python",
   "nbconvert_exporter": "python",
   "pygments_lexer": "ipython3",
   "version": "3.11.3"
  }
 },
 "nbformat": 4,
 "nbformat_minor": 5
}
