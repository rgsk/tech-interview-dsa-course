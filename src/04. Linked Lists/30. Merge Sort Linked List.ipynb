{
 "cells": [
  {
   "cell_type": "code",
   "execution_count": 1,
   "id": "f3abaf70",
   "metadata": {},
   "outputs": [],
   "source": [
    "class ListNode:\n",
    "    def __init__(self, data):\n",
    "        self.data = data\n",
    "        self.next = None"
   ]
  },
  {
   "cell_type": "code",
   "execution_count": 2,
   "id": "cba15d29",
   "metadata": {},
   "outputs": [],
   "source": [
    "def formList(arr):\n",
    "    if not arr:\n",
    "        return None\n",
    "\n",
    "    head = ListNode(arr[0])\n",
    "    curr = head\n",
    "    for value in arr[1:]:\n",
    "        curr.next = ListNode(value)\n",
    "        curr = curr.next\n",
    "    return head"
   ]
  },
  {
   "cell_type": "code",
   "execution_count": 3,
   "id": "53aa5e7c",
   "metadata": {},
   "outputs": [],
   "source": [
    "def printList(node: ListNode):\n",
    "    temp = node\n",
    "    while temp:\n",
    "        if temp.next:\n",
    "            print(f'{temp.data}', end = \"->\")\n",
    "        else:\n",
    "            print(temp.data)\n",
    "        temp = temp.next"
   ]
  },
  {
   "cell_type": "code",
   "execution_count": 4,
   "id": "51e484df",
   "metadata": {},
   "outputs": [],
   "source": [
    "class Solution:\n",
    "    def mergeSort(self, head: ListNode) -> ListNode:\n",
    "        if not head or not head.next:\n",
    "            return head\n",
    "\n",
    "        # Find the middle using slow and fast pointers\n",
    "        slow = head\n",
    "        fast = head.next.next\n",
    "\n",
    "        while fast and fast.next:\n",
    "            slow = slow.next\n",
    "            fast = fast.next.next\n",
    "\n",
    "        mid = slow.next\n",
    "        slow.next = None\n",
    "\n",
    "        left = self.mergeSort(head)\n",
    "        right = self.mergeSort(mid)\n",
    "\n",
    "        # Merge two sorted halves\n",
    "        dummy = ListNode(-1)\n",
    "        temp = dummy\n",
    "\n",
    "        while left and right:\n",
    "            if left.data < right.data:\n",
    "                temp.next = left\n",
    "                left = left.next\n",
    "            else:\n",
    "                temp.next = right\n",
    "                right = right.next\n",
    "            temp = temp.next\n",
    "\n",
    "        if left:\n",
    "            temp.next = left\n",
    "        if right:\n",
    "            temp.next = right\n",
    "\n",
    "        return dummy.next"
   ]
  },
  {
   "cell_type": "code",
   "execution_count": 5,
   "id": "e2603e21",
   "metadata": {},
   "outputs": [
    {
     "name": "stdout",
     "output_type": "stream",
     "text": [
      "1->2->2->3->4->4->5->6->7->8\n"
     ]
    }
   ],
   "source": [
    "head = formList([1, 6, 2, 4, 3, 5, 2, 8, 4, 7])\n",
    "sol = Solution()\n",
    "res = sol.mergeSort(head)\n",
    "printList(res)"
   ]
  }
 ],
 "metadata": {
  "kernelspec": {
   "display_name": "venv",
   "language": "python",
   "name": "python3"
  },
  "language_info": {
   "codemirror_mode": {
    "name": "ipython",
    "version": 3
   },
   "file_extension": ".py",
   "mimetype": "text/x-python",
   "name": "python",
   "nbconvert_exporter": "python",
   "pygments_lexer": "ipython3",
   "version": "3.11.3"
  }
 },
 "nbformat": 4,
 "nbformat_minor": 5
}
