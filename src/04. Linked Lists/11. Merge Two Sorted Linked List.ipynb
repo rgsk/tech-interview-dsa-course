{
 "cells": [
  {
   "cell_type": "code",
   "execution_count": 1,
   "id": "9d612df0",
   "metadata": {},
   "outputs": [],
   "source": [
    "class ListNode:\n",
    "\tdef __init__(self, data=0, next=None):\n",
    "\t\tself.data = data\n",
    "\t\tself.next = next"
   ]
  },
  {
   "cell_type": "code",
   "execution_count": 2,
   "id": "bbbef2a2",
   "metadata": {},
   "outputs": [],
   "source": [
    "def printList(node: ListNode):\n",
    "    temp = node\n",
    "    while temp:\n",
    "        if temp.next:\n",
    "            print(f'{temp.data}', end = \"->\")\n",
    "        else:\n",
    "            print(temp.data)\n",
    "        temp = temp.next"
   ]
  },
  {
   "cell_type": "code",
   "execution_count": 3,
   "id": "c615be4e",
   "metadata": {},
   "outputs": [],
   "source": [
    "class Solution:\n",
    "    def mergeTwoSortedList(self, firstList: ListNode, secondList: ListNode) -> ListNode:\n",
    "        dummy = ListNode(-1)\n",
    "        temp = dummy\n",
    "        while firstList and secondList:\n",
    "            if firstList.data < secondList.data:\n",
    "                temp.next = firstList\n",
    "                firstList = firstList.next\n",
    "            else:\n",
    "                temp.next = secondList\n",
    "                secondList = secondList.next\n",
    "            temp = temp.next\n",
    "        temp.next = firstList if firstList else secondList\n",
    "        return dummy.next"
   ]
  },
  {
   "cell_type": "code",
   "execution_count": 4,
   "id": "e04b251e",
   "metadata": {},
   "outputs": [
    {
     "name": "stdout",
     "output_type": "stream",
     "text": [
      "1->2->3->4->5->7\n"
     ]
    }
   ],
   "source": [
    "A = ListNode(2, ListNode(3, ListNode(7)))\n",
    "B = ListNode(1, ListNode(4, ListNode(5)))\n",
    "sol = Solution()\n",
    "C = sol.mergeTwoSortedList(A, B)\n",
    "printList(C)"
   ]
  }
 ],
 "metadata": {
  "kernelspec": {
   "display_name": "venv",
   "language": "python",
   "name": "python3"
  },
  "language_info": {
   "codemirror_mode": {
    "name": "ipython",
    "version": 3
   },
   "file_extension": ".py",
   "mimetype": "text/x-python",
   "name": "python",
   "nbconvert_exporter": "python",
   "pygments_lexer": "ipython3",
   "version": "3.11.3"
  }
 },
 "nbformat": 4,
 "nbformat_minor": 5
}
