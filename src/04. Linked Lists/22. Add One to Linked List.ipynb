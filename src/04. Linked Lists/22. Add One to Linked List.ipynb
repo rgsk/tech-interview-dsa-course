{
 "cells": [
  {
   "cell_type": "code",
   "execution_count": 14,
   "id": "2a7a9b96",
   "metadata": {},
   "outputs": [],
   "source": [
    "class ListNode:\n",
    "\tdef __init__(self, data=0, next=None):\n",
    "\t\tself.data = data\n",
    "\t\tself.next = next"
   ]
  },
  {
   "cell_type": "code",
   "execution_count": 15,
   "id": "e1d88c1f",
   "metadata": {},
   "outputs": [],
   "source": [
    "def printList(node: ListNode):\n",
    "    temp = node\n",
    "    while temp:\n",
    "        if temp.next:\n",
    "            print(f'{temp.data}', end = \"->\")\n",
    "        else:\n",
    "            print(temp.data)\n",
    "        temp = temp.next"
   ]
  },
  {
   "cell_type": "code",
   "execution_count": 16,
   "id": "225c6108",
   "metadata": {},
   "outputs": [],
   "source": [
    "class Solution:\n",
    "    def reverse(self, head: ListNode) -> ListNode:\n",
    "        prev = None\n",
    "        curr = head\n",
    "        while curr:\n",
    "            nxt = curr.next\n",
    "            curr.next = prev\n",
    "            prev = curr\n",
    "            curr = nxt\n",
    "        return prev\n",
    "\n",
    "    def addOneToList(self, head: ListNode) -> ListNode:\n",
    "        # Step 1: Reverse the list\n",
    "        head = self.reverse(head)\n",
    "\n",
    "        # Step 2: Add 1\n",
    "        carry = 1\n",
    "        curr = head\n",
    "        while curr:\n",
    "            curr.data += carry\n",
    "            if curr.data < 10:\n",
    "                carry = 0\n",
    "                break\n",
    "            else:\n",
    "                curr.data = 0\n",
    "                if not curr.next:\n",
    "                    curr.next = ListNode(0)\n",
    "                curr = curr.next\n",
    "\n",
    "        # Step 3: Reverse again\n",
    "        return self.reverse(head)"
   ]
  },
  {
   "cell_type": "code",
   "execution_count": 17,
   "id": "fb2dc990",
   "metadata": {},
   "outputs": [
    {
     "name": "stdout",
     "output_type": "stream",
     "text": [
      "7->9->0\n"
     ]
    }
   ],
   "source": [
    "head = ListNode(7, ListNode(8, ListNode(9)))\n",
    "sol = Solution()\n",
    "res = sol.addOneToList(head)\n",
    "printList(res)"
   ]
  },
  {
   "cell_type": "code",
   "execution_count": 18,
   "id": "a3a86d10",
   "metadata": {},
   "outputs": [
    {
     "name": "stdout",
     "output_type": "stream",
     "text": [
      "1->0->0->0\n"
     ]
    }
   ],
   "source": [
    "head = ListNode(9, ListNode(9, ListNode(9)))\n",
    "sol = Solution()\n",
    "res = sol.addOneToList(head)\n",
    "printList(res)"
   ]
  }
 ],
 "metadata": {
  "kernelspec": {
   "display_name": "venv",
   "language": "python",
   "name": "python3"
  },
  "language_info": {
   "codemirror_mode": {
    "name": "ipython",
    "version": 3
   },
   "file_extension": ".py",
   "mimetype": "text/x-python",
   "name": "python",
   "nbconvert_exporter": "python",
   "pygments_lexer": "ipython3",
   "version": "3.11.3"
  }
 },
 "nbformat": 4,
 "nbformat_minor": 5
}
