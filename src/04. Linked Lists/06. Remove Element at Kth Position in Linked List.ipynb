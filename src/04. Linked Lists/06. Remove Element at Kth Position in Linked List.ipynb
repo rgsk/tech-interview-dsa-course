{
 "cells": [
  {
   "cell_type": "code",
   "execution_count": 5,
   "id": "8fc9a713",
   "metadata": {},
   "outputs": [],
   "source": [
    "class ListNode:\n",
    "\tdef __init__(self, data=0, next=None):\n",
    "\t\tself.data = data\n",
    "\t\tself.next = next"
   ]
  },
  {
   "cell_type": "code",
   "execution_count": 6,
   "id": "3092ba7b",
   "metadata": {},
   "outputs": [],
   "source": [
    "def printList(node: ListNode):\n",
    "    temp = node\n",
    "    while temp:\n",
    "        if temp.next:\n",
    "            print(f'{temp.data}', end = \"->\")\n",
    "        else:\n",
    "            print(temp.data)\n",
    "        temp = temp.next"
   ]
  },
  {
   "cell_type": "code",
   "execution_count": 7,
   "id": "53712389",
   "metadata": {},
   "outputs": [],
   "source": [
    "class Solution:\n",
    "    def removekthElement(self, head: ListNode, k: int) -> ListNode:\n",
    "        if k == 1:\n",
    "            return head.next\n",
    "        temp = head\n",
    "        while k > 2:\n",
    "            temp = temp.next\n",
    "            k -= 1\n",
    "        temp.next = temp.next.next\n",
    "        return head"
   ]
  },
  {
   "cell_type": "code",
   "execution_count": 8,
   "id": "4ed011c9",
   "metadata": {},
   "outputs": [
    {
     "name": "stdout",
     "output_type": "stream",
     "text": [
      "1->4->7\n"
     ]
    }
   ],
   "source": [
    "head = ListNode(1, ListNode(3, ListNode(4, ListNode(7))))\n",
    "sol = Solution()\n",
    "res = sol.removekthElement(head, 2)\n",
    "printList(res)"
   ]
  }
 ],
 "metadata": {
  "kernelspec": {
   "display_name": "venv",
   "language": "python",
   "name": "python3"
  },
  "language_info": {
   "codemirror_mode": {
    "name": "ipython",
    "version": 3
   },
   "file_extension": ".py",
   "mimetype": "text/x-python",
   "name": "python",
   "nbconvert_exporter": "python",
   "pygments_lexer": "ipython3",
   "version": "3.11.3"
  }
 },
 "nbformat": 4,
 "nbformat_minor": 5
}
