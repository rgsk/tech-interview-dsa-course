{
 "cells": [
  {
   "cell_type": "code",
   "execution_count": 1,
   "id": "e83d44a3",
   "metadata": {},
   "outputs": [],
   "source": [
    "class ListNode:\n",
    "\tdef __init__(self, data=0, next=None):\n",
    "\t\tself.data = data\n",
    "\t\tself.next = next"
   ]
  },
  {
   "cell_type": "code",
   "execution_count": 2,
   "id": "110442c4",
   "metadata": {},
   "outputs": [],
   "source": [
    "from typing import List\n",
    "\n",
    "class Solution:\n",
    "    def linkedListToArray(self, head: ListNode) -> List[int]:\n",
    "        array = []\n",
    "        temp = head\n",
    "        while temp:\n",
    "            array.append(temp.data)\n",
    "            temp = temp.next\n",
    "        return array"
   ]
  },
  {
   "cell_type": "code",
   "execution_count": 3,
   "id": "7d2bb46c",
   "metadata": {},
   "outputs": [
    {
     "data": {
      "text/plain": [
       "[1, 3, 4, 7]"
      ]
     },
     "execution_count": 3,
     "metadata": {},
     "output_type": "execute_result"
    }
   ],
   "source": [
    "head = ListNode(1, ListNode(3, ListNode(4, ListNode(7))))\n",
    "sol = Solution()\n",
    "sol.linkedListToArray(head)"
   ]
  }
 ],
 "metadata": {
  "kernelspec": {
   "display_name": "venv",
   "language": "python",
   "name": "python3"
  },
  "language_info": {
   "codemirror_mode": {
    "name": "ipython",
    "version": 3
   },
   "file_extension": ".py",
   "mimetype": "text/x-python",
   "name": "python",
   "nbconvert_exporter": "python",
   "pygments_lexer": "ipython3",
   "version": "3.11.3"
  }
 },
 "nbformat": 4,
 "nbformat_minor": 5
}
