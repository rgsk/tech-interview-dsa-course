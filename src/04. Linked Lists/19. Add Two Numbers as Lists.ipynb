{
 "cells": [
  {
   "cell_type": "code",
   "execution_count": 1,
   "id": "3691b9ff",
   "metadata": {},
   "outputs": [],
   "source": [
    "class ListNode:\n",
    "\tdef __init__(self, data=0, next=None):\n",
    "\t\tself.data = data\n",
    "\t\tself.next = next"
   ]
  },
  {
   "cell_type": "code",
   "execution_count": 2,
   "id": "634df8c2",
   "metadata": {},
   "outputs": [],
   "source": [
    "def printList(node: ListNode):\n",
    "    temp = node\n",
    "    while temp:\n",
    "        if temp.next:\n",
    "            print(f'{temp.data}', end = \"->\")\n",
    "        else:\n",
    "            print(temp.data)\n",
    "        temp = temp.next"
   ]
  },
  {
   "cell_type": "code",
   "execution_count": 3,
   "id": "3823aeb1",
   "metadata": {},
   "outputs": [],
   "source": [
    "class Solution:\n",
    "    def addTwoNumbers(self, firstList: ListNode, secondList: ListNode) -> ListNode:\n",
    "        dummy = ListNode()\n",
    "        current = dummy\n",
    "        carry = 0\n",
    "\n",
    "        while firstList or secondList or carry:\n",
    "            val1 = firstList.data if firstList else 0\n",
    "            val2 = secondList.data if secondList else 0\n",
    "\n",
    "            total = val1 + val2 + carry\n",
    "            carry = total // 10\n",
    "            current.next = ListNode(total % 10)\n",
    "\n",
    "            current = current.next\n",
    "            if firstList:\n",
    "                firstList = firstList.next\n",
    "            if secondList:\n",
    "                secondList = secondList.next\n",
    "\n",
    "        return dummy.next"
   ]
  },
  {
   "cell_type": "code",
   "execution_count": 4,
   "id": "f7d8a11a",
   "metadata": {},
   "outputs": [
    {
     "name": "stdout",
     "output_type": "stream",
     "text": [
      "0->4->1->1\n"
     ]
    }
   ],
   "source": [
    "firstList = ListNode(1, ListNode(0, ListNode(5)))\n",
    "secondList = ListNode(9, ListNode(3, ListNode(6)))\n",
    "sol = Solution()\n",
    "result = sol.addTwoNumbers(firstList, secondList)\n",
    "printList(result)"
   ]
  }
 ],
 "metadata": {
  "kernelspec": {
   "display_name": "venv",
   "language": "python",
   "name": "python3"
  },
  "language_info": {
   "codemirror_mode": {
    "name": "ipython",
    "version": 3
   },
   "file_extension": ".py",
   "mimetype": "text/x-python",
   "name": "python",
   "nbconvert_exporter": "python",
   "pygments_lexer": "ipython3",
   "version": "3.11.3"
  }
 },
 "nbformat": 4,
 "nbformat_minor": 5
}
