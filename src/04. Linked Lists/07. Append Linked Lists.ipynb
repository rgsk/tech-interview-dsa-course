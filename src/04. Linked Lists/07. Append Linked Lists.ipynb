{
 "cells": [
  {
   "cell_type": "code",
   "execution_count": 1,
   "id": "ca767ba6",
   "metadata": {},
   "outputs": [],
   "source": [
    "class ListNode:\n",
    "\tdef __init__(self, data=0, next=None):\n",
    "\t\tself.data = data\n",
    "\t\tself.next = next"
   ]
  },
  {
   "cell_type": "code",
   "execution_count": 2,
   "id": "454385e4",
   "metadata": {},
   "outputs": [],
   "source": [
    "def printList(node: ListNode):\n",
    "    temp = node\n",
    "    while temp:\n",
    "        if temp.next:\n",
    "            print(f'{temp.data}', end = \"->\")\n",
    "        else:\n",
    "            print(temp.data)\n",
    "        temp = temp.next"
   ]
  },
  {
   "cell_type": "code",
   "execution_count": 3,
   "id": "ece8ca8d",
   "metadata": {},
   "outputs": [],
   "source": [
    "class Solution:\n",
    "    def appendLists(self, list1: ListNode, list2: ListNode) -> ListNode:\n",
    "        temp = list1\n",
    "        while temp.next:\n",
    "            temp = temp.next\n",
    "        temp.next = list2\n",
    "        return list1"
   ]
  },
  {
   "cell_type": "code",
   "execution_count": 4,
   "id": "e302d5a2",
   "metadata": {},
   "outputs": [
    {
     "name": "stdout",
     "output_type": "stream",
     "text": [
      "1->3->4->7->6->2->5\n"
     ]
    }
   ],
   "source": [
    "list1 = ListNode(1, ListNode(3, ListNode(4, ListNode(7))))\n",
    "list2 = ListNode(6, ListNode(2, ListNode(5)))\n",
    "\n",
    "sol = Solution()\n",
    "result = sol.appendLists(list1, list2)\n",
    "printList(result)"
   ]
  }
 ],
 "metadata": {
  "kernelspec": {
   "display_name": "venv",
   "language": "python",
   "name": "python3"
  },
  "language_info": {
   "codemirror_mode": {
    "name": "ipython",
    "version": 3
   },
   "file_extension": ".py",
   "mimetype": "text/x-python",
   "name": "python",
   "nbconvert_exporter": "python",
   "pygments_lexer": "ipython3",
   "version": "3.11.3"
  }
 },
 "nbformat": 4,
 "nbformat_minor": 5
}
