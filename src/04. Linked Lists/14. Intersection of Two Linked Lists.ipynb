{
 "cells": [
  {
   "cell_type": "code",
   "execution_count": 7,
   "id": "a4b22495",
   "metadata": {},
   "outputs": [],
   "source": [
    "class ListNode:\n",
    "\tdef __init__(self, data=0, next=None):\n",
    "\t\tself.data = data\n",
    "\t\tself.next = next"
   ]
  },
  {
   "cell_type": "code",
   "execution_count": 8,
   "id": "f7430ddc",
   "metadata": {},
   "outputs": [],
   "source": [
    "from typing import Optional\n",
    "\n",
    "class Solution:\n",
    "    def getIntersectionNode(self, A: ListNode, B: ListNode) -> Optional[ListNode]:\n",
    "        tempA = A\n",
    "        tempB = B\n",
    "        while tempA != tempB:\n",
    "            tempA = tempA.next if tempA else B\n",
    "            tempB = tempB.next if tempB else A\n",
    "        return tempA"
   ]
  },
  {
   "cell_type": "code",
   "execution_count": 9,
   "id": "304cd600",
   "metadata": {},
   "outputs": [
    {
     "name": "stdout",
     "output_type": "stream",
     "text": [
      "8\n"
     ]
    }
   ],
   "source": [
    "def main():\n",
    "    # Shared part\n",
    "    common = ListNode(8)\n",
    "    common.next = ListNode(10)\n",
    "\n",
    "    # List A: 3 → 7 → 8 → 10\n",
    "    a1 = ListNode(3)\n",
    "    a2 = ListNode(7)\n",
    "    a3 = ListNode(12)\n",
    "    a1.next = a2\n",
    "    a2.next = a3\n",
    "    a3.next = common\n",
    "\n",
    "    # List B: 99 → 1 → 8 → 10\n",
    "    b1 = ListNode(99)\n",
    "    b2 = ListNode(1)\n",
    "    b1.next = b2\n",
    "    b2.next = common\n",
    "\n",
    "    sol = Solution()\n",
    "    result = sol.getIntersectionNode(a1, b1)\n",
    "    print(result.data if result else -1)\n",
    "\n",
    "main()"
   ]
  }
 ],
 "metadata": {
  "kernelspec": {
   "display_name": "venv",
   "language": "python",
   "name": "python3"
  },
  "language_info": {
   "codemirror_mode": {
    "name": "ipython",
    "version": 3
   },
   "file_extension": ".py",
   "mimetype": "text/x-python",
   "name": "python",
   "nbconvert_exporter": "python",
   "pygments_lexer": "ipython3",
   "version": "3.11.3"
  }
 },
 "nbformat": 4,
 "nbformat_minor": 5
}
