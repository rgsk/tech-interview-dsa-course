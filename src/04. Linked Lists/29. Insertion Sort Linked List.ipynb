{
 "cells": [
  {
   "cell_type": "code",
   "execution_count": 1,
   "id": "4ef71d37",
   "metadata": {},
   "outputs": [],
   "source": [
    "\n",
    "class ListNode:\n",
    "\tdef __init__(self, data=0, next=None):\n",
    "\t\tself.data = data\n",
    "\t\tself.next = next"
   ]
  },
  {
   "cell_type": "code",
   "execution_count": 2,
   "id": "75f13140",
   "metadata": {},
   "outputs": [],
   "source": [
    "def formList(arr):\n",
    "    if not arr:\n",
    "        return None\n",
    "\n",
    "    head = ListNode(arr[0])\n",
    "    curr = head\n",
    "    for value in arr[1:]:\n",
    "        curr.next = ListNode(value)\n",
    "        curr = curr.next\n",
    "    return head"
   ]
  },
  {
   "cell_type": "code",
   "execution_count": 3,
   "id": "64e405ae",
   "metadata": {},
   "outputs": [],
   "source": [
    "def printList(node: ListNode):\n",
    "    temp = node\n",
    "    while temp:\n",
    "        if temp.next:\n",
    "            print(f'{temp.data}', end = \"->\")\n",
    "        else:\n",
    "            print(temp.data)\n",
    "        temp = temp.next"
   ]
  },
  {
   "cell_type": "code",
   "execution_count": 4,
   "id": "307f6e8a",
   "metadata": {},
   "outputs": [],
   "source": [
    "class Solution:\n",
    "    def __init__(self):\n",
    "        self.sortedHead = None\n",
    "\n",
    "    def insertNode(self, node: ListNode):\n",
    "        if self.sortedHead is None or self.sortedHead.data >= node.data:\n",
    "            node.next = self.sortedHead\n",
    "            self.sortedHead = node\n",
    "            return\n",
    "\n",
    "        current = self.sortedHead\n",
    "        while current.next and current.next.data < node.data:\n",
    "            current = current.next\n",
    "\n",
    "        node.next = current.next\n",
    "        current.next = node\n",
    "\n",
    "    def insertionSort(self, head: ListNode) -> ListNode:\n",
    "        self.sortedHead = None\n",
    "        current = head\n",
    "\n",
    "        while current:\n",
    "            next_node = current.next\n",
    "            current.next = None  # disconnect to avoid cycles\n",
    "            self.insertNode(current)\n",
    "            current = next_node\n",
    "\n",
    "        return self.sortedHead"
   ]
  },
  {
   "cell_type": "code",
   "execution_count": 5,
   "id": "bf60110f",
   "metadata": {},
   "outputs": [
    {
     "name": "stdout",
     "output_type": "stream",
     "text": [
      "1->2->2->3->4->4->5->6->7->8\n"
     ]
    }
   ],
   "source": [
    "head = formList([1, 6, 2, 4, 3, 5, 2, 8, 4, 7])\n",
    "sol = Solution()\n",
    "res = sol.insertionSort(head)\n",
    "printList(res)"
   ]
  }
 ],
 "metadata": {
  "kernelspec": {
   "display_name": "venv",
   "language": "python",
   "name": "python3"
  },
  "language_info": {
   "codemirror_mode": {
    "name": "ipython",
    "version": 3
   },
   "file_extension": ".py",
   "mimetype": "text/x-python",
   "name": "python",
   "nbconvert_exporter": "python",
   "pygments_lexer": "ipython3",
   "version": "3.11.3"
  }
 },
 "nbformat": 4,
 "nbformat_minor": 5
}
