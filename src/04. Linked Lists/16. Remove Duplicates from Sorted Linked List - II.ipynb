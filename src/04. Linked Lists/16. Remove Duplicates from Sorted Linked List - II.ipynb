{
 "cells": [
  {
   "cell_type": "code",
   "execution_count": 1,
   "id": "587c26ab",
   "metadata": {},
   "outputs": [],
   "source": [
    "class ListNode:\n",
    "\tdef __init__(self, data=0, next=None):\n",
    "\t\tself.data = data\n",
    "\t\tself.next = next"
   ]
  },
  {
   "cell_type": "code",
   "execution_count": 2,
   "id": "a0f8bf86",
   "metadata": {},
   "outputs": [],
   "source": [
    "def printList(node: ListNode):\n",
    "    temp = node\n",
    "    while temp:\n",
    "        if temp.next:\n",
    "            print(f'{temp.data}', end = \"->\")\n",
    "        else:\n",
    "            print(temp.data)\n",
    "        temp = temp.next"
   ]
  },
  {
   "cell_type": "code",
   "execution_count": 3,
   "id": "360ce8c2",
   "metadata": {},
   "outputs": [],
   "source": [
    "from typing import Optional\n",
    "\n",
    "\n",
    "class Solution:\n",
    "    def removeDuplicates(self, head: Optional[ListNode]) -> Optional[ListNode]:\n",
    "        dummy = ListNode(-1)\n",
    "        temp = dummy\n",
    "\n",
    "        while head:\n",
    "            cur = head.data\n",
    "            duplicates = False\n",
    "\n",
    "            while head.next and head.next.data == cur:\n",
    "                duplicates = True\n",
    "                head = head.next\n",
    "\n",
    "            if not duplicates:\n",
    "                temp.next = head\n",
    "                temp = temp.next\n",
    "\n",
    "            head = head.next\n",
    "\n",
    "        temp.next = None\n",
    "        return dummy.next"
   ]
  },
  {
   "cell_type": "code",
   "execution_count": 4,
   "id": "d624d497",
   "metadata": {},
   "outputs": [
    {
     "name": "stdout",
     "output_type": "stream",
     "text": [
      "1->4->7\n"
     ]
    }
   ],
   "source": [
    "# 1→2→2→2→3→3→4→7\n",
    "head = ListNode(1, ListNode(2, ListNode(2, ListNode(2, ListNode(3, ListNode(3, ListNode(4, ListNode(7))))))))\n",
    "sol = Solution()\n",
    "sol.removeDuplicates(head)\n",
    "printList(head)"
   ]
  }
 ],
 "metadata": {
  "kernelspec": {
   "display_name": "venv",
   "language": "python",
   "name": "python3"
  },
  "language_info": {
   "codemirror_mode": {
    "name": "ipython",
    "version": 3
   },
   "file_extension": ".py",
   "mimetype": "text/x-python",
   "name": "python",
   "nbconvert_exporter": "python",
   "pygments_lexer": "ipython3",
   "version": "3.11.3"
  }
 },
 "nbformat": 4,
 "nbformat_minor": 5
}
