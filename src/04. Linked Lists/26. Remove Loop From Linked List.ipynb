{
 "cells": [
  {
   "cell_type": "code",
   "execution_count": 5,
   "id": "98e42e52",
   "metadata": {},
   "outputs": [],
   "source": [
    "class ListNode:\n",
    "\tdef __init__(self, data=0, next=None):\n",
    "\t\tself.data = data\n",
    "\t\tself.next = next"
   ]
  },
  {
   "cell_type": "code",
   "execution_count": 6,
   "id": "b32214e3",
   "metadata": {},
   "outputs": [],
   "source": [
    "def printList(node: ListNode):\n",
    "    temp = node\n",
    "    while temp:\n",
    "        if temp.next:\n",
    "            print(f'{temp.data}', end = \"->\")\n",
    "        else:\n",
    "            print(temp.data)\n",
    "        temp = temp.next"
   ]
  },
  {
   "cell_type": "code",
   "execution_count": null,
   "id": "93cd77bc",
   "metadata": {},
   "outputs": [],
   "source": [
    "class Solution:\n",
    "    def removeLoop(self, head: ListNode) -> None:\n",
    "        if not head or not head.next:\n",
    "            return\n",
    "\n",
    "        slow = head.next\n",
    "        fast = head.next.next\n",
    "        prev = None\n",
    "\n",
    "        while fast and fast.next and slow != fast:\n",
    "            prev = slow\n",
    "            slow = slow.next\n",
    "            fast = fast.next.next\n",
    "\n",
    "        if slow == fast:\n",
    "            fast = head\n",
    "            while slow != fast:\n",
    "                prev = slow\n",
    "                slow = slow.next\n",
    "                fast = fast.next\n",
    "            prev.next = None"
   ]
  },
  {
   "cell_type": "code",
   "execution_count": 8,
   "id": "9f6a9ab0",
   "metadata": {},
   "outputs": [
    {
     "name": "stdout",
     "output_type": "stream",
     "text": [
      "1->7->3->6\n"
     ]
    }
   ],
   "source": [
    "# Construct linked list: 1 -> 7 -> 3 -> 6 -> (back to 7)\n",
    "head = ListNode(1)\n",
    "seven = ListNode(7)\n",
    "three = ListNode(3)\n",
    "six = ListNode(6)\n",
    "\n",
    "head.next = seven\n",
    "seven.next = three\n",
    "three.next = six\n",
    "six.next = seven  # Loop back to 7\n",
    "\n",
    "sol = Solution()\n",
    "sol.removeLoop(head)\n",
    "printList(head)"
   ]
  }
 ],
 "metadata": {
  "kernelspec": {
   "display_name": "venv",
   "language": "python",
   "name": "python3"
  },
  "language_info": {
   "codemirror_mode": {
    "name": "ipython",
    "version": 3
   },
   "file_extension": ".py",
   "mimetype": "text/x-python",
   "name": "python",
   "nbconvert_exporter": "python",
   "pygments_lexer": "ipython3",
   "version": "3.11.3"
  }
 },
 "nbformat": 4,
 "nbformat_minor": 5
}
