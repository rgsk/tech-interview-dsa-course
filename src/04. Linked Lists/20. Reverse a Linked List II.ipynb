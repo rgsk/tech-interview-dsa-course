{
 "cells": [
  {
   "cell_type": "code",
   "execution_count": 8,
   "id": "d4e1d1ac",
   "metadata": {},
   "outputs": [],
   "source": [
    "class ListNode:\n",
    "\tdef __init__(self, data=0, next=None):\n",
    "\t\tself.data = data\n",
    "\t\tself.next = next"
   ]
  },
  {
   "cell_type": "code",
   "execution_count": 9,
   "id": "be64e637",
   "metadata": {},
   "outputs": [],
   "source": [
    "def printList(node: ListNode):\n",
    "    temp = node\n",
    "    while temp:\n",
    "        if temp.next:\n",
    "            print(f'{temp.data}', end = \"->\")\n",
    "        else:\n",
    "            print(temp.data)\n",
    "        temp = temp.next"
   ]
  },
  {
   "cell_type": "code",
   "execution_count": 10,
   "id": "7a0913e4",
   "metadata": {},
   "outputs": [],
   "source": [
    "class Solution:\n",
    "    def reverseLinkedListRange(self, head: ListNode, left: int, right: int) -> ListNode:\n",
    "        # Edge case: nothing to do\n",
    "        if left == right or not head:\n",
    "            return head\n",
    "\n",
    "        # Dummy → head simplifies head‐end reversals\n",
    "        dummy = ListNode(0, head)\n",
    "        prev = dummy\n",
    "\n",
    "        # 1) Advance `prev` so that prev.next is the `left`‑th node\n",
    "        for _ in range(left - 1):\n",
    "            prev = prev.next\n",
    "\n",
    "        # 2) Reverse the sublist of length (right–left+1)\n",
    "        #    `curr` will be the first node in the to‑be‑reversed segment\n",
    "        curr = prev.next\n",
    "        for _ in range(right - left):\n",
    "            # extract node after `curr`\n",
    "            mover = curr.next\n",
    "            # unlink mover\n",
    "            curr.next = mover.next\n",
    "            # insert mover right after prev\n",
    "            mover.next = prev.next\n",
    "            prev.next = mover\n",
    "\n",
    "        return dummy.next"
   ]
  },
  {
   "cell_type": "code",
   "execution_count": 11,
   "id": "b86bafb4",
   "metadata": {},
   "outputs": [
    {
     "name": "stdout",
     "output_type": "stream",
     "text": [
      "1->13->7->5\n"
     ]
    }
   ],
   "source": [
    "head = ListNode(1, ListNode(5, ListNode(7, ListNode(13))))\n",
    "left = 2\n",
    "right = 4\n",
    "sol = Solution()\n",
    "node = sol.reverseLinkedListRange(head, left, right)\n",
    "printList(node)"
   ]
  },
  {
   "cell_type": "code",
   "execution_count": 12,
   "id": "017ae026",
   "metadata": {},
   "outputs": [
    {
     "name": "stdout",
     "output_type": "stream",
     "text": [
      "1->7->5->13\n"
     ]
    }
   ],
   "source": [
    "head = ListNode(1, ListNode(5, ListNode(7, ListNode(13))))\n",
    "left = 2\n",
    "right = 3\n",
    "sol = Solution()\n",
    "node = sol.reverseLinkedListRange(head, left, right)\n",
    "printList(node)"
   ]
  }
 ],
 "metadata": {
  "kernelspec": {
   "display_name": "venv",
   "language": "python",
   "name": "python3"
  },
  "language_info": {
   "codemirror_mode": {
    "name": "ipython",
    "version": 3
   },
   "file_extension": ".py",
   "mimetype": "text/x-python",
   "name": "python",
   "nbconvert_exporter": "python",
   "pygments_lexer": "ipython3",
   "version": "3.11.3"
  }
 },
 "nbformat": 4,
 "nbformat_minor": 5
}
