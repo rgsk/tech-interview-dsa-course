{
 "cells": [
  {
   "cell_type": "code",
   "execution_count": null,
   "id": "4fb4cdf0",
   "metadata": {},
   "outputs": [],
   "source": [
    "class ListNode:\n",
    "\tdef __init__(self, data=0, next=None):\n",
    "\t\tself.data = data\n",
    "\t\tself.next = next"
   ]
  },
  {
   "cell_type": "code",
   "execution_count": null,
   "id": "69d154f1",
   "metadata": {},
   "outputs": [],
   "source": [
    "def formList(arr):\n",
    "    if not arr:\n",
    "        return None\n",
    "\n",
    "    head = ListNode(arr[0])\n",
    "    curr = head\n",
    "    for value in arr[1:]:\n",
    "        curr.next = ListNode(value)\n",
    "        curr = curr.next\n",
    "    return head"
   ]
  },
  {
   "cell_type": "code",
   "execution_count": null,
   "id": "afd5eb52",
   "metadata": {},
   "outputs": [],
   "source": [
    "def printList(node: ListNode):\n",
    "    temp = node\n",
    "    while temp:\n",
    "        if temp.next:\n",
    "            print(f'{temp.data}', end = \"->\")\n",
    "        else:\n",
    "            print(temp.data)\n",
    "        temp = temp.next"
   ]
  },
  {
   "cell_type": "code",
   "execution_count": null,
   "id": "e46ea968",
   "metadata": {},
   "outputs": [],
   "source": [
    "class Solution:\n",
    "    def partitionList(self, head: ListNode, key: int) -> ListNode:\n",
    "        lesser = ListNode(-1)\n",
    "        same = ListNode(-1)\n",
    "        greater = ListNode(-1)\n",
    "\n",
    "        l = lesser\n",
    "        s = same\n",
    "        g = greater\n",
    "\n",
    "        temp = head\n",
    "        while temp:\n",
    "            if temp.data < key:\n",
    "                l.next = temp\n",
    "                l = l.next\n",
    "            elif temp.data > key:\n",
    "                g.next = temp\n",
    "                g = g.next\n",
    "            else:\n",
    "                s.next = temp\n",
    "                s = s.next\n",
    "            temp = temp.next\n",
    "\n",
    "        if not same.next:\n",
    "            l.next = greater.next\n",
    "            g.next = None\n",
    "            return lesser.next\n",
    "\n",
    "        l.next = same.next\n",
    "        s.next = greater.next\n",
    "        g.next = None\n",
    "        return lesser.next"
   ]
  },
  {
   "cell_type": "code",
   "execution_count": null,
   "id": "bec04d39",
   "metadata": {},
   "outputs": [],
   "source": [
    "head = formList([1, 6, 2, 4, 3, 5, 2, 8, 4, 7])\n",
    "key = 5\n",
    "sol = Solution()\n",
    "res = sol.partitionList(head, key)\n",
    "printList(res)"
   ]
  }
 ],
 "metadata": {
  "language_info": {
   "name": "python"
  }
 },
 "nbformat": 4,
 "nbformat_minor": 5
}
