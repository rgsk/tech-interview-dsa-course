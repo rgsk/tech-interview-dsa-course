{
 "cells": [
  {
   "cell_type": "code",
   "execution_count": 4,
   "id": "90055990",
   "metadata": {},
   "outputs": [],
   "source": [
    "class ListNode:\n",
    "\tdef __init__(self, data=0, next=None):\n",
    "\t\tself.data = data\n",
    "\t\tself.next = next"
   ]
  },
  {
   "cell_type": "code",
   "execution_count": 5,
   "id": "621dbd63",
   "metadata": {},
   "outputs": [],
   "source": [
    "class Solution:\n",
    "\tdef printLinkedListReverse(self, head: ListNode) -> None:\n",
    "\t\tif head:\n",
    "\t\t\tself.printLinkedListReverse(head.next)\n",
    "\t\t\tprint(head.data, end=\" \")"
   ]
  },
  {
   "cell_type": "code",
   "execution_count": 6,
   "id": "9b03143f",
   "metadata": {},
   "outputs": [
    {
     "name": "stdout",
     "output_type": "stream",
     "text": [
      "7 4 3 1 "
     ]
    }
   ],
   "source": [
    "head = ListNode(1, ListNode(3, ListNode(4, ListNode(7))))\n",
    "sol = Solution()\n",
    "sol.printLinkedListReverse(head)"
   ]
  }
 ],
 "metadata": {
  "kernelspec": {
   "display_name": "venv",
   "language": "python",
   "name": "python3"
  },
  "language_info": {
   "codemirror_mode": {
    "name": "ipython",
    "version": 3
   },
   "file_extension": ".py",
   "mimetype": "text/x-python",
   "name": "python",
   "nbconvert_exporter": "python",
   "pygments_lexer": "ipython3",
   "version": "3.11.3"
  }
 },
 "nbformat": 4,
 "nbformat_minor": 5
}
