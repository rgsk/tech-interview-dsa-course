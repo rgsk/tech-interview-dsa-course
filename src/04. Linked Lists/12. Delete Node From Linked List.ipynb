{
 "cells": [
  {
   "cell_type": "code",
   "execution_count": 1,
   "id": "2d53603c",
   "metadata": {},
   "outputs": [],
   "source": [
    "class ListNode:\n",
    "\tdef __init__(self, data=0, next=None):\n",
    "\t\tself.data = data\n",
    "\t\tself.next = next"
   ]
  },
  {
   "cell_type": "code",
   "execution_count": 2,
   "id": "060dfe1e",
   "metadata": {},
   "outputs": [],
   "source": [
    "def printList(node: ListNode):\n",
    "    temp = node\n",
    "    while temp:\n",
    "        if temp.next:\n",
    "            print(f'{temp.data}', end = \"->\")\n",
    "        else:\n",
    "            print(temp.data)\n",
    "        temp = temp.next"
   ]
  },
  {
   "cell_type": "code",
   "execution_count": 3,
   "id": "72ac8d97",
   "metadata": {},
   "outputs": [],
   "source": [
    "class Solution:\n",
    "\tdef deleteNode(self, node: ListNode) -> None:\n",
    "\t\tnode.data = node.next.data\n",
    "\t\tnode.next = node.next.next"
   ]
  },
  {
   "cell_type": "code",
   "execution_count": 4,
   "id": "33b3d90e",
   "metadata": {},
   "outputs": [
    {
     "name": "stdout",
     "output_type": "stream",
     "text": [
      "1->3->4\n"
     ]
    }
   ],
   "source": [
    "node = ListNode(2, ListNode(3, ListNode(4)))\n",
    "head = ListNode(1, node)\n",
    "sol = Solution()\n",
    "sol.deleteNode(node)\n",
    "printList(head)"
   ]
  }
 ],
 "metadata": {
  "kernelspec": {
   "display_name": "venv",
   "language": "python",
   "name": "python3"
  },
  "language_info": {
   "codemirror_mode": {
    "name": "ipython",
    "version": 3
   },
   "file_extension": ".py",
   "mimetype": "text/x-python",
   "name": "python",
   "nbconvert_exporter": "python",
   "pygments_lexer": "ipython3",
   "version": "3.11.3"
  }
 },
 "nbformat": 4,
 "nbformat_minor": 5
}
