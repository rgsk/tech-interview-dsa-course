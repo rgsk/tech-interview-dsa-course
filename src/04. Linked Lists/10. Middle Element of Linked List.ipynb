{
 "cells": [
  {
   "cell_type": "code",
   "execution_count": 4,
   "id": "ce856c86",
   "metadata": {},
   "outputs": [],
   "source": [
    "class ListNode:\n",
    "\tdef __init__(self, data=0, next=None):\n",
    "\t\tself.data = data\n",
    "\t\tself.next = next"
   ]
  },
  {
   "cell_type": "code",
   "execution_count": 5,
   "id": "30bee654",
   "metadata": {},
   "outputs": [],
   "source": [
    "class Solution:\n",
    "    def getMiddleElementOfLinkedList(self, head: ListNode) -> int:\n",
    "        slow = head\n",
    "        fast = head\n",
    "        while fast.next and fast.next.next:\n",
    "            slow = slow.next\n",
    "            fast = fast.next.next\n",
    "        return slow.data"
   ]
  },
  {
   "cell_type": "code",
   "execution_count": 6,
   "id": "63ac7348",
   "metadata": {},
   "outputs": [
    {
     "data": {
      "text/plain": [
       "8"
      ]
     },
     "execution_count": 6,
     "metadata": {},
     "output_type": "execute_result"
    }
   ],
   "source": [
    "head = ListNode(1, ListNode(8, ListNode(3)))\n",
    "sol = Solution()\n",
    "sol.getMiddleElementOfLinkedList(head)"
   ]
  },
  {
   "cell_type": "code",
   "execution_count": 7,
   "id": "584b25c6",
   "metadata": {},
   "outputs": [
    {
     "data": {
      "text/plain": [
       "3"
      ]
     },
     "execution_count": 7,
     "metadata": {},
     "output_type": "execute_result"
    }
   ],
   "source": [
    "head = ListNode(1, ListNode(3, ListNode(8, ListNode(5))))\n",
    "sol = Solution()\n",
    "sol.getMiddleElementOfLinkedList(head)"
   ]
  }
 ],
 "metadata": {
  "kernelspec": {
   "display_name": "venv",
   "language": "python",
   "name": "python3"
  },
  "language_info": {
   "codemirror_mode": {
    "name": "ipython",
    "version": 3
   },
   "file_extension": ".py",
   "mimetype": "text/x-python",
   "name": "python",
   "nbconvert_exporter": "python",
   "pygments_lexer": "ipython3",
   "version": "3.11.3"
  }
 },
 "nbformat": 4,
 "nbformat_minor": 5
}
