{
 "cells": [
  {
   "cell_type": "code",
   "execution_count": 6,
   "id": "72a1fa98",
   "metadata": {},
   "outputs": [],
   "source": [
    "class ListNode:\n",
    "\tdef __init__(self, data=0, next=None):\n",
    "\t\tself.data = data\n",
    "\t\tself.next = next\n"
   ]
  },
  {
   "cell_type": "code",
   "execution_count": 7,
   "id": "2a4e9b80",
   "metadata": {},
   "outputs": [],
   "source": [
    "def formList(arr):\n",
    "    if not arr:\n",
    "        return None\n",
    "\n",
    "    head = ListNode(arr[0])\n",
    "    curr = head\n",
    "    for value in arr[1:]:\n",
    "        curr.next = ListNode(value)\n",
    "        curr = curr.next\n",
    "    return head"
   ]
  },
  {
   "cell_type": "code",
   "execution_count": 8,
   "id": "e98baba7",
   "metadata": {},
   "outputs": [],
   "source": [
    "def printList(node: ListNode):\n",
    "    temp = node\n",
    "    while temp:\n",
    "        if temp.next:\n",
    "            print(f'{temp.data}', end = \"->\")\n",
    "        else:\n",
    "            print(temp.data)\n",
    "        temp = temp.next"
   ]
  },
  {
   "cell_type": "code",
   "execution_count": 9,
   "id": "30edbdc5",
   "metadata": {},
   "outputs": [],
   "source": [
    "class Solution:\n",
    "    def rotateListByK(self, head: ListNode, k: int) -> ListNode:\n",
    "        if not head or not head.next or k == 0:\n",
    "            return head\n",
    "\n",
    "        # First, find the length of the linked list\n",
    "        length = 1\n",
    "        tail = head\n",
    "        while tail.next:\n",
    "            tail = tail.next\n",
    "            length += 1\n",
    "\n",
    "        # Adjust k to be within the range of the list length\n",
    "        k %= length\n",
    "        if k == 0:\n",
    "            return head\n",
    "\n",
    "        # Find the new tail: (length - k - 1)th node\n",
    "        new_tail = head\n",
    "        for _ in range(length - k - 1):\n",
    "            new_tail = new_tail.next\n",
    "\n",
    "        # The new head is next of new tail\n",
    "        new_head = new_tail.next\n",
    "\n",
    "        # Break the list\n",
    "        new_tail.next = None\n",
    "\n",
    "        # Connect the old tail to the old head\n",
    "        tail.next = head\n",
    "\n",
    "        return new_head"
   ]
  },
  {
   "cell_type": "code",
   "execution_count": 10,
   "id": "5e1e22fc",
   "metadata": {},
   "outputs": [
    {
     "name": "stdout",
     "output_type": "stream",
     "text": [
      "2->3->4->1\n"
     ]
    }
   ],
   "source": [
    "head = formList([1, 2, 3, 4])\n",
    "sol = Solution()\n",
    "res = sol.rotateListByK(head, 3)\n",
    "printList(res)"
   ]
  },
  {
   "cell_type": "code",
   "execution_count": 11,
   "id": "1a6996f0",
   "metadata": {},
   "outputs": [
    {
     "name": "stdout",
     "output_type": "stream",
     "text": [
      "3->1->2\n"
     ]
    }
   ],
   "source": [
    "head = formList([1, 2, 3])\n",
    "sol = Solution()\n",
    "res = sol.rotateListByK(head, 4)\n",
    "printList(res)"
   ]
  }
 ],
 "metadata": {
  "kernelspec": {
   "display_name": "venv",
   "language": "python",
   "name": "python3"
  },
  "language_info": {
   "codemirror_mode": {
    "name": "ipython",
    "version": 3
   },
   "file_extension": ".py",
   "mimetype": "text/x-python",
   "name": "python",
   "nbconvert_exporter": "python",
   "pygments_lexer": "ipython3",
   "version": "3.11.3"
  }
 },
 "nbformat": 4,
 "nbformat_minor": 5
}
