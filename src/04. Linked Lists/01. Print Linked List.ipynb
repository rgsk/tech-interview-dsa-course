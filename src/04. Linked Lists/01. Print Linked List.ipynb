{
 "cells": [
  {
   "cell_type": "code",
   "execution_count": 1,
   "id": "a4de55e7",
   "metadata": {},
   "outputs": [],
   "source": [
    "class ListNode:\n",
    "\tdef __init__(self, data=0, next=None):\n",
    "\t\tself.data = data\n",
    "\t\tself.next = next"
   ]
  },
  {
   "cell_type": "code",
   "execution_count": 2,
   "id": "f4486357",
   "metadata": {},
   "outputs": [],
   "source": [
    "class Solution:\n",
    "    def printLinkedList(self, head: ListNode) -> None:\n",
    "        temp = head\n",
    "        while temp:\n",
    "            print(temp.data, end = \" \")\n",
    "            temp = temp.next"
   ]
  },
  {
   "cell_type": "code",
   "execution_count": 3,
   "id": "c52d1603",
   "metadata": {},
   "outputs": [
    {
     "name": "stdout",
     "output_type": "stream",
     "text": [
      "1 3 4 7 "
     ]
    }
   ],
   "source": [
    "head = ListNode(1, ListNode(3, ListNode(4, ListNode(7))))\n",
    "sol = Solution()\n",
    "sol.printLinkedList(head)"
   ]
  }
 ],
 "metadata": {
  "kernelspec": {
   "display_name": "venv",
   "language": "python",
   "name": "python3"
  },
  "language_info": {
   "codemirror_mode": {
    "name": "ipython",
    "version": 3
   },
   "file_extension": ".py",
   "mimetype": "text/x-python",
   "name": "python",
   "nbconvert_exporter": "python",
   "pygments_lexer": "ipython3",
   "version": "3.11.3"
  }
 },
 "nbformat": 4,
 "nbformat_minor": 5
}
