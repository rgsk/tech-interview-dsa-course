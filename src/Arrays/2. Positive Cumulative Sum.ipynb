{
 "cells": [
  {
   "cell_type": "code",
   "execution_count": 12,
   "id": "11968751",
   "metadata": {},
   "outputs": [],
   "source": [
    "from typing import List"
   ]
  },
  {
   "cell_type": "code",
   "execution_count": 13,
   "id": "0dec2e8a",
   "metadata": {},
   "outputs": [],
   "source": [
    "class Solution:\n",
    "    def getPositiveCumulativeSum(self, arr: List[int]) -> List[int]:\n",
    "        result = []\n",
    "        cumulative_sum = 0\n",
    "        for v in arr:\n",
    "            cumulative_sum += v\n",
    "            if cumulative_sum > 0:\n",
    "                result.append(cumulative_sum)\n",
    "        return result"
   ]
  },
  {
   "cell_type": "code",
   "execution_count": 14,
   "id": "1563357c",
   "metadata": {},
   "outputs": [],
   "source": [
    "sol = Solution()"
   ]
  },
  {
   "cell_type": "code",
   "execution_count": 15,
   "id": "a210dd26",
   "metadata": {},
   "outputs": [
    {
     "data": {
      "text/plain": [
       "[1, 2, 6]"
      ]
     },
     "execution_count": 15,
     "metadata": {},
     "output_type": "execute_result"
    }
   ],
   "source": [
    "arr = [1, -2, 3, 4, -6]\n",
    "sol.getPositiveCumulativeSum(arr)"
   ]
  },
  {
   "cell_type": "code",
   "execution_count": 16,
   "id": "c48c25de",
   "metadata": {},
   "outputs": [
    {
     "data": {
      "text/plain": [
       "[1]"
      ]
     },
     "execution_count": 16,
     "metadata": {},
     "output_type": "execute_result"
    }
   ],
   "source": [
    "arr = [1, -1, -1, -1, 1]\n",
    "sol.getPositiveCumulativeSum(arr)"
   ]
  },
  {
   "cell_type": "code",
   "execution_count": 17,
   "id": "1105325c",
   "metadata": {},
   "outputs": [
    {
     "data": {
      "text/plain": [
       "[1, 4, 9, 16]"
      ]
     },
     "execution_count": 17,
     "metadata": {},
     "output_type": "execute_result"
    }
   ],
   "source": [
    "arr = [1, 3, 5, 7]\n",
    "sol.getPositiveCumulativeSum(arr)"
   ]
  }
 ],
 "metadata": {
  "kernelspec": {
   "display_name": "venv",
   "language": "python",
   "name": "python3"
  },
  "language_info": {
   "codemirror_mode": {
    "name": "ipython",
    "version": 3
   },
   "file_extension": ".py",
   "mimetype": "text/x-python",
   "name": "python",
   "nbconvert_exporter": "python",
   "pygments_lexer": "ipython3",
   "version": "3.11.3"
  }
 },
 "nbformat": 4,
 "nbformat_minor": 5
}
