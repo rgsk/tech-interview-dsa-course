{
 "cells": [
  {
   "cell_type": "code",
   "execution_count": 14,
   "id": "2ee5258a",
   "metadata": {},
   "outputs": [],
   "source": [
    "from typing import List"
   ]
  },
  {
   "cell_type": "code",
   "execution_count": 15,
   "id": "9482dfb7",
   "metadata": {},
   "outputs": [],
   "source": [
    "# solution using the auxiliary array\n",
    "class Solution:\n",
    "    def merge(self, arr: List[int], endIndex: int) -> List[int]:\n",
    "        n = len(arr)\n",
    "        result = [0 for _ in range(n)]\n",
    "        i = 0\n",
    "        j = endIndex + 1\n",
    "        k = 0\n",
    "        while i <= endIndex and j < n:\n",
    "            if arr[i] < arr[j]:\n",
    "                result[k] = arr[i]\n",
    "                i += 1\n",
    "                k += 1\n",
    "            else:\n",
    "                result[k] = arr[j]\n",
    "                j += 1\n",
    "                k += 1\n",
    "        while i <= endIndex:\n",
    "            result[k] = arr[i]\n",
    "            i += 1\n",
    "            k += 1\n",
    "        while j < n:\n",
    "            result[k] = arr[j]\n",
    "            j += 1\n",
    "            k += 1\n",
    "        return result"
   ]
  },
  {
   "cell_type": "code",
   "execution_count": 16,
   "id": "76fcb402",
   "metadata": {},
   "outputs": [
    {
     "data": {
      "text/plain": [
       "[0, 1, 3, 4, 5, 6, 7, 8, 9, 11]"
      ]
     },
     "execution_count": 16,
     "metadata": {},
     "output_type": "execute_result"
    }
   ],
   "source": [
    "arr = [1, 3, 5, 7, 9, 11, 0, 4, 6, 8]\n",
    "endIndex = 5\n",
    "sol = Solution()\n",
    "sol.merge(arr, endIndex)"
   ]
  },
  {
   "cell_type": "code",
   "execution_count": 17,
   "id": "9ee60e7c",
   "metadata": {},
   "outputs": [],
   "source": [
    "# no auxilary space, but time-complexity is O(n^2)\n",
    "# Time Limit Exceeded\n",
    "class Solution:\n",
    "    def merge(self, arr: List[int], endIndex: int) -> List[int]:\n",
    "        n = len(arr)\n",
    "        i = 0\n",
    "        while i <= endIndex:\n",
    "            if arr[i] < arr[endIndex + 1]:\n",
    "                i += 1\n",
    "            else:\n",
    "                arr[i], arr[endIndex + 1] = arr[endIndex + 1], arr[i]\n",
    "                i += 1\n",
    "                # ensure that arr[endIndex + 1: n] remains sorted\n",
    "                j = endIndex + 1\n",
    "                while j + 1 < n and arr[j] > arr[j+1]:\n",
    "                    arr[j], arr[j + 1] = arr[j + 1], arr[j]\n",
    "                    j += 1\n",
    "        return arr"
   ]
  },
  {
   "cell_type": "code",
   "execution_count": 18,
   "id": "233b37c5",
   "metadata": {},
   "outputs": [
    {
     "data": {
      "text/plain": [
       "[0, 1, 3, 4, 5, 6, 7, 8, 9, 11]"
      ]
     },
     "execution_count": 18,
     "metadata": {},
     "output_type": "execute_result"
    }
   ],
   "source": [
    "arr = [1, 3, 5, 7, 9, 11, 0, 4, 6, 8]\n",
    "endIndex = 5\n",
    "sol = Solution()\n",
    "sol.merge(arr, endIndex)"
   ]
  },
  {
   "cell_type": "code",
   "execution_count": null,
   "id": "915f6f93",
   "metadata": {},
   "outputs": [],
   "source": [
    "# binary_search approach\n",
    "# TLE, but accepted in other platforms\n",
    "class Solution:\n",
    "    def merge(self, arr: List[int], endIndex: int) -> List[int]:\n",
    "        n = len(arr)\n",
    "        i = 0\n",
    "        while i <= endIndex:\n",
    "            if arr[i] < arr[endIndex + 1]:\n",
    "                i += 1\n",
    "            else:\n",
    "                arr[i], arr[endIndex + 1] = arr[endIndex + 1], arr[i]\n",
    "                i += 1\n",
    "                # ensure that arr[endIndex + 1: n] remains sorted\n",
    "                # since arr[endIndex + 2 : n] is sorted\n",
    "                # we can use binary search to find the index where arr[endIndex + 1] can be placed\n",
    "                element = arr[endIndex + 1]\n",
    "                l = endIndex + 2\n",
    "                r = n\n",
    "                while l < r:\n",
    "                    m = (l + r) // 2\n",
    "                    if arr[m] < element:\n",
    "                        l = m + 1\n",
    "                    else:\n",
    "                        r = m\n",
    "                idx_elem = l - 1\n",
    "                j = endIndex + 1\n",
    "                while j < idx_elem:\n",
    "                    arr[j] = arr[j+1]\n",
    "                    j += 1\n",
    "                arr[idx_elem] = element\n",
    "        return arr"
   ]
  },
  {
   "cell_type": "code",
   "execution_count": 20,
   "id": "8028b7ec",
   "metadata": {},
   "outputs": [
    {
     "data": {
      "text/plain": [
       "[0, 1, 3, 4, 5, 6, 7, 8, 9, 11]"
      ]
     },
     "execution_count": 20,
     "metadata": {},
     "output_type": "execute_result"
    }
   ],
   "source": [
    "arr = [1, 3, 5, 7, 9, 11, 0, 4, 6, 8]\n",
    "endIndex = 5\n",
    "sol = Solution()\n",
    "sol.merge(arr, endIndex)"
   ]
  },
  {
   "cell_type": "code",
   "execution_count": null,
   "id": "48c83126",
   "metadata": {},
   "outputs": [],
   "source": []
  }
 ],
 "metadata": {
  "kernelspec": {
   "display_name": "venv",
   "language": "python",
   "name": "python3"
  },
  "language_info": {
   "codemirror_mode": {
    "name": "ipython",
    "version": 3
   },
   "file_extension": ".py",
   "mimetype": "text/x-python",
   "name": "python",
   "nbconvert_exporter": "python",
   "pygments_lexer": "ipython3",
   "version": "3.11.3"
  }
 },
 "nbformat": 4,
 "nbformat_minor": 5
}
