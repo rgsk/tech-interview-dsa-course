{
 "cells": [
  {
   "cell_type": "code",
   "execution_count": 90,
   "id": "2ee5258a",
   "metadata": {},
   "outputs": [],
   "source": [
    "from typing import List"
   ]
  },
  {
   "cell_type": "code",
   "execution_count": 91,
   "id": "9482dfb7",
   "metadata": {},
   "outputs": [],
   "source": [
    "# solution using the auxiliary array\n",
    "class Solution:\n",
    "    def merge(self, arr: List[int], endIndex: int) -> List[int]:\n",
    "        n = len(arr)\n",
    "        result = [0 for _ in range(n)]\n",
    "        i = 0\n",
    "        j = endIndex + 1\n",
    "        k = 0\n",
    "        while i <= endIndex and j < n:\n",
    "            if arr[i] < arr[j]:\n",
    "                result[k] = arr[i]\n",
    "                i += 1\n",
    "                k += 1\n",
    "            else:\n",
    "                result[k] = arr[j]\n",
    "                j += 1\n",
    "                k += 1\n",
    "        while i <= endIndex:\n",
    "            result[k] = arr[i]\n",
    "            i += 1\n",
    "            k += 1\n",
    "        while j < n:\n",
    "            result[k] = arr[j]\n",
    "            j += 1\n",
    "            k += 1\n",
    "        return result"
   ]
  },
  {
   "cell_type": "code",
   "execution_count": 92,
   "id": "76fcb402",
   "metadata": {},
   "outputs": [
    {
     "data": {
      "text/plain": [
       "[0, 1, 3, 4, 5, 6, 7, 8, 9, 11]"
      ]
     },
     "execution_count": 92,
     "metadata": {},
     "output_type": "execute_result"
    }
   ],
   "source": [
    "arr = [1, 3, 5, 7, 9, 11, 0, 4, 6, 8]\n",
    "endIndex = 5\n",
    "sol = Solution()\n",
    "sol.merge(arr, endIndex)"
   ]
  },
  {
   "cell_type": "code",
   "execution_count": 93,
   "id": "9ee60e7c",
   "metadata": {},
   "outputs": [],
   "source": [
    "# no auxilary space, but time-complexity is O(n^2)\n",
    "# Time Limit Exceeded\n",
    "class Solution:\n",
    "    def merge(self, arr: List[int], endIndex: int) -> List[int]:\n",
    "        n = len(arr)\n",
    "        i = 0\n",
    "        while i <= endIndex:\n",
    "            if arr[i] <= arr[endIndex + 1]:\n",
    "                i += 1\n",
    "            else:\n",
    "                arr[i], arr[endIndex + 1] = arr[endIndex + 1], arr[i]\n",
    "                i += 1\n",
    "                # ensure that arr[endIndex + 1: n] remains sorted\n",
    "                j = endIndex + 1\n",
    "                while j + 1 < n and arr[j] > arr[j+1]:\n",
    "                    arr[j], arr[j + 1] = arr[j + 1], arr[j]\n",
    "                    j += 1\n",
    "        return arr"
   ]
  },
  {
   "cell_type": "code",
   "execution_count": 94,
   "id": "233b37c5",
   "metadata": {},
   "outputs": [
    {
     "data": {
      "text/plain": [
       "[0, 1, 3, 4, 5, 6, 7, 8, 9, 11]"
      ]
     },
     "execution_count": 94,
     "metadata": {},
     "output_type": "execute_result"
    }
   ],
   "source": [
    "arr = [1, 3, 5, 7, 9, 11, 0, 4, 6, 8]\n",
    "endIndex = 5\n",
    "sol = Solution()\n",
    "sol.merge(arr, endIndex)"
   ]
  },
  {
   "cell_type": "code",
   "execution_count": null,
   "id": "915f6f93",
   "metadata": {},
   "outputs": [],
   "source": [
    "# binary_search approach\n",
    "# TLE, but accepted in other platforms, check below\n",
    "class Solution:\n",
    "    def merge(self, arr: List[int], endIndex: int) -> List[int]:\n",
    "        n = len(arr)\n",
    "        i = 0\n",
    "        while i <= endIndex:\n",
    "            if arr[i] <= arr[endIndex + 1]:\n",
    "                i += 1\n",
    "            else:\n",
    "                arr[i], arr[endIndex + 1] = arr[endIndex + 1], arr[i]\n",
    "                i += 1\n",
    "                # ensure that arr[endIndex + 1: n] remains sorted\n",
    "                # since arr[endIndex + 2 : n] is sorted\n",
    "                # we can use binary search to find the index where arr[endIndex + 1] can be placed\n",
    "                element = arr[endIndex + 1]\n",
    "                l = endIndex + 2\n",
    "                r = n\n",
    "                while l < r:\n",
    "                    mid = (l + r) // 2\n",
    "                    if arr[mid] < element:\n",
    "                        l = mid + 1\n",
    "                    else:\n",
    "                        r = mid\n",
    "                idx_elem = l - 1\n",
    "                j = endIndex + 1\n",
    "                while j < idx_elem:\n",
    "                    arr[j] = arr[j+1]\n",
    "                    j += 1\n",
    "                arr[idx_elem] = element\n",
    "        return arr"
   ]
  },
  {
   "cell_type": "code",
   "execution_count": 96,
   "id": "8028b7ec",
   "metadata": {},
   "outputs": [
    {
     "data": {
      "text/plain": [
       "[0, 1, 3, 4, 5, 6, 7, 8, 9, 11]"
      ]
     },
     "execution_count": 96,
     "metadata": {},
     "output_type": "execute_result"
    }
   ],
   "source": [
    "arr = [1, 3, 5, 7, 9, 11, 0, 4, 6, 8]\n",
    "endIndex = 5\n",
    "sol = Solution()\n",
    "sol.merge(arr, endIndex)"
   ]
  },
  {
   "cell_type": "code",
   "execution_count": 97,
   "id": "48c83126",
   "metadata": {},
   "outputs": [],
   "source": [
    "# https://leetcode.com/problems/merge-sorted-array/\n",
    "# on leetcode above solution will work\n",
    "\n",
    "class Solution:\n",
    "    def merge(self, nums1: List[int], m: int, nums2: List[int], n: int) -> None:\n",
    "        if n == 0:\n",
    "            return\n",
    "        i = 0\n",
    "        while i < m:\n",
    "            if nums1[i] <= nums2[0]:\n",
    "                i += 1\n",
    "            else:\n",
    "                nums1[i], nums2[0] = nums2[0], nums1[i]\n",
    "                i += 1\n",
    "                # ensure that nums2 remains sorted\n",
    "                element = nums2[0]\n",
    "                l = 1\n",
    "                r = n\n",
    "                while l < r:\n",
    "                    mid = (l + r) // 2\n",
    "                    if nums2[mid] < element:\n",
    "                        l = mid + 1\n",
    "                    else:\n",
    "                        r = mid\n",
    "                idx_elem = l - 1\n",
    "                j = 0\n",
    "                while j < idx_elem:\n",
    "                    nums2[j] = nums2[j+1]\n",
    "                    j += 1\n",
    "                nums2[idx_elem] = element\n",
    "        # assign all the elements from nums2 to nums1\n",
    "        for j in range(n):\n",
    "            nums1[j + m] = nums2[j]"
   ]
  },
  {
   "cell_type": "code",
   "execution_count": 98,
   "id": "1be689b4",
   "metadata": {},
   "outputs": [
    {
     "data": {
      "text/plain": [
       "[1, 2, 2, 3, 5, 6]"
      ]
     },
     "execution_count": 98,
     "metadata": {},
     "output_type": "execute_result"
    }
   ],
   "source": [
    "nums1 = [1,2,3,0,0,0]\n",
    "m = 3\n",
    "nums2 = [2,5,6]\n",
    "n = 3\n",
    "sol = Solution()\n",
    "sol.merge(nums1, m, nums2, n)\n",
    "nums1"
   ]
  },
  {
   "cell_type": "code",
   "execution_count": 99,
   "id": "9d54302f",
   "metadata": {},
   "outputs": [
    {
     "data": {
      "text/plain": [
       "[1]"
      ]
     },
     "execution_count": 99,
     "metadata": {},
     "output_type": "execute_result"
    }
   ],
   "source": [
    "nums1 = [1]\n",
    "m = 1\n",
    "nums2 = []\n",
    "n = 0\n",
    "sol = Solution()\n",
    "sol.merge(nums1, m, nums2, n)\n",
    "nums1"
   ]
  },
  {
   "cell_type": "code",
   "execution_count": 100,
   "id": "5e60e887",
   "metadata": {},
   "outputs": [
    {
     "data": {
      "text/plain": [
       "[1]"
      ]
     },
     "execution_count": 100,
     "metadata": {},
     "output_type": "execute_result"
    }
   ],
   "source": [
    "nums1 = [0]\n",
    "m = 0\n",
    "nums2 = [1]\n",
    "n = 1\n",
    "sol = Solution()\n",
    "sol.merge(nums1, m, nums2, n)\n",
    "nums1"
   ]
  }
 ],
 "metadata": {
  "kernelspec": {
   "display_name": "venv",
   "language": "python",
   "name": "python3"
  },
  "language_info": {
   "codemirror_mode": {
    "name": "ipython",
    "version": 3
   },
   "file_extension": ".py",
   "mimetype": "text/x-python",
   "name": "python",
   "nbconvert_exporter": "python",
   "pygments_lexer": "ipython3",
   "version": "3.11.3"
  }
 },
 "nbformat": 4,
 "nbformat_minor": 5
}
