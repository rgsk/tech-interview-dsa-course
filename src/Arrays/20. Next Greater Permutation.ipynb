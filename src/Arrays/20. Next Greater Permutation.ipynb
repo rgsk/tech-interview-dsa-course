{
 "cells": [
  {
   "cell_type": "code",
   "execution_count": 14,
   "id": "c15cf478",
   "metadata": {},
   "outputs": [],
   "source": [
    "from typing import List"
   ]
  },
  {
   "cell_type": "code",
   "execution_count": 15,
   "id": "5e417015",
   "metadata": {},
   "outputs": [],
   "source": [
    "class Solution:\n",
    "    def nextGreaterPermutation(self, arr: List[int]) -> None:\n",
    "        n = len(arr)\n",
    "        first_drop_index = -1\n",
    "\n",
    "        for i in range(n - 1, 0, -1):\n",
    "            if arr[i - 1] < arr[i]:\n",
    "                first_drop_index = i - 1\n",
    "                break\n",
    "\n",
    "        if first_drop_index == -1:\n",
    "            arr.reverse()\n",
    "            return\n",
    "\n",
    "        for i in range(n - 1, first_drop_index, -1):\n",
    "            if arr[i] > arr[first_drop_index]:\n",
    "                arr[i], arr[first_drop_index] = arr[first_drop_index], arr[i]\n",
    "                break\n",
    "\n",
    "        arr[first_drop_index + 1:] = reversed(arr[first_drop_index + 1:])\n"
   ]
  },
  {
   "cell_type": "code",
   "execution_count": 16,
   "id": "36ea6410",
   "metadata": {},
   "outputs": [],
   "source": [
    "sol = Solution()"
   ]
  },
  {
   "cell_type": "code",
   "execution_count": 17,
   "id": "27ac5a64",
   "metadata": {},
   "outputs": [
    {
     "data": {
      "text/plain": [
       "[1, 2, 3, 4]"
      ]
     },
     "execution_count": 17,
     "metadata": {},
     "output_type": "execute_result"
    }
   ],
   "source": [
    "arr = [4, 3, 2, 1]\n",
    "sol.nextGreaterPermutation(arr)\n",
    "arr"
   ]
  },
  {
   "cell_type": "code",
   "execution_count": 18,
   "id": "421c024d",
   "metadata": {},
   "outputs": [
    {
     "name": "stdout",
     "output_type": "stream",
     "text": [
      "[2, 9, 2]\n",
      "[9, 2, 2]\n",
      "[2, 2, 9]\n"
     ]
    }
   ],
   "source": [
    "arr = [2, 2, 9]\n",
    "sol.nextGreaterPermutation(arr)\n",
    "print(arr)\n",
    "sol.nextGreaterPermutation(arr)\n",
    "print(arr)\n",
    "sol.nextGreaterPermutation(arr)\n",
    "print(arr)"
   ]
  },
  {
   "cell_type": "code",
   "execution_count": 19,
   "id": "6256fb57",
   "metadata": {},
   "outputs": [
    {
     "data": {
      "text/plain": [
       "[4]"
      ]
     },
     "execution_count": 19,
     "metadata": {},
     "output_type": "execute_result"
    }
   ],
   "source": [
    "arr = [4]\n",
    "sol.nextGreaterPermutation(arr)\n",
    "arr"
   ]
  }
 ],
 "metadata": {
  "kernelspec": {
   "display_name": "venv",
   "language": "python",
   "name": "python3"
  },
  "language_info": {
   "codemirror_mode": {
    "name": "ipython",
    "version": 3
   },
   "file_extension": ".py",
   "mimetype": "text/x-python",
   "name": "python",
   "nbconvert_exporter": "python",
   "pygments_lexer": "ipython3",
   "version": "3.11.3"
  }
 },
 "nbformat": 4,
 "nbformat_minor": 5
}
