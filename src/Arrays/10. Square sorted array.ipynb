{
 "cells": [
  {
   "cell_type": "code",
   "execution_count": 1,
   "id": "84b91e59",
   "metadata": {},
   "outputs": [],
   "source": [
    "from typing import List"
   ]
  },
  {
   "cell_type": "code",
   "execution_count": 2,
   "id": "d3afb447",
   "metadata": {},
   "outputs": [],
   "source": [
    "class Solution:\n",
    "\tdef getSquareSortedArray(self, arr: List[int]) -> List[int]:\n",
    "\t\treturn sorted([v**2 for v in arr])"
   ]
  },
  {
   "cell_type": "code",
   "execution_count": 3,
   "id": "2e15f1d1",
   "metadata": {},
   "outputs": [
    {
     "data": {
      "text/plain": [
       "[1, 9, 16, 36, 64]"
      ]
     },
     "execution_count": 3,
     "metadata": {},
     "output_type": "execute_result"
    }
   ],
   "source": [
    "arr = [6, -8, 3, -1, 4]\n",
    "sol = Solution()\n",
    "sol.getSquareSortedArray(arr)"
   ]
  }
 ],
 "metadata": {
  "kernelspec": {
   "display_name": "venv",
   "language": "python",
   "name": "python3"
  },
  "language_info": {
   "codemirror_mode": {
    "name": "ipython",
    "version": 3
   },
   "file_extension": ".py",
   "mimetype": "text/x-python",
   "name": "python",
   "nbconvert_exporter": "python",
   "pygments_lexer": "ipython3",
   "version": "3.11.3"
  }
 },
 "nbformat": 4,
 "nbformat_minor": 5
}
