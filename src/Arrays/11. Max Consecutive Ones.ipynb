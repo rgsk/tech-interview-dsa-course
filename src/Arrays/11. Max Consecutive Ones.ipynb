{
 "cells": [
  {
   "cell_type": "code",
   "execution_count": 4,
   "id": "96936848",
   "metadata": {},
   "outputs": [],
   "source": [
    "from typing import List"
   ]
  },
  {
   "cell_type": "code",
   "execution_count": 5,
   "id": "37b3fc53",
   "metadata": {},
   "outputs": [],
   "source": [
    "class Solution:\n",
    "    def getMaxConsecutiveOnes(self, arr: List[int]) -> int:\n",
    "        max_count = 0\n",
    "        cur_count = 0\n",
    "        for v in arr:\n",
    "            if v == 1:\n",
    "                cur_count += 1\n",
    "            else:\n",
    "                max_count = max(cur_count, max_count)\n",
    "                cur_count = 0\n",
    "        max_count = max(cur_count, max_count)\n",
    "        return max_count"
   ]
  },
  {
   "cell_type": "code",
   "execution_count": 6,
   "id": "c7b12678",
   "metadata": {},
   "outputs": [
    {
     "data": {
      "text/plain": [
       "3"
      ]
     },
     "execution_count": 6,
     "metadata": {},
     "output_type": "execute_result"
    }
   ],
   "source": [
    "arr = [1, 1, 3, 2, 3, 1, 1, 1]\n",
    "sol = Solution()\n",
    "sol.getMaxConsecutiveOnes(arr)"
   ]
  }
 ],
 "metadata": {
  "kernelspec": {
   "display_name": "venv",
   "language": "python",
   "name": "python3"
  },
  "language_info": {
   "codemirror_mode": {
    "name": "ipython",
    "version": 3
   },
   "file_extension": ".py",
   "mimetype": "text/x-python",
   "name": "python",
   "nbconvert_exporter": "python",
   "pygments_lexer": "ipython3",
   "version": "3.11.3"
  }
 },
 "nbformat": 4,
 "nbformat_minor": 5
}
