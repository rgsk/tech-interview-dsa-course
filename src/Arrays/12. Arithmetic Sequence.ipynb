{
 "cells": [
  {
   "cell_type": "code",
   "execution_count": null,
   "id": "62151f03",
   "metadata": {},
   "outputs": [],
   "source": [
    "from typing import List"
   ]
  },
  {
   "cell_type": "code",
   "execution_count": null,
   "id": "c1275c0b",
   "metadata": {},
   "outputs": [],
   "source": [
    "class Solution:\n",
    "    def isArithmeticSequence(self, arr: List[int]) -> bool:\n",
    "        arr.sort()\n",
    "        n = len(arr)\n",
    "        cd = arr[1] - arr[0] # common difference\n",
    "        for i in range(2, n):\n",
    "            if arr[i] - arr[i-1] != cd:\n",
    "                return False\n",
    "        return True"
   ]
  },
  {
   "cell_type": "code",
   "execution_count": null,
   "id": "bd652241",
   "metadata": {},
   "outputs": [],
   "source": [
    "sol = Solution()"
   ]
  },
  {
   "cell_type": "code",
   "execution_count": null,
   "id": "3e75cebc",
   "metadata": {},
   "outputs": [],
   "source": [
    "arr = [9, 13, 5, 15, 7, 11]\n",
    "sol.isArithmeticSequence(arr)"
   ]
  },
  {
   "cell_type": "code",
   "execution_count": null,
   "id": "dc484291",
   "metadata": {},
   "outputs": [],
   "source": [
    "arr = [1, 1, 1]\n",
    "sol.isArithmeticSequence(arr)"
   ]
  },
  {
   "cell_type": "code",
   "execution_count": null,
   "id": "c8ba7898",
   "metadata": {},
   "outputs": [],
   "source": [
    "arr = [4, 1, 2]\n",
    "sol.isArithmeticSequence(arr)"
   ]
  }
 ],
 "metadata": {
  "language_info": {
   "name": "python"
  }
 },
 "nbformat": 4,
 "nbformat_minor": 5
}
