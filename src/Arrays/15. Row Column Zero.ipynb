{
 "cells": [
  {
   "cell_type": "code",
   "execution_count": 55,
   "id": "4d215a0d",
   "metadata": {},
   "outputs": [],
   "source": [
    "from typing import List"
   ]
  },
  {
   "cell_type": "code",
   "execution_count": 56,
   "id": "11c9d3ba",
   "metadata": {},
   "outputs": [],
   "source": [
    "# basic approach O(n) space\n",
    "\n",
    "class Solution:\n",
    "\tdef setRowColumnZeroes(self, matrix: List[List[int]]) -> None:\n",
    "\t\trows = len(matrix)\n",
    "\t\tcols = len(matrix[0])\n",
    "\t\trow_zero = [False for _ in range(rows)]\n",
    "\t\tcol_zero = [False for _ in range(cols)]\n",
    "\t\tfor i in range(rows):\n",
    "\t\t\tfor j in range(cols):\n",
    "\t\t\t\tif matrix[i][j] == 0:\n",
    "\t\t\t\t\trow_zero[i] = True\n",
    "\t\t\t\t\tcol_zero[j] = True\n",
    "\t\tfor i in range(rows):\n",
    "\t\t\tfor j in range(cols):\n",
    "\t\t\t\tif row_zero[i] or col_zero[j]:\n",
    "\t\t\t\t\tmatrix[i][j] = 0"
   ]
  },
  {
   "cell_type": "code",
   "execution_count": null,
   "id": "3477dbf8",
   "metadata": {},
   "outputs": [],
   "source": [
    "sol = Solution()\n",
    "\n",
    "def print_rows(matrix):\n",
    "    for row in matrix:\n",
    "        print(row)"
   ]
  },
  {
   "cell_type": "code",
   "execution_count": null,
   "id": "c9257586",
   "metadata": {},
   "outputs": [
    {
     "name": "stdout",
     "output_type": "stream",
     "text": [
      "[1, 0, 1]\n",
      "[0, 0, 0]\n",
      "[1, 0, 1]\n"
     ]
    }
   ],
   "source": [
    "matrix = [\n",
    "    [1, 1, 1],\n",
    "    [1, 0, 1],\n",
    "    [1, 1, 1]\n",
    "]\n",
    "sol.setRowColumnZeroes(matrix)\n",
    "print_rows(matrix)"
   ]
  },
  {
   "cell_type": "code",
   "execution_count": null,
   "id": "a578c952",
   "metadata": {},
   "outputs": [
    {
     "name": "stdout",
     "output_type": "stream",
     "text": [
      "[0, 0, 0]\n",
      "[0, 4, 5]\n",
      "[0, 2, 3]\n"
     ]
    }
   ],
   "source": [
    "matrix = [\n",
    "    [0, 1, 2],\n",
    "    [3, 4, 5],\n",
    "    [1, 2, 3]\n",
    "]\n",
    "sol.setRowColumnZeroes(matrix)\n",
    "print_rows(matrix)"
   ]
  },
  {
   "cell_type": "code",
   "execution_count": null,
   "id": "096baba5",
   "metadata": {},
   "outputs": [
    {
     "name": "stdout",
     "output_type": "stream",
     "text": [
      "[0, 0, 0]\n",
      "[0, 4, 0]\n",
      "[0, 2, 0]\n"
     ]
    }
   ],
   "source": [
    "matrix = [\n",
    "    [0, 1, 0],\n",
    "    [3, 4, 5],\n",
    "    [1, 2, 3]\n",
    "]\n",
    "sol.setRowColumnZeroes(matrix)\n",
    "print_rows(matrix)"
   ]
  },
  {
   "cell_type": "code",
   "execution_count": null,
   "id": "a1359d16",
   "metadata": {},
   "outputs": [
    {
     "name": "stdout",
     "output_type": "stream",
     "text": [
      "[0, 0, 0]\n",
      "[0, 0, 0]\n",
      "[0, 0, 0]\n"
     ]
    }
   ],
   "source": [
    "matrix = [\n",
    "    [0, 1, 0],\n",
    "    [3, 0, 5],\n",
    "    [1, 2, 3]\n",
    "]\n",
    "sol.setRowColumnZeroes(matrix)\n",
    "print_rows(matrix)"
   ]
  },
  {
   "cell_type": "code",
   "execution_count": 62,
   "id": "649b8c72",
   "metadata": {},
   "outputs": [],
   "source": [
    "# better solution O(1) space\n",
    "\n",
    "class Solution:\n",
    "    def setRowColumnZeroes(self, matrix: List[List[int]]) -> None:\n",
    "        rows = len(matrix)\n",
    "        cols = len(matrix[0])\n",
    "        first_row_zero = False\n",
    "        first_col_zero = False\n",
    "        for j in range(cols):\n",
    "            if matrix[0][j] == 0:\n",
    "                first_row_zero = True\n",
    "                break\n",
    "        for i in range(rows):\n",
    "            if matrix[i][0] == 0:\n",
    "                first_col_zero = True\n",
    "                break\n",
    "\n",
    "        for i in range(1, rows):\n",
    "            for j in range(1, cols):\n",
    "                if matrix[i][j] == 0:\n",
    "                    matrix[0][j] = 0\n",
    "                    matrix[i][0] = 0\n",
    "                    \n",
    "        for i in range(1, rows):\n",
    "            for j in range(1, cols):\n",
    "                if matrix[0][j] == 0 or matrix[i][0] == 0:\n",
    "                    matrix[i][j] = 0\n",
    "        if first_row_zero:\n",
    "            for j in range(cols):\n",
    "                matrix[0][j] = 0\n",
    "        if first_col_zero:\n",
    "            for i in range(rows):\n",
    "                matrix[i][0] = 0\n",
    "            "
   ]
  },
  {
   "cell_type": "code",
   "execution_count": 63,
   "id": "58bf320a",
   "metadata": {},
   "outputs": [],
   "source": [
    "sol = Solution()"
   ]
  },
  {
   "cell_type": "code",
   "execution_count": null,
   "id": "ea406b7c",
   "metadata": {},
   "outputs": [
    {
     "name": "stdout",
     "output_type": "stream",
     "text": [
      "[1, 0, 1]\n",
      "[0, 0, 0]\n",
      "[1, 0, 1]\n"
     ]
    }
   ],
   "source": [
    "matrix = [\n",
    "    [1, 1, 1],\n",
    "    [1, 0, 1],\n",
    "    [1, 1, 1]\n",
    "]\n",
    "sol.setRowColumnZeroes(matrix)\n",
    "print_rows(matrix)"
   ]
  },
  {
   "cell_type": "code",
   "execution_count": null,
   "id": "ff5be4c4",
   "metadata": {},
   "outputs": [
    {
     "name": "stdout",
     "output_type": "stream",
     "text": [
      "[0, 0, 0]\n",
      "[0, 0, 0]\n",
      "[0, 0, 0]\n"
     ]
    }
   ],
   "source": [
    "matrix = [\n",
    "    [0, 1, 0],\n",
    "    [3, 0, 5],\n",
    "    [1, 2, 3]\n",
    "]\n",
    "sol.setRowColumnZeroes(matrix)\n",
    "print_rows(matrix)"
   ]
  }
 ],
 "metadata": {
  "kernelspec": {
   "display_name": "venv",
   "language": "python",
   "name": "python3"
  },
  "language_info": {
   "codemirror_mode": {
    "name": "ipython",
    "version": 3
   },
   "file_extension": ".py",
   "mimetype": "text/x-python",
   "name": "python",
   "nbconvert_exporter": "python",
   "pygments_lexer": "ipython3",
   "version": "3.11.3"
  }
 },
 "nbformat": 4,
 "nbformat_minor": 5
}
