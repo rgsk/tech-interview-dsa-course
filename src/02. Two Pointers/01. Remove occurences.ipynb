{
 "cells": [
  {
   "cell_type": "code",
   "execution_count": 1,
   "id": "f20edcf2",
   "metadata": {},
   "outputs": [],
   "source": [
    "from typing import List"
   ]
  },
  {
   "cell_type": "code",
   "execution_count": 2,
   "id": "8aa2b25e",
   "metadata": {},
   "outputs": [],
   "source": [
    "class Solution:\n",
    "\tdef removeOccurences(self, A: List[int], k: int) -> int:\n",
    "\t\tp = 0\n",
    "\t\tn = len(A)\n",
    "\t\tfor i in range(n):\n",
    "\t\t\tif A[i] != k:\n",
    "\t\t\t\tA[p] = A[i]\n",
    "\t\t\t\tp += 1\n",
    "\t\treturn p"
   ]
  },
  {
   "cell_type": "code",
   "execution_count": 3,
   "id": "93b24f34",
   "metadata": {},
   "outputs": [
    {
     "data": {
      "text/plain": [
       "6"
      ]
     },
     "execution_count": 3,
     "metadata": {},
     "output_type": "execute_result"
    }
   ],
   "source": [
    "A = [1, 4, 2, 6, 2, 6, 9, 4]\n",
    "k = 4\n",
    "sol = Solution()\n",
    "sol.removeOccurences(A, k)"
   ]
  }
 ],
 "metadata": {
  "kernelspec": {
   "display_name": "venv",
   "language": "python",
   "name": "python3"
  },
  "language_info": {
   "codemirror_mode": {
    "name": "ipython",
    "version": 3
   },
   "file_extension": ".py",
   "mimetype": "text/x-python",
   "name": "python",
   "nbconvert_exporter": "python",
   "pygments_lexer": "ipython3",
   "version": "3.11.3"
  }
 },
 "nbformat": 4,
 "nbformat_minor": 5
}
