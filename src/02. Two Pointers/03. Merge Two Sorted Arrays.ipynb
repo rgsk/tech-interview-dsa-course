{
 "cells": [
  {
   "cell_type": "code",
   "execution_count": 1,
   "id": "c102af98",
   "metadata": {},
   "outputs": [],
   "source": [
    "from typing import List"
   ]
  },
  {
   "cell_type": "code",
   "execution_count": 2,
   "id": "4eb4b961",
   "metadata": {},
   "outputs": [],
   "source": [
    "class Solution:\n",
    "\tdef mergeSortedArrays(self, A: List[int], B: List[int]) -> List[int]:\n",
    "\t\tiA = 0\n",
    "\t\tiB = 0\n",
    "\t\tnA = len(A)\n",
    "\t\tnB = len(B)\n",
    "\t\tnC = nA + nB\n",
    "\t\tC = [0 for _ in range(nC)]\n",
    "\t\tiC = 0\n",
    "\t\twhile iA < nA and iB < nB:\n",
    "\t\t\tif A[iA] < B[iB]:\n",
    "\t\t\t\tC[iC] = A[iA]\n",
    "\t\t\t\tiA += 1\n",
    "\t\t\t\tiC += 1\n",
    "\t\t\telse:\n",
    "\t\t\t\tC[iC] = B[iB]\n",
    "\t\t\t\tiB += 1\n",
    "\t\t\t\tiC += 1\n",
    "\t\twhile iA < nA:\n",
    "\t\t\tC[iC] = A[iA]\n",
    "\t\t\tiA += 1\n",
    "\t\t\tiC += 1\n",
    "\t\twhile iB < nB:\n",
    "\t\t\tC[iC] = B[iB]\n",
    "\t\t\tiB += 1\n",
    "\t\t\tiC += 1\n",
    "\t\treturn C"
   ]
  },
  {
   "cell_type": "code",
   "execution_count": 3,
   "id": "93894b6e",
   "metadata": {},
   "outputs": [
    {
     "data": {
      "text/plain": [
       "[1, 2, 2, 3, 4, 4, 4, 5, 5]"
      ]
     },
     "execution_count": 3,
     "metadata": {},
     "output_type": "execute_result"
    }
   ],
   "source": [
    "A = [1, 2, 3, 4, 4]\n",
    "B = [2, 4, 5, 5]\n",
    "sol = Solution()\n",
    "sol.mergeSortedArrays(A, B)"
   ]
  }
 ],
 "metadata": {
  "kernelspec": {
   "display_name": "venv",
   "language": "python",
   "name": "python3"
  },
  "language_info": {
   "codemirror_mode": {
    "name": "ipython",
    "version": 3
   },
   "file_extension": ".py",
   "mimetype": "text/x-python",
   "name": "python",
   "nbconvert_exporter": "python",
   "pygments_lexer": "ipython3",
   "version": "3.11.3"
  }
 },
 "nbformat": 4,
 "nbformat_minor": 5
}
