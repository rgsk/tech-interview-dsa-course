{
 "cells": [
  {
   "cell_type": "code",
   "execution_count": 15,
   "id": "0cceee7a",
   "metadata": {},
   "outputs": [],
   "source": [
    "class Node:\n",
    "\tdef __init__(self, data=0, left=None, right=None):\n",
    "\t\tself.data = data\n",
    "\t\tself.left = left\n",
    "\t\tself.right = right"
   ]
  },
  {
   "cell_type": "code",
   "execution_count": 16,
   "id": "ebbf70cd",
   "metadata": {},
   "outputs": [],
   "source": [
    "from typing import List, Optional\n",
    "from collections import deque\n",
    "\n",
    "class Solution:\n",
    "    def rightView(self, root: Optional[Node]) -> List[int]:\n",
    "        if not root:\n",
    "            return []\n",
    "\n",
    "        result = []\n",
    "        queue = deque([root])\n",
    "\n",
    "        while queue:\n",
    "            level_size = len(queue)\n",
    "            for i in range(level_size):\n",
    "                node = queue.popleft()\n",
    "\n",
    "                # Last node of the current level\n",
    "                if i == level_size - 1:\n",
    "                    result.append(node.data)\n",
    "\n",
    "                if node.left:\n",
    "                    queue.append(node.left)\n",
    "                if node.right:\n",
    "                    queue.append(node.right)\n",
    "\n",
    "        return result\n"
   ]
  },
  {
   "cell_type": "code",
   "execution_count": 17,
   "id": "9bd14aa9",
   "metadata": {},
   "outputs": [
    {
     "name": "stdout",
     "output_type": "stream",
     "text": [
      "  __1_ \n",
      " /    \\\n",
      " 2_   3\n",
      "/  \\ / \n",
      "4  5 6 \n",
      "  /    \n",
      "  7    \n"
     ]
    }
   ],
   "source": [
    "import sys\n",
    "sys.path.append('..')\n",
    "\n",
    "from lib.Tree import displayTree, formTree\n",
    "\n",
    "root = formTree([1,2,3,4,5,6,-1,-1,-1,7])\n",
    "displayTree(root)"
   ]
  },
  {
   "cell_type": "code",
   "execution_count": 18,
   "id": "e2a12f75",
   "metadata": {},
   "outputs": [
    {
     "data": {
      "text/plain": [
       "[1, 3, 6, 7]"
      ]
     },
     "execution_count": 18,
     "metadata": {},
     "output_type": "execute_result"
    }
   ],
   "source": [
    "sol = Solution()\n",
    "sol.rightView(root)"
   ]
  },
  {
   "cell_type": "code",
   "execution_count": 19,
   "id": "07871ad5",
   "metadata": {},
   "outputs": [],
   "source": [
    "import sys\n",
    "sys.setrecursionlimit(10**6)\n",
    "\n",
    "class Solution:\n",
    "    def rightView(self, root: Optional[Node]) -> List[int]:\n",
    "        result = []\n",
    "\n",
    "        def helper(node: Optional[Node], level: int):\n",
    "            if not node:\n",
    "                return\n",
    "\n",
    "            # If this is the first node visited at this level\n",
    "            if level == len(result):\n",
    "                result.append(node.data)\n",
    "\n",
    "            # Go to right first, then left (opposite of left view)\n",
    "            helper(node.right, level + 1)\n",
    "            helper(node.left, level + 1)\n",
    "\n",
    "        helper(root, 0)\n",
    "        return result"
   ]
  },
  {
   "cell_type": "code",
   "execution_count": 20,
   "id": "2d78e69f",
   "metadata": {},
   "outputs": [
    {
     "name": "stdout",
     "output_type": "stream",
     "text": [
      "  __1_ \n",
      " /    \\\n",
      " 2_   3\n",
      "/  \\ / \n",
      "4  5 6 \n",
      "  /    \n",
      "  7    \n"
     ]
    }
   ],
   "source": [
    "\n",
    "root = formTree([1,2,3,4,5,6,-1,-1,-1,7])\n",
    "displayTree(root)"
   ]
  },
  {
   "cell_type": "code",
   "execution_count": 21,
   "id": "9384c48c",
   "metadata": {},
   "outputs": [
    {
     "data": {
      "text/plain": [
       "[1, 3, 6, 7]"
      ]
     },
     "execution_count": 21,
     "metadata": {},
     "output_type": "execute_result"
    }
   ],
   "source": [
    "sol = Solution()\n",
    "sol.rightView(root)"
   ]
  }
 ],
 "metadata": {
  "kernelspec": {
   "display_name": "venv",
   "language": "python",
   "name": "python3"
  },
  "language_info": {
   "codemirror_mode": {
    "name": "ipython",
    "version": 3
   },
   "file_extension": ".py",
   "mimetype": "text/x-python",
   "name": "python",
   "nbconvert_exporter": "python",
   "pygments_lexer": "ipython3",
   "version": "3.11.3"
  }
 },
 "nbformat": 4,
 "nbformat_minor": 5
}
