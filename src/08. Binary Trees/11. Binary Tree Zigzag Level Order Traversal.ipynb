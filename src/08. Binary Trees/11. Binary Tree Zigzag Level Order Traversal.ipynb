{
 "cells": [
  {
   "cell_type": "code",
   "execution_count": 54,
   "id": "ecddd66b",
   "metadata": {},
   "outputs": [],
   "source": [
    "class Node:\n",
    "\tdef __init__(self, data=0, left=None, right=None):\n",
    "\t\tself.data = data\n",
    "\t\tself.left = left\n",
    "\t\tself.right = right\n"
   ]
  },
  {
   "cell_type": "code",
   "execution_count": 55,
   "id": "f2297d66",
   "metadata": {},
   "outputs": [],
   "source": [
    "\n",
    "from collections import deque\n",
    "from typing import List, Optional\n",
    "\n",
    "\n",
    "class Solution:\n",
    "    def getLevelOrderTraversal(self, root: Optional['Node']) -> List[List[int]]:\n",
    "        if not root:\n",
    "            return []\n",
    "\n",
    "        result = []\n",
    "        queue = deque([root])\n",
    "\n",
    "        while queue:\n",
    "            length = len(queue)\n",
    "            level = []\n",
    "            for _ in range(length):\n",
    "                node = queue.popleft()\n",
    "                level.append(node.data)\n",
    "                if node.left:\n",
    "                    queue.append(node.left)\n",
    "                if node.right:\n",
    "                    queue.append(node.right)\n",
    "            result.append(level)\n",
    "        return result\n",
    "    def zigzagLevelOrderTraversal(self, root: Optional[Node]) -> List[int]:\n",
    "        lo = self.getLevelOrderTraversal(root)\n",
    "        for row in lo[1::2]:\n",
    "            row.reverse()\n",
    "        return [x for row in lo for x in row]"
   ]
  },
  {
   "cell_type": "code",
   "execution_count": 56,
   "id": "ee1a9a7d",
   "metadata": {},
   "outputs": [
    {
     "name": "stdout",
     "output_type": "stream",
     "text": [
      "  __1__ \n",
      " /     \\\n",
      " 2_    3\n",
      "/  \\  / \n",
      "4  5  6 \n",
      "  /  /  \n",
      "  7  8  \n"
     ]
    }
   ],
   "source": [
    "import sys\n",
    "sys.path.append('..')\n",
    "\n",
    "from lib.Tree import displayTree, formTree\n",
    "\n",
    "root = formTree([1,2,3,4,5,6,-1,-1,-1,7,-1,8])\n",
    "displayTree(root)"
   ]
  },
  {
   "cell_type": "code",
   "execution_count": 57,
   "id": "a40379f5",
   "metadata": {},
   "outputs": [
    {
     "data": {
      "text/plain": [
       "[1, 3, 2, 4, 5, 6, 8, 7]"
      ]
     },
     "execution_count": 57,
     "metadata": {},
     "output_type": "execute_result"
    }
   ],
   "source": [
    "sol = Solution()\n",
    "sol.zigzagLevelOrderTraversal(root)"
   ]
  },
  {
   "cell_type": "code",
   "execution_count": 58,
   "id": "a6f1ea07",
   "metadata": {},
   "outputs": [],
   "source": [
    "\n",
    "from collections import deque\n",
    "from typing import List, Optional\n",
    "\n",
    "\n",
    "class Solution:\n",
    "    def zigzagLevelOrderTraversal(self, root: Optional[Node]) -> List[int]:\n",
    "        if not root:\n",
    "            return []\n",
    "\n",
    "        result = []\n",
    "        queue = deque([root])\n",
    "        reverse = False\n",
    "        while queue:\n",
    "            length = len(queue)\n",
    "            level = []\n",
    "            for _ in range(length):\n",
    "                node = queue.popleft()\n",
    "                level.append(node.data)\n",
    "                if node.left:\n",
    "                    queue.append(node.left)\n",
    "                if node.right:\n",
    "                    queue.append(node.right)\n",
    "            if reverse:\n",
    "                result.extend(level[::-1])\n",
    "            else:\n",
    "                result.extend(level)\n",
    "            reverse = not reverse\n",
    "        return result"
   ]
  },
  {
   "cell_type": "code",
   "execution_count": 59,
   "id": "5d87debb",
   "metadata": {},
   "outputs": [
    {
     "name": "stdout",
     "output_type": "stream",
     "text": [
      "  __1__ \n",
      " /     \\\n",
      " 2_    3\n",
      "/  \\  / \n",
      "4  5  6 \n",
      "  /  /  \n",
      "  7  8  \n"
     ]
    }
   ],
   "source": [
    "root = formTree([1,2,3,4,5,6,-1,-1,-1,7,-1,8])\n",
    "displayTree(root)"
   ]
  },
  {
   "cell_type": "code",
   "execution_count": 60,
   "id": "6942e677",
   "metadata": {},
   "outputs": [
    {
     "data": {
      "text/plain": [
       "[1, 3, 2, 4, 5, 6, 8, 7]"
      ]
     },
     "execution_count": 60,
     "metadata": {},
     "output_type": "execute_result"
    }
   ],
   "source": [
    "sol = Solution()\n",
    "sol.zigzagLevelOrderTraversal(root)"
   ]
  }
 ],
 "metadata": {
  "kernelspec": {
   "display_name": "venv",
   "language": "python",
   "name": "python3"
  },
  "language_info": {
   "codemirror_mode": {
    "name": "ipython",
    "version": 3
   },
   "file_extension": ".py",
   "mimetype": "text/x-python",
   "name": "python",
   "nbconvert_exporter": "python",
   "pygments_lexer": "ipython3",
   "version": "3.11.3"
  }
 },
 "nbformat": 4,
 "nbformat_minor": 5
}
