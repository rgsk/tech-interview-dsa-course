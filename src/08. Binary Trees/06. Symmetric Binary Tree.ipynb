{
 "cells": [
  {
   "cell_type": "code",
   "execution_count": 3,
   "id": "0e0d18a6",
   "metadata": {},
   "outputs": [],
   "source": [
    "class Node:\n",
    "\tdef __init__(self, data=0, left=None, right=None):\n",
    "\t\tself.data = data\n",
    "\t\tself.left = left\n",
    "\t\tself.right = right"
   ]
  },
  {
   "cell_type": "code",
   "execution_count": 4,
   "id": "c5bb84e9",
   "metadata": {},
   "outputs": [],
   "source": [
    "\n",
    "from collections import deque\n",
    "from typing import List, Optional\n",
    "\n",
    "\n",
    "class Solution:\n",
    "    def getLevelOrderTraversal(self, root: Optional['Node']) -> List[List[int]]:\n",
    "        if not root:\n",
    "            return []\n",
    "\n",
    "        result = []\n",
    "        queue = deque([root])\n",
    "\n",
    "        while queue:\n",
    "            length = len(queue)\n",
    "            level = []\n",
    "            for _ in range(length):\n",
    "                node = queue.popleft()\n",
    "                if node:\n",
    "                    level.append(node.data)\n",
    "                    queue.append(node.left)\n",
    "                    queue.append(node.right)\n",
    "                else:\n",
    "                    level.append(-1)\n",
    "            result.append(level)\n",
    "        return result\n",
    "    \n",
    "    def isSymmetric(self, root: Optional[Node]) -> bool:\n",
    "        lo = self.getLevelOrderTraversal(root)\n",
    "        for row in lo:\n",
    "            if row != row[::-1]:\n",
    "                return False\n",
    "        return True "
   ]
  },
  {
   "cell_type": "code",
   "execution_count": 5,
   "id": "ed9f2db4",
   "metadata": {},
   "outputs": [],
   "source": [
    "def isMirror(first: Optional[Node], second: Optional[Node]):\n",
    "    if not first and not second:\n",
    "        return True\n",
    "    if not first or not second:\n",
    "        return False\n",
    "    return first.data == second.data and \\\n",
    "        isMirror(first.left, second.right) and \\\n",
    "        isMirror(first.right, second.left)\n",
    "\n",
    "class Solution:\n",
    "    def isSymmetric(self, root: Optional[Node]) -> bool:\n",
    "        return isMirror(root, root)"
   ]
  }
 ],
 "metadata": {
  "kernelspec": {
   "display_name": "venv",
   "language": "python",
   "name": "python3"
  },
  "language_info": {
   "codemirror_mode": {
    "name": "ipython",
    "version": 3
   },
   "file_extension": ".py",
   "mimetype": "text/x-python",
   "name": "python",
   "nbconvert_exporter": "python",
   "pygments_lexer": "ipython3",
   "version": "3.11.3"
  }
 },
 "nbformat": 4,
 "nbformat_minor": 5
}
