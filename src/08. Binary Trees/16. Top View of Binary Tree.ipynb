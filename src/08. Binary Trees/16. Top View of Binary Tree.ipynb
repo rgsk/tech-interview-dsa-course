{
 "cells": [
  {
   "cell_type": "code",
   "execution_count": 8,
   "id": "4c334eb3",
   "metadata": {},
   "outputs": [],
   "source": [
    "class Node:\n",
    "\tdef __init__(self, data=0, left=None, right=None):\n",
    "\t\tself.data = data\n",
    "\t\tself.left = left\n",
    "\t\tself.right = right"
   ]
  },
  {
   "cell_type": "code",
   "execution_count": 9,
   "id": "03993473",
   "metadata": {},
   "outputs": [],
   "source": [
    "from typing import List, Optional\n",
    "from collections import deque\n",
    "\n",
    "class Solution:\n",
    "    def topView(self, root: Optional[Node]) -> List[int]:\n",
    "        if not root:\n",
    "            return []\n",
    "\n",
    "        top_view = {}\n",
    "        queue = deque([(root, 0)])  # (node, horizontal_distance)\n",
    "\n",
    "        min_hd = max_hd = 0\n",
    "\n",
    "        while queue:\n",
    "            node, hd = queue.popleft()\n",
    "\n",
    "            # Record first node seen at this HD\n",
    "            if hd not in top_view:\n",
    "                top_view[hd] = node.data\n",
    "\n",
    "            min_hd = min(min_hd, hd)\n",
    "            max_hd = max(max_hd, hd)\n",
    "\n",
    "            if node.left:\n",
    "                queue.append((node.left, hd - 1))\n",
    "            if node.right:\n",
    "                queue.append((node.right, hd + 1))\n",
    "\n",
    "        return [top_view[hd] for hd in range(min_hd, max_hd + 1)]\n"
   ]
  },
  {
   "cell_type": "code",
   "execution_count": 10,
   "id": "f6387130",
   "metadata": {},
   "outputs": [
    {
     "name": "stdout",
     "output_type": "stream",
     "text": [
      "  __1_ \n",
      " /    \\\n",
      " 2_   3\n",
      "/  \\ / \n",
      "4  5 6 \n",
      "  /    \n",
      "  7    \n"
     ]
    }
   ],
   "source": [
    "import sys\n",
    "sys.path.append('..')\n",
    "\n",
    "from lib.Tree import displayTree, formTree\n",
    "\n",
    "root = formTree([1,2,3,4,5,6,-1,-1,-1,7])\n",
    "displayTree(root)"
   ]
  },
  {
   "cell_type": "code",
   "execution_count": 11,
   "id": "c0864509",
   "metadata": {},
   "outputs": [
    {
     "data": {
      "text/plain": [
       "[4, 2, 1, 3]"
      ]
     },
     "execution_count": 11,
     "metadata": {},
     "output_type": "execute_result"
    }
   ],
   "source": [
    "sol = Solution()\n",
    "sol.topView(root)"
   ]
  },
  {
   "cell_type": "code",
   "execution_count": null,
   "id": "80c3c1e4",
   "metadata": {},
   "outputs": [],
   "source": [
    "import sys\n",
    "sys.setrecursionlimit(10**6)\n",
    "\n",
    "class Solution:\n",
    "    def topView(self, root: Optional[Node]) -> List[int]:\n",
    "        if not root:\n",
    "            return []\n",
    "\n",
    "        top_view = {}\n",
    "        min_hd = max_hd = 0\n",
    "\n",
    "        def helper(node: Optional[Node], hd: int, level: int):\n",
    "            nonlocal min_hd, max_hd\n",
    "            if not node:\n",
    "                return\n",
    "\n",
    "            if hd not in top_view or level < top_view[hd][1]:\n",
    "                top_view[hd] = (node.data, level)\n",
    "\n",
    "            min_hd = min(min_hd, hd)\n",
    "            max_hd = max(max_hd, hd)\n",
    "\n",
    "            helper(node.left, hd - 1, level + 1)\n",
    "            helper(node.right, hd + 1, level + 1)\n",
    "\n",
    "        helper(root, 0, 0)\n",
    "        return [top_view[hd][0] for hd in range(min_hd, max_hd + 1)]\n"
   ]
  },
  {
   "cell_type": "code",
   "execution_count": 13,
   "id": "407f7daf",
   "metadata": {},
   "outputs": [
    {
     "name": "stdout",
     "output_type": "stream",
     "text": [
      "  __1_ \n",
      " /    \\\n",
      " 2_   3\n",
      "/  \\ / \n",
      "4  5 6 \n",
      "  /    \n",
      "  7    \n"
     ]
    }
   ],
   "source": [
    "root = formTree([1,2,3,4,5,6,-1,-1,-1,7])\n",
    "displayTree(root)"
   ]
  },
  {
   "cell_type": "code",
   "execution_count": 14,
   "id": "f9d43c20",
   "metadata": {},
   "outputs": [
    {
     "data": {
      "text/plain": [
       "[4, 2, 1, 3]"
      ]
     },
     "execution_count": 14,
     "metadata": {},
     "output_type": "execute_result"
    }
   ],
   "source": [
    "sol = Solution()\n",
    "sol.topView(root)"
   ]
  }
 ],
 "metadata": {
  "kernelspec": {
   "display_name": "venv",
   "language": "python",
   "name": "python3"
  },
  "language_info": {
   "codemirror_mode": {
    "name": "ipython",
    "version": 3
   },
   "file_extension": ".py",
   "mimetype": "text/x-python",
   "name": "python",
   "nbconvert_exporter": "python",
   "pygments_lexer": "ipython3",
   "version": "3.11.3"
  }
 },
 "nbformat": 4,
 "nbformat_minor": 5
}
