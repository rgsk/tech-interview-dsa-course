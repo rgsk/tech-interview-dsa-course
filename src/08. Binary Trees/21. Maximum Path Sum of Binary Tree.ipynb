{
 "cells": [
  {
   "cell_type": "code",
   "execution_count": 29,
   "id": "1d44ff35",
   "metadata": {},
   "outputs": [],
   "source": [
    "class Node:\n",
    "\tdef __init__(self, data=0, left=None, right=None):\n",
    "\t\tself.data = data\n",
    "\t\tself.left = left\n",
    "\t\tself.right = right"
   ]
  },
  {
   "cell_type": "code",
   "execution_count": 30,
   "id": "0e2de416",
   "metadata": {},
   "outputs": [],
   "source": [
    "class Solution:\n",
    "\tdef maxPathSum(self, root: Node) -> int:\n",
    "\t\t# add your logic here\n",
    "\t\tans = -1001\n",
    "\t\tdef helper(root):\n",
    "\t\t\tnonlocal ans\n",
    "\t\t\tif root:\n",
    "\t\t\t\tleft = max(helper(root.left), 0)\n",
    "\t\t\t\tright = max(helper(root.right), 0)\n",
    "\t\t\t\tcur = left + right + root.data\n",
    "\t\t\t\tans = max(ans, cur)\n",
    "\t\t\t\treturn root.data + max(left, right)\n",
    "\t\t\treturn 0\n",
    "\t\thelper(root)\n",
    "\t\treturn ans"
   ]
  },
  {
   "cell_type": "code",
   "execution_count": 31,
   "id": "9cc8ec0a",
   "metadata": {},
   "outputs": [
    {
     "name": "stdout",
     "output_type": "stream",
     "text": [
      "    1\n",
      "   / \n",
      "  _2 \n",
      " /   \n",
      " 4   \n",
      "/ \\  \n",
      "5 6  \n"
     ]
    }
   ],
   "source": [
    "import sys\n",
    "sys.path.append('..')\n",
    "\n",
    "from lib.Tree import displayTree, formTree\n",
    "\n",
    "root = formTree([1,2,-1, 4, -1, 5, 6])\n",
    "displayTree(root)"
   ]
  },
  {
   "cell_type": "code",
   "execution_count": 32,
   "id": "f70dbde2",
   "metadata": {},
   "outputs": [
    {
     "data": {
      "text/plain": [
       "15"
      ]
     },
     "execution_count": 32,
     "metadata": {},
     "output_type": "execute_result"
    }
   ],
   "source": [
    "sol = Solution()\n",
    "sol.maxPathSum(root)"
   ]
  }
 ],
 "metadata": {
  "kernelspec": {
   "display_name": "venv",
   "language": "python",
   "name": "python3"
  },
  "language_info": {
   "codemirror_mode": {
    "name": "ipython",
    "version": 3
   },
   "file_extension": ".py",
   "mimetype": "text/x-python",
   "name": "python",
   "nbconvert_exporter": "python",
   "pygments_lexer": "ipython3",
   "version": "3.11.3"
  }
 },
 "nbformat": 4,
 "nbformat_minor": 5
}
