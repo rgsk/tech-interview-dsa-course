{
 "cells": [
  {
   "cell_type": "code",
   "execution_count": 1,
   "id": "1b8b9479",
   "metadata": {},
   "outputs": [],
   "source": [
    "class Node:\n",
    "\tdef __init__(self, data=0, left=None, right=None):\n",
    "\t\tself.data = data\n",
    "\t\tself.left = left\n",
    "\t\tself.right = right"
   ]
  },
  {
   "cell_type": "code",
   "execution_count": 2,
   "id": "2b1ab34f",
   "metadata": {},
   "outputs": [],
   "source": [
    "from typing import List, Optional\n",
    "\n",
    "class Node:\n",
    "    def __init__(self, data: int):\n",
    "        self.data = data\n",
    "        self.left: Optional['Node'] = None\n",
    "        self.right: Optional['Node'] = None\n",
    "\n",
    "class Solution:\n",
    "    def constructTree(self, postorder: List[int], inorder: List[int]) -> Optional[Node]:\n",
    "        inorder_index_map = {val: idx for idx, val in enumerate(inorder)}\n",
    "        self.postorder_index = len(postorder) - 1\n",
    "\n",
    "        def helper(in_left: int, in_right: int) -> Optional[Node]:\n",
    "            if in_left > in_right:\n",
    "                return None\n",
    "\n",
    "            # Current root from postorder\n",
    "            root_val = postorder[self.postorder_index]\n",
    "            self.postorder_index -= 1\n",
    "            root = Node(root_val)\n",
    "\n",
    "            # Find index in inorder\n",
    "            index = inorder_index_map[root_val]\n",
    "\n",
    "            # Build right first, then left (postorder is L-R-Root)\n",
    "            root.right = helper(index + 1, in_right)\n",
    "            root.left = helper(in_left, index - 1)\n",
    "\n",
    "            return root\n",
    "\n",
    "        return helper(0, len(inorder) - 1)"
   ]
  },
  {
   "cell_type": "code",
   "execution_count": 3,
   "id": "fa84fffd",
   "metadata": {},
   "outputs": [],
   "source": [
    "postorder = [4,7,5,2,8,6,3,1]\n",
    "inorder = [4,2,7,5,1,8,6,3]\n",
    "sol = Solution()\n",
    "root = sol.constructTree(postorder, inorder)"
   ]
  },
  {
   "cell_type": "code",
   "execution_count": 4,
   "id": "ffe8940f",
   "metadata": {},
   "outputs": [
    {
     "name": "stdout",
     "output_type": "stream",
     "text": [
      "  __1__ \n",
      " /     \\\n",
      " 2_    3\n",
      "/  \\  / \n",
      "4  5  6 \n",
      "  /  /  \n",
      "  7  8  \n"
     ]
    }
   ],
   "source": [
    "import sys\n",
    "sys.path.append('..')\n",
    "\n",
    "from lib.Tree import displayTree\n",
    "\n",
    "displayTree(root)"
   ]
  }
 ],
 "metadata": {
  "kernelspec": {
   "display_name": "venv",
   "language": "python",
   "name": "python3"
  },
  "language_info": {
   "codemirror_mode": {
    "name": "ipython",
    "version": 3
   },
   "file_extension": ".py",
   "mimetype": "text/x-python",
   "name": "python",
   "nbconvert_exporter": "python",
   "pygments_lexer": "ipython3",
   "version": "3.11.3"
  }
 },
 "nbformat": 4,
 "nbformat_minor": 5
}
