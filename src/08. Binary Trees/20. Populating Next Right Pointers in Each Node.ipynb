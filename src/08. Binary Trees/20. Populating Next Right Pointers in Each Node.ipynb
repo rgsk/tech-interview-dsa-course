{
 "cells": [
  {
   "cell_type": "code",
   "execution_count": null,
   "id": "c1b3a647",
   "metadata": {},
   "outputs": [],
   "source": [
    "class Node:\n",
    "\tdef __init__(self, data=0, left=None, right=None, next=None):\n",
    "\t\tself.data = data\n",
    "\t\tself.left = left\n",
    "\t\tself.right = right\n",
    "\t\tself.next = next"
   ]
  },
  {
   "cell_type": "code",
   "execution_count": null,
   "id": "096bb972",
   "metadata": {},
   "outputs": [],
   "source": [
    "from collections import deque\n",
    "from typing import Optional\n",
    "\n",
    "\n",
    "class Solution:\n",
    "    def connect(self, root: Optional[Node]) -> None:\n",
    "        if not root:\n",
    "            return\n",
    "\n",
    "        queue = deque([root])\n",
    "\n",
    "        while queue:\n",
    "            size = len(queue)\n",
    "            prev = None\n",
    "\n",
    "            for _ in range(size):\n",
    "                node = queue.popleft()\n",
    "                if prev:\n",
    "                    prev.next = node\n",
    "                prev = node\n",
    "\n",
    "                if node.left:\n",
    "                    queue.append(node.left)\n",
    "                if node.right:\n",
    "                    queue.append(node.right)"
   ]
  }
 ],
 "metadata": {
  "language_info": {
   "name": "python"
  }
 },
 "nbformat": 4,
 "nbformat_minor": 5
}
