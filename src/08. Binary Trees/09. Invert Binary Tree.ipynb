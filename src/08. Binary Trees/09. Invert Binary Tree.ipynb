{
 "cells": [
  {
   "cell_type": "code",
   "execution_count": 19,
   "id": "9f8c8910",
   "metadata": {},
   "outputs": [],
   "source": [
    "class Node:\n",
    "\tdef __init__(self, data=0, left=None, right=None):\n",
    "\t\tself.data = data\n",
    "\t\tself.left = left\n",
    "\t\tself.right = right"
   ]
  },
  {
   "cell_type": "code",
   "execution_count": 20,
   "id": "9d934dca",
   "metadata": {},
   "outputs": [],
   "source": [
    "from typing import Optional\n",
    "\n",
    "\n",
    "class Solution:\n",
    "    def invertTree(self, root: Optional[Node]) -> None:\n",
    "        if root:\n",
    "            root.left, root.right = self.invertTree(root.right), self.invertTree(root.left)\n",
    "            return root"
   ]
  },
  {
   "cell_type": "code",
   "execution_count": 21,
   "id": "d513010d",
   "metadata": {},
   "outputs": [
    {
     "name": "stdout",
     "output_type": "stream",
     "text": [
      "  __1__ \n",
      " /     \\\n",
      " 2_    3\n",
      "/  \\  / \n",
      "4  5  6 \n",
      "  /  /  \n",
      "  7  8  \n"
     ]
    }
   ],
   "source": [
    "import sys\n",
    "sys.path.append('..')\n",
    "\n",
    "from lib.Tree import displayTree, formTree\n",
    "\n",
    "root = formTree([1,2,3,4,5,6,-1,-1,-1,7,-1,8])\n",
    "displayTree(root)"
   ]
  },
  {
   "cell_type": "code",
   "execution_count": 22,
   "id": "73123ef6",
   "metadata": {},
   "outputs": [
    {
     "name": "stdout",
     "output_type": "stream",
     "text": [
      " __1__  \n",
      "/     \\ \n",
      "3    _2 \n",
      " \\  /  \\\n",
      " 6  5  4\n",
      "  \\  \\  \n",
      "  8  7  \n"
     ]
    }
   ],
   "source": [
    "sol = Solution()\n",
    "sol.invertTree(root)\n",
    "displayTree(root)"
   ]
  },
  {
   "cell_type": "code",
   "execution_count": 23,
   "id": "df68d232",
   "metadata": {},
   "outputs": [],
   "source": [
    "from typing import List, Optional\n",
    "from collections import deque\n",
    "\n",
    "class Solution:\n",
    "    def invertTree(self, root: Optional['Node']) -> List[int]:\n",
    "        if not root:\n",
    "            return []\n",
    "\n",
    "        queue = deque([root])\n",
    "\n",
    "        while queue:\n",
    "            node = queue.popleft()\n",
    "            if not node:\n",
    "                continue\n",
    "            node.left, node.right = node.right, node.left\n",
    "            queue.append(node.left)\n",
    "            queue.append(node.right)\n"
   ]
  },
  {
   "cell_type": "code",
   "execution_count": 24,
   "id": "80bdeb28",
   "metadata": {},
   "outputs": [
    {
     "name": "stdout",
     "output_type": "stream",
     "text": [
      "  __1__ \n",
      " /     \\\n",
      " 2_    3\n",
      "/  \\  / \n",
      "4  5  6 \n",
      "  /  /  \n",
      "  7  8  \n"
     ]
    }
   ],
   "source": [
    "import sys\n",
    "sys.path.append('..')\n",
    "\n",
    "from lib.Tree import displayTree, formTree\n",
    "\n",
    "root = formTree([1,2,3,4,5,6,-1,-1,-1,7,-1,8])\n",
    "displayTree(root)"
   ]
  },
  {
   "cell_type": "code",
   "execution_count": 25,
   "id": "bbe529d4",
   "metadata": {},
   "outputs": [
    {
     "name": "stdout",
     "output_type": "stream",
     "text": [
      " __1__  \n",
      "/     \\ \n",
      "3    _2 \n",
      " \\  /  \\\n",
      " 6  5  4\n",
      "  \\  \\  \n",
      "  8  7  \n"
     ]
    }
   ],
   "source": [
    "sol = Solution()\n",
    "sol.invertTree(root)\n",
    "displayTree(root)"
   ]
  }
 ],
 "metadata": {
  "kernelspec": {
   "display_name": "venv",
   "language": "python",
   "name": "python3"
  },
  "language_info": {
   "codemirror_mode": {
    "name": "ipython",
    "version": 3
   },
   "file_extension": ".py",
   "mimetype": "text/x-python",
   "name": "python",
   "nbconvert_exporter": "python",
   "pygments_lexer": "ipython3",
   "version": "3.11.3"
  }
 },
 "nbformat": 4,
 "nbformat_minor": 5
}
