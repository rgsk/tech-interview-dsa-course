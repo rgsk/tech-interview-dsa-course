{
 "cells": [
  {
   "cell_type": "code",
   "execution_count": 20,
   "id": "7a2b52c2",
   "metadata": {},
   "outputs": [],
   "source": [
    "\n",
    "class Node:\n",
    "\tdef __init__(self, data=0, left=None, right=None):\n",
    "\t\tself.data = data\n",
    "\t\tself.left = left\n",
    "\t\tself.right = right\n"
   ]
  },
  {
   "cell_type": "code",
   "execution_count": 21,
   "id": "e8603dc2",
   "metadata": {},
   "outputs": [],
   "source": [
    "from typing import List, Optional\n",
    "from collections import deque\n",
    "\n",
    "class Solution:\n",
    "    def bottomView(self, root: Optional[Node]) -> List[int]:\n",
    "        if not root:\n",
    "            return []\n",
    "\n",
    "        hd_map = {}\n",
    "        queue = deque([(root, 0)])\n",
    "        min_hd = max_hd = 0\n",
    "\n",
    "        while queue:\n",
    "            node, hd = queue.popleft()\n",
    "\n",
    "            # Overwrite the value at hd — last node at this HD seen from top to bottom\n",
    "            hd_map[hd] = node.data\n",
    "\n",
    "            min_hd = min(min_hd, hd)\n",
    "            max_hd = max(max_hd, hd)\n",
    "\n",
    "            if node.left:\n",
    "                queue.append((node.left, hd - 1))\n",
    "            if node.right:\n",
    "                queue.append((node.right, hd + 1))\n",
    "\n",
    "        return [hd_map[hd] for hd in range(min_hd, max_hd + 1)]\n"
   ]
  },
  {
   "cell_type": "code",
   "execution_count": 22,
   "id": "ef281e52",
   "metadata": {},
   "outputs": [
    {
     "name": "stdout",
     "output_type": "stream",
     "text": [
      "  __1_ \n",
      " /    \\\n",
      " 2_   3\n",
      "/  \\ / \n",
      "4  5 6 \n",
      "  /    \n",
      "  7    \n"
     ]
    }
   ],
   "source": [
    "import sys\n",
    "sys.path.append('..')\n",
    "\n",
    "from lib.Tree import displayTree, formTree\n",
    "\n",
    "root = formTree([1,2,3,4,5,6,-1,-1,-1,7])\n",
    "displayTree(root)"
   ]
  },
  {
   "cell_type": "code",
   "execution_count": 23,
   "id": "1980bc8f",
   "metadata": {},
   "outputs": [
    {
     "data": {
      "text/plain": [
       "[4, 7, 6, 3]"
      ]
     },
     "execution_count": 23,
     "metadata": {},
     "output_type": "execute_result"
    }
   ],
   "source": [
    "sol = Solution()\n",
    "sol.bottomView(root)"
   ]
  },
  {
   "cell_type": "markdown",
   "id": "428294ff",
   "metadata": {},
   "source": [
    "Note: 6 is considered at bottom, so right node has to processed later and it will override, previously set value\n",
    "\n",
    "<img src=\"../../public/bottom view.png\" width=\"300\"  >"
   ]
  },
  {
   "cell_type": "code",
   "execution_count": 24,
   "id": "80da624e",
   "metadata": {},
   "outputs": [],
   "source": [
    "import sys\n",
    "sys.setrecursionlimit(10**6)\n",
    "\n",
    "class Solution:\n",
    "    def bottomView(self, root: Optional[Node]) -> List[int]:\n",
    "        if not root:\n",
    "            return []\n",
    "\n",
    "        hd_map = {}\n",
    "        min_hd = max_hd = 0\n",
    "\n",
    "        def helper(node: Optional[Node], hd: int, level: int):\n",
    "            nonlocal min_hd, max_hd\n",
    "            if not node:\n",
    "                return\n",
    "\n",
    "            # Update if this is the deepest node seen at this HD\n",
    "            if hd not in hd_map or level >= hd_map[hd][1]:\n",
    "                hd_map[hd] = (node.data, level)\n",
    "\n",
    "            min_hd = min(min_hd, hd)\n",
    "            max_hd = max(max_hd, hd)\n",
    "\n",
    "            helper(node.left, hd - 1, level + 1)\n",
    "            helper(node.right, hd + 1, level + 1)\n",
    "\n",
    "        helper(root, 0, 0)\n",
    "        return [hd_map[hd][0] for hd in range(min_hd, max_hd + 1)]\n"
   ]
  },
  {
   "cell_type": "code",
   "execution_count": 25,
   "id": "cf90bf61",
   "metadata": {},
   "outputs": [
    {
     "name": "stdout",
     "output_type": "stream",
     "text": [
      "  __1_ \n",
      " /    \\\n",
      " 2_   3\n",
      "/  \\ / \n",
      "4  5 6 \n",
      "  /    \n",
      "  7    \n"
     ]
    }
   ],
   "source": [
    "root = formTree([1,2,3,4,5,6,-1,-1,-1,7])\n",
    "displayTree(root)"
   ]
  },
  {
   "cell_type": "code",
   "execution_count": 26,
   "id": "3dfee370",
   "metadata": {},
   "outputs": [
    {
     "data": {
      "text/plain": [
       "[4, 7, 6, 3]"
      ]
     },
     "execution_count": 26,
     "metadata": {},
     "output_type": "execute_result"
    }
   ],
   "source": [
    "sol = Solution()\n",
    "sol.bottomView(root)"
   ]
  }
 ],
 "metadata": {
  "kernelspec": {
   "display_name": "venv",
   "language": "python",
   "name": "python3"
  },
  "language_info": {
   "codemirror_mode": {
    "name": "ipython",
    "version": 3
   },
   "file_extension": ".py",
   "mimetype": "text/x-python",
   "name": "python",
   "nbconvert_exporter": "python",
   "pygments_lexer": "ipython3",
   "version": "3.11.3"
  }
 },
 "nbformat": 4,
 "nbformat_minor": 5
}
