{
 "cells": [
  {
   "cell_type": "code",
   "execution_count": 26,
   "id": "f7c5eb71",
   "metadata": {},
   "outputs": [],
   "source": [
    "class Node:\n",
    "\tdef __init__(self, data=0, left=None, right=None):\n",
    "\t\tself.data = data\n",
    "\t\tself.left = left\n",
    "\t\tself.right = right"
   ]
  },
  {
   "cell_type": "code",
   "execution_count": 27,
   "id": "e5189e1f",
   "metadata": {},
   "outputs": [],
   "source": [
    "from typing import List, Optional\n",
    "from collections import deque\n",
    "\n",
    "class Solution:\n",
    "    def leftView(self, root: Optional[Node]) -> List[int]:\n",
    "        if not root:\n",
    "            return []\n",
    "\n",
    "        result = []\n",
    "        queue = deque([root])\n",
    "\n",
    "        while queue:\n",
    "            level_size = len(queue)\n",
    "            for i in range(level_size):\n",
    "                node = queue.popleft()\n",
    "\n",
    "                # If it's the first node of the level, add it to result\n",
    "                if i == 0:\n",
    "                    result.append(node.data)\n",
    "\n",
    "                if node.left:\n",
    "                    queue.append(node.left)\n",
    "                if node.right:\n",
    "                    queue.append(node.right)\n",
    "\n",
    "        return result\n"
   ]
  },
  {
   "cell_type": "code",
   "execution_count": 28,
   "id": "62ba5010",
   "metadata": {},
   "outputs": [
    {
     "name": "stdout",
     "output_type": "stream",
     "text": [
      "  __1__ \n",
      " /     \\\n",
      " 2_    3\n",
      "/  \\  / \n",
      "4  5  6 \n",
      "  /  /  \n",
      "  7  8  \n"
     ]
    }
   ],
   "source": [
    "import sys\n",
    "sys.path.append('..')\n",
    "\n",
    "from lib.Tree import displayTree, formTree\n",
    "\n",
    "root = formTree([1,2,3,4,5,6,-1,-1,-1,7,-1,8])\n",
    "displayTree(root)"
   ]
  },
  {
   "cell_type": "code",
   "execution_count": 29,
   "id": "74015d8c",
   "metadata": {},
   "outputs": [
    {
     "data": {
      "text/plain": [
       "[1, 2, 4, 7]"
      ]
     },
     "execution_count": 29,
     "metadata": {},
     "output_type": "execute_result"
    }
   ],
   "source": [
    "sol = Solution()\n",
    "sol.leftView(root)"
   ]
  },
  {
   "cell_type": "code",
   "execution_count": 30,
   "id": "515917e6",
   "metadata": {},
   "outputs": [],
   "source": [
    "import sys\n",
    "sys.setrecursionlimit(10**6)\n",
    "\n",
    "from typing import List, Optional\n",
    "\n",
    "class Solution:\n",
    "    def leftView(self, root: Optional[Node]) -> List[int]:\n",
    "        result = []\n",
    "\n",
    "        def helper(node: Optional[Node], level: int):\n",
    "            if node:\n",
    "                # If this is the first node we're visiting at this level\n",
    "                if level == len(result):\n",
    "                    result.append(node.data)\n",
    "\n",
    "                # Go to left first, then right\n",
    "                helper(node.left, level + 1)\n",
    "                helper(node.right, level + 1)\n",
    "\n",
    "        helper(root, 0)\n",
    "        return result"
   ]
  },
  {
   "cell_type": "code",
   "execution_count": 31,
   "id": "fd699ba8",
   "metadata": {},
   "outputs": [
    {
     "name": "stdout",
     "output_type": "stream",
     "text": [
      "  __1__ \n",
      " /     \\\n",
      " 2_    3\n",
      "/  \\  / \n",
      "4  5  6 \n",
      "  /  /  \n",
      "  7  8  \n"
     ]
    }
   ],
   "source": [
    "root = formTree([1,2,3,4,5,6,-1,-1,-1,7,-1,8])\n",
    "displayTree(root)"
   ]
  },
  {
   "cell_type": "code",
   "execution_count": 32,
   "id": "9fdd407c",
   "metadata": {},
   "outputs": [
    {
     "data": {
      "text/plain": [
       "[1, 2, 4, 7]"
      ]
     },
     "execution_count": 32,
     "metadata": {},
     "output_type": "execute_result"
    }
   ],
   "source": [
    "sol = Solution()\n",
    "sol.leftView(root)"
   ]
  }
 ],
 "metadata": {
  "kernelspec": {
   "display_name": "venv",
   "language": "python",
   "name": "python3"
  },
  "language_info": {
   "codemirror_mode": {
    "name": "ipython",
    "version": 3
   },
   "file_extension": ".py",
   "mimetype": "text/x-python",
   "name": "python",
   "nbconvert_exporter": "python",
   "pygments_lexer": "ipython3",
   "version": "3.11.3"
  }
 },
 "nbformat": 4,
 "nbformat_minor": 5
}
