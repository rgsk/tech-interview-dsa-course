{
 "cells": [
  {
   "cell_type": "code",
   "execution_count": 8,
   "id": "9bd5ff2c",
   "metadata": {},
   "outputs": [],
   "source": [
    "class Node:\n",
    "\tdef __init__(self, data=0, left=None, right=None):\n",
    "\t\tself.data = data\n",
    "\t\tself.left = left\n",
    "\t\tself.right = right\n"
   ]
  },
  {
   "cell_type": "code",
   "execution_count": 9,
   "id": "1146d236",
   "metadata": {},
   "outputs": [],
   "source": [
    "class Solution:\n",
    "    def flatten(self, root: Node) -> None:\n",
    "        # add your logic here\n",
    "        prev = None\n",
    "\n",
    "        def helper(root):\n",
    "            if root:\n",
    "                nonlocal prev\n",
    "                helper(root.right)\n",
    "                helper(root.left)\n",
    "                root.right = prev\n",
    "                root.left = None\n",
    "                prev = root\n",
    "        helper(root)"
   ]
  },
  {
   "cell_type": "code",
   "execution_count": 10,
   "id": "d62a66f0",
   "metadata": {},
   "outputs": [
    {
     "name": "stdout",
     "output_type": "stream",
     "text": [
      "  __1__ \n",
      " /     \\\n",
      " 2_    3\n",
      "/  \\  / \n",
      "4  5  6 \n",
      "  /  /  \n",
      "  7  8  \n"
     ]
    }
   ],
   "source": [
    "import sys\n",
    "sys.path.append('..')\n",
    "\n",
    "from lib.Tree import displayTree, formTree\n",
    "\n",
    "root = formTree([1,2,3,4,5,6,-1,-1,-1,7,-1,8])\n",
    "displayTree(root)"
   ]
  },
  {
   "cell_type": "code",
   "execution_count": 11,
   "id": "6fceb689",
   "metadata": {},
   "outputs": [
    {
     "name": "stdout",
     "output_type": "stream",
     "text": [
      "1       \n",
      " \\      \n",
      " 2      \n",
      "  \\     \n",
      "  4     \n",
      "   \\    \n",
      "   5    \n",
      "    \\   \n",
      "    7   \n",
      "     \\  \n",
      "     3  \n",
      "      \\ \n",
      "      6 \n",
      "       \\\n",
      "       8\n"
     ]
    }
   ],
   "source": [
    "sol = Solution()\n",
    "sol.flatten(root)\n",
    "displayTree(root)"
   ]
  }
 ],
 "metadata": {
  "kernelspec": {
   "display_name": "venv",
   "language": "python",
   "name": "python3"
  },
  "language_info": {
   "codemirror_mode": {
    "name": "ipython",
    "version": 3
   },
   "file_extension": ".py",
   "mimetype": "text/x-python",
   "name": "python",
   "nbconvert_exporter": "python",
   "pygments_lexer": "ipython3",
   "version": "3.11.3"
  }
 },
 "nbformat": 4,
 "nbformat_minor": 5
}
