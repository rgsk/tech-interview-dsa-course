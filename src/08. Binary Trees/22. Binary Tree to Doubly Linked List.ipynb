{
 "cells": [
  {
   "cell_type": "code",
   "execution_count": null,
   "id": "b9bf8b50",
   "metadata": {},
   "outputs": [],
   "source": [
    "class Node:\n",
    "\tdef __init__(self, data=0, left=None, right=None):\n",
    "\t\tself.data = data\n",
    "\t\tself.left = left\n",
    "\t\tself.right = right\n"
   ]
  },
  {
   "cell_type": "code",
   "execution_count": null,
   "id": "1bb92c66",
   "metadata": {},
   "outputs": [],
   "source": [
    "class Solution:\n",
    "    def binaryTreeToDoublyLinkList(self, root: Node) -> Node:\n",
    "        if not root:\n",
    "            return None\n",
    "\n",
    "        self.prev = None\n",
    "        self.head = None\n",
    "\n",
    "        def inorder(node: Node):\n",
    "            if not node:\n",
    "                return\n",
    "\n",
    "            # Left subtree\n",
    "            inorder(node.left)\n",
    "\n",
    "            # Convert\n",
    "            if self.prev:\n",
    "                self.prev.right = node  # prev.next = current\n",
    "                node.left = self.prev   # current.prev = prev\n",
    "            else:\n",
    "                self.head = node  # first node = head of DLL\n",
    "\n",
    "            self.prev = node  # move prev to current\n",
    "\n",
    "            # Right subtree\n",
    "            inorder(node.right)\n",
    "\n",
    "        inorder(root)\n",
    "        return self.head"
   ]
  }
 ],
 "metadata": {
  "language_info": {
   "name": "python"
  }
 },
 "nbformat": 4,
 "nbformat_minor": 5
}
