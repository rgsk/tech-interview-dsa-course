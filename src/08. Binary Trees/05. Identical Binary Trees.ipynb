{
 "cells": [
  {
   "cell_type": "code",
   "execution_count": 3,
   "id": "7cd21be0",
   "metadata": {},
   "outputs": [],
   "source": [
    "class Node:\n",
    "\tdef __init__(self, data=0, left=None, right=None):\n",
    "\t\tself.data = data\n",
    "\t\tself.left = left\n",
    "\t\tself.right = right"
   ]
  },
  {
   "cell_type": "code",
   "execution_count": 4,
   "id": "0fd7177a",
   "metadata": {},
   "outputs": [],
   "source": [
    "import sys\n",
    "sys.setrecursionlimit(10**6)\n",
    "\n",
    "\n",
    "from typing import Optional\n",
    "\n",
    "\n",
    "class Solution:\n",
    "    def areIdenticalTrees(self, root1: Optional[Node], root2: Optional[Node]) -> bool:\n",
    "        if not root1 and not root2:\n",
    "            return True\n",
    "        if root1 and root2:\n",
    "            return root1.data == root2.data and \\\n",
    "                self.areIdenticalTrees(root1.left, root2.left) and \\\n",
    "                self.areIdenticalTrees(root1.right, root2.right)\n",
    "        return False"
   ]
  },
  {
   "cell_type": "code",
   "execution_count": null,
   "id": "18a039de",
   "metadata": {},
   "outputs": [],
   "source": [
    "from collections import deque\n",
    "from typing import Optional\n",
    "\n",
    "class Solution:\n",
    "    def areIdenticalTrees(self, root1: Optional[Node], root2: Optional[Node]) -> bool:\n",
    "        queue = deque([(root1, root2)])\n",
    "        \n",
    "        while queue:\n",
    "            n1, n2 = queue.popleft()\n",
    "            \n",
    "            if not n1 and not n2:\n",
    "                continue\n",
    "            if not n1 or not n2 or n1.data != n2.data:\n",
    "                return False\n",
    "            \n",
    "            queue.append((n1.left, n2.left))\n",
    "            queue.append((n1.right, n2.right))\n",
    "        \n",
    "        return True"
   ]
  }
 ],
 "metadata": {
  "kernelspec": {
   "display_name": "venv",
   "language": "python",
   "name": "python3"
  },
  "language_info": {
   "codemirror_mode": {
    "name": "ipython",
    "version": 3
   },
   "file_extension": ".py",
   "mimetype": "text/x-python",
   "name": "python",
   "nbconvert_exporter": "python",
   "pygments_lexer": "ipython3",
   "version": "3.11.3"
  }
 },
 "nbformat": 4,
 "nbformat_minor": 5
}
