{
 "cells": [
  {
   "cell_type": "code",
   "execution_count": 1,
   "id": "6f34faf6",
   "metadata": {},
   "outputs": [],
   "source": [
    "class Node:\n",
    "\tdef __init__(self, data=0, left=None, right=None):\n",
    "\t\tself.data = data\n",
    "\t\tself.left = left\n",
    "\t\tself.right = right"
   ]
  },
  {
   "cell_type": "code",
   "execution_count": 2,
   "id": "3a93ab2a",
   "metadata": {},
   "outputs": [],
   "source": [
    "from typing import Optional\n",
    "\n",
    "\n",
    "class Solution:\n",
    "\tdef getDiameter(self, root: Optional[Node]) -> int:\n",
    "\t\t# add your logic here\n",
    "\t\tans = 0\n",
    "\t\tdef helper(root):\n",
    "\t\t\tnonlocal ans\n",
    "\t\t\tif root:\n",
    "\t\t\t\tleft = helper(root.left)\n",
    "\t\t\t\tright = helper(root.right)\n",
    "\t\t\t\tans = max(ans, 1 + left + right)\n",
    "\t\t\t\treturn 1 + max(left, right)\n",
    "\t\t\treturn 0\n",
    "\t\thelper(root)\n",
    "\t\treturn ans - 1"
   ]
  },
  {
   "cell_type": "code",
   "execution_count": 3,
   "id": "2a42b43a",
   "metadata": {},
   "outputs": [
    {
     "name": "stdout",
     "output_type": "stream",
     "text": [
      "  __1__ \n",
      " /     \\\n",
      " 2_    3\n",
      "/  \\  / \n",
      "4  5  6 \n",
      "  /  /  \n",
      "  7  8  \n"
     ]
    }
   ],
   "source": [
    "import sys\n",
    "sys.path.append('..')\n",
    "\n",
    "from lib.Tree import displayTree, formTree\n",
    "\n",
    "root = formTree([1,2,3,4,5,6,-1,-1,-1,7,-1,8])\n",
    "displayTree(root)"
   ]
  },
  {
   "cell_type": "code",
   "execution_count": 4,
   "id": "950402b7",
   "metadata": {},
   "outputs": [
    {
     "data": {
      "text/plain": [
       "6"
      ]
     },
     "execution_count": 4,
     "metadata": {},
     "output_type": "execute_result"
    }
   ],
   "source": [
    "sol = Solution()\n",
    "sol.getDiameter(root)"
   ]
  }
 ],
 "metadata": {
  "kernelspec": {
   "display_name": "venv",
   "language": "python",
   "name": "python3"
  },
  "language_info": {
   "codemirror_mode": {
    "name": "ipython",
    "version": 3
   },
   "file_extension": ".py",
   "mimetype": "text/x-python",
   "name": "python",
   "nbconvert_exporter": "python",
   "pygments_lexer": "ipython3",
   "version": "3.11.3"
  }
 },
 "nbformat": 4,
 "nbformat_minor": 5
}
