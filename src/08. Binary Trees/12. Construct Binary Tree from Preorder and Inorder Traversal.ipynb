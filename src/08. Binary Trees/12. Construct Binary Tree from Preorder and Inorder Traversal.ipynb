{
 "cells": [
  {
   "cell_type": "code",
   "execution_count": 1,
   "id": "f6b8a5cc",
   "metadata": {},
   "outputs": [],
   "source": [
    "class Node:\n",
    "\tdef __init__(self, data=0, left=None, right=None):\n",
    "\t\tself.data = data\n",
    "\t\tself.left = left\n",
    "\t\tself.right = right"
   ]
  },
  {
   "cell_type": "code",
   "execution_count": 2,
   "id": "7697bbbf",
   "metadata": {},
   "outputs": [],
   "source": [
    "from typing import List, Optional\n",
    "\n",
    "\n",
    "class Solution:\n",
    "    def constructTree(self, preorder: List[int], inorder: List[int]) -> Optional[Node]:\n",
    "        inorder_index_map = {val: idx for idx, val in enumerate(inorder)}\n",
    "        self.preorder_index = 0\n",
    "\n",
    "        def helper(in_left: int, in_right: int) -> Optional[Node]:\n",
    "            if in_left > in_right:\n",
    "                return None\n",
    "\n",
    "            # Pick current root from preorder\n",
    "            root_val = preorder[self.preorder_index]\n",
    "            self.preorder_index += 1\n",
    "            root = Node(root_val)\n",
    "\n",
    "            # Find position in inorder\n",
    "            index = inorder_index_map[root_val]\n",
    "\n",
    "            # Build left and right subtree\n",
    "            root.left = helper(in_left, index - 1)\n",
    "            root.right = helper(index + 1, in_right)\n",
    "\n",
    "            return root\n",
    "\n",
    "        return helper(0, len(inorder) - 1)"
   ]
  },
  {
   "cell_type": "code",
   "execution_count": 3,
   "id": "f7a88c8e",
   "metadata": {},
   "outputs": [],
   "source": [
    "preorder = [1,2,4,5,7,3,6,8]\n",
    "inorder = [4,2,7,5,1,8,6,3]\n",
    "sol = Solution()\n",
    "root = sol.constructTree(preorder, inorder)"
   ]
  },
  {
   "cell_type": "code",
   "execution_count": 4,
   "id": "014399cf",
   "metadata": {},
   "outputs": [
    {
     "name": "stdout",
     "output_type": "stream",
     "text": [
      "  __1__ \n",
      " /     \\\n",
      " 2_    3\n",
      "/  \\  / \n",
      "4  5  6 \n",
      "  /  /  \n",
      "  7  8  \n"
     ]
    }
   ],
   "source": [
    "import sys\n",
    "sys.path.append('..')\n",
    "\n",
    "from lib.Tree import displayTree\n",
    "\n",
    "displayTree(root)"
   ]
  }
 ],
 "metadata": {
  "kernelspec": {
   "display_name": "venv",
   "language": "python",
   "name": "python3"
  },
  "language_info": {
   "codemirror_mode": {
    "name": "ipython",
    "version": 3
   },
   "file_extension": ".py",
   "mimetype": "text/x-python",
   "name": "python",
   "nbconvert_exporter": "python",
   "pygments_lexer": "ipython3",
   "version": "3.11.3"
  }
 },
 "nbformat": 4,
 "nbformat_minor": 5
}
