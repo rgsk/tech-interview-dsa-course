{
 "cells": [
  {
   "cell_type": "code",
   "execution_count": null,
   "id": "4a1294f3",
   "metadata": {},
   "outputs": [],
   "source": [
    "class Node:\n",
    "\tdef __init__(self, data=0, left=None, right=None):\n",
    "\t\tself.data = data\n",
    "\t\tself.left = left\n",
    "\t\tself.right = right"
   ]
  },
  {
   "cell_type": "code",
   "execution_count": null,
   "id": "d7ee912b",
   "metadata": {},
   "outputs": [],
   "source": [
    "from typing import Optional\n",
    "\n",
    "\n",
    "class Solution:\n",
    "    def lowestCommonAncestor(self, root: Node, p: Node, q: Node) -> Optional[Node]:\n",
    "        if root is None or root == p or root == q:\n",
    "            return root\n",
    "\n",
    "        left = self.lowestCommonAncestor(root.left, p, q)\n",
    "        right = self.lowestCommonAncestor(root.right, p, q)\n",
    "\n",
    "        if left and right:\n",
    "            return root  # p and q found in different subtrees\n",
    "\n",
    "        return left if left else right  # either one is found or None"
   ]
  }
 ],
 "metadata": {
  "language_info": {
   "name": "python"
  }
 },
 "nbformat": 4,
 "nbformat_minor": 5
}
