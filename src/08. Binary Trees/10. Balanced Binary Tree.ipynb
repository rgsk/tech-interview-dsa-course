{
 "cells": [
  {
   "cell_type": "code",
   "execution_count": 23,
   "id": "abde859c",
   "metadata": {},
   "outputs": [],
   "source": [
    "class Node:\n",
    "\tdef __init__(self, data=0, left=None, right=None):\n",
    "\t\tself.data = data\n",
    "\t\tself.left = left\n",
    "\t\tself.right = right"
   ]
  },
  {
   "cell_type": "code",
   "execution_count": 24,
   "id": "f42e92de",
   "metadata": {},
   "outputs": [],
   "source": [
    "from typing import Optional\n",
    "\n",
    "\n",
    "class Solution:\n",
    "\tdef isBinaryTreeBalanced(self, root: Optional[Node]) -> bool:\n",
    "\t\t# add your logic here\n",
    "\t\tdef helper(root):\n",
    "\t\t\tif root:\n",
    "\t\t\t\tbalanced, lh = helper(root.left)\n",
    "\t\t\t\tif not balanced:\n",
    "\t\t\t\t\treturn False, -1\n",
    "\t\t\t\tbalanced, rh = helper(root.right)\n",
    "\t\t\t\tif not balanced:\n",
    "\t\t\t\t\treturn False, -1\n",
    "\t\t\t\tif abs(lh - rh) > 1:\n",
    "\t\t\t\t\treturn False, -1\n",
    "\t\t\t\treturn True, max(lh, rh) + 1\n",
    "\t\t\treturn True, 0\n",
    "\t\treturn helper(root)[0]"
   ]
  },
  {
   "cell_type": "code",
   "execution_count": 25,
   "id": "2292f24b",
   "metadata": {},
   "outputs": [
    {
     "name": "stdout",
     "output_type": "stream",
     "text": [
      "  __1_ \n",
      " /    \\\n",
      " 2_   3\n",
      "/  \\ / \n",
      "4  5 6 \n",
      "  /    \n",
      "  7    \n"
     ]
    }
   ],
   "source": [
    "import sys\n",
    "sys.path.append('..')\n",
    "\n",
    "from lib.Tree import displayTree, formTree\n",
    "\n",
    "root = formTree([1,2,3,4,5,6,-1,-1,-1,7])\n",
    "displayTree(root)"
   ]
  },
  {
   "cell_type": "code",
   "execution_count": 26,
   "id": "4129404c",
   "metadata": {},
   "outputs": [
    {
     "data": {
      "text/plain": [
       "True"
      ]
     },
     "execution_count": 26,
     "metadata": {},
     "output_type": "execute_result"
    }
   ],
   "source": [
    "sol = Solution()\n",
    "sol.isBinaryTreeBalanced(root)"
   ]
  },
  {
   "cell_type": "code",
   "execution_count": 27,
   "id": "840c1a1c",
   "metadata": {},
   "outputs": [
    {
     "name": "stdout",
     "output_type": "stream",
     "text": [
      "  __1__ \n",
      " /     \\\n",
      " 2_    3\n",
      "/  \\  / \n",
      "4  5  6 \n",
      "  /  /  \n",
      "  7  8  \n"
     ]
    }
   ],
   "source": [
    "root = formTree([1,2,3,4,5,6,-1,-1,-1,7,-1,8])\n",
    "displayTree(root)"
   ]
  },
  {
   "cell_type": "code",
   "execution_count": 28,
   "id": "80d74d8c",
   "metadata": {},
   "outputs": [
    {
     "data": {
      "text/plain": [
       "False"
      ]
     },
     "execution_count": 28,
     "metadata": {},
     "output_type": "execute_result"
    }
   ],
   "source": [
    "sol = Solution()\n",
    "sol.isBinaryTreeBalanced(root)"
   ]
  }
 ],
 "metadata": {
  "kernelspec": {
   "display_name": "venv",
   "language": "python",
   "name": "python3"
  },
  "language_info": {
   "codemirror_mode": {
    "name": "ipython",
    "version": 3
   },
   "file_extension": ".py",
   "mimetype": "text/x-python",
   "name": "python",
   "nbconvert_exporter": "python",
   "pygments_lexer": "ipython3",
   "version": "3.11.3"
  }
 },
 "nbformat": 4,
 "nbformat_minor": 5
}
